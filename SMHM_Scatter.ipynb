{
 "cells": [
  {
   "cell_type": "code",
   "execution_count": 1,
   "metadata": {
    "collapsed": true
   },
   "outputs": [],
   "source": [
    "import numpy as np\n",
    "import matplotlib.pyplot as plt\n",
    "from __future__ import print_function, division\n",
    "%matplotlib inline"
   ]
  },
  {
   "cell_type": "markdown",
   "metadata": {},
   "source": [
    "#Adding Scatter to the SMHM in Rank Order SHAM"
   ]
  },
  {
   "cell_type": "markdown",
   "metadata": {},
   "source": [
    "##Load Simulation"
   ]
  },
  {
   "cell_type": "code",
   "execution_count": 3,
   "metadata": {
    "collapsed": false
   },
   "outputs": [
    {
     "name": "stdout",
     "output_type": "stream",
     "text": [
      "('halo_upid', 'halo_first_acc_mvir', 'halo_acc_scale', 'halo_rvir', 'halo_vpeak', 'halo_macc', 'halo_first_acc_scale', 'halo_mpeak', 'halo_half_mass_scale', 'halo_mvir', 'halo_T/|U|', 'halo_vmax_at_mpeak', 'halo_pid', 'halo_y', 'halo_x', 'halo_z', 'halo_m200b', 'halo_m200c', 'halo_first_acc_vmax', 'halo_mpeak_scale', 'halo_vmax', 'halo_vacc', 'halo_id', 'halo_vx', 'halo_vy', 'halo_vz', 'halo_rs', 'halo_nfw_conc', 'halo_hostid', 'halo_mvir_host_halo')\n"
     ]
    }
   ],
   "source": [
    "from halotools import sim_manager\n",
    "\n",
    "#load halo catalogue\n",
    "simname = 'bolshoi_250'\n",
    "halocat = sim_manager.CachedHaloCatalog(simname = simname, redshift=0.0, dz_tol = 0.001,\n",
    "                                        version_name='custom', halo_finder='Rockstar')\n",
    "\n",
    "#print out column names of halo catalogue\n",
    "print(halocat.halo_table.dtype.names)"
   ]
  },
  {
   "cell_type": "code",
   "execution_count": 4,
   "metadata": {
    "collapsed": false
   },
   "outputs": [
    {
     "name": "stdout",
     "output_type": "stream",
     "text": [
      "FlatLambdaCDM(H0=70 km / (Mpc s), Om0=0.27, Tcmb0=2.725 K, Neff=3.04, m_nu=[ 0.  0.  0.] eV, Ob0=None)\n"
     ]
    }
   ],
   "source": [
    "#define cosmology used in the simulation\n",
    "from astropy.cosmology import FlatLambdaCDM\n",
    "cosmo = FlatLambdaCDM(H0=70, Om0=0.27) #Bolshoi cosmology\n",
    "print(cosmo)"
   ]
  },
  {
   "cell_type": "markdown",
   "metadata": {},
   "source": [
    "##Rank SHAM with no scatter"
   ]
  },
  {
   "cell_type": "code",
   "execution_count": 5,
   "metadata": {
    "collapsed": false
   },
   "outputs": [
    {
     "name": "stdout",
     "output_type": "stream",
     "text": [
      "('halo_upid', 'halo_hostid', 'halo_mpeak', 'halo_x', 'halo_y', 'halo_id', 'halo_z', 'halo_vx', 'halo_vy', 'halo_vz', 'halo_rvir', 'halo_mvir', 'halo_mvir_host_halo', 'x', 'y', 'z', 'vx', 'vy', 'vz', 'galid', 'stellar_mass')\n"
     ]
    }
   ],
   "source": [
    "from halotools.empirical_models import SubhaloModelFactory\n",
    "from SHAM_model_components import RankSmHm\n",
    "\n",
    "#build model\n",
    "prim_haloprop_key = 'halo_mpeak'\n",
    "mstar_model = RankSmHm(prim_haloprop_key = prim_haloprop_key, Lbox=halocat.Lbox[0], redshift=0.0)\n",
    "composite_model_1 = SubhaloModelFactory(stellar_mass = mstar_model)\n",
    "\n",
    "composite_model_1.param_dict['scatter'] = 0.0\n",
    "\n",
    "#populate simulation\n",
    "composite_model_1.populate_mock(halocat = halocat)\n",
    "mock_1 = composite_model_1.mock.galaxy_table\n",
    "print(mock_1.dtype.names)"
   ]
  },
  {
   "cell_type": "markdown",
   "metadata": {},
   "source": [
    "###Examine SMHM relation"
   ]
  },
  {
   "cell_type": "code",
   "execution_count": 6,
   "metadata": {
    "collapsed": false
   },
   "outputs": [
    {
     "data": {
      "image/png": "[encoded data removed]",
      "text/plain": [
       "<matplotlib.figure.Figure at 0x10196c310>"
      ]
     },
     "metadata": {},
     "output_type": "display_data"
    }
   ],
   "source": [
    "fig = plt.figure(figsize=(3.3,3.3))\n",
    "fig.subplots_adjust(left=0.2, right=0.9, bottom=0.2, top=0.9)\n",
    "plt.plot(mock_1['halo_mpeak'], mock_1['stellar_mass'], '.', color='black', ms=1)\n",
    "plt.ylim([10**8.0,10**12.0])\n",
    "plt.xlim([10**10,10**15])\n",
    "plt.xscale('log')\n",
    "plt.yscale('log')\n",
    "plt.xlabel(r'$M_{\\rm peak}~h^{-1}M_{\\odot}$')\n",
    "plt.ylabel(r'$\\langle M_{*}\\rangle~h^{-2}M_{\\odot}$')\n",
    "plt.show()"
   ]
  },
  {
   "cell_type": "markdown",
   "metadata": {},
   "source": [
    "##Deconvolve Scatter"
   ]
  },
  {
   "cell_type": "code",
   "execution_count": 140,
   "metadata": {
    "collapsed": true
   },
   "outputs": [],
   "source": [
    "from AbundanceMatching import *\n",
    "from lss_observations.stellar_mass_functions import LiWhite_2009_phi\n",
    "phi = LiWhite_2009_phi()"
   ]
  },
  {
   "cell_type": "code",
   "execution_count": 141,
   "metadata": {
    "collapsed": false
   },
   "outputs": [],
   "source": [
    "#tabulate stellar mass function\n",
    "msample = np.logspace(5,12,1000)\n",
    "nsample = phi(msample)\n",
    "af = AbundanceFunction(np.log10(msample), nsample, faint_end_first=True)"
   ]
  },
  {
   "cell_type": "code",
   "execution_count": 142,
   "metadata": {
    "collapsed": true
   },
   "outputs": [],
   "source": [
    "#deconvolution \n",
    "scatter = 0.00\n",
    "remainder = af.deconvolute(scatter, 100)\n",
    "scatter = 0.05\n",
    "remainder = af.deconvolute(scatter, 100)\n",
    "scatter = 0.10\n",
    "remainder = af.deconvolute(scatter, 100)\n",
    "scatter = 0.15\n",
    "remainder = af.deconvolute(scatter, 100)\n",
    "scatter = 0.20\n",
    "remainder = af.deconvolute(scatter, 100)\n",
    "scatter = 0.25\n",
    "remainder = af.deconvolute(scatter, 100)\n",
    "scatter = 0.30\n",
    "remainder = af.deconvolute(scatter, 100)"
   ]
  },
  {
   "cell_type": "code",
   "execution_count": 149,
   "metadata": {
    "collapsed": false
   },
   "outputs": [],
   "source": [
    "#build mocks for each of these scatter models\n",
    "from astropy.table import Table\n",
    "Nhaloes = len(halocat.halo_table)\n",
    "arr = np.zeros((Nhaloes,2))\n",
    "arr[:,0] = halocat.halo_table['halo_mpeak']\n",
    "mock_1_00 = Table(arr, names=('halo_mpeak', 'stellar_mass'), dtype=('f8', 'f8')) \n",
    "mock_1_05 = Table(arr, names=('halo_mpeak', 'stellar_mass'), dtype=('f8', 'f8')) \n",
    "mock_1_10 = Table(arr, names=('halo_mpeak', 'stellar_mass'), dtype=('f8', 'f8')) \n",
    "mock_1_15 = Table(arr, names=('halo_mpeak', 'stellar_mass'), dtype=('f8', 'f8')) \n",
    "mock_1_20 = Table(arr, names=('halo_mpeak', 'stellar_mass'), dtype=('f8', 'f8')) \n",
    "mock_1_25 = Table(arr, names=('halo_mpeak', 'stellar_mass'), dtype=('f8', 'f8')) \n",
    "mock_1_30 = Table(arr, names=('halo_mpeak', 'stellar_mass'), dtype=('f8', 'f8')) "
   ]
  },
  {
   "cell_type": "code",
   "execution_count": 151,
   "metadata": {
    "collapsed": true
   },
   "outputs": [],
   "source": [
    "nd_halos = calc_number_densities(halocat.halo_table['halo_mpeak'], 250.0)\n",
    "mock_1_00['stellar_mass'] = 10.0**(af.match(nd_halos, 0.00))\n",
    "mock_1_05['stellar_mass'] = 10.0**(af.match(nd_halos, 0.05))\n",
    "mock_1_10['stellar_mass'] = 10.0**(af.match(nd_halos, 0.10))\n",
    "mock_1_15['stellar_mass'] = 10.0**(af.match(nd_halos, 0.15))\n",
    "mock_1_20['stellar_mass'] = 10.0**(af.match(nd_halos, 0.20))\n",
    "mock_1_25['stellar_mass'] = 10.0**(af.match(nd_halos, 0.25))\n",
    "mock_1_30['stellar_mass'] = 10.0**(af.match(nd_halos, 0.30))"
   ]
  },
  {
   "cell_type": "code",
   "execution_count": 160,
   "metadata": {
    "collapsed": false
   },
   "outputs": [],
   "source": [
    "from scipy.stats import binned_statistic\n",
    "from scipy.stats import linregress\n",
    "\n",
    "def empirical_SMHM(mstar, mhalo, bins, Nboot=25):\n",
    "    \"\"\"\n",
    "    measure the log mean stellar mass and scatter as a function of halo mass\n",
    "    \"\"\"\n",
    "\n",
    "    x = np.log10(mhalo)\n",
    "    y = np.log10(mstar)\n",
    "\n",
    "    bin_centers = (bins[:-1]+bins[1:])/2.0 #log bins\n",
    "    \n",
    "    std_y = np.zeros((Nboot, len(bins)-1))\n",
    "    mean_y = np.zeros((Nboot, len(bins)-1))\n",
    "    for i in range(0,Nboot):\n",
    "        boot_inds = np.random.randint(0, len(x), len(x))\n",
    "        \n",
    "        xx = x[boot_inds]\n",
    "        yy = y[boot_inds]\n",
    "        \n",
    "        inds = np.digitize(xx, bins=bins)\n",
    "    \n",
    "        for j in range(1,len(bins)):\n",
    "            mask = (inds==j)\n",
    "            m, b, r, p, e = linregress(xx[mask],yy[mask])\n",
    "            yyy = yy[mask] - (m*xx[mask] + b) \n",
    "            std_y[i,j-1] = np.std(yyy)\n",
    "            mean_y[i,j-1] = (m*bin_centers[j-1] + b) \n",
    "    \n",
    "    mean_y_err= np.std(mean_y, axis=0)\n",
    "    mean_y = np.mean(mean_y, axis=0)\n",
    "    std_y_err = np.std(std_y, axis=0)\n",
    "    std_y = np.mean(std_y, axis=0)\n",
    "    \n",
    "    return bin_centers, mean_y, std_y, mean_y_err, std_y_err"
   ]
  },
  {
   "cell_type": "code",
   "execution_count": 163,
   "metadata": {
    "collapsed": false
   },
   "outputs": [],
   "source": [
    "min_m = 11.0\n",
    "bins = np.arange(min_m,14.5,0.1) #log bins\n",
    "bin_centers, mean_y_00, std_y_00, mean_y_err_00, std_y_err_00 = empirical_SMHM(mock_1_00['stellar_mass'], mock_1_00['halo_mpeak'], bins)\n",
    "bin_centers, mean_y_05, std_y_05, mean_y_err_05, std_y_err_05 = empirical_SMHM(mock_1_05['stellar_mass'], mock_1_05['halo_mpeak'], bins)\n",
    "bin_centers, mean_y_10, std_y_10, mean_y_err_10, std_y_err_10 = empirical_SMHM(mock_1_10['stellar_mass'], mock_1_10['halo_mpeak'], bins)\n",
    "bin_centers, mean_y_15, std_y_15, mean_y_err_15, std_y_err_15 = empirical_SMHM(mock_1_15['stellar_mass'], mock_1_15['halo_mpeak'], bins)\n",
    "bin_centers, mean_y_20, std_y_20, mean_y_err_20, std_y_err_20 = empirical_SMHM(mock_1_20['stellar_mass'], mock_1_20['halo_mpeak'], bins)\n",
    "bin_centers, mean_y_25, std_y_25, mean_y_err_25, std_y_err_25 = empirical_SMHM(mock_1_25['stellar_mass'], mock_1_25['halo_mpeak'], bins)\n",
    "bin_centers, mean_y_30, std_y_30, mean_y_err_30, std_y_err_30 = empirical_SMHM(mock_1_30['stellar_mass'], mock_1_30['halo_mpeak'], bins)"
   ]
  },
  {
   "cell_type": "code",
   "execution_count": 169,
   "metadata": {
    "collapsed": true
   },
   "outputs": [],
   "source": [
    "#get linear errors\n",
    "err_plus = 10**(mean_y_00 + mean_y_err_00)-10**(mean_y_00)\n",
    "err_minus = 10**(mean_y_00) - 10**(mean_y_00 - mean_y_err_00)\n",
    "lin_err_00 = np.vstack((err_minus, err_plus))\n",
    "\n",
    "err_plus = 10**(mean_y_05 + mean_y_err_05)-10**(mean_y_05)\n",
    "err_minus = 10**(mean_y_05) - 10**(mean_y_05 - mean_y_err_05)\n",
    "lin_err_05 = np.vstack((err_minus, err_plus))\n",
    "\n",
    "err_plus = 10**(mean_y_10 + mean_y_err_10)-10**(mean_y_10)\n",
    "err_minus = 10**(mean_y_10) - 10**(mean_y_10 - mean_y_err_10)\n",
    "lin_err_10 = np.vstack((err_minus, err_plus))"
   ]
  },
  {
   "cell_type": "code",
   "execution_count": 168,
   "metadata": {
    "collapsed": false
   },
   "outputs": [
    {
     "data": {
      "image/png": "[encoded data removed]",
      "text/plain": [
       "<matplotlib.figure.Figure at 0x10fe63710>"
      ]
     },
     "metadata": {},
     "output_type": "display_data"
    }
   ],
   "source": [
    "fig, axes = plt.subplots(nrows=2, ncols=4, sharex=True, sharey=True, figsize=(10.0, 5.0))\n",
    "fig.subplots_adjust(hspace=0, wspace=0, left=0.2, right=0.85, bottom=0.05, top=0.925)\n",
    "axes = axes.flatten()\n",
    "\n",
    "ax = axes[0]\n",
    "ax.plot(mock_1_00['halo_mpeak'], mock_1_00['stellar_mass'], '.', color='grey', ms=1)\n",
    "ax.errorbar(10**bin_centers, 10**mean_y_00, yerr= lin_err_00, fmt='o', ms=2, color='black')\n",
    "\n",
    "ax = axes[1]\n",
    "ax.plot(mock_1_05['halo_mpeak'], mock_1_05['stellar_mass'], '.', color='grey', ms=1)\n",
    "ax.errorbar(10**bin_centers, 10**mean_y_05, yerr= std_y_05, fmt='o', ms=2, color='black')\n",
    "\n",
    "ax = axes[2]\n",
    "ax.plot(mock_1_10['halo_mpeak'], mock_1_10['stellar_mass'], '.', color='grey', ms=1)\n",
    "ax.errorbar(10**bin_centers, 10**mean_y_10, yerr= std_y_10, fmt='o', ms=2, color='black')\n",
    "\n",
    "ax = axes[3]\n",
    "ax.plot(mock_1_15['halo_mpeak'], mock_1_15['stellar_mass'], '.', color='grey', ms=1)\n",
    "ax.errorbar(10**bin_centers, 10**mean_y_15, yerr= std_y_15, fmt='o', ms=2, color='black')\n",
    "\n",
    "ax = axes[4]\n",
    "ax.plot(mock_1_00['halo_mpeak'], mock_1_20['stellar_mass'], '.', color='grey', ms=1)\n",
    "ax.errorbar(10**bin_centers, 10**mean_y_20, yerr= std_y_20, fmt='o', ms=2, color='black')\n",
    "\n",
    "ax = axes[5]\n",
    "ax.plot(mock_1_25['halo_mpeak'], mock_1_25['stellar_mass'], '.', color='grey', ms=1)\n",
    "ax.errorbar(10**bin_centers, 10**mean_y_25, yerr= std_y_25, fmt='o', ms=2, color='black')\n",
    "\n",
    "ax = axes[6]\n",
    "ax.plot(mock_1_30['halo_mpeak'], mock_1_30['stellar_mass'], '.', color='grey', ms=1)\n",
    "ax.errorbar(10**bin_centers, 10**mean_y_30, yerr= std_y_30, fmt='o', ms=2, color='black')\n",
    "\n",
    "plt.ylim([10**9.0,10**12.0])\n",
    "plt.xlim([10**10,10**15])\n",
    "plt.xscale('log')\n",
    "plt.yscale('log')\n",
    "plt.xlabel(r'$M_{\\rm peak}~h^{-1}M_{\\odot}$')\n",
    "plt.ylabel(r'$\\langle M_{*}\\rangle~h^{-2}M_{\\odot}$')\n",
    "plt.show()"
   ]
  },
  {
   "cell_type": "code",
   "execution_count": 157,
   "metadata": {
    "collapsed": false
   },
   "outputs": [
    {
     "data": {
      "image/png": "[encoded data removed]",
      "text/plain": [
       "<matplotlib.figure.Figure at 0x10f9d2dd0>"
      ]
     },
     "metadata": {},
     "output_type": "display_data"
    }
   ],
   "source": [
    "fig = plt.figure(figsize=(3.3,3.3))\n",
    "fig.subplots_adjust(left=0.2, right=0.9, bottom=0.2, top=0.9)\n",
    "plt.errorbar(10**bin_centers, std_y_05, fmt='o', ms=2, color='black')\n",
    "plt.plot([10**10,10**15],[0.05,0.05],'-')\n",
    "plt.errorbar(10**bin_centers, std_y_10, fmt='o', ms=2, color='black')\n",
    "plt.plot([10**10,10**15],[0.1,0.1],'-')\n",
    "plt.errorbar(10**bin_centers, std_y_15, fmt='o', ms=2, color='black')\n",
    "plt.plot([10**10,10**15],[0.15,0.15],'-')\n",
    "plt.errorbar(10**bin_centers, std_y_20, fmt='o', ms=2, color='black')\n",
    "plt.plot([10**10,10**15],[0.2,0.2],'-')\n",
    "plt.errorbar(10**bin_centers, std_y_25, fmt='o', ms=2, color='black')\n",
    "plt.plot([10**10,10**15],[0.25,0.25],'-')\n",
    "plt.errorbar(10**bin_centers, std_y_30, fmt='o', ms=2, color='black')\n",
    "plt.plot([10**10,10**15],[0.3,0.3],'-')\n",
    "plt.ylim([0,0.35])\n",
    "plt.xlim([10**10,10**15])\n",
    "plt.xscale('log')\n",
    "plt.xlabel(r'$M_{\\rm peak}~h^{-1}M_{\\odot}$')\n",
    "plt.ylabel(r'$\\sigma_{\\log(M_*)}$')\n",
    "plt.show()"
   ]
  },
  {
   "cell_type": "markdown",
   "metadata": {},
   "source": [
    "##Fit SMHM"
   ]
  },
  {
   "cell_type": "code",
   "execution_count": 158,
   "metadata": {
    "collapsed": true
   },
   "outputs": [],
   "source": [
    "#define functional form of the SMHM relation\n",
    "\n",
    "def broken_powerlaw_model(logx, y0=10.35, x0=11.8, alpha=0.5, beta=0.65, s=1.0):\n",
    "    \"\"\"\n",
    "    smooth transitioning broken powerlaw model\n",
    "    \"\"\"\n",
    "    y0 = 10.0**y0\n",
    "    x0 = 10.0**x0\n",
    "    logx = np.atleast_1d(logx)\n",
    "    x = 10.0**logx\n",
    "    return np.log10((2.0*y0/x0)*x*((x/x0)**(-1.0*alpha) + s*(x/x0)**(beta))**(-1))"
   ]
  },
  {
   "cell_type": "code",
   "execution_count": 159,
   "metadata": {
    "collapsed": false
   },
   "outputs": [
    {
     "ename": "TypeError",
     "evalue": "empirical_SMHM() takes exactly 2 arguments (4 given)",
     "output_type": "error",
     "traceback": [
      "\u001b[0;31m---------------------------------------------------------------------------\u001b[0m",
      "\u001b[0;31mTypeError\u001b[0m                                 Traceback (most recent call last)",
      "\u001b[0;32m<ipython-input-159-4514f6115695>\u001b[0m in \u001b[0;36m<module>\u001b[0;34m()\u001b[0m\n\u001b[1;32m      5\u001b[0m \u001b[0mbins\u001b[0m \u001b[0;34m=\u001b[0m \u001b[0mnp\u001b[0m\u001b[0;34m.\u001b[0m\u001b[0marange\u001b[0m\u001b[0;34m(\u001b[0m\u001b[0mmin_m\u001b[0m\u001b[0;34m,\u001b[0m\u001b[0;36m14.5\u001b[0m\u001b[0;34m,\u001b[0m\u001b[0;36m0.1\u001b[0m\u001b[0;34m)\u001b[0m \u001b[0;31m#log bins\u001b[0m\u001b[0;34m\u001b[0m\u001b[0m\n\u001b[1;32m      6\u001b[0m \u001b[0;34m\u001b[0m\u001b[0m\n\u001b[0;32m----> 7\u001b[0;31m \u001b[0mresult\u001b[0m \u001b[0;34m=\u001b[0m \u001b[0mempirical_SMHM\u001b[0m\u001b[0;34m(\u001b[0m\u001b[0mmock_1\u001b[0m\u001b[0;34m[\u001b[0m\u001b[0;34m'stellar_mass'\u001b[0m\u001b[0;34m]\u001b[0m\u001b[0;34m,\u001b[0m \u001b[0mmock_1\u001b[0m\u001b[0;34m[\u001b[0m\u001b[0;34m'halo_mpeak'\u001b[0m\u001b[0;34m]\u001b[0m\u001b[0;34m,\u001b[0m \u001b[0mbins\u001b[0m\u001b[0;34m,\u001b[0m \u001b[0mNboot\u001b[0m\u001b[0;34m=\u001b[0m\u001b[0;36m10\u001b[0m\u001b[0;34m)\u001b[0m\u001b[0;34m\u001b[0m\u001b[0m\n\u001b[0m\u001b[1;32m      8\u001b[0m \u001b[0mbin_centers\u001b[0m\u001b[0;34m,\u001b[0m \u001b[0mmean_y\u001b[0m\u001b[0;34m,\u001b[0m \u001b[0mstd_y\u001b[0m\u001b[0;34m,\u001b[0m  \u001b[0mmean_y_err\u001b[0m\u001b[0;34m,\u001b[0m \u001b[0mstd_y_err\u001b[0m \u001b[0;34m=\u001b[0m \u001b[0mresult\u001b[0m\u001b[0;34m\u001b[0m\u001b[0m\n\u001b[1;32m      9\u001b[0m \u001b[0;34m\u001b[0m\u001b[0m\n",
      "\u001b[0;31mTypeError\u001b[0m: empirical_SMHM() takes exactly 2 arguments (4 given)"
     ]
    }
   ],
   "source": [
    "from scipy.stats import binned_statistic\n",
    "from scipy.optimize import curve_fit\n",
    "\n",
    "min_m = 11.2\n",
    "bins = np.arange(min_m,14.5,0.1) #log bins\n",
    "\n",
    "result = empirical_SMHM(mock_1['stellar_mass'], mock_1['halo_mpeak'], bins, Nboot=10)\n",
    "bin_centers, mean_y, std_y,  mean_y_err, std_y_err = result\n",
    "\n",
    "#get linear errors\n",
    "err_plus = 10**(mean_y + mean_y_err)-10**(mean_y)\n",
    "err_minus = 10**(mean_y) - 10**(mean_y - mean_y_err)\n",
    "lin_err = np.vstack((err_minus, err_plus))\n",
    "\n",
    "#fit model\n",
    "popt, cov = curve_fit(broken_powerlaw_model, bin_centers, mean_y,# sigma=mean_y_err,\n",
    "                      p0=[10.35, 11.8, 0.5, 0.65], bounds=([9.0, 10.0, 0.0, 0.0],[12.0, 13.0, 2.0, 2.0]))\n",
    "param_err = np.sqrt(cov.diagonal())\n",
    "print('y0 = {0} +- {1}'.format(popt[0],param_err[0]))\n",
    "print('x0 = {0} +- {1}'.format(popt[1],param_err[1]))\n",
    "print('alpha = {0} +- {1}'.format(popt[2],param_err[2]))\n",
    "print('beta = {0} +- {1}'.format(popt[3],param_err[3]))\n",
    "print(' ')\n",
    "\n",
    "#use parameters to set model\n",
    "smhm_model = lambda x: 10**broken_powerlaw_model(np.log10(x), *popt)"
   ]
  },
  {
   "cell_type": "code",
   "execution_count": null,
   "metadata": {
    "collapsed": true
   },
   "outputs": [],
   "source": []
  }
 ],
 "metadata": {
  "kernelspec": {
   "display_name": "Python 2",
   "language": "python",
   "name": "python2"
  },
  "language_info": {
   "codemirror_mode": {
    "name": "ipython",
    "version": 2
   },
   "file_extension": ".py",
   "mimetype": "text/x-python",
   "name": "python",
   "nbconvert_exporter": "python",
   "pygments_lexer": "ipython2",
   "version": "2.7.13"
  }
 },
 "nbformat": 4,
 "nbformat_minor": 0
}
