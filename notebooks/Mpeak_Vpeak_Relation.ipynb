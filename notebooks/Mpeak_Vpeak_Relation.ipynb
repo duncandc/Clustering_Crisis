{
 "cells": [
  {
   "cell_type": "code",
   "execution_count": 1,
   "metadata": {
    "collapsed": true
   },
   "outputs": [],
   "source": [
    "import numpy as np\n",
    "import matplotlib.pyplot as plt\n",
    "from matplotlib import cm\n",
    "from __future__ import print_function, division\n",
    "%matplotlib inline"
   ]
  },
  {
   "cell_type": "markdown",
   "metadata": {},
   "source": [
    "#The Relation between $M_{\\rm peak}$ & $V_{\\rm peak}$"
   ]
  },
  {
   "cell_type": "markdown",
   "metadata": {},
   "source": [
    "##Load simulation"
   ]
  },
  {
   "cell_type": "code",
   "execution_count": 2,
   "metadata": {
    "collapsed": false
   },
   "outputs": [
    {
     "name": "stdout",
     "output_type": "stream",
     "text": [
      "('halo_upid', 'halo_first_acc_mvir', 'halo_acc_scale', 'halo_rvir', 'halo_vpeak', 'halo_macc', 'halo_first_acc_scale', 'halo_mpeak', 'halo_half_mass_scale', 'halo_mvir', 'halo_T/|U|', 'halo_vmax_at_mpeak', 'halo_pid', 'halo_y', 'halo_x', 'halo_z', 'halo_m200b', 'halo_m200c', 'halo_first_acc_vmax', 'halo_mpeak_scale', 'halo_vmax', 'halo_vacc', 'halo_id', 'halo_vx', 'halo_vy', 'halo_vz', 'halo_rs', 'halo_nfw_conc', 'halo_hostid', 'halo_mvir_host_halo')\n",
      "number of (sub-)haloes:  6161686\n"
     ]
    }
   ],
   "source": [
    "from halotools import sim_manager\n",
    "\n",
    "#load halo catalogue\n",
    "simname = 'bolshoi_250'\n",
    "halocat = sim_manager.CachedHaloCatalog(simname = simname, redshift=0.0, dz_tol=0.001,\n",
    "                                        version_name='custom', halo_finder='Rockstar')\n",
    "\n",
    "print(halocat.halo_table.dtype.names)\n",
    "print(\"number of (sub-)haloes: \", len(halocat.halo_table))"
   ]
  },
  {
   "cell_type": "code",
   "execution_count": 3,
   "metadata": {
    "collapsed": true
   },
   "outputs": [],
   "source": [
    "#define cosmology\n",
    "from astropy.cosmology import FlatLambdaCDM\n",
    "cosmo = FlatLambdaCDM(H0=70, Om0=0.27) #Bolshoi cosmology"
   ]
  },
  {
   "cell_type": "code",
   "execution_count": null,
   "metadata": {
    "collapsed": true
   },
   "outputs": [],
   "source": []
  },
  {
   "cell_type": "code",
   "execution_count": 4,
   "metadata": {
    "collapsed": true
   },
   "outputs": [],
   "source": [
    "#define some functions\n",
    "\n",
    "def vmax_model(mass, z, cosmo):\n",
    "    \"\"\"\n",
    "    maximum circular velocity of an NFW profile\n",
    "    eq. 5 van den Bosch + 2014\n",
    "    \n",
    "    Parameters\n",
    "    ----------\n",
    "    mass : array_like\n",
    "        array of halo masses\n",
    "    \n",
    "    z : array_like\n",
    "        array of redshifts\n",
    "        \n",
    "    cosmo : astropy.cosmology object\n",
    "        astropy comology object indicating cosmology\n",
    "    \"\"\"\n",
    "    def f(x):\n",
    "        return np.log(1.0+x) - x/(1.0+x)\n",
    "    \n",
    "    def virial_velocity(mass, cosmo, z):\n",
    "        \"\"\"\n",
    "        virial velocity\n",
    "        eq. 6 van den Bosch + 2014\n",
    "        \"\"\"\n",
    "        return 159.43 * (mass/10.0**12)**(1.0/3.0)*\\\n",
    "               (cosmo.H(z)/cosmo.H0)**(1.0/3.0)*\\\n",
    "               (dvir(z, cosmo)/178.0)**(1.0/6.0)\n",
    "    \n",
    "    def dvir(z, cosmo):\n",
    "        \"\"\"\n",
    "        critical density for closure\n",
    "        \"\"\"\n",
    "        x = cosmo.Om(z)-1.0\n",
    "        return 18.0*np.pi**2 + 82.0*x - 39.0*x**2\n",
    "    \n",
    "    def concentration(mass, z):\n",
    "        \"\"\"\n",
    "        median concentration as a function of mass and redshift\n",
    "        eq. B2, Jiang + 2016\n",
    "        \"\"\"\n",
    "        return 4.67/(1.0 + z)*(mass/(10**14.0))**(-0.11)\n",
    "    \n",
    "    c = concentration(mass, z)   \n",
    "    return 0.465 * virial_velocity(mass, cosmo, z) * np.sqrt(c/f(c))\n",
    "\n",
    "def vpeak_model(mass, z, cosmo):\n",
    "    \"\"\"\n",
    "    Calculate the mean peak velocity\n",
    "    \n",
    "    Parameters\n",
    "    ----------\n",
    "    mass : array_like\n",
    "        array of halo masses\n",
    "    \n",
    "    z : array_like\n",
    "        array of redshifts\n",
    "        \n",
    "    cosmo : astropy.cosmology object\n",
    "        astropy comology object indicating cosmology\n",
    "    \"\"\"\n",
    "    return vmax_model(mass, z, cosmo)*1.1\n",
    "\n",
    "#interpolate mpeak vpeak relation\n",
    "msample = np.logspace(8,16,80)\n",
    "zsample = np.linspace(0,10,50)\n",
    "vsample = np.logspace(1,4,100)\n",
    "\n",
    "from scipy.interpolate import interp1d, interp2d\n",
    "\n",
    "result = np.zeros((len(zsample),len(vsample)))\n",
    "for i,z in enumerate(zsample):\n",
    "        vs = vpeak_model(msample, z, cosmo)\n",
    "        f = interp1d(vs, msample, fill_value='extrapolate')\n",
    "        for j,v in enumerate(vsample):\n",
    "            result[i,j] = f(v)"
   ]
  },
  {
   "cell_type": "code",
   "execution_count": null,
   "metadata": {
    "collapsed": true
   },
   "outputs": [],
   "source": [
    "\"\"\"\n",
    "Find empirical relation between Mpeak vs Vpeak in Bolshoi\n",
    "\"\"\"\n",
    "\n",
    "m = halocat.halo_table['halo_mpeak']\n",
    "v = halocat.halo_table['halo_vpeak']\n",
    "a = halocat.halo_table['halo_acc_scale']\n",
    "\n",
    "#seperate for host-haloes and sub-haloes\n",
    "host = (halocat.halo_table['halo_upid']==-1)\n",
    "sub = (halocat.halo_table['halo_upid']!=-1)\n",
    "\n",
    "#calculate the scatter in vpeak as a function of mpeak\n",
    "from halotools.mock_observables import mean_y_vs_x\n",
    "from scipy.stats import binned_statistic\n",
    "bins = np.arange(10,15,0.25)\n",
    "\n",
    "x = np.log10(m)\n",
    "y = np.log10(v)\n",
    "#all\n",
    "log_bin_centers, log_mean_v, log_sigma_v = mean_y_vs_x(x, y,\n",
    "    bins=bins, error_estimator='variance')\n",
    "\n",
    "#host-haloes\n",
    "log_bin_centers, log_mean_v_host, log_sigma_v_host = mean_y_vs_x(x[host], y[host],\n",
    "    bins=bins, error_estimator='variance')\n",
    "\n",
    "#sub-haloes\n",
    "log_bin_centers, log_mean_v_sub, log_sigma_v_sub = mean_y_vs_x(x[sub], y[sub],\n",
    "    bins=bins, error_estimator='variance')\n",
    "\n",
    "#translate to non-log errors\n",
    "err_lower = 10**(log_mean_v_host) - 10**(log_mean_v_host-(log_sigma_v_host))\n",
    "err_upper = 10**(log_mean_v_host+(log_sigma_v_host)) - 10**(log_mean_v_host)\n",
    "err = np.vstack((err_lower,err_upper))"
   ]
  },
  {
   "cell_type": "code",
   "execution_count": 23,
   "metadata": {
    "collapsed": false
   },
   "outputs": [
    {
     "data": {
      "image/png": "[encoded data removed]",
      "text/plain": [
       "<matplotlib.figure.Figure at 0x1229c38d0>"
      ]
     },
     "metadata": {},
     "output_type": "display_data"
    }
   ],
   "source": [
    "\"\"\"\n",
    "Make figure showing Mpeak vs Vpeak\n",
    "\"\"\"\n",
    "\n",
    "fig = plt.figure(figsize=(3.3,3.3))\n",
    "fig.subplots_adjust(left=0.2, right=0.9, bottom=0.2, top=0.9)\n",
    "\n",
    "#scatter plot\n",
    "redshifts = 1.0/a - 1.0\n",
    "plt.scatter(m[sub] ,v[sub], c = a[sub], lw=0, s=2,\n",
    "            rasterized=True, cmap = 'coolwarm_r', vmin=0.25, vmax=1.0)\n",
    "#mean relations\n",
    "msample = np.logspace(9,16,100)\n",
    "p1, = plt.plot(msample, vpeak_model(msample, 0.0, cosmo),\n",
    "               '-', color='black', alpha=1.0)\n",
    "p2, = plt.plot(msample, vpeak_model(msample, 1.0/0.5-1.0, cosmo),\n",
    "               '--', color='black', alpha=1.0)\n",
    "p3 = plt.errorbar(10.0**log_bin_centers, 10.0**log_mean_v_host, yerr = err,\n",
    "                  color='black', fmt='o', ms=2)\n",
    "plt.xscale('log')\n",
    "plt.yscale('log')\n",
    "plt.ylim([30,3000])\n",
    "plt.xlim([10**10,10**15])\n",
    "plt.xlabel(r'$M_{\\rm peak} ~[h^{-1}M_{\\odot}]$')\n",
    "plt.ylabel(r'$V_{\\rm peak} ~ [{\\rm km/s}]$')\n",
    "first_legend = plt.legend((p1,p2),(r'$z=0.0$',r'$z=1.0$'),\n",
    "                          fontsize=10, frameon=False, loc='upper left')\n",
    "ax = plt.gca().add_artist(first_legend)\n",
    "plt.legend([p3],[r'$\\langle V_{\\rm peak} | M_{\\rm peak}, {\\rm host} \\rangle $'],\n",
    "           frameon = False, fontsize=8, loc='lower right', numpoints=1)\n",
    "\n",
    "#colorbar\n",
    "cbar = plt.colorbar()\n",
    "cbar.set_label(r'$z_{\\rm acc}$')\n",
    "redshifts = np.array([0.0,0.5,1.0,2.0,3.0])\n",
    "scales = 1.0/(1+redshifts)\n",
    "cbar.set_ticks(scales)\n",
    "cbar.set_ticklabels(redshifts)\n",
    "plt.show()\n",
    "\n",
    "filepath = './figures/'\n",
    "filename = 'mpeak_vs_vpeak'\n",
    "fig.savefig(filepath+filename+'.pdf', dpi=300)"
   ]
  },
  {
   "cell_type": "code",
   "execution_count": 11,
   "metadata": {
    "collapsed": false
   },
   "outputs": [
    {
     "data": {
      "image/png": "[encoded data removed]",
      "text/plain": [
       "<matplotlib.figure.Figure at 0x11a105d10>"
      ]
     },
     "metadata": {},
     "output_type": "display_data"
    }
   ],
   "source": [
    "\"\"\"\n",
    "examine the scatter in the relaton\n",
    "\"\"\"\n",
    "\n",
    "fig = plt.figure(figsize=(3.3,3.3))\n",
    "fig.subplots_adjust(left=0.2, right=0.9, bottom=0.2, top=0.9)\n",
    "plt.plot(10**log_bin_centers, log_sigma_v, 'o', mec='none', ms=4)\n",
    "plt.xlim([10**9.5,10**15])\n",
    "plt.xscale('log')\n",
    "plt.ylim([0,0.1])\n",
    "plt.ylabel(r'$\\sigma_{\\log(v)}$')\n",
    "plt.xlabel(r'$\\log(M)$')\n",
    "plt.show()"
   ]
  },
  {
   "cell_type": "code",
   "execution_count": null,
   "metadata": {
    "collapsed": true
   },
   "outputs": [],
   "source": []
  }
 ],
 "metadata": {
  "kernelspec": {
   "display_name": "Python 2",
   "language": "python",
   "name": "python2"
  },
  "language_info": {
   "codemirror_mode": {
    "name": "ipython",
    "version": 2
   },
   "file_extension": ".py",
   "mimetype": "text/x-python",
   "name": "python",
   "nbconvert_exporter": "python",
   "pygments_lexer": "ipython2",
   "version": "2.7.13"
  }
 },
 "nbformat": 4,
 "nbformat_minor": 0
}
