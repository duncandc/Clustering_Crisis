{
 "cells": [
  {
   "cell_type": "code",
   "execution_count": 1,
   "metadata": {
    "collapsed": true
   },
   "outputs": [],
   "source": [
    "import numpy as np\n",
    "import matplotlib.pyplot as plt\n",
    "from __future__ import print_function, division\n",
    "%matplotlib inline"
   ]
  },
  {
   "cell_type": "markdown",
   "metadata": {},
   "source": [
    "#Adding Scatter to the SMHM in Rank Order SHAM"
   ]
  },
  {
   "cell_type": "markdown",
   "metadata": {},
   "source": [
    "##Load Simulation"
   ]
  },
  {
   "cell_type": "code",
   "execution_count": 5,
   "metadata": {
    "collapsed": false
   },
   "outputs": [
    {
     "name": "stdout",
     "output_type": "stream",
     "text": [
      "('halo_upid', 'halo_first_acc_mvir', 'halo_acc_scale', 'halo_rvir', 'halo_vpeak', 'halo_macc', 'halo_first_acc_scale', 'halo_mpeak', 'halo_half_mass_scale', 'halo_mvir', 'halo_T/|U|', 'halo_vmax_at_mpeak', 'halo_pid', 'halo_y', 'halo_x', 'halo_z', 'halo_m200b', 'halo_m200c', 'halo_first_acc_vmax', 'halo_mpeak_scale', 'halo_vmax', 'halo_vacc', 'halo_id', 'halo_vx', 'halo_vy', 'halo_vz', 'halo_rs', 'halo_nfw_conc', 'halo_hostid', 'halo_mvir_host_halo')\n"
     ]
    }
   ],
   "source": [
    "from halotools import sim_manager\n",
    "\n",
    "#load halo catalogue\n",
    "simname = 'bolshoi_250'\n",
    "halocat = sim_manager.CachedHaloCatalog(simname = simname, redshift=0.0, dz_tol = 0.001,\n",
    "                                        version_name='custom', halo_finder='Rockstar')\n",
    "\n",
    "#print out column names of halo catalogue\n",
    "print(halocat.halo_table.dtype.names)"
   ]
  },
  {
   "cell_type": "code",
   "execution_count": 6,
   "metadata": {
    "collapsed": false
   },
   "outputs": [
    {
     "name": "stdout",
     "output_type": "stream",
     "text": [
      "FlatLambdaCDM(H0=70 km / (Mpc s), Om0=0.27, Tcmb0=2.725 K, Neff=3.04, m_nu=[ 0.  0.  0.] eV, Ob0=None)\n"
     ]
    }
   ],
   "source": [
    "#define cosmology used in the simulation\n",
    "from astropy.cosmology import FlatLambdaCDM\n",
    "cosmo = FlatLambdaCDM(H0=70, Om0=0.27) #Bolshoi cosmology\n",
    "print(cosmo)"
   ]
  },
  {
   "cell_type": "markdown",
   "metadata": {},
   "source": [
    "##Rank SHAM with no scatter"
   ]
  },
  {
   "cell_type": "code",
   "execution_count": 7,
   "metadata": {
    "collapsed": false
   },
   "outputs": [
    {
     "name": "stdout",
     "output_type": "stream",
     "text": [
      "('halo_upid', 'halo_hostid', 'halo_mpeak', 'halo_x', 'halo_y', 'halo_id', 'halo_z', 'halo_vx', 'halo_vy', 'halo_vz', 'halo_rvir', 'halo_mvir', 'halo_mvir_host_halo', 'x', 'y', 'z', 'vx', 'vy', 'vz', 'galid', 'stellar_mass')\n"
     ]
    }
   ],
   "source": [
    "from halotools.empirical_models import SubhaloModelFactory\n",
    "from SHAM_model_components import RankSmHm\n",
    "\n",
    "#build model\n",
    "prim_haloprop_key = 'halo_mpeak'\n",
    "mstar_model = RankSmHm(prim_haloprop_key = prim_haloprop_key, Lbox=halocat.Lbox[0], redshift=0.0)\n",
    "composite_model_1 = SubhaloModelFactory(stellar_mass = mstar_model)\n",
    "\n",
    "composite_model_1.param_dict['scatter'] = 0.0\n",
    "\n",
    "#populate simulation\n",
    "composite_model_1.populate_mock(halocat = halocat)\n",
    "mock_1 = composite_model_1.mock.galaxy_table\n",
    "print(mock_1.dtype.names)"
   ]
  },
  {
   "cell_type": "markdown",
   "metadata": {},
   "source": [
    "###Examine SMHM relation"
   ]
  },
  {
   "cell_type": "code",
   "execution_count": 8,
   "metadata": {
    "collapsed": false
   },
   "outputs": [
    {
     "data": {
      "image/png": "[encoded data removed]",
      "text/plain": [
       "<matplotlib.figure.Figure at 0x1093ea290>"
      ]
     },
     "metadata": {},
     "output_type": "display_data"
    }
   ],
   "source": [
    "fig = plt.figure(figsize=(3.3,3.3))\n",
    "fig.subplots_adjust(left=0.2, right=0.9, bottom=0.2, top=0.9)\n",
    "plt.plot(mock_1['halo_mpeak'], mock_1['stellar_mass'], '.', color='black', ms=1)\n",
    "plt.ylim([10**8.0,10**12.0])\n",
    "plt.xlim([10**10,10**15])\n",
    "plt.xscale('log')\n",
    "plt.yscale('log')\n",
    "plt.xlabel(r'$M_{\\rm peak}~h^{-1}M_{\\odot}$')\n",
    "plt.ylabel(r'$\\langle M_{*}\\rangle~h^{-2}M_{\\odot}$')\n",
    "plt.show()"
   ]
  },
  {
   "cell_type": "markdown",
   "metadata": {},
   "source": [
    "##Deconvolve Scatter"
   ]
  },
  {
   "cell_type": "code",
   "execution_count": 9,
   "metadata": {
    "collapsed": true
   },
   "outputs": [],
   "source": [
    "from AbundanceMatching import *\n",
    "from lss_observations.stellar_mass_functions import LiWhite_2009_phi\n",
    "phi = LiWhite_2009_phi()"
   ]
  },
  {
   "cell_type": "code",
   "execution_count": 10,
   "metadata": {
    "collapsed": false
   },
   "outputs": [],
   "source": [
    "#tabulate stellar mass function\n",
    "msample = np.logspace(5,12,1000)\n",
    "nsample = phi(msample)\n",
    "af = AbundanceFunction(np.log10(msample), nsample, faint_end_first=True)"
   ]
  },
  {
   "cell_type": "code",
   "execution_count": 11,
   "metadata": {
    "collapsed": true
   },
   "outputs": [],
   "source": [
    "#deconvolution \n",
    "scatter = 0.00\n",
    "remainder = af.deconvolute(scatter, 100)\n",
    "scatter = 0.05\n",
    "remainder = af.deconvolute(scatter, 100)\n",
    "scatter = 0.10\n",
    "remainder = af.deconvolute(scatter, 100)\n",
    "scatter = 0.15\n",
    "remainder = af.deconvolute(scatter, 100)\n",
    "scatter = 0.20\n",
    "remainder = af.deconvolute(scatter, 100)\n",
    "scatter = 0.25\n",
    "remainder = af.deconvolute(scatter, 100)\n",
    "scatter = 0.30\n",
    "remainder = af.deconvolute(scatter, 100)"
   ]
  },
  {
   "cell_type": "code",
   "execution_count": 12,
   "metadata": {
    "collapsed": false
   },
   "outputs": [],
   "source": [
    "#build mocks for each of these scatter models\n",
    "from astropy.table import Table\n",
    "Nhaloes = len(halocat.halo_table)\n",
    "arr = np.zeros((Nhaloes,2))\n",
    "arr[:,0] = halocat.halo_table['halo_mpeak']\n",
    "mock_1_00 = Table(arr, names=('halo_mpeak', 'stellar_mass'), dtype=('f8', 'f8')) \n",
    "mock_1_05 = Table(arr, names=('halo_mpeak', 'stellar_mass'), dtype=('f8', 'f8')) \n",
    "mock_1_10 = Table(arr, names=('halo_mpeak', 'stellar_mass'), dtype=('f8', 'f8')) \n",
    "mock_1_15 = Table(arr, names=('halo_mpeak', 'stellar_mass'), dtype=('f8', 'f8')) \n",
    "mock_1_20 = Table(arr, names=('halo_mpeak', 'stellar_mass'), dtype=('f8', 'f8')) \n",
    "mock_1_25 = Table(arr, names=('halo_mpeak', 'stellar_mass'), dtype=('f8', 'f8')) \n",
    "mock_1_30 = Table(arr, names=('halo_mpeak', 'stellar_mass'), dtype=('f8', 'f8')) "
   ]
  },
  {
   "cell_type": "code",
   "execution_count": 13,
   "metadata": {
    "collapsed": true
   },
   "outputs": [],
   "source": [
    "nd_halos = calc_number_densities(halocat.halo_table['halo_mpeak'], 250.0)\n",
    "mock_1_00['stellar_mass'] = 10.0**(af.match(nd_halos, 0.00))\n",
    "mock_1_05['stellar_mass'] = 10.0**(af.match(nd_halos, 0.05))\n",
    "mock_1_10['stellar_mass'] = 10.0**(af.match(nd_halos, 0.10))\n",
    "mock_1_15['stellar_mass'] = 10.0**(af.match(nd_halos, 0.15))\n",
    "mock_1_20['stellar_mass'] = 10.0**(af.match(nd_halos, 0.20))\n",
    "mock_1_25['stellar_mass'] = 10.0**(af.match(nd_halos, 0.25))\n",
    "mock_1_30['stellar_mass'] = 10.0**(af.match(nd_halos, 0.30))"
   ]
  },
  {
   "cell_type": "code",
   "execution_count": 14,
   "metadata": {
    "collapsed": false
   },
   "outputs": [],
   "source": [
    "from scipy.stats import binned_statistic\n",
    "from scipy.stats import linregress\n",
    "\n",
    "def empirical_SMHM(mstar, mhalo, bins, Nboot=25):\n",
    "    \"\"\"\n",
    "    measure the log mean stellar mass and scatter as a function of halo mass\n",
    "    \"\"\"\n",
    "\n",
    "    x = np.log10(mhalo)\n",
    "    y = np.log10(mstar)\n",
    "\n",
    "    bin_centers = (bins[:-1]+bins[1:])/2.0 #log bins\n",
    "    \n",
    "    std_y = np.zeros((Nboot, len(bins)-1))\n",
    "    mean_y = np.zeros((Nboot, len(bins)-1))\n",
    "    for i in range(0,Nboot):\n",
    "        boot_inds = np.random.randint(0, len(x), len(x))\n",
    "        \n",
    "        xx = x[boot_inds]\n",
    "        yy = y[boot_inds]\n",
    "        \n",
    "        inds = np.digitize(xx, bins=bins)\n",
    "    \n",
    "        for j in range(1,len(bins)):\n",
    "            mask = (inds==j)\n",
    "            m, b, r, p, e = linregress(xx[mask],yy[mask])\n",
    "            yyy = yy[mask] - (m*xx[mask] + b) \n",
    "            std_y[i,j-1] = np.std(yyy)\n",
    "            mean_y[i,j-1] = (m*bin_centers[j-1] + b) \n",
    "    \n",
    "    mean_y_err= np.std(mean_y, axis=0)\n",
    "    mean_y = np.mean(mean_y, axis=0)\n",
    "    std_y_err = np.std(std_y, axis=0)\n",
    "    std_y = np.mean(std_y, axis=0)\n",
    "    \n",
    "    return bin_centers, mean_y, std_y, mean_y_err, std_y_err"
   ]
  },
  {
   "cell_type": "code",
   "execution_count": 15,
   "metadata": {
    "collapsed": false
   },
   "outputs": [],
   "source": [
    "min_m = 11.0\n",
    "bins = np.arange(min_m,14.5,0.1) #log bins\n",
    "bin_centers, mean_y_00, std_y_00, mean_y_err_00, std_y_err_00 = empirical_SMHM(mock_1_00['stellar_mass'], mock_1_00['halo_mpeak'], bins)\n",
    "bin_centers, mean_y_05, std_y_05, mean_y_err_05, std_y_err_05 = empirical_SMHM(mock_1_05['stellar_mass'], mock_1_05['halo_mpeak'], bins)\n",
    "bin_centers, mean_y_10, std_y_10, mean_y_err_10, std_y_err_10 = empirical_SMHM(mock_1_10['stellar_mass'], mock_1_10['halo_mpeak'], bins)\n",
    "bin_centers, mean_y_15, std_y_15, mean_y_err_15, std_y_err_15 = empirical_SMHM(mock_1_15['stellar_mass'], mock_1_15['halo_mpeak'], bins)\n",
    "bin_centers, mean_y_20, std_y_20, mean_y_err_20, std_y_err_20 = empirical_SMHM(mock_1_20['stellar_mass'], mock_1_20['halo_mpeak'], bins)\n",
    "bin_centers, mean_y_25, std_y_25, mean_y_err_25, std_y_err_25 = empirical_SMHM(mock_1_25['stellar_mass'], mock_1_25['halo_mpeak'], bins)\n",
    "bin_centers, mean_y_30, std_y_30, mean_y_err_30, std_y_err_30 = empirical_SMHM(mock_1_30['stellar_mass'], mock_1_30['halo_mpeak'], bins)"
   ]
  },
  {
   "cell_type": "code",
   "execution_count": 16,
   "metadata": {
    "collapsed": true
   },
   "outputs": [],
   "source": [
    "#get linear errors\n",
    "err_plus = 10**(mean_y_00 + mean_y_err_00)-10**(mean_y_00)\n",
    "err_minus = 10**(mean_y_00) - 10**(mean_y_00 - mean_y_err_00)\n",
    "lin_err_00 = np.vstack((err_minus, err_plus))\n",
    "\n",
    "err_plus = 10**(mean_y_05 + mean_y_err_05)-10**(mean_y_05)\n",
    "err_minus = 10**(mean_y_05) - 10**(mean_y_05 - mean_y_err_05)\n",
    "lin_err_05 = np.vstack((err_minus, err_plus))\n",
    "\n",
    "err_plus = 10**(mean_y_10 + mean_y_err_10)-10**(mean_y_10)\n",
    "err_minus = 10**(mean_y_10) - 10**(mean_y_10 - mean_y_err_10)\n",
    "lin_err_10 = np.vstack((err_minus, err_plus))\n",
    "\n",
    "err_plus = 10**(mean_y_15 + mean_y_err_15)-10**(mean_y_15)\n",
    "err_minus = 10**(mean_y_15) - 10**(mean_y_15 - mean_y_err_15)\n",
    "lin_err_15 = np.vstack((err_minus, err_plus))\n",
    "\n",
    "err_plus = 10**(mean_y_20 + mean_y_err_20)-10**(mean_y_20)\n",
    "err_minus = 10**(mean_y_20) - 10**(mean_y_20 - mean_y_err_20)\n",
    "lin_err_20 = np.vstack((err_minus, err_plus))\n",
    "\n",
    "err_plus = 10**(mean_y_25 + mean_y_err_25)-10**(mean_y_25)\n",
    "err_minus = 10**(mean_y_25) - 10**(mean_y_25 - mean_y_err_25)\n",
    "lin_err_25 = np.vstack((err_minus, err_plus))\n",
    "\n",
    "err_plus = 10**(mean_y_30 + mean_y_err_30)-10**(mean_y_30)\n",
    "err_minus = 10**(mean_y_30) - 10**(mean_y_30 - mean_y_err_30)\n",
    "lin_err_30 = np.vstack((err_minus, err_plus))"
   ]
  },
  {
   "cell_type": "code",
   "execution_count": 19,
   "metadata": {
    "collapsed": false
   },
   "outputs": [
    {
     "name": "stdout",
     "output_type": "stream",
     "text": [
      "y0 = 9.92269501847 +- 0.0159922687011\n",
      "x0 = 11.6340919557 +- 0.0156133451322\n",
      "alpha = -1.16416686982 +- 0.0431384334895\n",
      "beta = 0.604052582393 +- 0.00561736624296\n",
      " \n",
      "y0 = 9.923831777 +- 0.0165179902342\n",
      "x0 = 11.6356687603 +- 0.0161843200059\n",
      "alpha = -1.16214967116 +- 0.0447133286121\n",
      "beta = 0.60902752009 +- 0.00583921102563\n",
      " \n",
      "y0 = 9.9200036169 +- 0.0166334840734\n",
      "x0 = 11.6338661925 +- 0.0164035191682\n",
      "alpha = -1.16973103974 +- 0.046195827571\n",
      "beta = 0.621081121874 +- 0.00597715536555\n",
      " \n",
      "y0 = 9.94302958814 +- 0.0226317946649\n",
      "x0 = 11.6569608252 +- 0.0230001206672\n",
      "alpha = -1.13052902713 +- 0.062260683688\n",
      "beta = 0.656745036674 +- 0.00850525476157\n",
      " \n",
      "y0 = 9.95079232074 +- 0.0240833864626\n",
      "x0 = 11.667226761 +- 0.0251804904425\n",
      "alpha = -1.12071326073 +- 0.0687929181701\n",
      "beta = 0.697604298009 +- 0.00955116801791\n",
      " \n",
      "y0 = 9.96771967886 +- 0.0217191743054\n",
      "x0 = 11.6853674688 +- 0.0237583620917\n",
      "alpha = -1.10861647228 +- 0.0659199955122\n",
      "beta = 0.764970502387 +- 0.00942788269638\n",
      " \n",
      "y0 = 9.99804943336 +- 0.0206511004274\n",
      "x0 = 11.7126580927 +- 0.0242099593551\n",
      "alpha = -1.09758748393 +- 0.0693457959724\n",
      "beta = 0.874380004504 +- 0.0103675790016\n",
      " \n"
     ]
    }
   ],
   "source": [
    "#fit SMHM relation\n",
    "from scipy.optimize import curve_fit\n",
    "\n",
    "#define functional form of the SMHM relation\n",
    "def broken_powerlaw_model(logx, y0=10.35, x0=11.8, alpha=-0.5, beta=0.65, s=1.0):\n",
    "    \"\"\"\n",
    "    smooth transitioning broken powerlaw model\n",
    "    \"\"\"\n",
    "    y0 = 10.0**y0\n",
    "    x0 = 10.0**x0\n",
    "    logx = np.atleast_1d(logx)\n",
    "    x = 10.0**logx\n",
    "    return np.log10((2.0*y0/x0)*x*((x/x0)**(alpha) + s*(x/x0)**(beta))**(-1))\n",
    "\n",
    "#fit model\n",
    "popt_00, cov = curve_fit(broken_powerlaw_model, bin_centers, mean_y_00,# sigma=mean_y_err,\n",
    "                      p0=[10.35, 11.8, -0.5, 0.65], bounds=([9.0, 10.0, -2.0, 0.0],[12.0, 13.0, 0.0, 2.0]))\n",
    "param_err_00 = np.sqrt(cov.diagonal())\n",
    "print('y0 = {0} +- {1}'.format(popt_00[0],param_err_00[0]))\n",
    "print('x0 = {0} +- {1}'.format(popt_00[1],param_err_00[1]))\n",
    "print('alpha = {0} +- {1}'.format(popt_00[2],param_err_00[2]))\n",
    "print('beta = {0} +- {1}'.format(popt_00[3],param_err_00[3]))\n",
    "print(' ')\n",
    "smhm_model_00 = lambda x: 10**broken_powerlaw_model(np.log10(x), *popt_00)\n",
    "\n",
    "popt_05, cov = curve_fit(broken_powerlaw_model, bin_centers, mean_y_05,# sigma=mean_y_err,\n",
    "                      p0=[10.35, 11.8, -0.5, 0.65], bounds=([9.0, 10.0, -2.0, 0.0],[12.0, 13.0, 0.0, 2.0]))\n",
    "param_err_05 = np.sqrt(cov.diagonal())\n",
    "print('y0 = {0} +- {1}'.format(popt_05[0],param_err_05[0]))\n",
    "print('x0 = {0} +- {1}'.format(popt_05[1],param_err_05[1]))\n",
    "print('alpha = {0} +- {1}'.format(popt_05[2],param_err_05[2]))\n",
    "print('beta = {0} +- {1}'.format(popt_05[3],param_err_05[3]))\n",
    "print(' ')\n",
    "smhm_model_05 = lambda x: 10**broken_powerlaw_model(np.log10(x), *popt_05)\n",
    "\n",
    "popt_10, cov = curve_fit(broken_powerlaw_model, bin_centers, mean_y_10,# sigma=mean_y_err,\n",
    "                      p0=[10.35, 11.8, -0.5, 0.65], bounds=([9.0, 10.0, -2.0, 0.0],[12.0, 13.0, 0.0, 2.0]))\n",
    "param_err_10 = np.sqrt(cov.diagonal())\n",
    "print('y0 = {0} +- {1}'.format(popt_10[0],param_err_10[0]))\n",
    "print('x0 = {0} +- {1}'.format(popt_10[1],param_err_10[1]))\n",
    "print('alpha = {0} +- {1}'.format(popt_10[2],param_err_10[2]))\n",
    "print('beta = {0} +- {1}'.format(popt_10[3],param_err_10[3]))\n",
    "print(' ')\n",
    "smhm_model_10 = lambda x: 10**broken_powerlaw_model(np.log10(x), *popt_10)\n",
    "\n",
    "popt_15, cov = curve_fit(broken_powerlaw_model, bin_centers, mean_y_15,# sigma=mean_y_err,\n",
    "                      p0=[10.35, 11.8, -0.5, 0.65], bounds=([9.0, 10.0, -2.0, 0.0],[12.0, 13.0, 0.0, 2.0]))\n",
    "param_err_15 = np.sqrt(cov.diagonal())\n",
    "print('y0 = {0} +- {1}'.format(popt_15[0],param_err_15[0]))\n",
    "print('x0 = {0} +- {1}'.format(popt_15[1],param_err_15[1]))\n",
    "print('alpha = {0} +- {1}'.format(popt_15[2],param_err_15[2]))\n",
    "print('beta = {0} +- {1}'.format(popt_15[3],param_err_15[3]))\n",
    "print(' ')\n",
    "smhm_model_15 = lambda x: 10**broken_powerlaw_model(np.log10(x), *popt_15)\n",
    "\n",
    "popt_20, cov = curve_fit(broken_powerlaw_model, bin_centers, mean_y_20,# sigma=mean_y_err,\n",
    "                      p0=[10.35, 11.8, -0.5, 0.65], bounds=([9.0, 10.0, -2.0, 0.0],[12.0, 13.0, 0.0, 2.0]))\n",
    "param_err_20 = np.sqrt(cov.diagonal())\n",
    "print('y0 = {0} +- {1}'.format(popt_20[0],param_err_20[0]))\n",
    "print('x0 = {0} +- {1}'.format(popt_20[1],param_err_20[1]))\n",
    "print('alpha = {0} +- {1}'.format(popt_20[2],param_err_20[2]))\n",
    "print('beta = {0} +- {1}'.format(popt_20[3],param_err_20[3]))\n",
    "print(' ')\n",
    "smhm_model_20 = lambda x: 10**broken_powerlaw_model(np.log10(x), *popt_20)\n",
    "\n",
    "popt_25, cov = curve_fit(broken_powerlaw_model, bin_centers, mean_y_25,# sigma=mean_y_err,\n",
    "                      p0=[10.35, 11.8, -0.5, 0.65], bounds=([9.0, 10.0, -2.0, 0.0],[12.0, 13.0, 0.0, 2.0]))\n",
    "param_err_25 = np.sqrt(cov.diagonal())\n",
    "print('y0 = {0} +- {1}'.format(popt_25[0],param_err_25[0]))\n",
    "print('x0 = {0} +- {1}'.format(popt_25[1],param_err_25[1]))\n",
    "print('alpha = {0} +- {1}'.format(popt_25[2],param_err_25[2]))\n",
    "print('beta = {0} +- {1}'.format(popt_25[3],param_err_25[3]))\n",
    "print(' ')\n",
    "smhm_model_25 = lambda x: 10**broken_powerlaw_model(np.log10(x), *popt_25)\n",
    "\n",
    "popt_30, cov = curve_fit(broken_powerlaw_model, bin_centers, mean_y_30,# sigma=mean_y_err,\n",
    "                      p0=[10.35, 11.8, -0.5, 0.65], bounds=([9.0, 10.0, -2.0, 0.0],[12.0, 13.0, 0.0, 2.0]))\n",
    "param_err_30 = np.sqrt(cov.diagonal())\n",
    "print('y0 = {0} +- {1}'.format(popt_30[0],param_err_30[0]))\n",
    "print('x0 = {0} +- {1}'.format(popt_30[1],param_err_30[1]))\n",
    "print('alpha = {0} +- {1}'.format(popt_30[2],param_err_30[2]))\n",
    "print('beta = {0} +- {1}'.format(popt_30[3],param_err_30[3]))\n",
    "print(' ')\n",
    "smhm_model_30 = lambda x: 10**broken_powerlaw_model(np.log10(x), *popt_30)"
   ]
  },
  {
   "cell_type": "code",
   "execution_count": 20,
   "metadata": {
    "collapsed": false
   },
   "outputs": [
    {
     "data": {
      "image/png": "[encoded data removed]",
      "text/plain": [
       "<matplotlib.figure.Figure at 0x1173bc390>"
      ]
     },
     "metadata": {},
     "output_type": "display_data"
    }
   ],
   "source": [
    "msample = np.logspace(10,15,1000)\n",
    "\n",
    "fig, axes = plt.subplots(nrows=2, ncols=4, sharex=True, sharey=True, figsize=(10.0, 5.0))\n",
    "fig.subplots_adjust(hspace=0, wspace=0, left=0.2, right=0.85, bottom=0.05, top=0.925)\n",
    "axes = axes.flatten()\n",
    "\n",
    "ax = axes[0]\n",
    "ax.plot(mock_1_00['halo_mpeak'], mock_1_00['stellar_mass'], '.', color='grey', ms=1)\n",
    "ax.errorbar(10**bin_centers, 10**mean_y_00, yerr= lin_err_00, fmt='o', ms=2, color='black')\n",
    "ax.plot(msample, smhm_model_00(msample), color='red')\n",
    "\n",
    "ax = axes[1]\n",
    "ax.plot(mock_1_05['halo_mpeak'], mock_1_05['stellar_mass'], '.', color='grey', ms=1)\n",
    "ax.errorbar(10**bin_centers, 10**mean_y_05, yerr= lin_err_05, fmt='o', ms=2, color='black')\n",
    "ax.plot(msample, smhm_model_05(msample), color='red')\n",
    "\n",
    "ax = axes[2]\n",
    "ax.plot(mock_1_10['halo_mpeak'], mock_1_10['stellar_mass'], '.', color='grey', ms=1)\n",
    "ax.errorbar(10**bin_centers, 10**mean_y_10, yerr= lin_err_10, fmt='o', ms=2, color='black')\n",
    "ax.plot(msample, smhm_model_10(msample), color='red')\n",
    "\n",
    "ax = axes[3]\n",
    "ax.plot(mock_1_15['halo_mpeak'], mock_1_15['stellar_mass'], '.', color='grey', ms=1)\n",
    "ax.errorbar(10**bin_centers, 10**mean_y_15, yerr= lin_err_15, fmt='o', ms=2, color='black')\n",
    "ax.plot(msample, smhm_model_15(msample), color='red')\n",
    "\n",
    "ax = axes[4]\n",
    "ax.plot(mock_1_00['halo_mpeak'], mock_1_20['stellar_mass'], '.', color='grey', ms=1)\n",
    "ax.errorbar(10**bin_centers, 10**mean_y_20, yerr= lin_err_20, fmt='o', ms=2, color='black')\n",
    "ax.plot(msample, smhm_model_20(msample), color='red')\n",
    "\n",
    "ax = axes[5]\n",
    "ax.plot(mock_1_25['halo_mpeak'], mock_1_25['stellar_mass'], '.', color='grey', ms=1)\n",
    "ax.errorbar(10**bin_centers, 10**mean_y_25, yerr= lin_err_25, fmt='o', ms=2, color='black')\n",
    "ax.plot(msample, smhm_model_25(msample), color='red')\n",
    "\n",
    "ax = axes[6]\n",
    "ax.plot(mock_1_30['halo_mpeak'], mock_1_30['stellar_mass'], '.', color='grey', ms=1)\n",
    "ax.errorbar(10**bin_centers, 10**mean_y_30, yerr= lin_err_30, fmt='o', ms=2, color='black')\n",
    "ax.plot(msample, smhm_model_30(msample), color='red')\n",
    "\n",
    "plt.ylim([10**9.0,10**12.0])\n",
    "plt.xlim([10**10,10**15])\n",
    "plt.xscale('log')\n",
    "plt.yscale('log')\n",
    "plt.xlabel(r'$M_{\\rm peak}~h^{-1}M_{\\odot}$')\n",
    "plt.ylabel(r'$\\langle M_{*}\\rangle~h^{-2}M_{\\odot}$')\n",
    "plt.show()"
   ]
  },
  {
   "cell_type": "code",
   "execution_count": 21,
   "metadata": {
    "collapsed": false
   },
   "outputs": [
    {
     "data": {
      "image/png": "[encoded data removed]",
      "text/plain": [
       "<matplotlib.figure.Figure at 0x1189fd290>"
      ]
     },
     "metadata": {},
     "output_type": "display_data"
    }
   ],
   "source": [
    "fig = plt.figure(figsize=(3.3,3.3))\n",
    "fig.subplots_adjust(left=0.2, right=0.9, bottom=0.2, top=0.9)\n",
    "plt.errorbar(10**bin_centers, std_y_05, fmt='o', ms=2, color='black')\n",
    "plt.plot([10**10,10**15],[0.05,0.05],'-')\n",
    "plt.errorbar(10**bin_centers, std_y_10, fmt='o', ms=2, color='black')\n",
    "plt.plot([10**10,10**15],[0.1,0.1],'-')\n",
    "plt.errorbar(10**bin_centers, std_y_15, fmt='o', ms=2, color='black')\n",
    "plt.plot([10**10,10**15],[0.15,0.15],'-')\n",
    "plt.errorbar(10**bin_centers, std_y_20, fmt='o', ms=2, color='black')\n",
    "plt.plot([10**10,10**15],[0.2,0.2],'-')\n",
    "plt.errorbar(10**bin_centers, std_y_25, fmt='o', ms=2, color='black')\n",
    "plt.plot([10**10,10**15],[0.25,0.25],'-')\n",
    "plt.errorbar(10**bin_centers, std_y_30, fmt='o', ms=2, color='black')\n",
    "plt.plot([10**10,10**15],[0.3,0.3],'-')\n",
    "plt.ylim([0,0.35])\n",
    "plt.xlim([10**10,10**15])\n",
    "plt.xscale('log')\n",
    "plt.xlabel(r'$M_{\\rm peak}~h^{-1}M_{\\odot}$')\n",
    "plt.ylabel(r'$\\sigma_{\\log(M_*)}$')\n",
    "plt.show()"
   ]
  },
  {
   "cell_type": "code",
   "execution_count": 22,
   "metadata": {
    "collapsed": false
   },
   "outputs": [],
   "source": [
    "sigmas = np.array([0,0.05,0.1,0.15,0.2,0.25,0.3])\n",
    "y0s = np.array([popt_00[0],popt_05[0],popt_10[0],popt_15[0],popt_20[0],popt_25[0],popt_30[0]])\n",
    "x0s = np.array([popt_00[1],popt_05[1],popt_10[1],popt_15[1],popt_20[1],popt_25[1],popt_30[1]])\n",
    "alphas = np.array([popt_00[2],popt_05[2],popt_10[2],popt_15[2],popt_20[2],popt_25[2],popt_30[2]])\n",
    "betas = np.array([popt_00[3],popt_05[3],popt_10[3],popt_15[3],popt_20[3],popt_25[3],popt_30[3]])\n",
    "\n",
    "y0s_err = np.array([param_err_00[0],param_err_05[0],param_err_10[0],param_err_15[0],param_err_20[0],param_err_25[0],param_err_30[0]])\n",
    "x0s_err = np.array([param_err_00[1],param_err_05[1],param_err_10[1],param_err_15[1],param_err_20[1],param_err_25[1],param_err_30[1]])\n",
    "alphas_err  = np.array([param_err_00[2],param_err_05[2],param_err_10[2],param_err_15[2],param_err_20[2],param_err_25[2],param_err_30[2]])\n",
    "betas_err  = np.array([param_err_00[3],param_err_05[3],param_err_10[3],param_err_15[3],param_err_20[3],param_err_25[3],param_err_30[3]])"
   ]
  },
  {
   "cell_type": "code",
   "execution_count": 31,
   "metadata": {
    "collapsed": false
   },
   "outputs": [
    {
     "name": "stdout",
     "output_type": "stream",
     "text": [
      "x0 = 0.889062964589 +- 0.193123109634\n",
      "alpha = 2.40326636024 +- 0.470086723752\n",
      "b = 8.92138316671 +- 0.00315492630172\n",
      " \n"
     ]
    },
    {
     "data": {
      "image/png": "[encoded data removed]",
      "text/plain": [
       "<matplotlib.figure.Figure at 0x18b1688d0>"
      ]
     },
     "metadata": {},
     "output_type": "display_data"
    }
   ],
   "source": [
    "def exp_model(x, x0=0.5, alpha=1.5, b=-1.2, a=1.0):\n",
    "    return a*np.exp((x/x0)**alpha) + b\n",
    "\n",
    "popt_1, cov = curve_fit(exp_model, sigmas, y0s, sigma=y0s_err, p0=[0.5,1.5,10.0])\n",
    "param_err = np.sqrt(cov.diagonal())\n",
    "print('x0 = {0} +- {1}'.format(popt_1[0],param_err[0]))\n",
    "print('alpha = {0} +- {1}'.format(popt_1[1],param_err[1]))\n",
    "print('b = {0} +- {1}'.format(popt_1[2],param_err[2]))\n",
    "#print('a = {0} +- {1}'.format(popt[3],param_err[3]))\n",
    "print(' ')\n",
    "\n",
    "y0_model = lambda x: exp_model(x, *popt_1)\n",
    "\n",
    "x_sample = np.linspace(0,0.3,100)\n",
    "\n",
    "fig = plt.figure(figsize=(3.3,3.3))\n",
    "fig.subplots_adjust(left=0.2, right=0.9, bottom=0.2, top=0.9)\n",
    "plt.errorbar(sigmas, y0s, yerr=y0s_err, fmt='o', mec='none', color='black', ms=4)\n",
    "plt.plot(x_sample, y0_model(x_sample), '-', color='red')\n",
    "plt.xlim([-0.05,0.35])\n",
    "plt.show()"
   ]
  },
  {
   "cell_type": "code",
   "execution_count": 32,
   "metadata": {
    "collapsed": false
   },
   "outputs": [
    {
     "name": "stdout",
     "output_type": "stream",
     "text": [
      "x0 = 0.988095662048 +- 0.211544286079\n",
      "alpha = 2.14867288118 +- 0.373334958608\n",
      "b = 10.6327599071 +- 0.00294564278338\n",
      " \n"
     ]
    },
    {
     "data": {
      "image/png": "[encoded data removed]",
      "text/plain": [
       "<matplotlib.figure.Figure at 0x146394790>"
      ]
     },
     "metadata": {},
     "output_type": "display_data"
    }
   ],
   "source": [
    "def exp_model(x, x0=0.5, alpha=1.5, b=-1.2, a=1.0):\n",
    "    return a*np.exp((x/x0)**alpha) + b\n",
    "\n",
    "popt_2, cov = curve_fit(exp_model, sigmas, x0s, sigma=x0s_err, p0=[0.5,1.5,2.0])\n",
    "param_err = np.sqrt(cov.diagonal())\n",
    "print('x0 = {0} +- {1}'.format(popt_2[0],param_err[0]))\n",
    "print('alpha = {0} +- {1}'.format(popt_2[1],param_err[1]))\n",
    "print('b = {0} +- {1}'.format(popt_2[2],param_err[2]))\n",
    "#print('a = {0} +- {1}'.format(popt[3],param_err[3]))\n",
    "print(' ')\n",
    "\n",
    "x0_model = lambda x: exp_model(x, *popt_2)\n",
    "\n",
    "x_sample = np.linspace(0,0.3,100)\n",
    "\n",
    "fig = plt.figure(figsize=(3.3,3.3))\n",
    "fig.subplots_adjust(left=0.2, right=0.9, bottom=0.2, top=0.9)\n",
    "plt.errorbar(sigmas, x0s, yerr=x0s_err, fmt='o', mec='none', color='black', ms=4)\n",
    "plt.plot(x_sample, x0_model(x_sample), '-', color='red')\n",
    "plt.xlim([-0.05,0.35])\n",
    "plt.show()"
   ]
  },
  {
   "cell_type": "code",
   "execution_count": 33,
   "metadata": {
    "collapsed": false
   },
   "outputs": [
    {
     "name": "stdout",
     "output_type": "stream",
     "text": [
      "x0 = 1.51065629846 +- 1.03046625939\n",
      "alpha = 1.61575342319 +- 0.663255986624\n",
      "b = -2.16758073673 +- 0.00767962460438\n",
      " \n"
     ]
    },
    {
     "data": {
      "image/png": "[encoded data removed]",
      "text/plain": [
       "<matplotlib.figure.Figure at 0x1465dfc10>"
      ]
     },
     "metadata": {},
     "output_type": "display_data"
    }
   ],
   "source": [
    "def exp_model(x, x0=0.5, alpha=1.5, b=-1.2, a=1.0):\n",
    "    return a*np.exp((x/x0)**alpha) + b\n",
    "\n",
    "popt_3, cov = curve_fit(exp_model, sigmas, alphas, sigma=alphas_err, p0=[0.5,1.5,-4.5])\n",
    "param_err = np.sqrt(cov.diagonal())\n",
    "print('x0 = {0} +- {1}'.format(popt_3[0],param_err[0]))\n",
    "print('alpha = {0} +- {1}'.format(popt_3[1],param_err[1]))\n",
    "print('b = {0} +- {1}'.format(popt_3[2],param_err[2]))\n",
    "#print('a = {0} +- {1}'.format(popt[3],param_err[3]))\n",
    "print(' ')\n",
    "\n",
    "alpha_model = lambda x: exp_model(x, *popt_3)\n",
    "\n",
    "x_sample = np.linspace(0,0.3,100)\n",
    "\n",
    "fig = plt.figure(figsize=(3.3,3.3))\n",
    "fig.subplots_adjust(left=0.2, right=0.9, bottom=0.2, top=0.9)\n",
    "plt.errorbar(sigmas, alphas, yerr=alphas_err, fmt='o', mec='none', color='black', ms=4)\n",
    "plt.plot(x_sample, alpha_model(x_sample), '-', color='red')\n",
    "plt.xlim([-0.05,0.35])\n",
    "plt.show()"
   ]
  },
  {
   "cell_type": "code",
   "execution_count": 34,
   "metadata": {
    "collapsed": false
   },
   "outputs": [
    {
     "name": "stdout",
     "output_type": "stream",
     "text": [
      "x0 = 0.547207076649 +- 0.0142849853769\n",
      "alpha = 2.39994496945 +- 0.0952092404307\n",
      "b = -0.394921814629 +- 0.00194291878635\n",
      " \n"
     ]
    },
    {
     "data": {
      "image/png": "[encoded data removed]",
      "text/plain": [
       "<matplotlib.figure.Figure at 0x1466c2950>"
      ]
     },
     "metadata": {},
     "output_type": "display_data"
    }
   ],
   "source": [
    "def exp_model(x, x0=0.5, alpha=1.5, b=-1.2, a=1.0):\n",
    "    return a*np.exp((x/x0)**alpha) + b\n",
    "\n",
    "popt_4, cov = curve_fit(exp_model, sigmas, betas, sigma=betas_err, p0=[0.5,1.5,-1.2])\n",
    "param_err = np.sqrt(cov.diagonal())\n",
    "print('x0 = {0} +- {1}'.format(popt_4[0],param_err[0]))\n",
    "print('alpha = {0} +- {1}'.format(popt_4[1],param_err[1]))\n",
    "print('b = {0} +- {1}'.format(popt_4[2],param_err[2]))\n",
    "#print('a = {0} +- {1}'.format(popt[3],param_err[3]))\n",
    "print(' ')\n",
    "\n",
    "beta_model = lambda x: exp_model(x, *popt_4)\n",
    "\n",
    "x_sample = np.linspace(0,0.3,100)\n",
    "\n",
    "fig = plt.figure(figsize=(3.3,3.3))\n",
    "fig.subplots_adjust(left=0.2, right=0.9, bottom=0.2, top=0.9)\n",
    "plt.errorbar(sigmas, betas, yerr=betas_err, fmt='o', mec='none', color='black', ms=4)\n",
    "plt.plot(x_sample, beta_model(x_sample), '-', color='red')\n",
    "plt.xlim([-0.05,0.35])\n",
    "plt.show()"
   ]
  },
  {
   "cell_type": "code",
   "execution_count": 36,
   "metadata": {
    "collapsed": false
   },
   "outputs": [
    {
     "data": {
      "image/png": "[encoded data removed]",
      "text/plain": [
       "<matplotlib.figure.Figure at 0x116f50e10>"
      ]
     },
     "metadata": {},
     "output_type": "display_data"
    }
   ],
   "source": [
    "fig, axes = plt.subplots(nrows=4, ncols=1, sharex=True, figsize=(3.3, 10.0))\n",
    "fig.subplots_adjust(left=0.2, right=0.9, bottom=0.1, top=0.95, hspace=0.0)\n",
    "\n",
    "#top panel\n",
    "ax=axes[0]\n",
    "ax.errorbar(sigmas, y0s, yerr=y0s_err, fmt='o', mec='none', color='black', ms=4)\n",
    "ax.plot(x_sample, y0_model(x_sample), '-', color='red')\n",
    "ax.set_xlim([-0.05,0.35])\n",
    "\n",
    "#upper middle\n",
    "ax=axes[1]\n",
    "fig.subplots_adjust(left=0.2, right=0.9, bottom=0.2, top=0.9)\n",
    "ax.errorbar(sigmas, x0s, yerr=x0s_err, fmt='o', mec='none', color='black', ms=4)\n",
    "ax.plot(x_sample, x0_model(x_sample), '-', color='red')\n",
    "ax.set_xlim([-0.05,0.35])\n",
    "\n",
    "#lower middle\n",
    "ax=axes[2]\n",
    "fig.subplots_adjust(left=0.2, right=0.9, bottom=0.2, top=0.9)\n",
    "ax.errorbar(sigmas, alphas, yerr=alphas_err, fmt='o', mec='none', color='black', ms=4)\n",
    "ax.plot(x_sample, alpha_model(x_sample), '-', color='red')\n",
    "ax.set_xlim([-0.05,0.35])\n",
    "\n",
    "#bottom panel\n",
    "ax=axes[3]\n",
    "fig.subplots_adjust(left=0.2, right=0.9, bottom=0.2, top=0.9)\n",
    "ax.errorbar(sigmas, betas, yerr=betas_err, fmt='o', mec='none', color='black', ms=4)\n",
    "ax.plot(x_sample, beta_model(x_sample), '-', color='red')\n",
    "ax.set_xlim([-0.05,0.35])\n",
    "\n",
    "plt.show()"
   ]
  },
  {
   "cell_type": "code",
   "execution_count": 4,
   "metadata": {
    "collapsed": true
   },
   "outputs": [],
   "source": [
    "from SHAM_model_components import ParamSmHm\n",
    "smhm = ParamSmHm(prim_haloprop_key='halo_mpeak', scatter=0.0)"
   ]
  },
  {
   "cell_type": "code",
   "execution_count": 5,
   "metadata": {
    "collapsed": false
   },
   "outputs": [
    {
     "data": {
      "image/png": "[encoded data removed]",
      "text/plain": [
       "<matplotlib.figure.Figure at 0x11b61e790>"
      ]
     },
     "metadata": {},
     "output_type": "display_data"
    }
   ],
   "source": [
    "msample = np.logspace(10,15,100)\n",
    "\n",
    "plt.figure()\n",
    "plt.plot(msample, smhm.mean_stellar_mass(prim_haloprop=msample),'-', color='cyan')\n",
    "plt.xscale('log')\n",
    "plt.yscale('log')\n",
    "plt.show()\n"
   ]
  },
  {
   "cell_type": "code",
   "execution_count": null,
   "metadata": {
    "collapsed": true
   },
   "outputs": [],
   "source": []
  }
 ],
 "metadata": {
  "kernelspec": {
   "display_name": "Python 2",
   "language": "python",
   "name": "python2"
  },
  "language_info": {
   "codemirror_mode": {
    "name": "ipython",
    "version": 2
   },
   "file_extension": ".py",
   "mimetype": "text/x-python",
   "name": "python",
   "nbconvert_exporter": "python",
   "pygments_lexer": "ipython2",
   "version": "2.7.13"
  }
 },
 "nbformat": 4,
 "nbformat_minor": 0
}
