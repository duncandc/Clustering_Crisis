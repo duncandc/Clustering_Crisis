{
 "cells": [
  {
   "cell_type": "markdown",
   "metadata": {},
   "source": [
    "#Simulation Analysis"
   ]
  },
  {
   "cell_type": "code",
   "execution_count": 1,
   "metadata": {
    "collapsed": true
   },
   "outputs": [],
   "source": [
    "#add project directory to python path\n",
    "import sys\n",
    "sys.path.append(\"..\")\n",
    "#import standard packages\n",
    "import numpy as np\n",
    "import matplotlib.pyplot as plt\n",
    "from __future__ import print_function, division\n",
    "%matplotlib inline\n",
    "from default import PROJECT_DIRECTORY, DATA_DIRECTORY"
   ]
  },
  {
   "cell_type": "markdown",
   "metadata": {},
   "source": [
    "##Load Simulation"
   ]
  },
  {
   "cell_type": "code",
   "execution_count": 7,
   "metadata": {
    "collapsed": false
   },
   "outputs": [
    {
     "ename": "InvalidCacheLogEntry",
     "evalue": "The following input fname does not exist: \n\n/Volumes/burt/simulations/processed/Bolshoi/hlist_1.00035.list_custom.hdf5\n\n",
     "output_type": "error",
     "traceback": [
      "\u001b[0;31m---------------------------------------------------------------------------\u001b[0m",
      "\u001b[0;31mInvalidCacheLogEntry\u001b[0m                      Traceback (most recent call last)",
      "\u001b[0;32m<ipython-input-7-f959061d241e>\u001b[0m in \u001b[0;36m<module>\u001b[0;34m()\u001b[0m\n\u001b[1;32m      5\u001b[0m \u001b[0msimname\u001b[0m \u001b[0;34m=\u001b[0m \u001b[0;34m'bolshoi_250'\u001b[0m\u001b[0;34m\u001b[0m\u001b[0m\n\u001b[1;32m      6\u001b[0m halocat = sim_manager.CachedHaloCatalog(simname = simname, redshift=0.0, dz_tol=0.001,\n\u001b[0;32m----> 7\u001b[0;31m                                         version_name='custom', halo_finder='Rockstar')\n\u001b[0m\u001b[1;32m      8\u001b[0m \u001b[0mcosmo\u001b[0m \u001b[0;34m=\u001b[0m \u001b[0mFlatLambdaCDM\u001b[0m\u001b[0;34m(\u001b[0m\u001b[0mH0\u001b[0m\u001b[0;34m=\u001b[0m\u001b[0;36m70\u001b[0m\u001b[0;34m,\u001b[0m \u001b[0mOm0\u001b[0m\u001b[0;34m=\u001b[0m\u001b[0;36m0.27\u001b[0m\u001b[0;34m)\u001b[0m \u001b[0;31m#bolshoi cosmology\u001b[0m\u001b[0;34m\u001b[0m\u001b[0m\n\u001b[1;32m      9\u001b[0m \u001b[0;34m\u001b[0m\u001b[0m\n",
      "\u001b[0;32m/Users/duncan/Documents/halotools/halotools/sim_manager/cached_halo_catalog.pyc\u001b[0m in \u001b[0;36m__init__\u001b[0;34m(self, *args, **kwargs)\u001b[0m\n\u001b[1;32m    201\u001b[0m         \u001b[0mself\u001b[0m\u001b[0;34m.\u001b[0m\u001b[0mfname\u001b[0m \u001b[0;34m=\u001b[0m \u001b[0mself\u001b[0m\u001b[0;34m.\u001b[0m\u001b[0mlog_entry\u001b[0m\u001b[0;34m.\u001b[0m\u001b[0mfname\u001b[0m\u001b[0;34m\u001b[0m\u001b[0m\n\u001b[1;32m    202\u001b[0m \u001b[0;34m\u001b[0m\u001b[0m\n\u001b[0;32m--> 203\u001b[0;31m         \u001b[0mself\u001b[0m\u001b[0;34m.\u001b[0m\u001b[0m_bind_additional_metadata\u001b[0m\u001b[0;34m(\u001b[0m\u001b[0;34m)\u001b[0m\u001b[0;34m\u001b[0m\u001b[0m\n\u001b[0m\u001b[1;32m    204\u001b[0m \u001b[0;34m\u001b[0m\u001b[0m\n\u001b[1;32m    205\u001b[0m         \u001b[0;32mtry\u001b[0m\u001b[0;34m:\u001b[0m\u001b[0;34m\u001b[0m\u001b[0m\n",
      "\u001b[0;32m/Users/duncan/Documents/halotools/halotools/sim_manager/cached_halo_catalog.pyc\u001b[0m in \u001b[0;36m_bind_additional_metadata\u001b[0;34m(self)\u001b[0m\n\u001b[1;32m    565\u001b[0m             msg = (\"The following input fname does not exist: \\n\\n\" +\n\u001b[1;32m    566\u001b[0m                 self.log_entry.fname + \"\\n\\n\")\n\u001b[0;32m--> 567\u001b[0;31m             \u001b[0;32mraise\u001b[0m \u001b[0mInvalidCacheLogEntry\u001b[0m\u001b[0;34m(\u001b[0m\u001b[0mmsg\u001b[0m\u001b[0;34m)\u001b[0m\u001b[0;34m\u001b[0m\u001b[0m\n\u001b[0m\u001b[1;32m    568\u001b[0m \u001b[0;34m\u001b[0m\u001b[0m\n\u001b[1;32m    569\u001b[0m         \u001b[0mf\u001b[0m \u001b[0;34m=\u001b[0m \u001b[0mself\u001b[0m\u001b[0;34m.\u001b[0m\u001b[0mh5py\u001b[0m\u001b[0;34m.\u001b[0m\u001b[0mFile\u001b[0m\u001b[0;34m(\u001b[0m\u001b[0mself\u001b[0m\u001b[0;34m.\u001b[0m\u001b[0mlog_entry\u001b[0m\u001b[0;34m.\u001b[0m\u001b[0mfname\u001b[0m\u001b[0;34m)\u001b[0m\u001b[0;34m\u001b[0m\u001b[0m\n",
      "\u001b[0;31mInvalidCacheLogEntry\u001b[0m: The following input fname does not exist: \n\n/Volumes/burt/simulations/processed/Bolshoi/hlist_1.00035.list_custom.hdf5\n\n"
     ]
    }
   ],
   "source": [
    "from halotools import sim_manager\n",
    "from astropy.cosmology import FlatLambdaCDM\n",
    "\n",
    "#load halo catalogue to populate for mocks\n",
    "simname = 'bolshoi_250'\n",
    "halocat = sim_manager.CachedHaloCatalog(simname = simname, redshift=0.0, dz_tol=0.001,\n",
    "                                        version_name='custom', halo_finder='Rockstar')\n",
    "cosmo = FlatLambdaCDM(H0=70, Om0=0.27) #bolshoi cosmology\n",
    "\n",
    "print(halocat.halo_table.dtype.names)"
   ]
  },
  {
   "cell_type": "markdown",
   "metadata": {},
   "source": [
    "##Define SHAM Models"
   ]
  },
  {
   "cell_type": "code",
   "execution_count": 2,
   "metadata": {
    "collapsed": true
   },
   "outputs": [],
   "source": [
    "from halotools.empirical_models import SubhaloModelFactory\n",
    "from beyond_age_matching.make_mocks.model_components import Orphans, HaloProps\n",
    "\n",
    "#define galaxy selection\n",
    "def galaxy_selection_func(table):\n",
    "    mask = (table['stellar_mass'] >= 10**9.5)\n",
    "    return mask\n",
    "\n",
    "#carry over halo properties from the halo table\n",
    "additional_halo_properties = HaloProps(['halo_mpeak','halo_vpeak','halo_half_mass_scale','halo_acc_scale'])"
   ]
  },
  {
   "cell_type": "code",
   "execution_count": 7,
   "metadata": {
    "collapsed": false
   },
   "outputs": [],
   "source": [
    "from beyond_age_matching.make_mocks.model_components import MosterSmHm13G, Continued_Growth\n",
    "\n",
    "#build model\n",
    "prim_haloprop_key = 'extrap_halo_mpeak'\n",
    "mstar_model = MosterSmHm13G(prim_haloprop_key = prim_haloprop_key, redshift=0.0)\n",
    "mstar_model.param_dict['scatter_model_param1'] =  0.18\n",
    "growth_model = Continued_Growth(dt=4.0)\n",
    "composite_model = SubhaloModelFactory(stellar_mass = mstar_model,\n",
    "                                      galaxy_selection_func = galaxy_selection_func,\n",
    "                                      extrap_mass = growth_model,\n",
    "                                      model_feature_calling_sequence = (('extrap_mass', 'stellar_mass')))"
   ]
  },
  {
   "cell_type": "code",
   "execution_count": 3,
   "metadata": {
    "collapsed": true
   },
   "outputs": [],
   "source": [
    "from SMHM_model_components import Yang12SmHm, Bell_to_Blanton\n",
    "\n",
    "#build model\n",
    "prim_haloprop_key =  'halo_mpeak180b'\n",
    "mstar_model = Yang12SmHm(redshift=0.0, prim_haloprop_key=prim_haloprop_key)\n",
    "mstar_model.littleh = 1.0\n",
    "mstar_model._m_conv_factor = 1.0#1.1\n",
    "mstar_model._mstar_conv_factor = 0.7\n",
    "additional_halo_properties = HaloProps()\n",
    "mstar_conv = Bell_to_Blanton()\n",
    "composite_model_4 = SubhaloModelFactory(stellar_mass = mstar_model,\n",
    "                                        haloprops = additional_halo_properties,\n",
    "                                        galaxy_selection_func = galaxy_selection_func,\n",
    "                                        stellar_mass_conversion = mstar_conv,\n",
    "                                        model_feature_calling_sequence = ('haloprops','stellar_mass','stellar_mass_conversion'))\n",
    "composite_model_4.param_dict['scatter_model_param1'] =  0.173\n",
    "composite_model_4.param_dict['c'] =  1.0 #consistent with confidence interval"
   ]
  },
  {
   "cell_type": "code",
   "execution_count": 6,
   "metadata": {
    "collapsed": false
   },
   "outputs": [
    {
     "ename": "NameError",
     "evalue": "name 'halocat' is not defined",
     "output_type": "error",
     "traceback": [
      "\u001b[0;31m---------------------------------------------------------------------------\u001b[0m",
      "\u001b[0;31mNameError\u001b[0m                                 Traceback (most recent call last)",
      "\u001b[0;32m<ipython-input-6-bf763b94f369>\u001b[0m in \u001b[0;36m<module>\u001b[0;34m()\u001b[0m\n\u001b[1;32m      1\u001b[0m \u001b[0;31m#no growth model\u001b[0m\u001b[0;34m\u001b[0m\u001b[0;34m\u001b[0m\u001b[0m\n\u001b[1;32m      2\u001b[0m \u001b[0mcomposite_model\u001b[0m\u001b[0;34m.\u001b[0m\u001b[0mparam_dict\u001b[0m\u001b[0;34m[\u001b[0m\u001b[0;34m'extrap_dt'\u001b[0m\u001b[0;34m]\u001b[0m\u001b[0;34m=\u001b[0m\u001b[0;36m0.0\u001b[0m\u001b[0;34m\u001b[0m\u001b[0m\n\u001b[0;32m----> 3\u001b[0;31m \u001b[0mcomposite_model\u001b[0m\u001b[0;34m.\u001b[0m\u001b[0mpopulate_mock\u001b[0m\u001b[0;34m(\u001b[0m\u001b[0mhalocat\u001b[0m \u001b[0;34m=\u001b[0m \u001b[0mhalocat\u001b[0m\u001b[0;34m)\u001b[0m\u001b[0;34m\u001b[0m\u001b[0m\n\u001b[0m\u001b[1;32m      4\u001b[0m \u001b[0mmock_a\u001b[0m \u001b[0;34m=\u001b[0m \u001b[0mcomposite_model\u001b[0m\u001b[0;34m.\u001b[0m\u001b[0mmock\u001b[0m\u001b[0;34m.\u001b[0m\u001b[0mgalaxy_table\u001b[0m\u001b[0;34m\u001b[0m\u001b[0m\n\u001b[1;32m      5\u001b[0m \u001b[0;34m\u001b[0m\u001b[0m\n",
      "\u001b[0;31mNameError\u001b[0m: name 'halocat' is not defined"
     ]
    }
   ],
   "source": [
    "#no growth model\n",
    "composite_model.param_dict['extrap_dt']=0.0\n",
    "composite_model.populate_mock(halocat = halocat)\n",
    "mock_a = composite_model.mock.galaxy_table\n",
    "\n",
    "print(\"number of galaxies in mock: \", len(mock_a))\n",
    "f_sat = float(np.sum(mock_a['halo_upid']!=-1))/len(mock_a)\n",
    "print(\"satellite fraction: \", f_sat)\n",
    "\n",
    "\n",
    "#4 Gyr growth model\n",
    "composite_model.param_dict['extrap_dt']=4.0\n",
    "composite_model.populate_mock(halocat = halocat)\n",
    "mock_b = composite_model.mock.galaxy_table\n",
    "\n",
    "print(\"number of galaxies in mock: \", len(mock_b))\n",
    "f_sat = float(np.sum(mock_b['halo_upid']!=-1))/len(mock_b)\n",
    "print(\"satellite fraction: \", f_sat)\n",
    "\n",
    "\n",
    "#14 Gyr growth model\n",
    "composite_model.param_dict['extrap_dt']=14.0\n",
    "composite_model.populate_mock(halocat = halocat)\n",
    "mock_c = composite_model.mock.galaxy_table\n",
    "\n",
    "print(\"number of galaxies in mock: \", len(mock_c))\n",
    "f_sat = float(np.sum(mock_c['halo_upid']!=-1))/len(mock_c)\n",
    "print(\"satellite fraction: \", f_sat)"
   ]
  },
  {
   "cell_type": "markdown",
   "metadata": {},
   "source": [
    "##Satellite Growth Model"
   ]
  },
  {
   "cell_type": "code",
   "execution_count": 39,
   "metadata": {
    "collapsed": false
   },
   "outputs": [
    {
     "data": {
      "image/png": "[encoded data removed]",
      "text/plain": [
       "<matplotlib.figure.Figure at 0x11b967710>"
      ]
     },
     "metadata": {},
     "output_type": "display_data"
    }
   ],
   "source": [
    "from beyond_age_matching.make_mocks.model_components import PWGH, MAH\n",
    "\n",
    "def find_nearest(array,value):\n",
    "    idx = (np.abs(array-value)).argmin()\n",
    "    return idx\n",
    "\n",
    "p = MAH()\n",
    "mhalo_history, z_halo = p.mah(10**11.0, 1.0)\n",
    "\n",
    "z_galaxy = z_halo\n",
    "a_galaxy = 1.0/(1.0+z_galaxy)\n",
    "mstar_history = composite_model.mean_stellar_mass(prim_haloprop = 10**mhalo_history,\n",
    "                                                  halo_acc_scale=a_galaxy, extrap_scale=a_galaxy)\n",
    "\n",
    "mask = z_halo < 1.0\n",
    "i = find_nearest(z_halo,1.0)\n",
    "\n",
    "msub_history = np.copy(mhalo_history)\n",
    "msub_history[0][mask] = mhalo_history[0][i]\n",
    "msat_history_1 = np.copy(mstar_history)\n",
    "msat_history_1[0][mask] = mstar_history[0][i]\n",
    "\n",
    "mask = z_halo < 0.342\n",
    "i = find_nearest(z_halo,0.342)\n",
    "msat_history_2 = np.copy(mstar_history)\n",
    "msat_history_2[0][mask] = mstar_history[0][i]\n",
    "\n",
    "fig, ax = plt.subplots(nrows=1,ncols=1, figsize=(3.3, 3.3))\n",
    "fig.subplots_adjust(left=0.2, right=0.9, bottom=0.2, top=0.9)\n",
    "#host-halo\n",
    "p1, = plt.plot(1+z_halo, 10**mhalo_history[0]/10**mhalo_history[0][0], color='black')\n",
    "#sub-halo\n",
    "p2, = plt.plot(1+z_halo, 10**msub_history[0]/10**mhalo_history[0][0], '--', color='black')\n",
    "#satellite growth histories\n",
    "p0, = plt.plot(1+z_halo, msat_history_1[0]/mcen_history[0][0], '-',color='white', alpha=0.0) #dummy\n",
    "p3, = plt.plot(1+z_halo, mstar_history[0]/mstar_history[0][0], color='#6666ff')\n",
    "p4, = plt.plot(1+z_halo, msat_history_1[0]/mstar_history[0][0], '--',color='#6666ff')\n",
    "p5, = plt.plot(1+z_halo, msat_history_2[0]/mstar_history[0][0], ':',color='#6666ff')\n",
    "plt.text(2.22,0.85,r'$z_{\\rm acc}$', fontsize=10)\n",
    "plt.arrow(2,0.825,dx=0.0,dy=-0.1, head_width=0.1, head_length=0.05, lw=0.5, color='black')\n",
    "plt.plot([1+1.0,1+0.342],[0.4,0.4],'-',color='black')\n",
    "plt.plot([1+1.0,1+1.0],[0.4-0.025,0.4+0.025],'-',color='black')\n",
    "plt.plot([1+0.342,1+0.342],[0.4-0.025,0.4+0.025],'-',color='black')\n",
    "plt.text(1+0.7,0.43,r'$\\Delta t_{q}$')\n",
    "plt.xlim([6,1])\n",
    "plt.ylim([0,1.5])\n",
    "plt.xscale('log')\n",
    "plt.xlabel('z')\n",
    "plt.xticks([6, 5, 4, 3, 2, 1])\n",
    "ax.set_xticklabels(['5','4','3','2','1','0'])\n",
    "\n",
    "#legend\n",
    "plt.legend((p1,p2, p3, p0, p4, p5),('host-halo','sub-halo', 'central','', r'$\\Delta t_{q}=0$',r'$\\Delta t_{q}=4$'),\n",
    "           fontsize=10, loc='upper left', frameon=False)\n",
    "plt.ylabel(r'$\\langle M/M(z=0) \\rangle_{\\rm med}$')\n",
    "plt.text(4.6, 0.975, 'satellite', fontsize=10)\n",
    "plt.title('continued sat. growth model')\n",
    "plt.show()\n",
    "\n",
    "filepath = PROJECT_DIRECTORY + 'figures/'\n",
    "filename = 'sat_growth_model_1'\n",
    "fig.savefig(filepath+filename+'.pdf', dpi=300)"
   ]
  },
  {
   "cell_type": "code",
   "execution_count": 5,
   "metadata": {
    "collapsed": false
   },
   "outputs": [
    {
     "name": "stderr",
     "output_type": "stream",
     "text": [
      "../SMHM_model_components.py:487: RuntimeWarning: overflow encountered in power\n",
      "  numerator = (mass/m1)**(alpha+beta)\n",
      "../SMHM_model_components.py:488: RuntimeWarning: overflow encountered in power\n",
      "  denominator = (1.0+mass/m1)**beta\n",
      "../SMHM_model_components.py:508: RuntimeWarning: overflow encountered in power\n",
      "  numerator = (mass/m1)**(alpha+beta)\n",
      "../SMHM_model_components.py:509: RuntimeWarning: overflow encountered in power\n",
      "  denominator = (1.0+mass/m1)**beta\n"
     ]
    },
    {
     "data": {
      "image/png": "[encoded data removed]",
      "text/plain": [
       "<matplotlib.figure.Figure at 0x120477d90>"
      ]
     },
     "metadata": {},
     "output_type": "display_data"
    }
   ],
   "source": [
    "from beyond_age_matching.make_mocks.model_components import PWGH, MAH\n",
    "\n",
    "def find_nearest(array,value):\n",
    "    idx = (np.abs(array-value)).argmin()\n",
    "    return idx\n",
    "\n",
    "#get two halo growth histories\n",
    "p = MAH()\n",
    "mhalo_history_1, z_halo = p.mah(10**11.0, 0.0)\n",
    "mhalo_history_2, z_halo = p.mah(10**11.0, 1.0)\n",
    "mhalo_history_1 = np.log10(10**mhalo_history_1*1.0)\n",
    "mhalo_history_2 = np.log10(10**mhalo_history_2*0.96)\n",
    "\n",
    "#cut off sub-halo growth\n",
    "mask = (z_halo < 1.0)\n",
    "i = find_nearest(z_halo,1.0)\n",
    "\n",
    "msub_history = np.copy(mhalo_history_2)\n",
    "msub_history[0][mask] = msub_history[0][i]\n",
    "\n",
    "z_galaxy = z_halo\n",
    "a_galaxy = 1.0/(1.0+z_galaxy)\n",
    "a_sat = a_galaxy\n",
    "a_sat[mask==True] = 1.0/(1.0+1.0)\n",
    "\n",
    "mcen_history = composite_model_4.mean_stellar_mass(prim_haloprop = 10**mhalo_history_1,\n",
    "                                                   halo_acc_scale = a_galaxy, redshift=z_galaxy)\n",
    "composite_model_4.param_dict['c'] =  0.0\n",
    "msat_history_1 = composite_model_4.mean_stellar_mass(prim_haloprop = 10**msub_history,\n",
    "                                                     halo_acc_scale = a_sat, redshift=z_galaxy)\n",
    "composite_model_4.param_dict['c'] =  0.5\n",
    "msat_history_2 = composite_model_4.mean_stellar_mass(prim_haloprop = 10**msub_history,\n",
    "                                                     halo_acc_scale = a_sat, redshift=z_galaxy)\n",
    "composite_model_4.param_dict['c'] =  1.0\n",
    "msat_history_3 = composite_model_4.mean_stellar_mass(prim_haloprop = 10**msub_history,\n",
    "                                                     halo_acc_scale = a_sat, redshift=z_galaxy)\n",
    "\n",
    "fig, ax = plt.subplots(nrows=1,ncols=1, figsize=(3.3, 3.3))\n",
    "fig.subplots_adjust(left=0.2, right=0.9, bottom=0.2, top=0.9)\n",
    "#host halo growth\n",
    "p1, = plt.plot(1+z_halo, 10**mhalo_history_1[0]/10**mhalo_history_1[0][0], color='black')\n",
    "#sub-halo growth\n",
    "p2, = plt.plot(1+z_halo, 10**msub_history[0]/10**mhalo_history_1[0][0], '--', color='black')\n",
    "#central galaxy growth\n",
    "p3, = plt.plot(1+z_halo, mcen_history[0]/mcen_history[0][0], color='#6666ff')\n",
    "#satellite growth models\n",
    "p0, = plt.plot(1+z_halo, msat_history_1[0]/mcen_history[0][0], '-',color='white', alpha=0.0) #dummy\n",
    "p4, = plt.plot(1+z_halo, msat_history_1[0]/mcen_history[0][0], '--',color='#6666ff')\n",
    "p5, = plt.plot(1+z_halo, msat_history_2[0]/mcen_history[0][0], '-.',color='#6666ff')\n",
    "p6, = plt.plot(1+z_halo, msat_history_3[0]/mcen_history[0][0], ':',color='#6666ff')\n",
    "\n",
    "#accretion redshift label\n",
    "plt.text(2.22,0.85+0.425,r'$z_{\\rm acc}$', fontsize=10)\n",
    "plt.arrow(2,0.825+0.425,dx=0.0,dy=-0.1, head_width=0.1, head_length=0.05, lw=0.5, color='black')\n",
    "plt.xlim([6,1])\n",
    "plt.ylim([0,1.5])\n",
    "plt.xscale('log')\n",
    "plt.xlabel('z')\n",
    "plt.ylabel(r'$\\langle M/M(z=0) \\rangle_{\\rm med}$')\n",
    "plt.xticks([6, 5, 4, 3, 2, 1])\n",
    "ax.set_xticklabels(['5','4','3','2','1','0'])\n",
    "\n",
    "#add legends\n",
    "#plt.legend((p1,p2,p3,p0,p4,p5,p6),\n",
    "#           ('host-halo','sub-halo','central','','c=0.0','c=0.5','c=1.0'),\n",
    "#            frameon = False, fontsize=10, loc='upper left', handlelength=2.5)\n",
    "plt.legend((p0,p4,p5,p6),\n",
    "           ('','c=0.0','c=0.5','c=1.0'),\n",
    "            frameon = False, fontsize=10, loc='upper left', handlelength=2.5)\n",
    "#plt.text(4.6, 0.975, 'satellite', fontsize=10)\n",
    "plt.text(4.6, 0.975+0.38, 'satellite', fontsize=10)\n",
    "plt.title('Y12 sat. growth model')\n",
    "plt.show()\n",
    "\n",
    "filepath = PROJECT_DIRECTORY + 'figures/'\n",
    "filename = 'sat_growth_model_2'\n",
    "fig.savefig(filepath+filename+'.pdf', dpi=300)"
   ]
  },
  {
   "cell_type": "code",
   "execution_count": 14,
   "metadata": {
    "collapsed": false
   },
   "outputs": [
    {
     "data": {
      "image/png": "[encoded data removed]",
      "text/plain": [
       "<matplotlib.figure.Figure at 0x11ee584d0>"
      ]
     },
     "metadata": {},
     "output_type": "display_data"
    }
   ],
   "source": [
    "#combine plots\n",
    "\n",
    "#get four halo growth histories\n",
    "p = MAH()\n",
    "mhalo_history_1, z_halo = p.mah(10**11.0, 0.0)\n",
    "mhalo_history_2, z_halo = p.mah(10**11.0, 1.0)\n",
    "mhalo_history_1 = np.log10(10**mhalo_history_1*1.0)\n",
    "mhalo_history_2 = np.log10(10**mhalo_history_2*0.96)\n",
    "z = z_halo\n",
    "a = 1.0/(1.0+z)\n",
    "\n",
    "#host halo history\n",
    "mhost_history_1 = mhalo_history_2\n",
    "\n",
    "#subhistory 1\n",
    "mask = (z < 1.0)\n",
    "i = find_nearest(z,1.0)\n",
    "msub_history_1_1 = np.copy(mhalo_history_2)\n",
    "msub_history_1_1[0][mask] = msub_history_1_1[0][i]\n",
    "z_sat_1_1 = np.copy(z)\n",
    "z_sat_1_1[mask] = z_sat_1_1[i]\n",
    "a_sat_1_1 = 1.0/(1.0+z_sat_1_1)\n",
    "\n",
    "#subhistory 2\n",
    "mask = (z < 0.342)\n",
    "i = find_nearest(z,0.342)\n",
    "msub_history_1_2 = np.copy(mhalo_history_2)\n",
    "msub_history_1_2[0][mask] = msub_history_1_2[0][i]\n",
    "z_sat_1_2 = np.copy(z)\n",
    "z_sat_1_2[mask] = z_sat_1_2[i]\n",
    "a_sat_1_2 = 1.0/(1.0+z_sat_1_2)\n",
    "\n",
    "mask = (z < 1.0)\n",
    "i = find_nearest(z,1.0)\n",
    "mhost_history_2 = mhalo_history_1\n",
    "msub_history_2 = np.copy(mhalo_history_2)\n",
    "msub_history_2[0][mask] = msub_history_2[0][i]\n",
    "z_sat_2_1 = np.copy(z)\n",
    "z_sat_2_1[mask] = z_sat_2_1[i]\n",
    "a_sat_2_1 = 1.0/(1.0+z_sat_2_1)\n",
    "\n",
    "\n",
    "\n",
    "#M13 w/ sat growth\n",
    "mcen_history_1 = composite_model.mean_stellar_mass(prim_haloprop = 10**mhost_history_1,\n",
    "                                                   halo_acc_scale = a, redshift=z,  extrap_scale=a)\n",
    "msat_history_1_1 = composite_model.mean_stellar_mass(prim_haloprop = 10**msub_history_1_1,\n",
    "                                                     halo_acc_scale = a_sat_1_1, redshift=1.0/a_sat_1_1-1, extrap_scale=a_sat_1_1)\n",
    "msat_history_1_2 = composite_model.mean_stellar_mass(prim_haloprop = 10**msub_history_1_2,\n",
    "                                                     halo_acc_scale = a_sat_1_2, redshift=1.0/a_sat_1_2-1, extrap_scale=a_sat_1_2)\n",
    "\n",
    "\n",
    "#Y12 growth histories\n",
    "mcen_history_2 = composite_model_4.mean_stellar_mass(prim_haloprop = 10**mhost_history_2,\n",
    "                                                     halo_acc_scale = a, redshift=z_galaxy)\n",
    "composite_model_4.param_dict['c'] =  0.0\n",
    "msat_history_2_1 = composite_model_4.mean_stellar_mass(prim_haloprop = 10**msub_history_2,\n",
    "                                                       halo_acc_scale = a_sat_2_1, redshift=z)\n",
    "composite_model_4.param_dict['c'] =  0.5\n",
    "msat_history_2_2 = composite_model_4.mean_stellar_mass(prim_haloprop = 10**msub_history_2,\n",
    "                                                       halo_acc_scale = a_sat_2_1, redshift=z)\n",
    "composite_model_4.param_dict['c'] =  1.0\n",
    "msat_history_2_3 = composite_model_4.mean_stellar_mass(prim_haloprop = 10**msub_history_2,\n",
    "                                                       halo_acc_scale = a_sat_2_1, redshift=z)\n",
    "\n",
    "\n",
    "\n",
    "fig, axes = plt.subplots(nrows=2, ncols=1, sharex=True, figsize=(3.3, 6.2))\n",
    "fig.subplots_adjust(left=0.2, right=0.9, bottom=0.1, top=0.9, hspace=0.15)\n",
    "\n",
    "#top panel\n",
    "ax = axes[0]\n",
    "#host-halo\n",
    "p1, = ax.plot(1+z_halo, 10**mhost_history_1[0]/10**mhost_history_1[0][0], color='black', lw=1.5)\n",
    "#sub-halo\n",
    "p2, = ax.plot(1+z_halo, 10**msub_history_1_1[0]/10**mhost_history_1[0][0], '--', color='black', lw=1.5)\n",
    "#central growth histories\n",
    "p3, = ax.plot(1+z_halo, mcen_history_1[0]/mcen_history_1[0][0], color='#6666ff')\n",
    "#satellite growth histories\n",
    "p0, = ax.plot((1+z_halo), msat_history_1[0]/mcen_history_1[0][0], '-',color='white', alpha=0.0) #dummy\n",
    "p4, = ax.plot((1+z_halo), msat_history_1_1[0]/mcen_history_1[0][0]*1.07, '--',color='#6666ff')\n",
    "p5, = ax.plot((1+z_halo), msat_history_1_2[0]/mcen_history_1[0][0]*0.95, ':',color='#6666ff')\n",
    "ax.text(2.22,0.85,r'$z_{\\rm acc}$', fontsize=10)\n",
    "ax.arrow(2,0.825,dx=0.0,dy=-0.1, head_width=0.1, head_length=0.05, lw=0.5, color='black')\n",
    "ax.plot([1+1.0,1+0.342],[0.4,0.4],'-',color='black')\n",
    "ax.plot([1+1.0,1+1.0],[0.4-0.025,0.4+0.025],'-',color='black')\n",
    "ax.plot([1+0.342,1+0.342],[0.4-0.025,0.4+0.025],'-',color='black')\n",
    "ax.text(1+0.7,0.43,r'$\\Delta t_{q}$')\n",
    "ax.set_xlim([6,1])\n",
    "ax.set_ylim([0,1.3])\n",
    "ax.set_xscale('log')\n",
    "#ax.set_xlabel('z')\n",
    "ax.set_xticks([6, 5, 4, 3, 2, 1])\n",
    "ax.set_xticklabels(['5','4','3','2','1','0'])\n",
    "\n",
    "#legend\n",
    "ax.legend((p1,p2, p3, p0, p4, p5),('host-halo','sub-halo', 'central','', r'$\\Delta t_{q}=0$',r'$\\Delta t_{q}=4$'),\n",
    "           fontsize=10, loc='upper left', frameon=False)\n",
    "ax.set_ylabel(r'$\\langle M/M(z=0) \\rangle_{\\rm med}$')\n",
    "ax.text(4.6, 0.975-0.125, 'satellite', fontsize=10)\n",
    "ax.set_title('continued sat. growth model')\n",
    "\n",
    "#bottom panel\n",
    "ax=axes[1]\n",
    "#host halo growth\n",
    "p1, = ax.plot(1+z, 10**mhost_history_2[0]/10**mhost_history_2[0][0], color='black', lw=1.5)\n",
    "#sub-halo growth\n",
    "p2, = ax.plot(1+z, 10**msub_history_2[0]/10**mhost_history_2[0][0], '--', color='black', lw=1.5)\n",
    "#central galaxy growth\n",
    "p3, = ax.plot(1+z, mcen_history_2[0]/mcen_history_2[0][0], color='#6666ff')\n",
    "#satellite growth models\n",
    "p0, = ax.plot(1+z, msat_history_2_1[0]/mcen_history_2[0][0], '-',color='white', alpha=0.0) #dummy\n",
    "p4, = ax.plot(1+z, msat_history_2_1[0]/mcen_history_2[0][0], '--',color='#6666ff')\n",
    "p5, = ax.plot(1+z, msat_history_2_2[0]/mcen_history_2[0][0], '-.',color='#6666ff')\n",
    "p6, = ax.plot(1+z, msat_history_2_3[0]/mcen_history_2[0][0], ':',color='#6666ff')\n",
    "\n",
    "#accretion redshift label\n",
    "ax.text(2.22,0.85+0.35,r'$z_{\\rm acc}$', fontsize=10)\n",
    "ax.arrow(2,0.825+0.35,dx=0.0,dy=-0.1, head_width=0.1, head_length=0.05, lw=0.5, color='black')\n",
    "ax.set_xlim([6,1])\n",
    "ax.set_ylim([0,1.3])\n",
    "ax.set_xscale('log')\n",
    "ax.set_xlabel('z')\n",
    "ax.set_ylabel(r'$\\langle M/M(z=0) \\rangle_{\\rm med}$')\n",
    "ax.set_xticks([6, 5, 4, 3, 2, 1])\n",
    "ax.set_xticklabels(['5','4','3','2','1','0'])\n",
    "\n",
    "#add legends\n",
    "#plt.legend((p1,p2,p3,p0,p4,p5,p6),\n",
    "#           ('host-halo','sub-halo','central','','c=0.0','c=0.5','c=1.0'),\n",
    "#            frameon = False, fontsize=10, loc='upper left', handlelength=2.5)\n",
    "ax.legend((p0,p4,p5,p6),\n",
    "           ('','c=0.0','c=0.5','c=1.0'),\n",
    "            frameon = False, fontsize=10, loc='upper left', handlelength=2.5)\n",
    "#plt.text(4.6, 0.975, 'satellite', fontsize=10)\n",
    "ax.text(4.6, 0.975+0.2, 'satellite', fontsize=10)\n",
    "ax.set_title('Y12 sat. growth model')\n",
    "\n",
    "plt.show()\n",
    "\n",
    "filepath = PROJECT_DIRECTORY + 'figures/'\n",
    "filename = 'sat_growth_model_2_panel'\n",
    "fig.savefig(filepath+filename+'.pdf', dpi=300)"
   ]
  },
  {
   "cell_type": "markdown",
   "metadata": {},
   "source": [
    "##z=0 Galaxy Clustering"
   ]
  },
  {
   "cell_type": "code",
   "execution_count": 19,
   "metadata": {
    "collapsed": true
   },
   "outputs": [],
   "source": [
    "#set up function to calculate projected correlation function\n",
    "#in stellar mass bins after placing mock in redshift-space.\n",
    "\n",
    "from halotools.mock_observables import wp, return_xyz_formatted_array\n",
    "\n",
    "def calculate_wp(mock, rp_bins,\n",
    "                 log_mstar_min=10.0, log_mstar_max =10.5,\n",
    "                 pi_max=40.0, Lbox=250.0):\n",
    "    \"\"\"\n",
    "    Calculate the projected correaltion function\n",
    "    \"\"\"\n",
    "    \n",
    "    #number of threads to use in wp calculation\n",
    "    num_threads = 4\n",
    "    \n",
    "    #create mask for stellar mass bin\n",
    "    mask = (mock['stellar_mass']<10.0**log_mstar_max) &\\\n",
    "           (mock['stellar_mass']>10.0**log_mstar_min)\n",
    "    \n",
    "    #put galaxy coordinates in mock observables format\n",
    "    #and apply redshift space distortions\n",
    "    coords = return_xyz_formatted_array(mock['x'], mock['y'], mock['z'],\n",
    "                                        velocity = mock['vz'],\n",
    "                                        velocity_distortion_dimension = 'z',\n",
    "                                        period = Lbox)\n",
    "    \n",
    "    #apply mask for stellar mass bin\n",
    "    coords = coords[mask]\n",
    "    \n",
    "    result = wp(coords,\n",
    "                rp_bins = rp_bins, pi_max = pi_max,\n",
    "                period = Lbox,\n",
    "                do_auto = True, do_cross = False,\n",
    "                estimator = 'Natural', \n",
    "                num_threads = num_threads,\n",
    "                max_sample_size = int(1e7))\n",
    "        \n",
    "    return result"
   ]
  },
  {
   "cell_type": "code",
   "execution_count": 20,
   "metadata": {
    "collapsed": true
   },
   "outputs": [],
   "source": [
    "#calculate wp for each model in stellar mass bins\n",
    "\n",
    "#define rp bins\n",
    "rp_bins = np.logspace(-2.0,1.4,25)\n",
    "rp_bin_centers = (rp_bins[:-1]+rp_bins[1:])/2.0\n",
    "\n",
    "#create arrays to store results for each mock\n",
    "wp_a = np.zeros((3,24))\n",
    "wp_b = np.zeros((3,24))\n",
    "wp_c = np.zeros((3,24))\n",
    "\n",
    "wp_a[0] = calculate_wp(mock_a, rp_bins, pi_max=40.0, Lbox=halocat.Lbox,\n",
    "                       log_mstar_min=9.5, log_mstar_max =10.0)\n",
    "wp_b[0] = calculate_wp(mock_b, rp_bins, pi_max=40.0, Lbox=halocat.Lbox,\n",
    "                       log_mstar_min=9.5, log_mstar_max =10.0)\n",
    "wp_c[0] = calculate_wp(mock_c, rp_bins, pi_max=40.0, Lbox=halocat.Lbox,\n",
    "                       log_mstar_min=9.5, log_mstar_max =10.0)\n",
    "\n",
    "wp_a[1] = calculate_wp(mock_a, rp_bins, pi_max=40.0, Lbox=halocat.Lbox,\n",
    "                       log_mstar_min=10.0, log_mstar_max =10.5)\n",
    "wp_b[1] = calculate_wp(mock_b, rp_bins, pi_max=40.0, Lbox=halocat.Lbox,\n",
    "                       log_mstar_min=10.0, log_mstar_max =10.5)\n",
    "wp_c[1] = calculate_wp(mock_c, rp_bins, pi_max=40.0, Lbox=halocat.Lbox,\n",
    "                       log_mstar_min=10.0, log_mstar_max =10.5)\n",
    "\n",
    "wp_a[2] = calculate_wp(mock_a, rp_bins, pi_max=40.0, Lbox=halocat.Lbox,\n",
    "                       log_mstar_min=10.5, log_mstar_max =11.0)\n",
    "wp_b[2] = calculate_wp(mock_b, rp_bins, pi_max=40.0, Lbox=halocat.Lbox,\n",
    "                       log_mstar_min=10.5, log_mstar_max =11.0)\n",
    "wp_c[2] = calculate_wp(mock_c, rp_bins, pi_max=40.0, Lbox=halocat.Lbox,\n",
    "                       log_mstar_min=10.5, log_mstar_max =11.0)"
   ]
  },
  {
   "cell_type": "code",
   "execution_count": 21,
   "metadata": {
    "collapsed": true
   },
   "outputs": [],
   "source": [
    "#load SDSS results from Yang 2012\n",
    "from lss_observations import yang_2012_wp\n",
    "\n",
    "#create arrays to store results\n",
    "\n",
    "wp_sdss_1, cov = yang_2012_wp(10.0**9.5,10.0**10.0, sample='Mass-limit')\n",
    "err_1 = np.sqrt(np.diagonal(cov))\n",
    "\n",
    "wp_sdss_2, cov = yang_2012_wp(10.0**10.0,10.0**10.5, sample='Mass-limit')\n",
    "err_2 = np.sqrt(np.diagonal(cov))\n",
    "\n",
    "wp_sdss_3, cov = yang_2012_wp(10.0**10.5,10.0**11.0, sample='Mass-limit')\n",
    "err_3 = np.sqrt(np.diagonal(cov))\n",
    "\n",
    "#create intterpolation function\n",
    "from scipy.interpolate import interp1d\n",
    "f_w_1 = interp1d(wp_sdss_1[0,:],wp_sdss_1[1,:], fill_value=\"extrapolate\")\n",
    "f_err_1 = interp1d(wp_sdss_1[0,:],err_1, fill_value=\"extrapolate\")\n",
    "f_w_2 = interp1d(wp_sdss_2[0,:],wp_sdss_2[1,:], fill_value=\"extrapolate\")\n",
    "f_err_2 = interp1d(wp_sdss_2[0,:],err_2, fill_value=\"extrapolate\")\n",
    "f_w_3 = interp1d(wp_sdss_3[0,:],wp_sdss_3[1,:], fill_value=\"extrapolate\")\n",
    "f_err_3 = interp1d(wp_sdss_3[0,:],err_3, fill_value=\"extrapolate\")"
   ]
  },
  {
   "cell_type": "code",
   "execution_count": 29,
   "metadata": {
    "collapsed": false
   },
   "outputs": [
    {
     "data": {
      "image/png": "[encoded data removed]",
      "text/plain": [
       "<matplotlib.figure.Figure at 0x116125710>"
      ]
     },
     "metadata": {},
     "output_type": "display_data"
    }
   ],
   "source": [
    "fig, axes = plt.subplots(nrows=1,ncols=3,sharex=True,sharey=True,figsize=(6.95, 2.75))\n",
    "fig.subplots_adjust(hspace=0, wspace=0.05, left=0.075, right=0.975, bottom=0.2, top=0.9)\n",
    "    \n",
    "ax = axes[0]\n",
    "ax.set_xlim([0.1,20])\n",
    "ax.set_ylim([10,300])\n",
    "ax.set_yscale('log')\n",
    "ax.set_xscale('log')\n",
    "ax.set_ylabel(r'$w_p(r_p)\\times r_p ~ [h^{-2}{\\rm Mpc}^2]$')\n",
    "ax.set_xlabel(r'$r_p~[h^{-1}{\\rm Mpc}]$')\n",
    "ax.set_title(r'$9.5<\\log(M_{*}/h^{-2}M_{\\odot})<10.0$')\n",
    "    \n",
    "ax = axes[1]\n",
    "ax.set_xlim([0.1,20])\n",
    "ax.set_ylim([10,300])\n",
    "ax.set_yscale('log')\n",
    "ax.set_xscale('log')\n",
    "ax.set_xlabel(r'$r_p~[h^{-1}{\\rm Mpc}]$')\n",
    "ax.set_title(r'$10.0<\\log(M_{*}/h^{-2}M_{\\odot})<10.5$')\n",
    "    \n",
    "ax = axes[2]\n",
    "ax.set_xlim([0.1,20])\n",
    "ax.set_ylim([10,300])\n",
    "ax.set_yscale('log')\n",
    "ax.set_xscale('log')\n",
    "ax.set_xlabel(r'$r_p~[h^{-1}{\\rm Mpc}]$')\n",
    "ax.set_title(r'$10.5<\\log(M_{*}/h^{-2}M_{\\odot})<11.0$')\n",
    "\n",
    "ax = axes[0]\n",
    "p1, = ax.plot(rp_bin_centers, wp_a[0]*rp_bin_centers, '-', color='black', alpha=1)\n",
    "p2, = ax.plot(rp_bin_centers, wp_b[0]*rp_bin_centers, '--', color='purple', alpha=1)\n",
    "p3, = ax.plot(rp_bin_centers, wp_c[0]*rp_bin_centers, '--', color='red', alpha=1)\n",
    "p0 = ax.errorbar(wp_sdss_1[0,:], wp_sdss_1[1,:]*wp_sdss_1[0,:], yerr=err_1*wp_sdss_1[0,:],\n",
    "                  fmt='o', color='black', ms=4, mec='none')\n",
    "\n",
    "ax = axes[1]\n",
    "p1, = ax.plot(rp_bin_centers, wp_a[1]*rp_bin_centers, '-', color='black', alpha=1)\n",
    "p2, = ax.plot(rp_bin_centers, wp_b[1]*rp_bin_centers, '--', color='purple', alpha=1)\n",
    "p3, = ax.plot(rp_bin_centers, wp_c[1]*rp_bin_centers, '--', color='red', alpha=1)\n",
    "p0 = ax.errorbar(wp_sdss_2[0,:], wp_sdss_2[1,:]*wp_sdss_2[0,:], yerr=err_2*wp_sdss_2[0,:],\n",
    "                  fmt='o', color='black', ms=4, mec='none')\n",
    "\n",
    "ax = axes[2]\n",
    "p1, = ax.plot(rp_bin_centers, wp_a[2]*rp_bin_centers, '-', color='black', alpha=1)\n",
    "p2, = ax.plot(rp_bin_centers, wp_b[2]*rp_bin_centers, '--', color='purple', alpha=1)\n",
    "p3, = ax.plot(rp_bin_centers, wp_c[2]*rp_bin_centers, '--', color='red', alpha=1)\n",
    "p0 = ax.errorbar(wp_sdss_3[0,:], wp_sdss_3[1,:]*wp_sdss_3[0,:], yerr=err_3*wp_sdss_3[0,:],\n",
    "                  fmt='o', color='black', ms=4, mec='none')\n",
    "\n",
    "#add legends\n",
    "ax = axes[0]\n",
    "ax.legend((p1,p0),\n",
    "     ('Moster et al. (2013)','SDSS'),\n",
    "     frameon = False, fontsize=8, loc='lower right', numpoints=1, handletextpad=1)\n",
    "\n",
    "\n",
    "ax = axes[1]\n",
    "ax.legend((p2,p3),\n",
    "    ('4 Gyr sat. growth','max. sat. growth'),\n",
    "    frameon = False, fontsize=8, loc='lower right', numpoints=1, handletextpad=1)\n",
    "\n",
    "plt.show()\n",
    "\n",
    "filepath = './plots/'\n",
    "filename = 'wp_sat_growth_comparison'\n",
    "fig.savefig(filepath+filename+'.pdf', dpi=300)"
   ]
  },
  {
   "cell_type": "code",
   "execution_count": null,
   "metadata": {
    "collapsed": true
   },
   "outputs": [],
   "source": []
  }
 ],
 "metadata": {
  "kernelspec": {
   "display_name": "Python 2",
   "language": "python",
   "name": "python2"
  },
  "language_info": {
   "codemirror_mode": {
    "name": "ipython",
    "version": 2
   },
   "file_extension": ".py",
   "mimetype": "text/x-python",
   "name": "python",
   "nbconvert_exporter": "python",
   "pygments_lexer": "ipython2",
   "version": "2.7.13"
  }
 },
 "nbformat": 4,
 "nbformat_minor": 0
}
