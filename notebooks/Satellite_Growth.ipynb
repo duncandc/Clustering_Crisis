{
 "cells": [
  {
   "cell_type": "markdown",
   "metadata": {},
   "source": [
    "#Simulation Analysis"
   ]
  },
  {
   "cell_type": "code",
   "execution_count": 1,
   "metadata": {
    "collapsed": false
   },
   "outputs": [],
   "source": [
    "from __future__ import print_function, division\n",
    "#add project directory to python path\n",
    "import sys\n",
    "sys.path.append(\"..\")\n",
    "#import standard packages\n",
    "import numpy as np\n",
    "import matplotlib.pyplot as plt\n",
    "%matplotlib inline\n",
    "from default import PROJECT_DIRECTORY, DATA_DIRECTORY"
   ]
  },
  {
   "cell_type": "markdown",
   "metadata": {},
   "source": [
    "##Load Simulation"
   ]
  },
  {
   "cell_type": "code",
   "execution_count": 2,
   "metadata": {
    "collapsed": false
   },
   "outputs": [
    {
     "name": "stdout",
     "output_type": "stream",
     "text": [
      "('halo_upid', 'halo_first_acc_mvir', 'halo_acc_scale', 'halo_rvir', 'halo_vpeak', 'halo_macc', 'halo_first_acc_scale', 'halo_mpeak', 'halo_half_mass_scale', 'halo_mvir', 'halo_T/|U|', 'halo_vmax_at_mpeak', 'halo_pid', 'halo_y', 'halo_x', 'halo_z', 'halo_m200b', 'halo_m200c', 'halo_first_acc_vmax', 'halo_mpeak_scale', 'halo_vmax', 'halo_vacc', 'halo_id', 'halo_vx', 'halo_vy', 'halo_vz', 'halo_rs', 'halo_nfw_conc', 'halo_hostid', 'halo_mvir_host_halo')\n"
     ]
    }
   ],
   "source": [
    "\"\"\"\n",
    "load halo catalogue to populate for mocks\n",
    "\"\"\"\n",
    "from halotools import sim_manager\n",
    "simname = 'bolshoi_250'\n",
    "halocat = sim_manager.CachedHaloCatalog(simname = simname, redshift=0.0, dz_tol=0.001,\n",
    "                                        version_name='custom', halo_finder='Rockstar')\n",
    "\n",
    "from astropy.cosmology import FlatLambdaCDM\n",
    "cosmo = FlatLambdaCDM(H0=70, Om0=0.27) #Bolshoi cosmology"
   ]
  },
  {
   "cell_type": "code",
   "execution_count": 59,
   "metadata": {
    "collapsed": false
   },
   "outputs": [
    {
     "name": "stdout",
     "output_type": "stream",
     "text": [
      "('halo_id', 'halo_mpeak', 'halo_mpeak_scale', 'halo_mpeak_prime', 'halo_mpeak_prime_scale', 'halo_0.1_mpeak_scale', 'halo_0.2_mpeak_scale', 'halo_0.3_mpeak_scale', 'halo_0.4_mpeak_scale', 'halo_0.5_mpeak_scale', 'halo_0.6_mpeak_scale', 'halo_0.7_mpeak_scale', 'halo_0.8_mpeak_scale', 'halo_0.9_mpeak_scale', 'halo_0.1_mpeak_prime_scale', 'halo_0.2_mpeak_prime_scale', 'halo_0.3_mpeak_prime_scale', 'halo_0.4_mpeak_prime_scale', 'halo_0.5_mpeak_prime_scale', 'halo_0.6_mpeak_prime_scale', 'halo_0.7_mpeak_prime_scale', 'halo_0.8_mpeak_prime_scale', 'halo_0.9_mpeak_prime_scale', 'halo_acc_scale_1', 'halo_acc_scale_2', 'halo_acc_scale_3', 'halo_acc_scale_4', 'halo_acc_scale_5', 'halo_acc_scale_6', 'halo_acc_scale_7', 'halo_acc_scale_8', 'halo_acc_scale_9', 'halo_acc_scale_10', 'halo_ejt_scale_1', 'halo_ejt_scale_2', 'halo_ejt_scale_3', 'halo_ejt_scale_4', 'halo_ejt_scale_5', 'halo_ejt_scale_6', 'halo_ejt_scale_7', 'halo_ejt_scale_8', 'halo_ejt_scale_9', 'halo_ejt_scale_10', 'halo_last_acc_scale', 'halo_last_ejt_scale', 'halo_prime_acc_scale_1', 'halo_prime_acc_scale_2', 'halo_last_acc_scale_prime')\n"
     ]
    }
   ],
   "source": [
    "\"\"\"\n",
    "load supplemtary halo catalogue properties\n",
    "\"\"\"\n",
    "from astropy.table import Table\n",
    "\n",
    "filepath = DATA_DIRECTORY\n",
    "add_halo_props = Table.read(filepath+\"bolshoi_additional_halo_properties.hdf5\", path='data')\n",
    "print(add_halo_props.dtype.names)"
   ]
  },
  {
   "cell_type": "code",
   "execution_count": 60,
   "metadata": {
    "collapsed": true
   },
   "outputs": [],
   "source": [
    "#replace with some halo properties custom properties\n",
    "halocat.halo_table['halo_mpeak'] = add_halo_props['halo_mpeak_prime']\n",
    "halocat.halo_table['halo_acc_scale'] = add_halo_props['halo_prime_acc_scale_2']\n",
    "halocat.halo_table['halo_mpeak_scale'] = add_halo_props['halo_mpeak_prime_scale']"
   ]
  },
  {
   "cell_type": "code",
   "execution_count": 61,
   "metadata": {
    "collapsed": true
   },
   "outputs": [],
   "source": [
    "#clear up some memory\n",
    "add_halo_props = 0.0"
   ]
  },
  {
   "cell_type": "markdown",
   "metadata": {},
   "source": [
    "##Extrapolate sub-halo masses"
   ]
  },
  {
   "cell_type": "code",
   "execution_count": null,
   "metadata": {
    "collapsed": false
   },
   "outputs": [],
   "source": [
    "\"\"\"\n",
    "use MAHs to extrapolate sub-halo masses past z_acc\n",
    "\"\"\"\n",
    "\n",
    "from Halo_model_components import Continued_Growth\n",
    "\n",
    "mass_growth_model = Continued_Growth(cosmo=cosmo)\n",
    "\n",
    "m = halocat.halo_table['halo_mpeak']\n",
    "a = halocat.halo_table['halo_acc_scale']\n",
    "sub = (halocat.halo_table['halo_upid']!=-1)\n",
    "\n",
    "#set host-halo masses to current peak mass\n",
    "halocat.halo_table['halo_m_extrap_4gyr'] = m\n",
    "halocat.halo_table['halo_m_extrap_14gyr'] = m\n",
    "halocat.halo_table['halo_acc_scale_extrap_4gyr'] = a\n",
    "halocat.halo_table['halo_acc_scale_extrap_14gyr'] = a\n",
    "\n",
    "#extrapolate sub-halo masses past z_acc\n",
    "m = halocat.halo_table['halo_macc']\n",
    "dum, dum, a4, m4 = mass_growth_model.extrapolate_mass(m[sub], a[sub], 4)\n",
    "dum, dum, a14, m14 = mass_growth_model.extrapolate_mass(m[sub], a[sub], 14)\n",
    "\n",
    "#set new extrapolated mass\n",
    "halocat.halo_table['halo_m_extrap_4gyr'][sub] = m4\n",
    "halocat.halo_table['halo_m_extrap_14gyr'][sub] = m14\n",
    "\n",
    "#get scale factor of extrapolation\n",
    "halocat.halo_table['halo_acc_scale_extrap_4gyr'][sub] = a4\n",
    "halocat.halo_table['halo_acc_scale_extrap_14gyr'][sub] = a14"
   ]
  },
  {
   "cell_type": "code",
   "execution_count": 111,
   "metadata": {
    "collapsed": true
   },
   "outputs": [],
   "source": [
    "\"\"\"\n",
    "convert halo masses from 360b to the definitons used in Y12 and B13\n",
    "\"\"\"\n",
    "\n",
    "from cosmo_utils import halo_mass_conversion\n",
    "\n",
    "m180b = halo_mass_conversion(halocat.halo_table['halo_mpeak'],\n",
    "                             halocat.halo_table['halo_nfw_conc'],\n",
    "                             delta_h=360, delta_new=180,\n",
    "                             cosmo=cosmo, wrt_h='background', wrt_new='background')\n",
    "m200c = halo_mass_conversion(halocat.halo_table['halo_mpeak'],\n",
    "                             halocat.halo_table['halo_nfw_conc'],\n",
    "                             delta_h=360, delta_new=200,\n",
    "                             cosmo=cosmo, wrt_h='background',\n",
    "                             wrt_new='critical')\n",
    "\n",
    "halocat.halo_table['halo_mpeak200c'] = m200c\n",
    "halocat.halo_table['halo_mpeak180b'] = m180b\n",
    "\n",
    "\n",
    "m180b = halo_mass_conversion(halocat.halo_table['halo_m_extrap_4gyr'],\n",
    "                             halocat.halo_table['halo_nfw_conc'],\n",
    "                             delta_h=360, delta_new=180,\n",
    "                             cosmo=cosmo, wrt_h='background', wrt_new='background')\n",
    "m200c = halo_mass_conversion(halocat.halo_table['halo_m_extrap_4gyr'],\n",
    "                             halocat.halo_table['halo_nfw_conc'],\n",
    "                             delta_h=360, delta_new=200,\n",
    "                             cosmo=cosmo, wrt_h='background',\n",
    "                             wrt_new='critical')\n",
    "\n",
    "halocat.halo_table['halo_m_extrap_4gyr_200c'] = m200c\n",
    "halocat.halo_table['halo_m_extrap_4gyr_180b'] = m180b\n",
    "\n",
    "m180b = halo_mass_conversion(halocat.halo_table['halo_m_extrap_14gyr'],\n",
    "                             halocat.halo_table['halo_nfw_conc'],\n",
    "                             delta_h=360, delta_new=180,\n",
    "                             cosmo=cosmo, wrt_h='background', wrt_new='background')\n",
    "m200c = halo_mass_conversion(halocat.halo_table['halo_m_extrap_14gyr'],\n",
    "                             halocat.halo_table['halo_nfw_conc'],\n",
    "                             delta_h=360, delta_new=200,\n",
    "                             cosmo=cosmo, wrt_h='background',\n",
    "                             wrt_new='critical')\n",
    "\n",
    "halocat.halo_table['halo_m_extrap_14gyr_200c'] = m200c\n",
    "halocat.halo_table['halo_m_extrap_14gyr_180b'] = m180b"
   ]
  },
  {
   "cell_type": "markdown",
   "metadata": {},
   "source": [
    "##Define SHAM Models"
   ]
  },
  {
   "cell_type": "code",
   "execution_count": 20,
   "metadata": {
    "collapsed": true
   },
   "outputs": [],
   "source": [
    "from halotools.empirical_models import SubhaloModelFactory\n",
    "from default import additional_halo_properties, galaxy_selection_func"
   ]
  },
  {
   "cell_type": "markdown",
   "metadata": {},
   "source": [
    "###RM Model w/ sat growth"
   ]
  },
  {
   "cell_type": "code",
   "execution_count": 26,
   "metadata": {
    "collapsed": false
   },
   "outputs": [],
   "source": [
    "from SHAM_model_components import RankSmHm\n",
    "\n",
    "prim_haloprop_key = 'halo_mpeak'\n",
    "mstar_model = RankSmHm(prim_haloprop_key=prim_haloprop_key, Lbox=halocat.Lbox[0], redshift=0.0)\n",
    "composite_model_1a = SubhaloModelFactory(stellar_mass = mstar_model, \n",
    "                                        haloprops = additional_halo_properties,\n",
    "                                        galaxy_selection_func = galaxy_selection_func)\n",
    "composite_model_1a.param_dict['log_scatter'] = 0.0\n",
    "\n",
    "\n",
    "prim_haloprop_key = 'halo_m_extrap_4gyr'\n",
    "mstar_model = RankSmHm(prim_haloprop_key=prim_haloprop_key, Lbox=halocat.Lbox[0], redshift=0.0)\n",
    "composite_model_1b = SubhaloModelFactory(stellar_mass = mstar_model, \n",
    "                                        haloprops = additional_halo_properties,\n",
    "                                        galaxy_selection_func = galaxy_selection_func)\n",
    "composite_model_1b.param_dict['log_scatter'] = 0.0\n",
    "\n",
    "prim_haloprop_key = 'halo_m_extrap_14gyr'\n",
    "mstar_model = RankSmHm(prim_haloprop_key=prim_haloprop_key, Lbox=halocat.Lbox[0], redshift=0.0)\n",
    "composite_model_1c = SubhaloModelFactory(stellar_mass = mstar_model, \n",
    "                                        haloprops = additional_halo_properties,\n",
    "                                        galaxy_selection_func = galaxy_selection_func)\n",
    "composite_model_1c.param_dict['log_scatter'] = 0.0"
   ]
  },
  {
   "cell_type": "code",
   "execution_count": 29,
   "metadata": {
    "collapsed": false
   },
   "outputs": [
    {
     "name": "stdout",
     "output_type": "stream",
     "text": [
      "number of galaxies in mock:  290840\n",
      "satellite fraction:  0.207963141246\n",
      "number of galaxies in mock:  290739\n",
      "satellite fraction:  0.269262121697\n",
      "number of galaxies in mock:  290003\n",
      "satellite fraction:  0.294959017665\n"
     ]
    }
   ],
   "source": [
    "\"\"\"\n",
    "populate RM mocks\n",
    "\"\"\"\n",
    "\n",
    "np.random.seed(42)\n",
    "\n",
    "composite_model_1a.populate_mock(halocat = halocat)\n",
    "mock_1a = composite_model_1a.mock.galaxy_table\n",
    "\n",
    "composite_model_1b.populate_mock(halocat = halocat)\n",
    "mock_1b = composite_model_1b.mock.galaxy_table\n",
    "\n",
    "composite_model_1c.populate_mock(halocat = halocat)\n",
    "mock_1c = composite_model_1c.mock.galaxy_table\n",
    "\n",
    "print(\"number of galaxies in mock: \", len(mock_1a))\n",
    "f_sat_1a = float(np.sum(mock_1a['halo_upid']!=-1))/len(mock_1a)\n",
    "print(\"satellite fraction: \", f_sat_1a)\n",
    "\n",
    "print(\"number of galaxies in mock: \", len(mock_1b))\n",
    "f_sat_1b = float(np.sum(mock_1b['halo_upid']!=-1))/len(mock_1b)\n",
    "print(\"satellite fraction: \", f_sat_1b)\n",
    "\n",
    "print(\"number of galaxies in mock: \", len(mock_1c))\n",
    "f_sat_1c = float(np.sum(mock_1c['halo_upid']!=-1))/len(mock_1c)\n",
    "print(\"satellite fraction: \", f_sat_1c)"
   ]
  },
  {
   "cell_type": "markdown",
   "metadata": {},
   "source": [
    "###M13 Model w/ sat growth"
   ]
  },
  {
   "cell_type": "code",
   "execution_count": 100,
   "metadata": {
    "collapsed": false
   },
   "outputs": [],
   "source": [
    "from SMHM_model_components import MosterSmHm13, Guo_to_Blanton\n",
    "\n",
    "prim_haloprop_key =  'halo_mpeak200c'\n",
    "acc_scale_key='halo_acc_scale'\n",
    "mstar_model = MosterSmHm13(redshift=0.0,\n",
    "                           prim_haloprop_key=prim_haloprop_key,\n",
    "                           acc_scale_key=acc_scale_key)\n",
    "mstar_conv = Guo_to_Blanton()\n",
    "composite_model_3a = SubhaloModelFactory(stellar_mass = mstar_model,\n",
    "                                        haloprops = additional_halo_properties,\n",
    "                                        galaxy_selection_func = galaxy_selection_func,\n",
    "                                        stellar_mass_conversion = mstar_conv,\n",
    "                                        model_feature_calling_sequence = ('haloprops','stellar_mass','stellar_mass_conversion'))\n",
    "composite_model_3a.param_dict['log_scatter'] =  0.18\n",
    "\n",
    "prim_haloprop_key =  'halo_m_extrap_4gyr_200c'\n",
    "acc_scale_key='halo_acc_scale_extrap_4gyr'\n",
    "mstar_model = MosterSmHm13(redshift=0.0,\n",
    "                           prim_haloprop_key=prim_haloprop_key,\n",
    "                           acc_scale_key=acc_scale_key)\n",
    "mstar_conv = Guo_to_Blanton()\n",
    "composite_model_3b = SubhaloModelFactory(stellar_mass = mstar_model,\n",
    "                                        haloprops = additional_halo_properties,\n",
    "                                        galaxy_selection_func = galaxy_selection_func,\n",
    "                                        stellar_mass_conversion = mstar_conv,\n",
    "                                        model_feature_calling_sequence = ('haloprops','stellar_mass','stellar_mass_conversion'))\n",
    "composite_model_3b.param_dict['log_scatter'] =  0.18\n",
    "\n",
    "prim_haloprop_key =  'halo_m_extrap_14gyr_200c'\n",
    "acc_scale_key='halo_acc_scale_extrap_14gyr'\n",
    "mstar_model = MosterSmHm13(redshift=0.0,\n",
    "                           prim_haloprop_key=prim_haloprop_key,\n",
    "                           acc_scale_key=acc_scale_key)\n",
    "mstar_conv = Guo_to_Blanton()\n",
    "composite_model_3c = SubhaloModelFactory(stellar_mass = mstar_model,\n",
    "                                        haloprops = additional_halo_properties,\n",
    "                                        galaxy_selection_func = galaxy_selection_func,\n",
    "                                        stellar_mass_conversion = mstar_conv,\n",
    "                                        model_feature_calling_sequence = ('haloprops','stellar_mass','stellar_mass_conversion'))\n",
    "composite_model_3c.param_dict['log_scatter'] =  0.18"
   ]
  },
  {
   "cell_type": "code",
   "execution_count": 112,
   "metadata": {
    "collapsed": false
   },
   "outputs": [
    {
     "name": "stdout",
     "output_type": "stream",
     "text": [
      "number of galaxies in mock:  276879\n",
      "satellite fraction:  0.164208914363\n",
      "number of galaxies in mock:  290739\n",
      "satellite fraction:  0.251624309088\n",
      "number of galaxies in mock:  332704\n",
      "satellite fraction:  0.288989612388\n"
     ]
    }
   ],
   "source": [
    "\"\"\"\n",
    "populate M13 mocks\n",
    "\"\"\"\n",
    "\n",
    "np.random.seed(42)\n",
    "\n",
    "composite_model_3a.populate_mock(halocat = halocat)\n",
    "mock_3a = composite_model_3a.mock.galaxy_table\n",
    "\n",
    "composite_model_3b.populate_mock(halocat = halocat)\n",
    "mock_3b = composite_model_3b.mock.galaxy_table\n",
    "\n",
    "composite_model_3c.populate_mock(halocat = halocat)\n",
    "mock_3c = composite_model_3c.mock.galaxy_table\n",
    "\n",
    "print(\"number of galaxies in mock: \", len(mock_3a))\n",
    "f_sat_3a = float(np.sum(mock_3a['halo_upid']!=-1))/len(mock_3a)\n",
    "print(\"satellite fraction: \", f_sat_3a)\n",
    "\n",
    "print(\"number of galaxies in mock: \", len(mock_1b))\n",
    "f_sat_3b = float(np.sum(mock_3b['halo_upid']!=-1))/len(mock_1b)\n",
    "print(\"satellite fraction: \", f_sat_3b)\n",
    "\n",
    "print(\"number of galaxies in mock: \", len(mock_3c))\n",
    "f_sat_3c = float(np.sum(mock_3c['halo_upid']!=-1))/len(mock_3c)\n",
    "print(\"satellite fraction: \", f_sat_3c)"
   ]
  },
  {
   "cell_type": "markdown",
   "metadata": {},
   "source": [
    "##Satellite Growth Models"
   ]
  },
  {
   "cell_type": "markdown",
   "metadata": {},
   "source": [
    "Examine the Y12 and continued satellite growth models."
   ]
  },
  {
   "cell_type": "code",
   "execution_count": 44,
   "metadata": {
    "collapsed": false
   },
   "outputs": [
    {
     "data": {
      "image/png": "[encoded data removed]",
      "text/plain": [
       "<matplotlib.figure.Figure at 0x1173ff090>"
      ]
     },
     "metadata": {},
     "output_type": "display_data"
    }
   ],
   "source": [
    "\"\"\"\n",
    "make a visual diagram for the cotinued growth model using M13\n",
    "\"\"\"\n",
    "\n",
    "from Halo_model_components import MAH\n",
    "\n",
    "def find_nearest(array,value):\n",
    "    idx = (np.abs(array-value)).argmin()\n",
    "    return idx\n",
    "\n",
    "p = MAH(cosmo)\n",
    "mhalo_history, z_halo = p.mah(10**11.0, 1.0)\n",
    "\n",
    "z_galaxy = z_halo\n",
    "a_galaxy = 1.0/(1.0+z_galaxy)\n",
    "mcen_history = composite_model_3a.mean_stellar_mass(prim_haloprop = 10**mhalo_history, halo_acc_scale=a_galaxy)\n",
    "\n",
    "mask = z_halo < 1.0\n",
    "i = find_nearest(z_halo,1.0)\n",
    "\n",
    "msub_history = np.copy(mhalo_history)\n",
    "msub_history[0][mask] = mhalo_history[0][i]\n",
    "msat_history_1 = np.copy(mstar_history)\n",
    "msat_history_1[0][mask] = mstar_history[0][i]\n",
    "\n",
    "mask = z_halo < 0.342\n",
    "i = find_nearest(z_halo,0.342)\n",
    "msat_history_2 = np.copy(mstar_history)\n",
    "msat_history_2[0][mask] = mstar_history[0][i]\n",
    "\n",
    "fig, ax = plt.subplots(nrows=1,ncols=1, figsize=(3.3, 3.3))\n",
    "fig.subplots_adjust(left=0.2, right=0.9, bottom=0.2, top=0.9)\n",
    "#host-halo\n",
    "p1, = plt.plot(1+z_halo, 10**mhalo_history[0]/10**mhalo_history[0][0], color='black')\n",
    "#sub-halo\n",
    "p2, = plt.plot(1+z_halo, 10**msub_history[0]/10**mhalo_history[0][0], '--', color='black')\n",
    "#satellite growth histories\n",
    "p0, = plt.plot(1+z_halo, msat_history_1[0]/mcen_history[0][0], '-',color='white', alpha=0.0) #dummy\n",
    "p3, = plt.plot(1+z_halo, mstar_history[0]/mstar_history[0][0], color='#6666ff')\n",
    "p4, = plt.plot(1+z_halo, msat_history_1[0]/mstar_history[0][0], '--',color='#6666ff')\n",
    "p5, = plt.plot(1+z_halo, msat_history_2[0]/mstar_history[0][0], ':',color='#6666ff')\n",
    "plt.text(2.22,0.85,r'$z_{\\rm acc}$', fontsize=10)\n",
    "plt.arrow(2,0.825,dx=0.0,dy=-0.1, head_width=0.1, head_length=0.05, lw=0.5, color='black')\n",
    "plt.plot([1+1.0,1+0.342],[0.4,0.4],'-',color='black')\n",
    "plt.plot([1+1.0,1+1.0],[0.4-0.025,0.4+0.025],'-',color='black')\n",
    "plt.plot([1+0.342,1+0.342],[0.4-0.025,0.4+0.025],'-',color='black')\n",
    "plt.text(1+0.7,0.43,r'$\\Delta t_{q}$')\n",
    "plt.xlim([6,1])\n",
    "plt.ylim([0,1.5])\n",
    "plt.xscale('log')\n",
    "plt.xlabel('z')\n",
    "plt.xticks([6, 5, 4, 3, 2, 1])\n",
    "ax.set_xticklabels(['5','4','3','2','1','0'])\n",
    "\n",
    "#legend\n",
    "plt.legend((p1,p2, p3, p0, p4, p5),('host-halo','sub-halo', 'central','', r'$\\Delta t_{q}=0$',r'$\\Delta t_{q}=4$'),\n",
    "           fontsize=10, loc='upper left', frameon=False)\n",
    "plt.ylabel(r'$\\langle M/M(z=0) \\rangle_{\\rm med}$')\n",
    "plt.text(4.6, 0.975, 'satellite', fontsize=10)\n",
    "plt.title('continued sat. growth model')\n",
    "plt.show()\n",
    "\n",
    "filepath = PROJECT_DIRECTORY + 'figures/'\n",
    "filename = 'sat_growth_model_1'\n",
    "fig.savefig(filepath+filename+'.pdf', dpi=300)"
   ]
  },
  {
   "cell_type": "code",
   "execution_count": 46,
   "metadata": {
    "collapsed": false
   },
   "outputs": [
    {
     "name": "stderr",
     "output_type": "stream",
     "text": [
      "../SMHM_model_components.py:487: RuntimeWarning: overflow encountered in power\n",
      "  numerator = (mass/m1)**(alpha+beta)\n",
      "../SMHM_model_components.py:488: RuntimeWarning: overflow encountered in power\n",
      "  denominator = (1.0+mass/m1)**beta\n",
      "../SMHM_model_components.py:508: RuntimeWarning: overflow encountered in power\n",
      "  numerator = (mass/m1)**(alpha+beta)\n",
      "../SMHM_model_components.py:509: RuntimeWarning: overflow encountered in power\n",
      "  denominator = (1.0+mass/m1)**beta\n"
     ]
    },
    {
     "data": {
      "image/png": "[encoded data removed]",
      "text/plain": [
       "<matplotlib.figure.Figure at 0x1192772d0>"
      ]
     },
     "metadata": {},
     "output_type": "display_data"
    }
   ],
   "source": [
    "\"\"\"\n",
    "make a visual for the Y12 satellite growth model\n",
    "\"\"\"\n",
    "\n",
    "from default import composite_model_4\n",
    "from Halo_model_components import MAH\n",
    "\n",
    "def find_nearest(array,value):\n",
    "    idx = (np.abs(array-value)).argmin()\n",
    "    return idx\n",
    "\n",
    "#get two halo growth histories\n",
    "p = MAH(cosmo)\n",
    "mhalo_history_1, z_halo = p.mah(10**11.0, 0.0)\n",
    "mhalo_history_2, z_halo = p.mah(10**11.0, 1.0)\n",
    "mhalo_history_1 = np.log10(10**mhalo_history_1*1.0)\n",
    "mhalo_history_2 = np.log10(10**mhalo_history_2*0.96)\n",
    "\n",
    "#cut off sub-halo growth\n",
    "mask = (z_halo < 1.0)\n",
    "i = find_nearest(z_halo,1.0)\n",
    "\n",
    "msub_history = np.copy(mhalo_history_2)\n",
    "msub_history[0][mask] = msub_history[0][i]\n",
    "\n",
    "z_galaxy = z_halo\n",
    "a_galaxy = 1.0/(1.0+z_galaxy)\n",
    "a_sat = a_galaxy\n",
    "a_sat[mask==True] = 1.0/(1.0+1.0)\n",
    "\n",
    "mcen_history = composite_model_4.mean_stellar_mass(prim_haloprop = 10**mhalo_history_1,\n",
    "                                                   halo_acc_scale = a_galaxy, redshift=z_galaxy)\n",
    "composite_model_4.param_dict['c'] =  0.0\n",
    "msat_history_1 = composite_model_4.mean_stellar_mass(prim_haloprop = 10**msub_history,\n",
    "                                                     halo_acc_scale = a_sat, redshift=z_galaxy)\n",
    "composite_model_4.param_dict['c'] =  0.5\n",
    "msat_history_2 = composite_model_4.mean_stellar_mass(prim_haloprop = 10**msub_history,\n",
    "                                                     halo_acc_scale = a_sat, redshift=z_galaxy)\n",
    "composite_model_4.param_dict['c'] =  1.0\n",
    "msat_history_3 = composite_model_4.mean_stellar_mass(prim_haloprop = 10**msub_history,\n",
    "                                                     halo_acc_scale = a_sat, redshift=z_galaxy)\n",
    "\n",
    "fig, ax = plt.subplots(nrows=1,ncols=1, figsize=(3.3, 3.3))\n",
    "fig.subplots_adjust(left=0.2, right=0.9, bottom=0.2, top=0.9)\n",
    "#host halo growth\n",
    "p1, = plt.plot(1+z_halo, 10**mhalo_history_1[0]/10**mhalo_history_1[0][0], color='black')\n",
    "#sub-halo growth\n",
    "p2, = plt.plot(1+z_halo, 10**msub_history[0]/10**mhalo_history_1[0][0], '--', color='black')\n",
    "#central galaxy growth\n",
    "p3, = plt.plot(1+z_halo, mcen_history[0]/mcen_history[0][0], color='#6666ff')\n",
    "#satellite growth models\n",
    "p0, = plt.plot(1+z_halo, msat_history_1[0]/mcen_history[0][0], '-',color='white', alpha=0.0) #dummy\n",
    "p4, = plt.plot(1+z_halo, msat_history_1[0]/mcen_history[0][0], '--',color='#6666ff')\n",
    "p5, = plt.plot(1+z_halo, msat_history_2[0]/mcen_history[0][0], '-.',color='#6666ff')\n",
    "p6, = plt.plot(1+z_halo, msat_history_3[0]/mcen_history[0][0], ':',color='#6666ff')\n",
    "\n",
    "#accretion redshift label\n",
    "plt.text(2.22,0.85+0.425,r'$z_{\\rm acc}$', fontsize=10)\n",
    "plt.arrow(2,0.825+0.425,dx=0.0,dy=-0.1, head_width=0.1, head_length=0.05, lw=0.5, color='black')\n",
    "plt.xlim([6,1])\n",
    "plt.ylim([0,1.5])\n",
    "plt.xscale('log')\n",
    "plt.xlabel('z')\n",
    "plt.ylabel(r'$\\langle M/M(z=0) \\rangle_{\\rm med}$')\n",
    "plt.xticks([6, 5, 4, 3, 2, 1])\n",
    "ax.set_xticklabels(['5','4','3','2','1','0'])\n",
    "\n",
    "#add legends\n",
    "#plt.legend((p1,p2,p3,p0,p4,p5,p6),\n",
    "#           ('host-halo','sub-halo','central','','c=0.0','c=0.5','c=1.0'),\n",
    "#            frameon = False, fontsize=10, loc='upper left', handlelength=2.5)\n",
    "plt.legend((p0,p4,p5,p6),\n",
    "           ('','c=0.0','c=0.5','c=1.0'),\n",
    "            frameon = False, fontsize=10, loc='upper left', handlelength=2.5)\n",
    "#plt.text(4.6, 0.975, 'satellite', fontsize=10)\n",
    "plt.text(4.6, 0.975+0.38, 'satellite', fontsize=10)\n",
    "plt.title('Y12 sat. growth model')\n",
    "plt.show()\n",
    "\n",
    "filepath = PROJECT_DIRECTORY + 'figures/'\n",
    "filename = 'sat_growth_model_2'\n",
    "fig.savefig(filepath+filename+'.pdf', dpi=300)"
   ]
  },
  {
   "cell_type": "code",
   "execution_count": 49,
   "metadata": {
    "collapsed": false
   },
   "outputs": [
    {
     "data": {
      "image/png": "[encoded data removed]",
      "text/plain": [
       "<matplotlib.figure.Figure at 0x117bf4110>"
      ]
     },
     "metadata": {},
     "output_type": "display_data"
    }
   ],
   "source": [
    "\"\"\"\n",
    "combine these figures into a single two panel figure\n",
    "\"\"\"\n",
    "\n",
    "#get four halo growth histories\n",
    "p = MAH(cosmo)\n",
    "mhalo_history_1, z_halo = p.mah(10**11.0, 0.0)\n",
    "mhalo_history_2, z_halo = p.mah(10**11.0, 1.0)\n",
    "mhalo_history_1 = np.log10(10**mhalo_history_1*1.0)\n",
    "mhalo_history_2 = np.log10(10**mhalo_history_2*0.96)\n",
    "z = z_halo\n",
    "a = 1.0/(1.0+z)\n",
    "\n",
    "#host halo history\n",
    "mhost_history_1 = mhalo_history_2\n",
    "\n",
    "#subhistory 1\n",
    "mask = (z < 1.0)\n",
    "i = find_nearest(z,1.0)\n",
    "msub_history_1_1 = np.copy(mhalo_history_2)\n",
    "msub_history_1_1[0][mask] = msub_history_1_1[0][i]\n",
    "z_sat_1_1 = np.copy(z)\n",
    "z_sat_1_1[mask] = z_sat_1_1[i]\n",
    "a_sat_1_1 = 1.0/(1.0+z_sat_1_1)\n",
    "\n",
    "#subhistory 2\n",
    "mask = (z < 0.342)\n",
    "i = find_nearest(z,0.342)\n",
    "msub_history_1_2 = np.copy(mhalo_history_2)\n",
    "msub_history_1_2[0][mask] = msub_history_1_2[0][i]\n",
    "z_sat_1_2 = np.copy(z)\n",
    "z_sat_1_2[mask] = z_sat_1_2[i]\n",
    "a_sat_1_2 = 1.0/(1.0+z_sat_1_2)\n",
    "\n",
    "mask = (z < 1.0)\n",
    "i = find_nearest(z,1.0)\n",
    "mhost_history_2 = mhalo_history_1\n",
    "msub_history_2 = np.copy(mhalo_history_2)\n",
    "msub_history_2[0][mask] = msub_history_2[0][i]\n",
    "z_sat_2_1 = np.copy(z)\n",
    "z_sat_2_1[mask] = z_sat_2_1[i]\n",
    "a_sat_2_1 = 1.0/(1.0+z_sat_2_1)\n",
    "\n",
    "\n",
    "#M13 w/ sat growth\n",
    "mcen_history_1 = composite_model_3a.mean_stellar_mass(prim_haloprop = 10**mhost_history_1,\n",
    "                                                     halo_acc_scale = a, redshift=z)\n",
    "msat_history_1_1 = composite_model_3a.mean_stellar_mass(prim_haloprop = 10**msub_history_1_1,\n",
    "                                                       halo_acc_scale = a_sat_1_1, redshift=1.0/a_sat_1_1-1)\n",
    "msat_history_1_2 = composite_model_3a.mean_stellar_mass(prim_haloprop = 10**msub_history_1_2,\n",
    "                                                       halo_acc_scale = a_sat_1_2, redshift=1.0/a_sat_1_2-1)\n",
    "\n",
    "#Y12 growth histories\n",
    "mcen_history_2 = composite_model_4.mean_stellar_mass(prim_haloprop = 10**mhost_history_2,\n",
    "                                                     halo_acc_scale = a, redshift=z_galaxy)\n",
    "composite_model_4.param_dict['c'] =  0.0\n",
    "msat_history_2_1 = composite_model_4.mean_stellar_mass(prim_haloprop = 10**msub_history_2,\n",
    "                                                       halo_acc_scale = a_sat_2_1, redshift=z)\n",
    "composite_model_4.param_dict['c'] =  0.5\n",
    "msat_history_2_2 = composite_model_4.mean_stellar_mass(prim_haloprop = 10**msub_history_2,\n",
    "                                                       halo_acc_scale = a_sat_2_1, redshift=z)\n",
    "composite_model_4.param_dict['c'] =  1.0\n",
    "msat_history_2_3 = composite_model_4.mean_stellar_mass(prim_haloprop = 10**msub_history_2,\n",
    "                                                       halo_acc_scale = a_sat_2_1, redshift=z)\n",
    "\n",
    "\n",
    "\n",
    "fig, axes = plt.subplots(nrows=2, ncols=1, sharex=True, figsize=(3.3, 6.2))\n",
    "fig.subplots_adjust(left=0.2, right=0.9, bottom=0.1, top=0.9, hspace=0.15)\n",
    "\n",
    "#top panel\n",
    "ax = axes[0]\n",
    "#host-halo\n",
    "p1, = ax.plot(1+z_halo, 10**mhost_history_1[0]/10**mhost_history_1[0][0], color='black', lw=1.5)\n",
    "#sub-halo\n",
    "p2, = ax.plot(1+z_halo, 10**msub_history_1_1[0]/10**mhost_history_1[0][0], '--', color='black', lw=1.5)\n",
    "#central growth histories\n",
    "p3, = ax.plot(1+z_halo, mcen_history_1[0]/mcen_history_1[0][0], color='#6666ff')\n",
    "#satellite growth histories\n",
    "p0, = ax.plot((1+z_halo), msat_history_1[0]/mcen_history_1[0][0], '-',color='white', alpha=0.0) #dummy\n",
    "p4, = ax.plot((1+z_halo), msat_history_1_1[0]/mcen_history_1[0][0]*1.07, '--',color='#6666ff')\n",
    "p5, = ax.plot((1+z_halo), msat_history_1_2[0]/mcen_history_1[0][0]*0.95, ':',color='#6666ff')\n",
    "ax.text(2.22,0.85,r'$z_{\\rm acc}$', fontsize=10)\n",
    "ax.arrow(2,0.825,dx=0.0,dy=-0.1, head_width=0.1, head_length=0.05, lw=0.5, color='black')\n",
    "ax.plot([1+1.0,1+0.342],[0.4,0.4],'-',color='black')\n",
    "ax.plot([1+1.0,1+1.0],[0.4-0.025,0.4+0.025],'-',color='black')\n",
    "ax.plot([1+0.342,1+0.342],[0.4-0.025,0.4+0.025],'-',color='black')\n",
    "ax.text(1+0.7,0.43,r'$\\Delta t_{q}$')\n",
    "ax.set_xlim([6,1])\n",
    "ax.set_ylim([0,1.3])\n",
    "ax.set_xscale('log')\n",
    "#ax.set_xlabel('z')\n",
    "ax.set_xticks([6, 5, 4, 3, 2, 1])\n",
    "ax.set_xticklabels(['5','4','3','2','1','0'])\n",
    "\n",
    "#add legend\n",
    "ax.legend((p1,p2, p3, p0, p4, p5),('host-halo','sub-halo', 'central','', r'$\\Delta t_{q}=0$',r'$\\Delta t_{q}=4$'),\n",
    "           fontsize=10, loc='upper left', frameon=False)\n",
    "ax.set_ylabel(r'$\\langle M/M(z=0) \\rangle_{\\rm med}$')\n",
    "ax.text(4.6, 0.975-0.125, 'satellite', fontsize=10)\n",
    "ax.set_title('continued sat. growth model')\n",
    "\n",
    "\n",
    "#bottom panel\n",
    "ax=axes[1]\n",
    "#host halo growth\n",
    "p1, = ax.plot(1+z, 10**mhost_history_2[0]/10**mhost_history_2[0][0], color='black', lw=1.5)\n",
    "#sub-halo growth\n",
    "p2, = ax.plot(1+z, 10**msub_history_2[0]/10**mhost_history_2[0][0], '--', color='black', lw=1.5)\n",
    "#central galaxy growth\n",
    "p3, = ax.plot(1+z, mcen_history_2[0]/mcen_history_2[0][0], color='#6666ff')\n",
    "#satellite growth models\n",
    "p0, = ax.plot(1+z, msat_history_2_1[0]/mcen_history_2[0][0], '-',color='white', alpha=0.0) #dummy\n",
    "p4, = ax.plot(1+z, msat_history_2_1[0]/mcen_history_2[0][0], '--',color='#6666ff')\n",
    "p5, = ax.plot(1+z, msat_history_2_2[0]/mcen_history_2[0][0], '-.',color='#6666ff')\n",
    "p6, = ax.plot(1+z, msat_history_2_3[0]/mcen_history_2[0][0], ':',color='#6666ff')\n",
    "\n",
    "#accretion redshift label\n",
    "ax.text(2.22,0.85+0.35,r'$z_{\\rm acc}$', fontsize=10)\n",
    "ax.arrow(2,0.825+0.35,dx=0.0,dy=-0.1, head_width=0.1, head_length=0.05, lw=0.5, color='black')\n",
    "ax.set_xlim([6,1])\n",
    "ax.set_ylim([0,1.3])\n",
    "ax.set_xscale('log')\n",
    "ax.set_xlabel('z')\n",
    "ax.set_ylabel(r'$\\langle M/M(z=0) \\rangle_{\\rm med}$')\n",
    "ax.set_xticks([6, 5, 4, 3, 2, 1])\n",
    "ax.set_xticklabels(['5','4','3','2','1','0'])\n",
    "\n",
    "#add legend\n",
    "ax.legend((p0,p4,p5,p6),\n",
    "           ('','c=0.0','c=0.5','c=1.0'),\n",
    "            frameon = False, fontsize=10, loc='upper left', handlelength=2.5)\n",
    "ax.text(4.6, 0.975+0.2, 'satellite', fontsize=10)\n",
    "ax.set_title('Y12 sat. growth model')\n",
    "\n",
    "plt.show()\n",
    "\n",
    "filepath = PROJECT_DIRECTORY + 'figures/'\n",
    "filename = 'sat_growth_model_2_panel'\n",
    "fig.savefig(filepath+filename+'.pdf', dpi=300)"
   ]
  },
  {
   "cell_type": "markdown",
   "metadata": {},
   "source": [
    "##z=0 Galaxy Clustering"
   ]
  },
  {
   "cell_type": "code",
   "execution_count": 50,
   "metadata": {
    "collapsed": true
   },
   "outputs": [],
   "source": [
    "\"\"\"\n",
    "set up function to calculate projected correlation function\n",
    "in stellar mass bins after placing mock in redshift-space.\n",
    "\"\"\"\n",
    "\n",
    "from halotools.mock_observables import wp, return_xyz_formatted_array\n",
    "\n",
    "def calculate_wp(mock, rp_bins,\n",
    "                 log_mstar_min=10.0, log_mstar_max =10.5,\n",
    "                 pi_max=40.0, Lbox=250.0):\n",
    "    \"\"\"\n",
    "    Calculate the projected correaltion function\n",
    "    \"\"\"\n",
    "    \n",
    "    #number of threads to use in wp calculation\n",
    "    num_threads = 4\n",
    "    \n",
    "    #create mask for stellar mass bin\n",
    "    mask = (mock['stellar_mass']<10.0**log_mstar_max) &\\\n",
    "           (mock['stellar_mass']>10.0**log_mstar_min)\n",
    "    \n",
    "    #put galaxy coordinates in mock observables format\n",
    "    #and apply redshift space distortions\n",
    "    coords = return_xyz_formatted_array(mock['x'], mock['y'], mock['z'],\n",
    "                                        velocity = mock['vz'],\n",
    "                                        velocity_distortion_dimension = 'z',\n",
    "                                        period = Lbox)\n",
    "    \n",
    "    #apply mask for stellar mass bin\n",
    "    coords = coords[mask]\n",
    "    \n",
    "    result = wp(coords,\n",
    "                rp_bins = rp_bins, pi_max = pi_max,\n",
    "                period = Lbox,\n",
    "                do_auto = True, do_cross = False,\n",
    "                estimator = 'Natural', \n",
    "                num_threads = num_threads,\n",
    "                max_sample_size = int(1e7))\n",
    "        \n",
    "    return result"
   ]
  },
  {
   "cell_type": "code",
   "execution_count": 113,
   "metadata": {
    "collapsed": true
   },
   "outputs": [],
   "source": [
    "#calculate wp for each model in stellar mass bins\n",
    "\n",
    "#define rp bins\n",
    "rp_bins = np.logspace(-2.0,1.4,25)\n",
    "rp_bin_centers = (rp_bins[:-1]+rp_bins[1:])/2.0\n",
    "\n",
    "#create arrays to store results for each mock\n",
    "wp_a = np.zeros((3,24))\n",
    "wp_b = np.zeros((3,24))\n",
    "wp_c = np.zeros((3,24))\n",
    "\n",
    "wp_a[0] = calculate_wp(mock_3a, rp_bins, pi_max=40.0, Lbox=halocat.Lbox,\n",
    "                       log_mstar_min=9.5, log_mstar_max =10.0)\n",
    "wp_b[0] = calculate_wp(mock_3b, rp_bins, pi_max=40.0, Lbox=halocat.Lbox,\n",
    "                       log_mstar_min=9.5, log_mstar_max =10.0)\n",
    "wp_c[0] = calculate_wp(mock_3c, rp_bins, pi_max=40.0, Lbox=halocat.Lbox,\n",
    "                       log_mstar_min=9.5, log_mstar_max =10.0)\n",
    "\n",
    "wp_a[1] = calculate_wp(mock_3a, rp_bins, pi_max=40.0, Lbox=halocat.Lbox,\n",
    "                       log_mstar_min=10.0, log_mstar_max =10.5)\n",
    "wp_b[1] = calculate_wp(mock_3b, rp_bins, pi_max=40.0, Lbox=halocat.Lbox,\n",
    "                       log_mstar_min=10.0, log_mstar_max =10.5)\n",
    "wp_c[1] = calculate_wp(mock_3c, rp_bins, pi_max=40.0, Lbox=halocat.Lbox,\n",
    "                       log_mstar_min=10.0, log_mstar_max =10.5)\n",
    "\n",
    "wp_a[2] = calculate_wp(mock_3a, rp_bins, pi_max=40.0, Lbox=halocat.Lbox,\n",
    "                       log_mstar_min=10.5, log_mstar_max =11.0)\n",
    "wp_b[2] = calculate_wp(mock_3b, rp_bins, pi_max=40.0, Lbox=halocat.Lbox,\n",
    "                       log_mstar_min=10.5, log_mstar_max =11.0)\n",
    "wp_c[2] = calculate_wp(mock_3c, rp_bins, pi_max=40.0, Lbox=halocat.Lbox,\n",
    "                       log_mstar_min=10.5, log_mstar_max =11.0)"
   ]
  },
  {
   "cell_type": "code",
   "execution_count": 52,
   "metadata": {
    "collapsed": true
   },
   "outputs": [],
   "source": [
    "#load SDSS results from Yang 2012\n",
    "from lss_observations import yang_2012_wp\n",
    "\n",
    "#create arrays to store results\n",
    "\n",
    "wp_sdss_1, cov = yang_2012_wp(10.0**9.5,10.0**10.0, sample='Mass-limit')\n",
    "err_1 = np.sqrt(np.diagonal(cov))\n",
    "\n",
    "wp_sdss_2, cov = yang_2012_wp(10.0**10.0,10.0**10.5, sample='Mass-limit')\n",
    "err_2 = np.sqrt(np.diagonal(cov))\n",
    "\n",
    "wp_sdss_3, cov = yang_2012_wp(10.0**10.5,10.0**11.0, sample='Mass-limit')\n",
    "err_3 = np.sqrt(np.diagonal(cov))\n",
    "\n",
    "#create intterpolation function\n",
    "from scipy.interpolate import interp1d\n",
    "f_w_1 = interp1d(wp_sdss_1[0,:],wp_sdss_1[1,:], fill_value=\"extrapolate\")\n",
    "f_err_1 = interp1d(wp_sdss_1[0,:],err_1, fill_value=\"extrapolate\")\n",
    "f_w_2 = interp1d(wp_sdss_2[0,:],wp_sdss_2[1,:], fill_value=\"extrapolate\")\n",
    "f_err_2 = interp1d(wp_sdss_2[0,:],err_2, fill_value=\"extrapolate\")\n",
    "f_w_3 = interp1d(wp_sdss_3[0,:],wp_sdss_3[1,:], fill_value=\"extrapolate\")\n",
    "f_err_3 = interp1d(wp_sdss_3[0,:],err_3, fill_value=\"extrapolate\")"
   ]
  },
  {
   "cell_type": "code",
   "execution_count": 114,
   "metadata": {
    "collapsed": false
   },
   "outputs": [
    {
     "data": {
      "image/png": "[encoded data removed]",
      "text/plain": [
       "<matplotlib.figure.Figure at 0x11b00b050>"
      ]
     },
     "metadata": {},
     "output_type": "display_data"
    }
   ],
   "source": [
    "fig, axes = plt.subplots(nrows=1,ncols=3,sharex=True,sharey=True,figsize=(6.95, 2.75))\n",
    "fig.subplots_adjust(hspace=0, wspace=0.05, left=0.075, right=0.975, bottom=0.2, top=0.9)\n",
    "    \n",
    "ax = axes[0]\n",
    "ax.set_xlim([0.1,20])\n",
    "ax.set_ylim([10,300])\n",
    "ax.set_yscale('log')\n",
    "ax.set_xscale('log')\n",
    "ax.set_ylabel(r'$w_p(r_p)\\times r_p ~ [h^{-2}{\\rm Mpc}^2]$')\n",
    "ax.set_xlabel(r'$r_p~[h^{-1}{\\rm Mpc}]$')\n",
    "ax.set_title(r'$9.5<\\log(M_{*}/h^{-2}M_{\\odot})<10.0$')\n",
    "    \n",
    "ax = axes[1]\n",
    "ax.set_xlim([0.1,20])\n",
    "ax.set_ylim([10,300])\n",
    "ax.set_yscale('log')\n",
    "ax.set_xscale('log')\n",
    "ax.set_xlabel(r'$r_p~[h^{-1}{\\rm Mpc}]$')\n",
    "ax.set_title(r'$10.0<\\log(M_{*}/h^{-2}M_{\\odot})<10.5$')\n",
    "    \n",
    "ax = axes[2]\n",
    "ax.set_xlim([0.1,20])\n",
    "ax.set_ylim([10,300])\n",
    "ax.set_yscale('log')\n",
    "ax.set_xscale('log')\n",
    "ax.set_xlabel(r'$r_p~[h^{-1}{\\rm Mpc}]$')\n",
    "ax.set_title(r'$10.5<\\log(M_{*}/h^{-2}M_{\\odot})<11.0$')\n",
    "\n",
    "ax = axes[0]\n",
    "p1, = ax.plot(rp_bin_centers, wp_a[0]*rp_bin_centers, '-', color='black', alpha=1)\n",
    "p2, = ax.plot(rp_bin_centers, wp_b[0]*rp_bin_centers, '--', color='purple', alpha=1)\n",
    "p3, = ax.plot(rp_bin_centers, wp_c[0]*rp_bin_centers, '--', color='red', alpha=1)\n",
    "p0 = ax.errorbar(wp_sdss_1[0,:], wp_sdss_1[1,:]*wp_sdss_1[0,:], yerr=err_1*wp_sdss_1[0,:],\n",
    "                  fmt='o', color='black', ms=4, mec='none')\n",
    "\n",
    "ax = axes[1]\n",
    "p1, = ax.plot(rp_bin_centers, wp_a[1]*rp_bin_centers, '-', color='black', alpha=1)\n",
    "p2, = ax.plot(rp_bin_centers, wp_b[1]*rp_bin_centers, '--', color='purple', alpha=1)\n",
    "p3, = ax.plot(rp_bin_centers, wp_c[1]*rp_bin_centers, '--', color='red', alpha=1)\n",
    "p0 = ax.errorbar(wp_sdss_2[0,:], wp_sdss_2[1,:]*wp_sdss_2[0,:], yerr=err_2*wp_sdss_2[0,:],\n",
    "                  fmt='o', color='black', ms=4, mec='none')\n",
    "\n",
    "ax = axes[2]\n",
    "p1, = ax.plot(rp_bin_centers, wp_a[2]*rp_bin_centers, '-', color='black', alpha=1)\n",
    "p2, = ax.plot(rp_bin_centers, wp_b[2]*rp_bin_centers, '--', color='purple', alpha=1)\n",
    "p3, = ax.plot(rp_bin_centers, wp_c[2]*rp_bin_centers, '--', color='red', alpha=1)\n",
    "p0 = ax.errorbar(wp_sdss_3[0,:], wp_sdss_3[1,:]*wp_sdss_3[0,:], yerr=err_3*wp_sdss_3[0,:],\n",
    "                  fmt='o', color='black', ms=4, mec='none')\n",
    "\n",
    "#add legends\n",
    "ax = axes[0]\n",
    "ax.legend((p1,p0),\n",
    "     ('Moster et al. (2013)','SDSS'),\n",
    "     frameon = False, fontsize=8, loc='lower right', numpoints=1, handletextpad=1)\n",
    "\n",
    "\n",
    "ax = axes[1]\n",
    "ax.legend((p2,p3),\n",
    "    ('4 Gyr sat. growth','max. sat. growth'),\n",
    "    frameon = False, fontsize=8, loc='lower right', numpoints=1, handletextpad=1)\n",
    "\n",
    "plt.show()\n",
    "\n",
    "filepath = PROJECT_DIRECTORY + 'figures/'\n",
    "filename = 'wp_sat_growth_comparison'\n",
    "fig.savefig(filepath+filename+'.pdf', dpi=300)"
   ]
  },
  {
   "cell_type": "code",
   "execution_count": null,
   "metadata": {
    "collapsed": true
   },
   "outputs": [],
   "source": []
  }
 ],
 "metadata": {
  "kernelspec": {
   "display_name": "Python 2",
   "language": "python",
   "name": "python2"
  },
  "language_info": {
   "codemirror_mode": {
    "name": "ipython",
    "version": 2
   },
   "file_extension": ".py",
   "mimetype": "text/x-python",
   "name": "python",
   "nbconvert_exporter": "python",
   "pygments_lexer": "ipython2",
   "version": "2.7.13"
  }
 },
 "nbformat": 4,
 "nbformat_minor": 0
}
