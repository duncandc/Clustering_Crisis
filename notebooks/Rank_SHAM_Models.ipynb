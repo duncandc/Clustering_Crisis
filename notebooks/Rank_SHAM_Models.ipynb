{
 "cells": [
  {
   "cell_type": "code",
   "execution_count": 9,
   "metadata": {
    "collapsed": true
   },
   "outputs": [],
   "source": [
    "#add project directory to python path\n",
    "import sys\n",
    "sys.path.append(\"..\")\n",
    "from default import PROJECT_DIRECTORY, DATA_DIRECTORY\n",
    "#import standard packages\n",
    "import numpy as np\n",
    "import matplotlib.pyplot as plt\n",
    "from __future__ import print_function, division\n",
    "%matplotlib inline"
   ]
  },
  {
   "cell_type": "markdown",
   "metadata": {},
   "source": [
    "#Rank Order SHAM Models"
   ]
  },
  {
   "cell_type": "markdown",
   "metadata": {},
   "source": [
    "In this notebook I examine the basic properties of the rank order SHAM models in this paper."
   ]
  },
  {
   "cell_type": "code",
   "execution_count": 2,
   "metadata": {
    "collapsed": false
   },
   "outputs": [
    {
     "name": "stdout",
     "output_type": "stream",
     "text": [
      "('halo_upid', 'halo_first_acc_mvir', 'halo_acc_scale', 'halo_rvir', 'halo_vpeak', 'halo_macc', 'halo_first_acc_scale', 'halo_mpeak', 'halo_half_mass_scale', 'halo_mvir', 'halo_T/|U|', 'halo_vmax_at_mpeak', 'halo_pid', 'halo_y', 'halo_x', 'halo_z', 'halo_m200b', 'halo_m200c', 'halo_first_acc_vmax', 'halo_mpeak_scale', 'halo_vmax', 'halo_vacc', 'halo_id', 'halo_vx', 'halo_vy', 'halo_vz', 'halo_rs', 'halo_nfw_conc', 'halo_hostid', 'halo_mvir_host_halo')\n"
     ]
    }
   ],
   "source": [
    "from halotools import sim_manager\n",
    "\n",
    "#load halo catalogue\n",
    "simname = 'bolshoi_250'\n",
    "halocat = sim_manager.CachedHaloCatalog(simname = simname, redshift=0.0, dz_tol = 0.001,\n",
    "                                        version_name='custom', halo_finder='Rockstar')\n",
    "\n",
    "#print out column names of halo catalogue\n",
    "print(halocat.halo_table.dtype.names)"
   ]
  },
  {
   "cell_type": "code",
   "execution_count": 3,
   "metadata": {
    "collapsed": false
   },
   "outputs": [
    {
     "name": "stdout",
     "output_type": "stream",
     "text": [
      "FlatLambdaCDM(H0=70 km / (Mpc s), Om0=0.27, Tcmb0=2.725 K, Neff=3.04, m_nu=[ 0.  0.  0.] eV, Ob0=None)\n"
     ]
    }
   ],
   "source": [
    "#define cosmology used in the simulation\n",
    "from astropy.cosmology import FlatLambdaCDM\n",
    "cosmo = FlatLambdaCDM(H0=70, Om0=0.27) #Bolshoi cosmology\n",
    "print(cosmo)"
   ]
  },
  {
   "cell_type": "markdown",
   "metadata": {},
   "source": [
    "##Build SHAM Models"
   ]
  },
  {
   "cell_type": "code",
   "execution_count": 11,
   "metadata": {
    "collapsed": true
   },
   "outputs": [],
   "source": [
    "from halotools.empirical_models import SubhaloModelFactory\n",
    "\n",
    "#define stellar mass threshold for each mock\n",
    "def galaxy_selection_func(table):\n",
    "    mask = (table['stellar_mass'] >= 10**9.0) & (table['stellar_mass'] < np.inf)\n",
    "    return mask"
   ]
  },
  {
   "cell_type": "markdown",
   "metadata": {},
   "source": [
    "##Rank Order AM on Mpeak (model #1)"
   ]
  },
  {
   "cell_type": "code",
   "execution_count": 112,
   "metadata": {
    "collapsed": false
   },
   "outputs": [
    {
     "name": "stdout",
     "output_type": "stream",
     "text": [
      "('halo_upid', 'halo_hostid', 'halo_mpeak', 'halo_x', 'halo_y', 'halo_id', 'halo_z', 'halo_vx', 'halo_vy', 'halo_vz', 'halo_rvir', 'halo_mvir', 'halo_mvir_host_halo', 'x', 'y', 'z', 'vx', 'vy', 'vz', 'galid', 'stellar_mass')\n"
     ]
    }
   ],
   "source": [
    "from SHAM_model_components import RankSmHm\n",
    "\n",
    "#build model\n",
    "prim_haloprop_key = 'halo_mpeak'\n",
    "mstar_model = RankSmHm(prim_haloprop_key = prim_haloprop_key, Lbox=halocat.Lbox[0], redshift=0.0)\n",
    "composite_model_1 = SubhaloModelFactory(stellar_mass = mstar_model, \n",
    "                                        galaxy_selection_func = galaxy_selection_func)\n",
    "\n",
    "composite_model_1.param_dict['scatter'] = 0.0\n",
    "\n",
    "#populate simulation\n",
    "composite_model_1.populate_mock(halocat = halocat)\n",
    "mock_1 = composite_model_1.mock.galaxy_table\n",
    "print(mock_1.dtype.names)"
   ]
  },
  {
   "cell_type": "markdown",
   "metadata": {},
   "source": [
    "###Fit SMHM Relation"
   ]
  },
  {
   "cell_type": "code",
   "execution_count": 113,
   "metadata": {
    "collapsed": false
   },
   "outputs": [],
   "source": [
    "#define functional form of the SMHM relation\n",
    "\n",
    "def broken_powerlaw_model(logx, y0=10.35, x0=11.8, alpha=0.5, beta=0.65, s=1.0):\n",
    "    \"\"\"\n",
    "    smooth transitioning broken powerlaw model\n",
    "    \"\"\"\n",
    "    y0 = 10.0**y0\n",
    "    x0 = 10.0**x0\n",
    "    logx = np.atleast_1d(logx)\n",
    "    x = 10.0**logx\n",
    "    return np.log10((2.0*y0/x0)*x*((x/x0)**(-1.0*alpha) + s*(x/x0)**(beta))**(-1))"
   ]
  },
  {
   "cell_type": "code",
   "execution_count": 6,
   "metadata": {
    "collapsed": true
   },
   "outputs": [],
   "source": [
    "from scipy.stats import linregress\n",
    "\n",
    "def empirical_SMHM(mstar, mhalo, bins, Nboot=25):\n",
    "    \"\"\"\n",
    "    measure the log mean stellar mass and scatter as a function of halo mass\n",
    "    \"\"\"\n",
    "\n",
    "    x = np.log10(mhalo)\n",
    "    y = np.log10(mstar)\n",
    "\n",
    "    bin_centers = (bins[:-1]+bins[1:])/2.0 #log bins\n",
    "    \n",
    "    std_y = np.zeros((Nboot, len(bins)-1))\n",
    "    mean_y = np.zeros((Nboot, len(bins)-1))\n",
    "    for i in range(0,Nboot):\n",
    "        boot_inds = np.random.randint(0, len(x), len(x))\n",
    "        \n",
    "        xx = x[boot_inds]\n",
    "        yy = y[boot_inds]\n",
    "        \n",
    "        inds = np.digitize(xx, bins=bins)\n",
    "    \n",
    "        for j in range(1,len(bins)):\n",
    "            mask = (inds==j)\n",
    "            m, b, r, p, e = linregress(xx[mask],yy[mask])\n",
    "            yyy = yy[mask] - (m*xx[mask] + b) \n",
    "            std_y[i,j-1] = np.std(yyy)\n",
    "            mean_y[i,j-1] = (m*bin_centers[j-1] + b) \n",
    "    \n",
    "    mean_y_err= np.std(mean_y, axis=0)\n",
    "    mean_y = np.mean(mean_y, axis=0)\n",
    "    std_y_err = np.std(std_y, axis=0)\n",
    "    std_y = np.mean(std_y, axis=0)\n",
    "    \n",
    "    return bin_centers, mean_y, std_y, mean_y_err, std_y_err"
   ]
  },
  {
   "cell_type": "code",
   "execution_count": 116,
   "metadata": {
    "collapsed": false
   },
   "outputs": [
    {
     "name": "stdout",
     "output_type": "stream",
     "text": [
      "y0 = 9.95684145213 +- 0.0137631180179\n",
      "x0 = 11.6790474 +- 0.0143821285884\n",
      "alpha = 0.968819977655 +- 0.0434704218997\n",
      "beta = 0.617142219119 +- 0.00442295503177\n",
      " \n"
     ]
    }
   ],
   "source": [
    "from scipy.stats import binned_statistic\n",
    "from scipy.optimize import curve_fit\n",
    "\n",
    "min_m = 11.2\n",
    "bins = np.arange(min_m,14.5,0.1) #log bins\n",
    "\n",
    "result = empirical_SMHM(mock_1['stellar_mass'], mock_1['halo_mpeak'], bins, Nboot=10)\n",
    "bin_centers, mean_y, std_y,  mean_y_err, std_y_err = result\n",
    "\n",
    "#get linear errors\n",
    "err_plus = 10**(mean_y + mean_y_err)-10**(mean_y)\n",
    "err_minus = 10**(mean_y) - 10**(mean_y - mean_y_err)\n",
    "lin_err = np.vstack((err_minus, err_plus))\n",
    "\n",
    "#fit model\n",
    "popt, cov = curve_fit(broken_powerlaw_model, bin_centers, mean_y,# sigma=mean_y_err,\n",
    "                      p0=[10.35, 11.8, 0.5, 0.65], bounds=([9.0, 10.0, 0.0, 0.0],[12.0, 13.0, 2.0, 2.0]))\n",
    "param_err = np.sqrt(cov.diagonal())\n",
    "print('y0 = {0} +- {1}'.format(popt[0],param_err[0]))\n",
    "print('x0 = {0} +- {1}'.format(popt[1],param_err[1]))\n",
    "print('alpha = {0} +- {1}'.format(popt[2],param_err[2]))\n",
    "print('beta = {0} +- {1}'.format(popt[3],param_err[3]))\n",
    "print(' ')\n",
    "\n",
    "#use parameters to set model\n",
    "smhm_model = lambda x: 10**broken_powerlaw_model(np.log10(x), *popt)"
   ]
  },
  {
   "cell_type": "code",
   "execution_count": 118,
   "metadata": {
    "collapsed": false
   },
   "outputs": [
    {
     "data": {
      "image/png": "[encoded data removed]",
      "text/plain": [
       "<matplotlib.figure.Figure at 0x121a77a90>"
      ]
     },
     "metadata": {},
     "output_type": "display_data"
    },
    {
     "data": {
      "image/png": "[encoded data removed]",
      "text/plain": [
       "<matplotlib.figure.Figure at 0x120a97dd0>"
      ]
     },
     "metadata": {},
     "output_type": "display_data"
    },
    {
     "data": {
      "image/png": "[encoded data removed]",
      "text/plain": [
       "<matplotlib.figure.Figure at 0x12135f1d0>"
      ]
     },
     "metadata": {},
     "output_type": "display_data"
    }
   ],
   "source": [
    "m_sample = np.logspace(9,16,1000)\n",
    "\n",
    "fig = plt.figure(figsize=(3.3,3.3))\n",
    "fig.subplots_adjust(left=0.2, right=0.9, bottom=0.2, top=0.9)\n",
    "plt.errorbar(10**bin_centers, 10**mean_y, yerr=lin_err, fmt='o', ms=2, color='black')\n",
    "plt.plot(m_sample, smhm_model(m_sample), '-', color='red')\n",
    "plt.ylim([10**9.0,10**12.0])\n",
    "plt.xlim([10**10,10**15])\n",
    "plt.xscale('log')\n",
    "plt.yscale('log')\n",
    "plt.xlabel(r'$M_{\\rm peak}~h^{-1}M_{\\odot}$')\n",
    "plt.ylabel(r'$\\langle M_{*}\\rangle~h^{-2}M_{\\odot}$')\n",
    "plt.show()\n",
    "\n",
    "x = 10**bin_centers\n",
    "y = (10**mean_y-smhm_model(10**bin_centers))/smhm_model(10**bin_centers)\n",
    "y_err = lin_err/smhm_model(10**bin_centers)\n",
    "\n",
    "result = np.polyfit(np.log10(x), y, deg=6)#, w=1.0/y_err)\n",
    "p = np.poly1d(result)\n",
    "\n",
    "fig = plt.figure(figsize=(6.6,3.3))\n",
    "fig.subplots_adjust(left=0.2, right=0.9, bottom=0.2, top=0.9)\n",
    "plt.errorbar(x, y, yerr=y_err, fmt='o', ms=2, color='black')\n",
    "plt.plot(m_sample, p(np.log10(m_sample)))\n",
    "plt.plot(m_sample, (smhm_model(m_sample)-smhm_model(m_sample))/smhm_model(m_sample), '-', color='red')\n",
    "plt.ylim([-0.1,0.1])\n",
    "plt.xlim([10**10,10**15])\n",
    "plt.xscale('log')\n",
    "plt.xlabel(r'$M_{\\rm peak}~h^{-1}M_{\\odot}$')\n",
    "plt.ylabel(r'$\\Delta\\langle M_{*}\\rangle$')\n",
    "plt.show()\n",
    "\n",
    "fig = plt.figure(figsize=(3.3,3.3))\n",
    "fig.subplots_adjust(left=0.2, right=0.9, bottom=0.2, top=0.9)\n",
    "plt.errorbar(10**bin_centers, 10**mean_y, yerr=lin_err, fmt='o', ms=2, color='black')\n",
    "plt.plot(m_sample, smhm_model(m_sample), '-', color='red')\n",
    "plt.plot(m_sample, smhm_model(m_sample)+p(np.log10(m_sample))*smhm_model(m_sample), '--', color='red')\n",
    "plt.ylim([10**8.0,10**12.0])\n",
    "plt.xlim([10**10,10**15])\n",
    "plt.xscale('log')\n",
    "plt.yscale('log')\n",
    "plt.xlabel(r'$M_{\\rm peak}~h^{-1}M_{\\odot}$')\n",
    "plt.ylabel(r'$\\langle M_{*}\\rangle~h^{-2}M_{\\odot}$')\n",
    "plt.show()"
   ]
  },
  {
   "cell_type": "markdown",
   "metadata": {},
   "source": [
    "##Rank Order AM on Vpeak (model #2)"
   ]
  },
  {
   "cell_type": "code",
   "execution_count": 12,
   "metadata": {
    "collapsed": false
   },
   "outputs": [
    {
     "name": "stdout",
     "output_type": "stream",
     "text": [
      "('halo_upid', 'halo_hostid', 'halo_x', 'halo_y', 'halo_id', 'halo_z', 'halo_vx', 'halo_vy', 'halo_vz', 'halo_rvir', 'halo_vpeak', 'halo_mvir', 'halo_mvir_host_halo', 'x', 'y', 'z', 'vx', 'vy', 'vz', 'galid', 'stellar_mass')\n",
      "number of galaxies in mock:  483749\n",
      "satellite fraction:  0.287585090615\n"
     ]
    }
   ],
   "source": [
    "from SHAM_model_components import RankSmHm\n",
    "\n",
    "#build model\n",
    "prim_haloprop_key = 'halo_vpeak'\n",
    "mstar_model = RankSmHm(prim_haloprop_key = prim_haloprop_key, Lbox=halocat.Lbox[0], redshift=0.0)\n",
    "composite_model_2 = SubhaloModelFactory(stellar_mass = mstar_model,\n",
    "                                        galaxy_selection_func = galaxy_selection_func)\n",
    "\n",
    "composite_model_2.param_dict['scatter'] = 0.0\n",
    "\n",
    "#populate simulation\n",
    "composite_model_2.populate_mock(halocat = halocat)\n",
    "mock_2 = composite_model_2.mock.galaxy_table\n",
    "print(mock_2.dtype.names)\n",
    "\n",
    "print(\"number of galaxies in mock: \", len(mock_2))\n",
    "f_sat = float(np.sum(mock_2['halo_upid']!=-1))/len(mock_2)\n",
    "print(\"satellite fraction: \", f_sat)"
   ]
  },
  {
   "cell_type": "markdown",
   "metadata": {},
   "source": [
    "###Fit SMVP Relation"
   ]
  },
  {
   "cell_type": "code",
   "execution_count": 4,
   "metadata": {
    "collapsed": true
   },
   "outputs": [],
   "source": [
    "#define functional form of the SMHM relation\n",
    "\n",
    "def broken_powerlaw_model(logx, y0=10.0, x0=2.2, alpha=-4.5, beta=-0.2, s=1.0):\n",
    "    \"\"\"\n",
    "    smooth transitioning broken powerlaw model\n",
    "    \"\"\"\n",
    "    y0 = 10.0**y0\n",
    "    x0 = 10.0**x0\n",
    "    logx = np.atleast_1d(logx)\n",
    "    x = 10.0**logx\n",
    "    return np.log10((2.0*y0/x0)*x*((x/x0)**(alpha) + s*(x/x0)**(beta))**(-1))"
   ]
  },
  {
   "cell_type": "code",
   "execution_count": 17,
   "metadata": {
    "collapsed": false
   },
   "outputs": [
    {
     "name": "stdout",
     "output_type": "stream",
     "text": [
      "y0 = 9.94691445239 +- 0.0153438045223\n",
      "x0 = 2.1810951354 +- 0.00474964734869\n",
      "alpha = -5.95254734483 +- 0.14951554599\n",
      "beta = -0.249567751716 +- 0.0167145909488\n",
      " \n"
     ]
    }
   ],
   "source": [
    "from scipy.stats import binned_statistic\n",
    "from scipy.optimize import curve_fit\n",
    "\n",
    "min_v = 2.0\n",
    "bins = np.arange(min_v,3.1,0.025) #log bins\n",
    "\n",
    "result = empirical_SMHM(mock_2['stellar_mass'], mock_2['halo_vpeak'], bins, Nboot=10)\n",
    "bin_centers, mean_y, std_y,  mean_y_err, std_y_err = result\n",
    "\n",
    "#get linear errors\n",
    "err_plus = 10**(mean_y + mean_y_err)-10**(mean_y)\n",
    "err_minus = 10**(mean_y) - 10**(mean_y - mean_y_err)\n",
    "lin_err = np.vstack((err_minus, err_plus))\n",
    "\n",
    "#fit model\n",
    "\n",
    "popt, cov = curve_fit(broken_powerlaw_model, bin_centers, mean_y,# sigma=mean_y_err,\n",
    "                      p0=[10.0, 2.2, -5, 0.2], bounds=([9.0,0.0,-10.0,-1.0],[10.0,3.0,0.0,2]))\n",
    "param_err = np.sqrt(cov.diagonal())\n",
    "print('y0 = {0} +- {1}'.format(popt[0],param_err[0]))\n",
    "print('x0 = {0} +- {1}'.format(popt[1],param_err[1]))\n",
    "print('alpha = {0} +- {1}'.format(popt[2],param_err[2]))\n",
    "print('beta = {0} +- {1}'.format(popt[3],param_err[3]))\n",
    "print(' ')\n",
    "\n",
    "#use parameters to set model\n",
    "smvp_model = lambda x: 10**broken_powerlaw_model(np.log10(x), *popt)"
   ]
  },
  {
   "cell_type": "code",
   "execution_count": 18,
   "metadata": {
    "collapsed": false
   },
   "outputs": [
    {
     "data": {
      "image/png": "[encoded data removed]",
      "text/plain": [
       "<matplotlib.figure.Figure at 0x11f053950>"
      ]
     },
     "metadata": {},
     "output_type": "display_data"
    },
    {
     "data": {
      "image/png": "[encoded data removed]",
      "text/plain": [
       "<matplotlib.figure.Figure at 0x1222b2090>"
      ]
     },
     "metadata": {},
     "output_type": "display_data"
    },
    {
     "data": {
      "image/png": "[encoded data removed]",
      "text/plain": [
       "<matplotlib.figure.Figure at 0x11c2f1f90>"
      ]
     },
     "metadata": {},
     "output_type": "display_data"
    }
   ],
   "source": [
    "v_sample = np.logspace(1.0,3.5,1000)\n",
    "\n",
    "fig = plt.figure(figsize=(3.3,3.3))\n",
    "fig.subplots_adjust(left=0.2, right=0.9, bottom=0.2, top=0.9)\n",
    "plt.errorbar(10**bin_centers, 10**mean_y, yerr=lin_err, fmt='o', ms=2, color='black')\n",
    "plt.plot(v_sample, smvp_model(v_sample), '-', color='red')\n",
    "plt.plot(v_sample, 10**broken_powerlaw_model(np.log10(v_sample)), '--', color='red')\n",
    "plt.ylim([10**9.0,10**12.0])\n",
    "plt.xlim([10**1.5,10**3.5])\n",
    "plt.xscale('log')\n",
    "plt.yscale('log')\n",
    "plt.xlabel(r'$V_{\\rm peak}~{\\rm km/s}$')\n",
    "plt.ylabel(r'$\\langle M_{*}\\rangle~h^{-2}M_{\\odot}$')\n",
    "plt.show()\n",
    "\n",
    "fig = plt.figure(figsize=(3.3,3.3))\n",
    "fig.subplots_adjust(left=0.2, right=0.9, bottom=0.2, top=0.9)\n",
    "plt.plot(mock_2['halo_vpeak'],mock_2['stellar_mass'],'.', ms=1)\n",
    "plt.plot(v_sample, smvp_model(v_sample), '-', color='red')\n",
    "plt.plot(v_sample, 10**broken_powerlaw_model(np.log10(v_sample)), '--', color='red')\n",
    "plt.ylim([10**9.0,10**12.0])\n",
    "plt.xlim([10**1.5,10**3.5])\n",
    "plt.xscale('log')\n",
    "plt.yscale('log')\n",
    "plt.xlabel(r'$V_{\\rm peak}~{\\rm km/s}$')\n",
    "plt.ylabel(r'$\\langle M_{*}\\rangle~h^{-2}M_{\\odot}$')\n",
    "plt.show()\n",
    "\n",
    "fig = plt.figure(figsize=(6.6,3.3))\n",
    "fig.subplots_adjust(left=0.2, right=0.9, bottom=0.2, top=0.9)\n",
    "plt.errorbar(10**bin_centers, (10**mean_y-smvp_model(10**bin_centers))/smvp_model(10**bin_centers), yerr=lin_err/smvp_model(10**bin_centers), fmt='o', ms=2, color='black')\n",
    "plt.plot(v_sample, (smvp_model(v_sample)-smvp_model(v_sample))/smvp_model(v_sample), '-', color='red')\n",
    "plt.ylim([-0.1,0.1])\n",
    "plt.xlim([10**1.5,10**3.5])\n",
    "plt.xscale('log')\n",
    "plt.xlabel(r'$M_{\\rm peak}~h^{-1}M_{\\odot}$')\n",
    "plt.ylabel(r'$\\Delta \\langle M_{*}\\rangle$')\n",
    "plt.show()"
   ]
  },
  {
   "cell_type": "markdown",
   "metadata": {
    "collapsed": true
   },
   "source": [
    "##Fit dependence of RV on $\\sigma_{\\log(M_*)}$"
   ]
  },
  {
   "cell_type": "code",
   "execution_count": 15,
   "metadata": {
    "collapsed": true
   },
   "outputs": [],
   "source": [
    "composite_model_2.param_dict['scatter'] = 0.0\n",
    "composite_model_2.populate_mock(halocat = halocat)\n",
    "mock_2_00 = composite_model_2.mock.galaxy_table\n",
    "\n",
    "composite_model_2.param_dict['scatter'] = 0.05\n",
    "composite_model_2.populate_mock(halocat = halocat)\n",
    "mock_2_05 = composite_model_2.mock.galaxy_table\n",
    "\n",
    "composite_model_2.param_dict['scatter'] = 0.1\n",
    "composite_model_2.populate_mock(halocat = halocat)\n",
    "mock_2_10 = composite_model_2.mock.galaxy_table\n",
    "\n",
    "composite_model_2.param_dict['scatter'] = 0.15\n",
    "composite_model_2.populate_mock(halocat = halocat)\n",
    "mock_2_15 = composite_model_2.mock.galaxy_table\n",
    "\n",
    "composite_model_2.param_dict['scatter'] = 0.20\n",
    "composite_model_2.populate_mock(halocat = halocat)\n",
    "mock_2_20 = composite_model_2.mock.galaxy_table\n",
    "\n",
    "composite_model_2.param_dict['scatter'] = 0.25\n",
    "composite_model_2.populate_mock(halocat = halocat)\n",
    "mock_2_25 = composite_model_2.mock.galaxy_table\n",
    "\n",
    "composite_model_2.param_dict['scatter'] = 0.30\n",
    "composite_model_2.populate_mock(halocat = halocat)\n",
    "mock_2_30 = composite_model_2.mock.galaxy_table"
   ]
  },
  {
   "cell_type": "code",
   "execution_count": 345,
   "metadata": {
    "collapsed": false
   },
   "outputs": [
    {
     "data": {
      "image/png": "[encoded data removed]",
      "text/plain": [
       "<matplotlib.figure.Figure at 0x114aece50>"
      ]
     },
     "metadata": {},
     "output_type": "display_data"
    },
    {
     "data": {
      "image/png": "[encoded data removed]",
      "text/plain": [
       "<matplotlib.figure.Figure at 0x1161c8ed0>"
      ]
     },
     "metadata": {},
     "output_type": "display_data"
    },
    {
     "data": {
      "image/png": "[encoded data removed]",
      "text/plain": [
       "<matplotlib.figure.Figure at 0x11405ed90>"
      ]
     },
     "metadata": {},
     "output_type": "display_data"
    },
    {
     "data": {
      "image/png": "[encoded data removed]",
      "text/plain": [
       "<matplotlib.figure.Figure at 0x115bc6d50>"
      ]
     },
     "metadata": {},
     "output_type": "display_data"
    }
   ],
   "source": [
    "def fit_smvp_model(mock, verbose=False):\n",
    "    \n",
    "    x = np.log10(np.array(mock['halo_vpeak']))\n",
    "    y = np.log10(np.array(mock['stellar_mass']))\n",
    "    \n",
    "    mask = (y<9.6)\n",
    "    min_v = 1.5*np.std(x[mask]) + np.median(x[mask])\n",
    "    bins = np.arange(min_v,3.1,0.025) #log bins\n",
    "\n",
    "    result = empirical_SMHM(mock['stellar_mass'], mock['halo_vpeak'], bins, Nboot=10)\n",
    "    bin_centers, mean_y, std_y,  mean_y_err, std_y_err = result\n",
    "\n",
    "    #get linear errors\n",
    "    err_plus = 10**(mean_y + mean_y_err)-10**(mean_y)\n",
    "    err_minus = 10**(mean_y) - 10**(mean_y - mean_y_err)\n",
    "    lin_err = np.vstack((err_minus, err_plus))\n",
    "\n",
    "    #fit model\n",
    "    popt, cov = curve_fit(broken_powerlaw_model, median_x, mean_y, sigma=mean_y_err,\n",
    "                          p0=[10.0, 2.2, -5, 0.2], bounds=([9.0,0.0,-10.0,-1.0],[11.0,3.0,0.0,2]))\n",
    "    param_err = np.sqrt(cov.diagonal())\n",
    "    if verbose:\n",
    "        print('y0 = {0} +- {1}'.format(popt[0],param_err[0]))\n",
    "        print('x0 = {0} +- {1}'.format(popt[1],param_err[1]))\n",
    "        print('alpha = {0} +- {1}'.format(popt[2],param_err[2]))\n",
    "        print('beta = {0} +- {1}'.format(popt[3],param_err[3]))\n",
    "        print(' ')\n",
    "    \n",
    "    return popt, param_err\n",
    "\n",
    "#get model parameters for each mock\n",
    "popt_00, err_00 = fit_smvp_model(mock_2_00)\n",
    "popt_05, err_05 = fit_smvp_model(mock_2_05)\n",
    "popt_10, err_10 = fit_smvp_model(mock_2_10)\n",
    "popt_15, err_15 = fit_smvp_model(mock_2_15)\n",
    "popt_20, err_20 = fit_smvp_model(mock_2_20)\n",
    "popt_25, err_25 = fit_smvp_model(mock_2_25)\n",
    "popt_30, err_30 = fit_smvp_model(mock_2_30)\n",
    "\n",
    "sigmas = np.array([0,0.05,0.1,0.15,0.2,0.25,0.3])\n",
    "y0s = np.array([popt_00[0],popt_05[0],popt_10[0],popt_15[0],popt_20[0],popt_25[0],popt_30[0]])\n",
    "x0s = np.array([popt_00[1],popt_05[1],popt_10[1],popt_15[1],popt_20[1],popt_25[1],popt_30[1]])\n",
    "alphas = np.array([popt_00[2],popt_05[2],popt_10[2],popt_15[2],popt_20[2],popt_25[2],popt_30[2]])\n",
    "betas = np.array([popt_00[3],popt_05[3],popt_10[3],popt_15[3],popt_20[3],popt_25[3],popt_30[3]])\n",
    "\n",
    "y0s_err = np.array([err_00[0],err_05[0],err_10[0],err_15[0],err_20[0],err_25[0],err_30[0]])\n",
    "x0s_err = np.array([err_00[1],err_05[1],err_10[1],err_15[1],err_20[1],err_25[1],err_30[1]])\n",
    "alphas_err  = np.array([err_00[2],err_05[2],err_10[2],err_15[2],err_20[2],err_25[2],err_30[2]])\n",
    "betas_err  = np.array([err_00[3],err_05[3],err_10[3],err_15[3],err_20[3],err_25[3],err_30[3]])\n",
    "\n",
    "fig = plt.figure(figsize=(3.3,3.3))\n",
    "fig.subplots_adjust(left=0.2, right=0.9, bottom=0.2, top=0.9)\n",
    "plt.errorbar(sigmas, y0s, yerr=y0s_err, fmt='o', mec='none', color='black', ms=4)\n",
    "plt.xlim([-0.05,0.35])\n",
    "plt.show()\n",
    "\n",
    "fig = plt.figure(figsize=(3.3,3.3))\n",
    "fig.subplots_adjust(left=0.2, right=0.9, bottom=0.2, top=0.9)\n",
    "plt.errorbar(sigmas, x0s, yerr=x0s_err, fmt='o', mec='none', color='black', ms=4)\n",
    "plt.xlim([-0.05,0.35])\n",
    "plt.show()\n",
    "\n",
    "fig = plt.figure(figsize=(3.3,3.3))\n",
    "fig.subplots_adjust(left=0.2, right=0.9, bottom=0.2, top=0.9)\n",
    "plt.errorbar(sigmas, alphas, yerr=alphas_err, fmt='o', mec='none', color='black', ms=4)\n",
    "plt.xlim([-0.05,0.35])\n",
    "plt.show()\n",
    "\n",
    "fig = plt.figure(figsize=(3.3,3.3))\n",
    "fig.subplots_adjust(left=0.2, right=0.9, bottom=0.2, top=0.9)\n",
    "plt.errorbar(sigmas, betas, yerr=betas_err, fmt='o', mec='none', color='black', ms=4)\n",
    "plt.xlim([-0.05,0.35])\n",
    "plt.show()"
   ]
  },
  {
   "cell_type": "code",
   "execution_count": 347,
   "metadata": {
    "collapsed": false
   },
   "outputs": [
    {
     "name": "stdout",
     "output_type": "stream",
     "text": [
      "x0 = 0.476266680208 +- 0.0408018733164\n",
      "alpha = 2.1184395692 +- 0.357199582502\n",
      "b = 8.99664839272 +- 0.012098714121\n",
      " \n"
     ]
    },
    {
     "data": {
      "image/png": "[encoded data removed]",
      "text/plain": [
       "<matplotlib.figure.Figure at 0x115f73c50>"
      ]
     },
     "metadata": {},
     "output_type": "display_data"
    }
   ],
   "source": [
    "def exp_model(x, x0=0.5, alpha=1.5, b=-1.2, a=1.0):\n",
    "    return a*np.exp((x/x0)**alpha) + b\n",
    "\n",
    "popt, cov = curve_fit(exp_model, sigmas, y0s, sigma=y0s_err, p0=[0.5,1.5,10.0])\n",
    "param_err = np.sqrt(cov.diagonal())\n",
    "print('x0 = {0} +- {1}'.format(popt[0],param_err[0]))\n",
    "print('alpha = {0} +- {1}'.format(popt[1],param_err[1]))\n",
    "print('b = {0} +- {1}'.format(popt[2],param_err[2]))\n",
    "#print('a = {0} +- {1}'.format(popt[3],param_err[3]))\n",
    "print(' ')\n",
    "\n",
    "y0_model = lambda x: exp_model(x, *popt)\n",
    "\n",
    "x_sample = np.linspace(0,0.3,100)\n",
    "\n",
    "fig = plt.figure(figsize=(3.3,3.3))\n",
    "fig.subplots_adjust(left=0.2, right=0.9, bottom=0.2, top=0.9)\n",
    "plt.errorbar(sigmas, y0s, yerr=y0s_err, fmt='o', mec='none', color='black', ms=4)\n",
    "plt.plot(x_sample, y0_model(x_sample), '-', color='red')\n",
    "plt.xlim([-0.05,0.35])\n",
    "plt.show()"
   ]
  },
  {
   "cell_type": "code",
   "execution_count": 348,
   "metadata": {
    "collapsed": false
   },
   "outputs": [
    {
     "name": "stdout",
     "output_type": "stream",
     "text": [
      "x0 = 0.504665468139 +- 0.0297877386834\n",
      "alpha = 2.84627245914 +- 0.262326036949\n",
      "b = 1.19657219325 +- 0.00234784583003\n",
      " \n"
     ]
    },
    {
     "data": {
      "image/png": "[encoded data removed]",
      "text/plain": [
       "<matplotlib.figure.Figure at 0x11476b8d0>"
      ]
     },
     "metadata": {},
     "output_type": "display_data"
    }
   ],
   "source": [
    "def exp_model(x, x0=0.5, alpha=1.5, b=-1.2, a=1.0):\n",
    "    return a*np.exp((x/x0)**alpha) + b\n",
    "\n",
    "popt, cov = curve_fit(exp_model, sigmas, x0s, sigma=x0s_err, p0=[0.5,1.5,2.0])\n",
    "param_err = np.sqrt(cov.diagonal())\n",
    "print('x0 = {0} +- {1}'.format(popt[0],param_err[0]))\n",
    "print('alpha = {0} +- {1}'.format(popt[1],param_err[1]))\n",
    "print('b = {0} +- {1}'.format(popt[2],param_err[2]))\n",
    "#print('a = {0} +- {1}'.format(popt[3],param_err[3]))\n",
    "print(' ')\n",
    "\n",
    "x0_model = lambda x: exp_model(x, *popt)\n",
    "\n",
    "x_sample = np.linspace(0,0.3,100)\n",
    "\n",
    "fig = plt.figure(figsize=(3.3,3.3))\n",
    "fig.subplots_adjust(left=0.2, right=0.9, bottom=0.2, top=0.9)\n",
    "plt.errorbar(sigmas, x0s, yerr=x0s_err, fmt='o', mec='none', color='black', ms=4)\n",
    "plt.plot(x_sample, x0_model(x_sample), '-', color='red')\n",
    "plt.xlim([-0.05,0.35])\n",
    "plt.show()"
   ]
  },
  {
   "cell_type": "code",
   "execution_count": 349,
   "metadata": {
    "collapsed": false
   },
   "outputs": [
    {
     "name": "stdout",
     "output_type": "stream",
     "text": [
      "x0 = 0.214526377611 +- 0.0183303683477\n",
      "alpha = 1.06367841191 +- 0.218974010869\n",
      "b = -5.71993003562 +- 0.156168072496\n",
      " \n"
     ]
    },
    {
     "data": {
      "image/png": "[encoded data removed]",
      "text/plain": [
       "<matplotlib.figure.Figure at 0x115b3e0d0>"
      ]
     },
     "metadata": {},
     "output_type": "display_data"
    }
   ],
   "source": [
    "def exp_model(x, x0=0.5, alpha=1.5, b=-1.2, a=1.0):\n",
    "    return a*np.exp((x/x0)**alpha) + b\n",
    "\n",
    "popt, cov = curve_fit(exp_model, sigmas, alphas, sigma=alphas_err, p0=[0.5,1.5,-4.5])\n",
    "param_err = np.sqrt(cov.diagonal())\n",
    "print('x0 = {0} +- {1}'.format(popt[0],param_err[0]))\n",
    "print('alpha = {0} +- {1}'.format(popt[1],param_err[1]))\n",
    "print('b = {0} +- {1}'.format(popt[2],param_err[2]))\n",
    "#print('a = {0} +- {1}'.format(popt[3],param_err[3]))\n",
    "print(' ')\n",
    "\n",
    "alpha_model = lambda x: exp_model(x, *popt)\n",
    "\n",
    "x_sample = np.linspace(0,0.3,100)\n",
    "\n",
    "fig = plt.figure(figsize=(3.3,3.3))\n",
    "fig.subplots_adjust(left=0.2, right=0.9, bottom=0.2, top=0.9)\n",
    "plt.errorbar(sigmas, alphas, yerr=alphas_err, fmt='o', mec='none', color='black', ms=4)\n",
    "plt.plot(x_sample, alpha_model(x_sample), '-', color='red')\n",
    "plt.xlim([-0.05,0.35])\n",
    "plt.show()"
   ]
  },
  {
   "cell_type": "code",
   "execution_count": 346,
   "metadata": {
    "collapsed": false
   },
   "outputs": [
    {
     "name": "stdout",
     "output_type": "stream",
     "text": [
      "x0 = 0.318402892969 +- 0.00629313370839\n",
      "alpha = 1.99789027811 +- 0.156690530056\n",
      "b = -1.20897149458 +- 0.0141943093655\n",
      " \n"
     ]
    },
    {
     "data": {
      "image/png": "[encoded data removed]",
      "text/plain": [
       "<matplotlib.figure.Figure at 0x115fc9c10>"
      ]
     },
     "metadata": {},
     "output_type": "display_data"
    }
   ],
   "source": [
    "def exp_model(x, x0=0.5, alpha=1.5, b=-1.2, a=1.0):\n",
    "    return a*np.exp((x/x0)**alpha) + b\n",
    "\n",
    "popt, cov = curve_fit(exp_model, sigmas, betas, sigma=betas_err, p0=[0.5,1.5,-1.2])\n",
    "param_err = np.sqrt(cov.diagonal())\n",
    "print('x0 = {0} +- {1}'.format(popt[0],param_err[0]))\n",
    "print('alpha = {0} +- {1}'.format(popt[1],param_err[1]))\n",
    "print('b = {0} +- {1}'.format(popt[2],param_err[2]))\n",
    "#print('a = {0} +- {1}'.format(popt[3],param_err[3]))\n",
    "print(' ')\n",
    "\n",
    "beta_model = lambda x: exp_model(x, *popt)\n",
    "\n",
    "x_sample = np.linspace(0,0.3,100)\n",
    "\n",
    "fig = plt.figure(figsize=(3.3,3.3))\n",
    "fig.subplots_adjust(left=0.2, right=0.9, bottom=0.2, top=0.9)\n",
    "plt.errorbar(sigmas, betas, yerr=betas_err, fmt='o', mec='none', color='black', ms=4)\n",
    "plt.plot(x_sample, beta_model(x_sample), '-', color='red')\n",
    "plt.xlim([-0.05,0.35])\n",
    "plt.show()"
   ]
  },
  {
   "cell_type": "code",
   "execution_count": 337,
   "metadata": {
    "collapsed": false
   },
   "outputs": [
    {
     "name": "stdout",
     "output_type": "stream",
     "text": [
      "x0 = 0.430318579252 +- 0.0130520320995\n",
      "alpha = 1.91869795173 +- 0.0928067535698\n",
      "b = -1.20814949614 +- 0.00435726383479\n",
      " \n"
     ]
    }
   ],
   "source": [
    "popt, cov = curve_fit(exp_model, sigmas, betas, sigma=betas_err, p0=[0.5,1.5,-1.2])\n",
    "param_err = np.sqrt(cov.diagonal())\n",
    "print('x0 = {0} +- {1}'.format(popt[0],param_err[0]))\n",
    "print('alpha = {0} +- {1}'.format(popt[1],param_err[1]))\n",
    "print('b = {0} +- {1}'.format(popt[2],param_err[2]))\n",
    "#print('a = {0} +- {1}'.format(popt[3],param_err[3]))\n",
    "print(' ')"
   ]
  },
  {
   "cell_type": "code",
   "execution_count": 1,
   "metadata": {
    "collapsed": false
   },
   "outputs": [],
   "source": [
    "from SHAM_model_components import ParamSmHm"
   ]
  },
  {
   "cell_type": "code",
   "execution_count": 8,
   "metadata": {
    "collapsed": false
   },
   "outputs": [
    {
     "data": {
      "image/png": "[encoded data removed]",
      "text/plain": [
       "<matplotlib.figure.Figure at 0x120d41810>"
      ]
     },
     "metadata": {},
     "output_type": "display_data"
    }
   ],
   "source": [
    "smvp_model = ParamSmHm()\n",
    "v_sample = np.logspace(1.0,3.5,1000)\n",
    "\n",
    "fig = plt.figure(figsize=(3.3,3.3))\n",
    "fig.subplots_adjust(left=0.2, right=0.9, bottom=0.2, top=0.9)\n",
    "plt.plot(v_sample, smvp_model.mean_stellar_mass(prim_haloprop=v_sample, scatter=0.0), '-', color='red', alpha=1.0)\n",
    "plt.plot(v_sample, smvp_model.mean_stellar_mass(prim_haloprop=v_sample, scatter=0.05), '-', color='red', alpha=1.0)\n",
    "plt.plot(v_sample, smvp_model.mean_stellar_mass(prim_haloprop=v_sample, scatter=0.1), '-', color='red', alpha=0.8)\n",
    "plt.plot(v_sample, smvp_model.mean_stellar_mass(prim_haloprop=v_sample, scatter=0.15), '-', color='red', alpha=0.8)\n",
    "plt.plot(v_sample, smvp_model.mean_stellar_mass(prim_haloprop=v_sample, scatter=0.2), '-', color='red', alpha=0.6)\n",
    "plt.plot(v_sample, smvp_model.mean_stellar_mass(prim_haloprop=v_sample, scatter=0.25), '-', color='red', alpha=0.6)\n",
    "plt.plot(v_sample, smvp_model.mean_stellar_mass(prim_haloprop=v_sample, scatter=0.3), '-', color='red', alpha=0.4)\n",
    "plt.ylim([10**9.0,10**12.0])\n",
    "plt.xlim([10**1.5,10**3.5])\n",
    "plt.xscale('log')\n",
    "plt.yscale('log')\n",
    "plt.xlabel(r'$V_{\\rm peak}~{\\rm km/s}$')\n",
    "plt.ylabel(r'$\\langle M_{*}\\rangle~h^{-2}M_{\\odot}$')\n",
    "plt.show()"
   ]
  },
  {
   "cell_type": "markdown",
   "metadata": {
    "collapsed": true
   },
   "source": [
    "##Fit dependence of RM on $\\sigma_{\\log(M_*)}$"
   ]
  },
  {
   "cell_type": "code",
   "execution_count": null,
   "metadata": {
    "collapsed": true
   },
   "outputs": [],
   "source": [
    "composite_model_1.param_dict['scatter'] = 0.0\n",
    "composite_model_1.populate_mock(halocat = halocat)\n",
    "mock_1_00 = composite_model_1.mock.galaxy_table\n",
    "\n",
    "composite_model_1.param_dict['scatter'] = 0.05\n",
    "composite_model_1.populate_mock(halocat = halocat)\n",
    "mock_1_05 = composite_model_1.mock.galaxy_table\n",
    "\n",
    "composite_model_1.param_dict['scatter'] = 0.1\n",
    "composite_model_1.populate_mock(halocat = halocat)\n",
    "mock_1_10 = composite_model_1.mock.galaxy_table\n",
    "\n",
    "composite_model_1.param_dict['scatter'] = 0.15\n",
    "composite_model_1.populate_mock(halocat = halocat)\n",
    "mock_1_15 = composite_model_1.mock.galaxy_table\n",
    "\n",
    "composite_model_1.param_dict['scatter'] = 0.20\n",
    "composite_model_1.populate_mock(halocat = halocat)\n",
    "mock_1_20 = composite_model_1.mock.galaxy_table\n",
    "\n",
    "composite_model_1.param_dict['scatter'] = 0.25\n",
    "composite_model_1.populate_mock(halocat = halocat)\n",
    "mock_1_25 = composite_model_1.mock.galaxy_table\n",
    "\n",
    "composite_model_1.param_dict['scatter'] = 0.30\n",
    "composite_model_1.populate_mock(halocat = halocat)\n",
    "mock_1_30 = composite_model_1.mock.galaxy_table"
   ]
  }
 ],
 "metadata": {
  "kernelspec": {
   "display_name": "Python 2",
   "language": "python",
   "name": "python2"
  },
  "language_info": {
   "codemirror_mode": {
    "name": "ipython",
    "version": 2
   },
   "file_extension": ".py",
   "mimetype": "text/x-python",
   "name": "python",
   "nbconvert_exporter": "python",
   "pygments_lexer": "ipython2",
   "version": "2.7.13"
  }
 },
 "nbformat": 4,
 "nbformat_minor": 0
}
