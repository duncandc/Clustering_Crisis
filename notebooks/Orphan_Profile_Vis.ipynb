{
 "cells": [
  {
   "cell_type": "code",
   "execution_count": 1,
   "metadata": {
    "collapsed": true
   },
   "outputs": [],
   "source": [
    "#add project directory to python path\n",
    "import sys\n",
    "sys.path.append(\"..\")\n",
    "#import standard packages\n",
    "import numpy as np\n",
    "import matplotlib.pyplot as plt\n",
    "from __future__ import print_function, division\n",
    "%matplotlib inline\n",
    "from default import PROJECT_DIRECTORY, DATA_DIRECTORY"
   ]
  },
  {
   "cell_type": "markdown",
   "metadata": {},
   "source": [
    "#Orphan Profile"
   ]
  },
  {
   "cell_type": "markdown",
   "metadata": {},
   "source": [
    "##Load Halo Catlaogue"
   ]
  },
  {
   "cell_type": "code",
   "execution_count": 2,
   "metadata": {
    "collapsed": false
   },
   "outputs": [
    {
     "name": "stdout",
     "output_type": "stream",
     "text": [
      "halo_upid\n",
      "halo_first_acc_mvir\n",
      "halo_acc_scale\n",
      "halo_rvir\n",
      "halo_vpeak\n",
      "halo_macc\n",
      "halo_first_acc_scale\n",
      "halo_vy\n",
      "halo_clone\n",
      "halo_donor_ind\n",
      "halo_half_mass_scale\n",
      "halo_mvir\n",
      "halo_T/|U|\n",
      "halo_vmax_at_mpeak\n",
      "halo_hostid\n",
      "halo_y\n",
      "halo_pid\n",
      "halo_x\n",
      "halo_z\n",
      "halo_m200b\n",
      "halo_m200c\n",
      "halo_mvir_host_halo\n",
      "halo_first_acc_vmax\n",
      "halo_mpeak_scale\n",
      "halo_vmax\n",
      "halo_vacc\n",
      "halo_nfw_conc\n",
      "halo_id\n",
      "halo_vx\n",
      "halo_mpeak\n",
      "halo_vz\n",
      "halo_rs\n",
      "number of (sub-)haloes:  19301666\n"
     ]
    }
   ],
   "source": [
    "#load dark matter simulation\n",
    "from halotools import sim_manager\n",
    "\n",
    "#load halo catalogue to populate for mocks\n",
    "simname = 'bolshoi_250'\n",
    "halocat_1 = sim_manager.CachedHaloCatalog(simname = 'bolshoi_250', redshift=0.0, dz_tol=0.001,\n",
    "                                          version_name='custom_w_clones_sub', halo_finder='Rockstar')\n",
    "\n",
    "#print out column names\n",
    "for name in halocat_1.halo_table.colnames: print(name)\n",
    "print(\"number of (sub-)haloes: \", len(halocat_1.halo_table))"
   ]
  },
  {
   "cell_type": "code",
   "execution_count": null,
   "metadata": {
    "collapsed": true
   },
   "outputs": [],
   "source": [
    "#set cosmology\n",
    "from astropy.cosmology import FlatLambdaCDM\n",
    "cosmo = FlatLambdaCDM(H0=70, Om0=0.27) #Bolshoi cosmology"
   ]
  },
  {
   "cell_type": "markdown",
   "metadata": {},
   "source": [
    "##Load Clone Halo Catalogue"
   ]
  },
  {
   "cell_type": "code",
   "execution_count": 3,
   "metadata": {
    "collapsed": false
   },
   "outputs": [
    {
     "name": "stdout",
     "output_type": "stream",
     "text": [
      "halo_upid\n",
      "halo_first_acc_mvir\n",
      "halo_acc_scale\n",
      "halo_rvir\n",
      "halo_vpeak\n",
      "halo_macc\n",
      "halo_first_acc_scale\n",
      "halo_vy\n",
      "halo_clone\n",
      "halo_donor_ind\n",
      "halo_half_mass_scale\n",
      "halo_mvir\n",
      "halo_T/|U|\n",
      "halo_vmax_at_mpeak\n",
      "halo_hostid\n",
      "halo_y\n",
      "halo_pid\n",
      "halo_x\n",
      "halo_z\n",
      "halo_m200b\n",
      "halo_m200c\n",
      "halo_mvir_host_halo\n",
      "halo_first_acc_vmax\n",
      "halo_mpeak_scale\n",
      "halo_vmax\n",
      "halo_vacc\n",
      "halo_nfw_conc\n",
      "halo_id\n",
      "halo_vx\n",
      "halo_mpeak\n",
      "halo_vz\n",
      "halo_rs\n",
      "number of (sub-)haloes:  19301666\n",
      " \n"
     ]
    }
   ],
   "source": [
    "#load dark matter simulation\n",
    "from halotools import sim_manager\n",
    "\n",
    "halocat_2 = sim_manager.CachedHaloCatalog(simname = 'bolshoi_250', redshift=0.0, dz_tol=0.001,\n",
    "                                          version_name='custom_w_clones_ptcl', halo_finder='Rockstar')\n",
    "\n",
    "#print out column names\n",
    "for name in halocat_2.halo_table.colnames: print(name)\n",
    "print(\"number of (sub-)haloes: \", len(halocat_2.halo_table))\n",
    "print(\" \")"
   ]
  },
  {
   "cell_type": "markdown",
   "metadata": {},
   "source": [
    "##Load Clone Table"
   ]
  },
  {
   "cell_type": "code",
   "execution_count": 5,
   "metadata": {
    "collapsed": false
   },
   "outputs": [
    {
     "name": "stdout",
     "output_type": "stream",
     "text": [
      "clone_ind\n",
      "host_ind\n",
      "halo_id\n",
      "halo_hostid\n",
      "halo_r_sub\n",
      "halo_x_sub\n",
      "halo_y_sub\n",
      "halo_z_sub\n",
      "halo_vx_sub\n",
      "halo_vy_sub\n",
      "halo_vz_sub\n",
      "halo_x_ptcl\n",
      "halo_y_ptcl\n",
      "halo_z_ptcl\n",
      "halo_vx_ptcl\n",
      "halo_vy_ptcl\n",
      "halo_vz_ptcl\n",
      "halo_r_ptcl\n",
      "number of (sub-)haloes:  13139980\n"
     ]
    }
   ],
   "source": [
    "#load clone halo table\n",
    "from astropy.table import Table\n",
    "\n",
    "filepath  = DATA_DIRECTORY\n",
    "clone_table = Table.read(filepath + 'Bolshoi_250_clone_halo_table.hdf5', path='data')\n",
    "\n",
    "for name in clone_table.dtype.names: print(name)\n",
    "print(\"number of (sub-)haloes: \", len(clone_table))"
   ]
  },
  {
   "cell_type": "markdown",
   "metadata": {},
   "source": [
    "##Load Particle Data"
   ]
  },
  {
   "cell_type": "code",
   "execution_count": 6,
   "metadata": {
    "collapsed": false
   },
   "outputs": [
    {
     "name": "stdout",
     "output_type": "stream",
     "text": [
      "particleId\n",
      "halo_index\n",
      "halo_id\n",
      "y\n",
      "r\n",
      "x\n",
      "vx\n",
      "vy\n",
      "vz\n",
      "z\n",
      "Number of particles: 85883595\n"
     ]
    }
   ],
   "source": [
    "#load down-sampled particle table\n",
    "import h5py\n",
    "\n",
    "#filepath = DATA_DIRECTORY\n",
    "filepath = \"/Volumes/burt/simulations/processed/Bolshoi/\"\n",
    "filename = \"bolshoi_ptcls_0.01_custom.hdf5\"\n",
    "f = h5py.File(filepath + filename, \"r\")\n",
    "ptcl_table = f.get('data')\n",
    "\n",
    "#print out column names\n",
    "for name in ptcl_table.dtype.names: print(name)\n",
    "N_ptcl = len(ptcl_table) \n",
    "\n",
    "print(\"Number of particles: {0}\".format(N_ptcl))"
   ]
  },
  {
   "cell_type": "markdown",
   "metadata": {},
   "source": [
    "##Choose Host-halo"
   ]
  },
  {
   "cell_type": "code",
   "execution_count": 7,
   "metadata": {
    "collapsed": false
   },
   "outputs": [
    {
     "name": "stdout",
     "output_type": "stream",
     "text": [
      "halo_id:  3060299107\n",
      "mass:  1.643e+14\n",
      "position:  35.725 43.2765 17.713\n"
     ]
    }
   ],
   "source": [
    "#choose host-halo to examine\n",
    "\n",
    "#select a host\n",
    "mask_1 = (halocat_1.halo_table['halo_upid']==-1) & (halocat_1.halo_table['halo_first_acc_scale']>=1.0)\n",
    "\n",
    "#mass cut\n",
    "mask_2 = (halocat_1.halo_table['halo_mvir']>10**14)\n",
    "\n",
    "#combine masks\n",
    "mask = (mask_1 & mask_2)\n",
    "\n",
    "#select the nth\n",
    "i = 0\n",
    "\n",
    "#get halo properties\n",
    "halo_id = halocat_1.halo_table['halo_id'][mask][i]\n",
    "mass = halocat_1.halo_table['halo_mvir'][mask][i]\n",
    "x0 = halocat_1.halo_table['halo_x'][mask][i]\n",
    "y0 = halocat_1.halo_table['halo_y'][mask][i]\n",
    "z0 = halocat_1.halo_table['halo_z'][mask][i]\n",
    "\n",
    "print(\"halo_id: \", halo_id)\n",
    "print(\"mass: \", mass)\n",
    "print(\"position: \", x0, y0, z0)"
   ]
  },
  {
   "cell_type": "markdown",
   "metadata": {},
   "source": [
    "##Select particles and sub-haloes in the host."
   ]
  },
  {
   "cell_type": "code",
   "execution_count": 8,
   "metadata": {
    "collapsed": false
   },
   "outputs": [
    {
     "name": "stdout",
     "output_type": "stream",
     "text": [
      "number of particles: 12940\n"
     ]
    }
   ],
   "source": [
    "#Mpc away from the center\n",
    "dx = 1\n",
    "dy = 1\n",
    "dz = 5\n",
    "\n",
    "#create a mask\n",
    "mask_x = (ptcl_table['x'] > (x0-dx)) & (ptcl_table['x'] < (x0+dx))\n",
    "mask_y = (ptcl_table['y'] > (y0-dy)) & (ptcl_table['y'] < (y0+dy))\n",
    "mask_z = (ptcl_table['z'] > (z0-dz)) & (ptcl_table['z'] < (z0+dz))\n",
    "mask_xyz = (mask_x & mask_y) & mask_z\n",
    "\n",
    "#get coordiates\n",
    "x_ptcl = ptcl_table['x'][mask_xyz]\n",
    "y_ptcl = ptcl_table['y'][mask_xyz]\n",
    "z_ptcl = ptcl_table['z'][mask_xyz]\n",
    "\n",
    "print(\"number of particles: {0}\".format(np.sum(mask_xyz)))"
   ]
  },
  {
   "cell_type": "code",
   "execution_count": 9,
   "metadata": {
    "collapsed": true
   },
   "outputs": [],
   "source": [
    "\"\"\"\n",
    "create surface density map around the halo\n",
    "\"\"\"\n",
    "\n",
    "#bins\n",
    "xbins = np.linspace(x0-dx,x0+dx,50)\n",
    "ybins = np.linspace(y0-dy,y0+dy,50)\n",
    "\n",
    "surface_density = np.histogram2d(x_ptcl, y_ptcl, bins=[xbins,ybins])[0]\n",
    "surface_density = surface_density/(np.diff(xbins)*np.diff(ybins))"
   ]
  },
  {
   "cell_type": "code",
   "execution_count": 11,
   "metadata": {
    "collapsed": false
   },
   "outputs": [
    {
     "name": "stdout",
     "output_type": "stream",
     "text": [
      "number of sub-haloes:  140\n"
     ]
    }
   ],
   "source": [
    "\"\"\"\n",
    "get information about the extant sub-haloes in the selected host halo\n",
    "\"\"\"\n",
    "\n",
    "#number\n",
    "mask_subs = (halocat_1.halo_table['halo_hostid'] == halo_id) & (halocat_1.halo_table['halo_upid']!=-1)\n",
    "mask_subs = (mask_subs) & (halocat_1.halo_table['halo_mpeak']>10**10.5) & (halocat_1.halo_table['halo_clone']==0)\n",
    "print('number of sub-haloes: ', np.sum(mask_subs))\n",
    "\n",
    "#position\n",
    "x_subs = halocat_1.halo_table['halo_x'][mask_subs]\n",
    "y_subs = halocat_1.halo_table['halo_y'][mask_subs]\n",
    "\n",
    "#mass\n",
    "mass = halocat_1.halo_table['halo_mpeak'][mask_subs]\n",
    "\n",
    "#size\n",
    "from cosmo_utils import r_vir\n",
    "rvir =  r_vir(mass, z=0.0, cosmo=cosmo)  \n",
    "\n",
    "#clone positions\n",
    "mask_clones = (clone_table['halo_hostid']==halo_id) & (halocat_1.halo_table['halo_mpeak'][clone_table['clone_ind']] > 10**10.5)\n",
    "ran_nums = np.random.random(np.sum(mask_clones))\n",
    "keep = (ran_nums>0.9)\n",
    "x_clones_a = clone_table['halo_x_sub'][mask_clones][keep]\n",
    "y_clones_a = clone_table['halo_y_sub'][mask_clones][keep]\n",
    "x_clones_b = clone_table['halo_x_ptcl'][mask_clones][keep]\n",
    "y_clones_b = clone_table['halo_y_ptcl'][mask_clones][keep]\n",
    "mass = halocat_1.halo_table['halo_mpeak'][clone_table['clone_ind'][mask_clones][keep]]\n",
    "rvir_clones =  r_vir(mass)  "
   ]
  },
  {
   "cell_type": "code",
   "execution_count": 16,
   "metadata": {
    "collapsed": false
   },
   "outputs": [],
   "source": [
    "\"\"\"\n",
    "get information about the clones sub-haloes in the selected host halo\n",
    "\"\"\"\n",
    "\n",
    "#clone positions\n",
    "mask_clones = (clone_table['halo_hostid']==halo_id) & (halocat_1.halo_table['halo_mpeak'][clone_table['clone_ind']] > 10**10.5)\n",
    "\n",
    "#down-sample clones\n",
    "ran_nums = np.random.random(np.sum(mask_clones))\n",
    "keep = (ran_nums>0.9)\n",
    "\n",
    "#positions\n",
    "x_clones_a = clone_table['halo_x_sub'][mask_clones][keep]\n",
    "y_clones_a = clone_table['halo_y_sub'][mask_clones][keep]\n",
    "x_clones_b = clone_table['halo_x_ptcl'][mask_clones][keep]\n",
    "y_clones_b = clone_table['halo_y_ptcl'][mask_clones][keep]\n",
    "\n",
    "#mass\n",
    "mass = halocat_1.halo_table['halo_mpeak'][clone_table['clone_ind'][mask_clones][keep]]\n",
    "\n",
    "#size\n",
    "from cosmo_utils import r_vir\n",
    "rvir_clones =  r_vir(mass, z=0.0, cosmo=cosmo)"
   ]
  },
  {
   "cell_type": "markdown",
   "metadata": {},
   "source": [
    "##Visual"
   ]
  },
  {
   "cell_type": "code",
   "execution_count": 17,
   "metadata": {
    "collapsed": false
   },
   "outputs": [
    {
     "name": "stderr",
     "output_type": "stream",
     "text": [
      "/anaconda/lib/python2.7/site-packages/IPython/kernel/__main__.py:9: RuntimeWarning: divide by zero encountered in log10\n",
      "/anaconda/lib/python2.7/site-packages/IPython/kernel/__main__.py:31: RuntimeWarning: divide by zero encountered in log10\n"
     ]
    },
    {
     "data": {
      "image/png": "[encoded data removed]",
      "text/plain": [
       "<matplotlib.figure.Figure at 0x1c582dd90>"
      ]
     },
     "metadata": {},
     "output_type": "display_data"
    }
   ],
   "source": [
    "from matplotlib import cm \n",
    "fig, axes = plt.subplots(nrows=2,ncols=1, sharex=True, figsize=(3.3, 6.0))\n",
    "fig.subplots_adjust(hspace=0, wspace=0, left=0.2, right=0.9, bottom=0.1, top=0.88)\n",
    "\n",
    "#upper panel\n",
    "ax = axes[0]\n",
    "ax.set_xlim([x0-dx,x0+dx])\n",
    "ax.set_ylim([y0-dy,y0+dy])\n",
    "im1 = ax.imshow(np.flipud(np.log10(surface_density).T), interpolation='nearest',\n",
    "          extent=[x0-dx, x0+dx, y0-dy, y0+dy], cmap='Greys')\n",
    "\n",
    "#plot sub-halo positions\n",
    "for i in range(0,len(x_subs)):\n",
    "    circle = plt.Circle((x_subs[i], y_subs[i]), rvir[i]/6.0, fill=False, color='black')\n",
    "    ax.add_artist(circle)\n",
    "c1 = ax.scatter(x_subs*0, y_subs*0, color='black', s=30, facecolors='none')\n",
    "\n",
    "#plot clone positions\n",
    "for i in range(0,len(x_clones_a)):\n",
    "    circle = plt.Circle((x_clones_a[i], y_clones_a[i]), rvir_clones[i]/6.0, fill=False, color='red')\n",
    "    ax.add_artist(circle)\n",
    "c2 = ax.scatter(x_clones_a*0, y_clones_a*0, color='red', s=30, facecolors='none')\n",
    "\n",
    "ax.text(35.85, 44.05, r'$\\tt sub-profile$', fontsize=10, bbox=dict(facecolor='white', alpha=1.0, edgecolor='none'))\n",
    "ax.set_ylabel(r'$y ~[h^{-1}{\\rm Mpc}]$')\n",
    "\n",
    "#lower panel\n",
    "ax = axes[1]\n",
    "ax.set_xlim([x0-dx,x0+dx])\n",
    "ax.set_ylim([y0-dy,y0+dy])\n",
    "im2 = ax.imshow(np.flipud(np.log10(surface_density).T), interpolation='nearest',\n",
    "          extent=[x0-dx, x0+dx, y0-dy, y0+dy], cmap='Greys')\n",
    "\n",
    "#plot sub-halo positions\n",
    "for i in range(0,len(x_subs)):\n",
    "    circle = plt.Circle((x_subs[i], y_subs[i]), rvir[i]/6.0, fill=False, color='black')\n",
    "    ax.add_artist(circle)\n",
    "\n",
    "    #plot clone positions\n",
    "for i in range(0,len(x_clones_b)):\n",
    "    circle = plt.Circle((x_clones_b[i], y_clones_b[i]), rvir_clones[i]/6.0, fill=False, color='red')\n",
    "    ax.add_artist(circle)\n",
    "c3 = ax.scatter(x_clones_b*0, y_clones_b*0, color='orange', s=30, facecolors='none')\n",
    "\n",
    "ax.set_xlabel(r'$x ~[h^{-1}{\\rm Mpc}]$')\n",
    "ax.set_ylabel(r'$y ~[h^{-1}{\\rm Mpc}]$')\n",
    "ax.text(35.85, 44.05, r'$\\tt dm-profile$', fontsize=10,  bbox=dict(facecolor='white', alpha=1.0, edgecolor='none'))\n",
    "\n",
    "#colorbar\n",
    "cbar_ax = fig.add_axes([0.2, 0.9, 0.7, 0.02]) #xmin, ymin, +dx, +dy\n",
    "cbar = fig.colorbar(im1, cax=cbar_ax, orientation='horizontal')\n",
    "cbar.ax.xaxis.set_ticks_position('top')\n",
    "cbar.set_label(r'$\\log(\\Sigma_{m})$', labelpad=-23)\n",
    "cbar.ax.xaxis.set_ticks([])\n",
    "\n",
    "plt.show()\n",
    "savepath = PROJECT_DIRECTORY + 'figures/'\n",
    "filename = 'subhalo_positions.pdf'\n",
    "fig.savefig(savepath+filename, dpi=500)"
   ]
  },
  {
   "cell_type": "code",
   "execution_count": null,
   "metadata": {
    "collapsed": true
   },
   "outputs": [],
   "source": []
  }
 ],
 "metadata": {
  "kernelspec": {
   "display_name": "Python 2",
   "language": "python",
   "name": "python2"
  },
  "language_info": {
   "codemirror_mode": {
    "name": "ipython",
    "version": 2
   },
   "file_extension": ".py",
   "mimetype": "text/x-python",
   "name": "python",
   "nbconvert_exporter": "python",
   "pygments_lexer": "ipython2",
   "version": "2.7.13"
  }
 },
 "nbformat": 4,
 "nbformat_minor": 0
}
