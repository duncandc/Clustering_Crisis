{
 "cells": [
  {
   "cell_type": "code",
   "execution_count": 1,
   "metadata": {
    "collapsed": true
   },
   "outputs": [],
   "source": [
    "#add project directory to python path\n",
    "import sys\n",
    "sys.path.append(\"..\")\n",
    "from default import PROJECT_DIRECTORY, DATA_DIRECTORY\n",
    "#import standard packages\n",
    "import numpy as np\n",
    "import matplotlib.pyplot as plt\n",
    "from __future__ import print_function, division\n",
    "%matplotlib inline"
   ]
  },
  {
   "cell_type": "markdown",
   "metadata": {},
   "source": [
    "##Stellar Mass Functions"
   ]
  },
  {
   "cell_type": "code",
   "execution_count": 17,
   "metadata": {
    "collapsed": false
   },
   "outputs": [
    {
     "data": {
      "image/png": "[encoded data removed]",
      "text/plain": [
       "<matplotlib.figure.Figure at 0x116ab2390>"
      ]
     },
     "metadata": {},
     "output_type": "display_data"
    }
   ],
   "source": [
    "from lss_observations.stellar_mass_functions import LiWhite_2009_phi, Baldry_2011_phi, Yang_2012_phi\n",
    "\n",
    "phi_1 = LiWhite_2009_phi()\n",
    "dndm_1 = phi_1.data_table['phi']\n",
    "err_1 = phi_1.data_table['err']\n",
    "m_1 = phi_1.data_table['bin_center']\n",
    "\n",
    "phi_2 = Baldry_2011_phi()\n",
    "dndm_2 = phi_2.data_table['phi']\n",
    "err_2 = phi_2.data_table['err']\n",
    "m_2 = phi_2.data_table['bin_center']\n",
    "\n",
    "phi_3 = Yang_2012_phi()\n",
    "dndm_3 = phi_3.data_table['all']\n",
    "err_3 = phi_3.data_table['all_err']\n",
    "m_3 = phi_3.data_table['bin_center']\n",
    "\n",
    "m_sample = np.logspace(8,12,100)\n",
    "\n",
    "fig = plt.figure(figsize=(3.3,3.3))\n",
    "\n",
    "#upper panel\n",
    "rect = 0.2,0.35,0.7,0.55\n",
    "ax = fig.add_axes(rect)\n",
    "p1 = ax.errorbar(m_1, dndm_1, yerr=err_1, fmt='o', color='black', ms=2, mec='none')\n",
    "p2 = ax.errorbar(m_2, dndm_2, yerr=err_2, fmt='o', color='orange', ms=2, mec='none')\n",
    "p3 = ax.errorbar(m_3*0.7, dndm_3, yerr=err_3, fmt='o', color='purple', ms=2, mec='none')\n",
    "ax.plot(m_sample, phi_1(m_sample), '-', color='black')\n",
    "ax.plot(m_sample, phi_2(m_sample), '-', color='orange')\n",
    "ax.plot(m_sample*0.7, phi_3(m_sample), '-', color='purple')\n",
    "ax.set_xlim([10**9,10**12])\n",
    "ax.set_ylim([10**-6,10**-1])\n",
    "ax.set_yticks([10**-5,10**-4,10**-3,10**-2,10**-1])\n",
    "ax.set_yscale('log')\n",
    "ax.set_xscale('log')\n",
    "ax.set_ylabel(r'$\\phi(M_{*})~[h^{3}{\\rm Mpc}^{-3}{\\rm dex}^{-1}]$', labelpad=-1)\n",
    "ax.xaxis.set_visible(False)\n",
    "\n",
    "#lower panel\n",
    "rect = 0.2,0.15,0.7,0.2\n",
    "ax = fig.add_axes(rect)\n",
    "ax.errorbar(m_1, (dndm_1)/phi_1(m_1), yerr=(err_1)/phi_1(m_1), fmt='o', color='black', ms=2, lw=1)\n",
    "ax.errorbar(m_2, (dndm_2)/phi_1(m_2), yerr=(err_2)/phi_2(m_2), fmt='o', color='orange', ms=2, lw=1)\n",
    "ax.errorbar(m_3*0.7, (dndm_3)/phi_1(m_3), yerr=(err_3)/phi_3(m_3), fmt='o', color='purple', ms=2, lw=1)\n",
    "ax.set_ylim([10**(-0.5),10**(0.5)])\n",
    "#ax.set_yticks([-0.1,0.0,0.1])\n",
    "ax.set_xlim([10**9,10**12])\n",
    "ax.set_yscale('log')\n",
    "ax.set_xscale('log')\n",
    "ax.set_ylabel(r'$\\Delta\\phi/\\phi_{\\rm SDSS}$', labelpad=-2)\n",
    "ax.set_xlabel(r'$M_{*} ~[h^{-2}M_{\\odot}]$')\n",
    "\n",
    "plt.show()"
   ]
  },
  {
   "cell_type": "markdown",
   "metadata": {},
   "source": [
    "##Stellar Mass Conversions"
   ]
  },
  {
   "cell_type": "code",
   "execution_count": 2,
   "metadata": {
    "collapsed": true
   },
   "outputs": [],
   "source": [
    "from SMHM_model_components import Bell_to_Blanton, Kauffmann_to_Blanton, Moustakas_to_Blanton"
   ]
  },
  {
   "cell_type": "code",
   "execution_count": 3,
   "metadata": {
    "collapsed": false
   },
   "outputs": [],
   "source": [
    "m_bell = np.logspace(8,12,1000)\n",
    "m_kauff = np.logspace(8,12,1000)\n",
    "m_ised = np.logspace(8,12,1000)\n",
    "\n",
    "mstar_conv = Bell_to_Blanton()\n",
    "m_blanton_1 = mstar_conv.convert_stellar_mass(stellar_mass = m_bell)\n",
    "\n",
    "mstar_conv = Kauffmann_to_Blanton()\n",
    "m_blanton_2 = mstar_conv.convert_stellar_mass(stellar_mass = m_kauff)\n",
    "\n",
    "mstar_conv = Moustakas_to_Blanton()\n",
    "m_blanton_3 = mstar_conv.convert_stellar_mass(stellar_mass = m_ised)"
   ]
  },
  {
   "cell_type": "code",
   "execution_count": 5,
   "metadata": {
    "collapsed": false
   },
   "outputs": [
    {
     "data": {
      "image/png": "[encoded data removed]",
      "text/plain": [
       "<matplotlib.figure.Figure at 0x11c394710>"
      ]
     },
     "metadata": {},
     "output_type": "display_data"
    }
   ],
   "source": [
    "fig = plt.figure(figsize=(3.3,3.3))\n",
    "fig.subplots_adjust(left=0.2, right=0.9, bottom=0.2, top=0.9)\n",
    "plt.plot(np.logspace(8,13,100),np.logspace(8,13,100)*0.0 + 1.0, '-', color='grey')\n",
    "p1, = plt.plot(m_bell, m_blanton_1/m_bell, '-', color='orange')\n",
    "p2, = plt.plot(m_kauff, m_blanton_2/m_kauff, '--', color='purple')\n",
    "p3, = plt.plot(m_ised, m_blanton_3/m_ised, ':', color='blue')\n",
    "plt.legend([p3,p2,p1],['Moustakas et al. (2013)','Kauffmann et al. (2003)','Bell et al. (2003)'],\n",
    "           loc='upper right', fontsize=8, frameon=False, numpoints=1)\n",
    "plt.xscale('log')\n",
    "plt.xlabel(r'$M_{*}$')\n",
    "plt.ylabel(r'$M_{\\rm Blanton}/M_*$')\n",
    "plt.xlim([10**9,10**12])\n",
    "plt.ylim([0.5,1.5])\n",
    "plt.show()\n",
    "\n",
    "filepath = PROJECT_DIRECTORY + 'figures/'\n",
    "filename = 'mstar_fconv'\n",
    "fig.savefig(filepath+filename+'.pdf', dpi=300)"
   ]
  },
  {
   "cell_type": "code",
   "execution_count": null,
   "metadata": {
    "collapsed": true
   },
   "outputs": [],
   "source": []
  }
 ],
 "metadata": {
  "kernelspec": {
   "display_name": "Python 2",
   "language": "python",
   "name": "python2"
  },
  "language_info": {
   "codemirror_mode": {
    "name": "ipython",
    "version": 2
   },
   "file_extension": ".py",
   "mimetype": "text/x-python",
   "name": "python",
   "nbconvert_exporter": "python",
   "pygments_lexer": "ipython2",
   "version": "2.7.13"
  }
 },
 "nbformat": 4,
 "nbformat_minor": 0
}
