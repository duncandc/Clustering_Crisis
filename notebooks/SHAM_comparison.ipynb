{
 "cells": [
  {
   "cell_type": "code",
   "execution_count": 1,
   "metadata": {
    "collapsed": true
   },
   "outputs": [],
   "source": [
    "import numpy as np\n",
    "import matplotlib.pyplot as plt\n",
    "from __future__ import print_function, division\n",
    "%matplotlib inline"
   ]
  },
  {
   "cell_type": "markdown",
   "metadata": {},
   "source": [
    "#Compare SHAM Models"
   ]
  },
  {
   "cell_type": "markdown",
   "metadata": {},
   "source": [
    "In this notebook I explore five SHAM models.  For each of these models, I examine the z=0 galaxy clustering signal and the evolution of the stellar mass."
   ]
  },
  {
   "cell_type": "markdown",
   "metadata": {},
   "source": [
    "##Load Simulation"
   ]
  },
  {
   "cell_type": "markdown",
   "metadata": {},
   "source": [
    "Load the halo catalgue which will be populated using each SHAM model."
   ]
  },
  {
   "cell_type": "code",
   "execution_count": 2,
   "metadata": {
    "collapsed": false
   },
   "outputs": [
    {
     "name": "stdout",
     "output_type": "stream",
     "text": [
      "('halo_upid', 'halo_first_acc_mvir', 'halo_acc_scale', 'halo_rvir', 'halo_vpeak', 'halo_macc', 'halo_first_acc_scale', 'halo_mpeak', 'halo_half_mass_scale', 'halo_mvir', 'halo_T/|U|', 'halo_vmax_at_mpeak', 'halo_pid', 'halo_y', 'halo_x', 'halo_z', 'halo_m200b', 'halo_m200c', 'halo_first_acc_vmax', 'halo_mpeak_scale', 'halo_vmax', 'halo_vacc', 'halo_id', 'halo_vx', 'halo_vy', 'halo_vz', 'halo_rs', 'halo_nfw_conc', 'halo_hostid', 'halo_mvir_host_halo')\n"
     ]
    }
   ],
   "source": [
    "from halotools import sim_manager\n",
    "\n",
    "#load halo catalogue\n",
    "simname = 'bolshoi_250'\n",
    "halocat = sim_manager.CachedHaloCatalog(simname = simname, redshift=0.0, dz_tol = 0.001,\n",
    "                                        version_name='custom', halo_finder='Rockstar')\n",
    "\n",
    "#print out column names of halo catalogue\n",
    "print(halocat.halo_table.dtype.names)"
   ]
  },
  {
   "cell_type": "code",
   "execution_count": 3,
   "metadata": {
    "collapsed": false
   },
   "outputs": [
    {
     "name": "stdout",
     "output_type": "stream",
     "text": [
      "FlatLambdaCDM(H0=70 km / (Mpc s), Om0=0.27, Tcmb0=2.725 K, Neff=3.04, m_nu=[ 0.  0.  0.] eV, Ob0=None)\n"
     ]
    }
   ],
   "source": [
    "#define cosmology used in the simulation\n",
    "from astropy.cosmology import FlatLambdaCDM\n",
    "cosmo = FlatLambdaCDM(H0=70, Om0=0.27) #Bolshoi cosmology\n",
    "print(cosmo)"
   ]
  },
  {
   "cell_type": "code",
   "execution_count": 4,
   "metadata": {
    "collapsed": false
   },
   "outputs": [
    {
     "name": "stdout",
     "output_type": "stream",
     "text": [
      "('halo_id', 'halo_mpeak', 'halo_mpeak_scale', 'halo_mpeak_prime', 'halo_mpeak_prime_scale', 'halo_0.1_mpeak_scale', 'halo_0.2_mpeak_scale', 'halo_0.3_mpeak_scale', 'halo_0.4_mpeak_scale', 'halo_0.5_mpeak_scale', 'halo_0.6_mpeak_scale', 'halo_0.7_mpeak_scale', 'halo_0.8_mpeak_scale', 'halo_0.9_mpeak_scale', 'halo_0.1_mpeak_prime_scale', 'halo_0.2_mpeak_prime_scale', 'halo_0.3_mpeak_prime_scale', 'halo_0.4_mpeak_prime_scale', 'halo_0.5_mpeak_prime_scale', 'halo_0.6_mpeak_prime_scale', 'halo_0.7_mpeak_prime_scale', 'halo_0.8_mpeak_prime_scale', 'halo_0.9_mpeak_prime_scale', 'halo_acc_scale_1', 'halo_acc_scale_2', 'halo_acc_scale_3', 'halo_acc_scale_4', 'halo_acc_scale_5', 'halo_acc_scale_6', 'halo_acc_scale_7', 'halo_acc_scale_8', 'halo_acc_scale_9', 'halo_acc_scale_10', 'halo_ejt_scale_1', 'halo_ejt_scale_2', 'halo_ejt_scale_3', 'halo_ejt_scale_4', 'halo_ejt_scale_5', 'halo_ejt_scale_6', 'halo_ejt_scale_7', 'halo_ejt_scale_8', 'halo_ejt_scale_9', 'halo_ejt_scale_10', 'halo_last_acc_scale', 'halo_last_ejt_scale', 'halo_prime_acc_scale_1', 'halo_prime_acc_scale_2', 'halo_last_acc_scale_prime')\n",
      "number of (sub-)haloes:  6161686\n"
     ]
    }
   ],
   "source": [
    "#load supplemtary halo catalogue properties\n",
    "from astropy.table import Table\n",
    "\n",
    "filepath = '/Volumes/burt/bam_data/'\n",
    "add_halo_props = Table.read(filepath+\"bolshoi_additional_halo_properties.hdf5\", path='data')\n",
    "\n",
    "print(add_halo_props.dtype.names)\n",
    "print(\"number of (sub-)haloes: \", len(add_halo_props))"
   ]
  },
  {
   "cell_type": "code",
   "execution_count": 5,
   "metadata": {
    "collapsed": true
   },
   "outputs": [],
   "source": [
    "#replace with custom properties\n",
    "halocat.halo_table['halo_mpeak'] = add_halo_props['halo_mpeak_prime']\n",
    "halocat.halo_table['halo_acc_scale'] = add_halo_props['halo_prime_acc_scale_2']"
   ]
  },
  {
   "cell_type": "markdown",
   "metadata": {},
   "source": [
    "##Define SHAM Models"
   ]
  },
  {
   "cell_type": "markdown",
   "metadata": {},
   "source": [
    "define some componenets all SHAM models will utilize"
   ]
  },
  {
   "cell_type": "code",
   "execution_count": 4,
   "metadata": {
    "collapsed": false
   },
   "outputs": [],
   "source": [
    "from halotools.empirical_models import SubhaloModelFactory\n",
    "\n",
    "#define stellar mass threshold for each mock\n",
    "def galaxy_selection_func(table):\n",
    "    mask = (table['stellar_mass'] >= 10**9.5) & (table['stellar_mass'] < np.inf)\n",
    "    return mask\n",
    "\n",
    "#carry over some halo properties to each mock galaxy catalogue\n",
    "class HaloProps(object):\n",
    "    \"\"\"\n",
    "    class to carry over halo properties to galaxy mock\n",
    "    \"\"\"\n",
    "    def __init__(self,\n",
    "                 haloprop_keys = ['halo_mpeak','halo_vpeak','halo_acc_scale','halo_half_mass_scale'],\n",
    "                 **kwargs):\n",
    "        \"\"\"\n",
    "        Parameters\n",
    "        ----------\n",
    "        haloprop_keys : list\n",
    "        \"\"\"\n",
    "        \n",
    "        self._mock_generation_calling_sequence = []\n",
    "        self._galprop_dtypes_to_allocate = np.dtype([])\n",
    "        self.list_of_haloprops_needed = haloprop_keys\n",
    "\n",
    "additional_halo_properties = HaloProps(['halo_mpeak','halo_vpeak',\n",
    "                                        'halo_half_mass_scale',\n",
    "                                        'halo_acc_scale'])\n",
    "\n",
    "#add some derived halo properties used by the M13 and Y13 Models\n",
    "from cosmo_utils import halo_mass_conversion\n",
    "\n",
    "m180b = halo_mass_conversion(halocat.halo_table['halo_mpeak'],\n",
    "                             halocat.halo_table['halo_nfw_conc'],\n",
    "                             delta_h=360, delta_new=180,\n",
    "                             cosmo=cosmo, wrt_h='background', wrt_new='background')\n",
    "m200c = halo_mass_conversion(halocat.halo_table['halo_mpeak'],\n",
    "                             halocat.halo_table['halo_nfw_conc'],\n",
    "                             delta_h=360, delta_new=200,\n",
    "                             cosmo=cosmo, wrt_h='background',\n",
    "                             wrt_new='critical')\n",
    "\n",
    "#add halo properties for M13 and Y12\n",
    "halocat.halo_table['halo_mpeak200c'] = m200c\n",
    "halocat.halo_table['halo_mpeak180b'] = m180b"
   ]
  },
  {
   "cell_type": "markdown",
   "metadata": {},
   "source": [
    "###Rank Order AM on Mpeak (model #1)"
   ]
  },
  {
   "cell_type": "markdown",
   "metadata": {},
   "source": [
    "Create mock based on rank order abundance matching using halo mass."
   ]
  },
  {
   "cell_type": "code",
   "execution_count": 5,
   "metadata": {
    "collapsed": false
   },
   "outputs": [],
   "source": [
    "from SHAM_model_components import RankSmHm\n",
    "\n",
    "#build model\n",
    "prim_haloprop_key = 'halo_mpeak'\n",
    "mstar_model = RankSmHm(prim_haloprop_key = prim_haloprop_key, Lbox=halocat.Lbox[0], redshift=0.0)\n",
    "composite_model_1 = SubhaloModelFactory(stellar_mass = mstar_model, \n",
    "                                        haloprops = additional_halo_properties,\n",
    "                                        galaxy_selection_func = galaxy_selection_func)\n",
    "\n",
    "composite_model_1.param_dict['scatter'] = 0.0"
   ]
  },
  {
   "cell_type": "code",
   "execution_count": null,
   "metadata": {
    "collapsed": true
   },
   "outputs": [],
   "source": [
    "#populate simulation\n",
    "composite_model_1.populate_mock(halocat = halocat)\n",
    "mock_1 = composite_model_1.mock.galaxy_table\n",
    "print(mock_1.dtype.names)\n",
    "\n",
    "print(\"number of galaxies in mock: \", len(mock_1))\n",
    "f_sat = float(np.sum(mock_1['halo_upid']!=-1))/len(mock_1)\n",
    "print(\"satellite fraction: \", f_sat)"
   ]
  },
  {
   "cell_type": "markdown",
   "metadata": {},
   "source": [
    "###Rank Order AM on Vpeak (model #2)"
   ]
  },
  {
   "cell_type": "code",
   "execution_count": 6,
   "metadata": {
    "collapsed": false
   },
   "outputs": [],
   "source": [
    "from SHAM_model_components import RankSmHm\n",
    "\n",
    "#build model\n",
    "prim_haloprop_key = 'halo_vpeak'\n",
    "mstar_model = RankSmHm(prim_haloprop_key = prim_haloprop_key, Lbox=halocat.Lbox[0], redshift=0.0)\n",
    "composite_model_2 = SubhaloModelFactory(stellar_mass = mstar_model,\n",
    "                                        haloprops = additional_halo_properties,\n",
    "                                        galaxy_selection_func = galaxy_selection_func)\n",
    "\n",
    "composite_model_2.param_dict['scatter'] = 0.0"
   ]
  },
  {
   "cell_type": "code",
   "execution_count": null,
   "metadata": {
    "collapsed": true
   },
   "outputs": [],
   "source": [
    "#populate simulation\n",
    "composite_model_2.populate_mock(halocat = halocat)\n",
    "mock_2 = composite_model_2.mock.galaxy_table\n",
    "print(mock_2.dtype.names)\n",
    "\n",
    "print(\"number of galaxies in mock: \", len(mock_2))\n",
    "f_sat = float(np.sum(mock_2['halo_upid']!=-1))/len(mock_2)\n",
    "print(\"satellite fraction: \", f_sat)"
   ]
  },
  {
   "cell_type": "markdown",
   "metadata": {},
   "source": [
    "###Moster 2013 Evolving SMHM (model #3)"
   ]
  },
  {
   "cell_type": "code",
   "execution_count": 7,
   "metadata": {
    "collapsed": false
   },
   "outputs": [],
   "source": [
    "from SMHM_model_components import MosterSmHm13\n",
    "\n",
    "#build model\n",
    "prim_haloprop_key =  'halo_mpeak200c'\n",
    "acc_scale_key='halo_acc_scale'\n",
    "mstar_model = MosterSmHm13(redshift=0.0, prim_haloprop_key=prim_haloprop_key, acc_scale_key=acc_scale_key)\n",
    "mstar_model.littleh = 0.701\n",
    "mstar_model._m_conv_factor = 1.0#0.8\n",
    "composite_model_3 = SubhaloModelFactory(stellar_mass = mstar_model,\n",
    "                                        haloprops = additional_halo_properties,\n",
    "                                        galaxy_selection_func = galaxy_selection_func)\n",
    "composite_model_3.param_dict['scatter_model_param1'] =  0.18\n",
    "composite_model_3.param_dict['m10'] = 11.590\n",
    "composite_model_3.param_dict['m11'] = 1.195\n",
    "composite_model_3.param_dict['n10'] = 0.0351\n",
    "composite_model_3.param_dict['n11'] = -0.0247\n",
    "composite_model_3.param_dict['beta10'] = 1.376\n",
    "composite_model_3.param_dict['beta11'] = -0.826\n",
    "composite_model_3.param_dict['gamma10'] = 0.608\n",
    "composite_model_3.param_dict['gamma11'] = 0.329"
   ]
  },
  {
   "cell_type": "code",
   "execution_count": null,
   "metadata": {
    "collapsed": true
   },
   "outputs": [],
   "source": [
    "#populate simulation\n",
    "composite_model_3.populate_mock(halocat = halocat)\n",
    "mock_3 = composite_model_3.mock.galaxy_table\n",
    "print(mock_3.dtype.names)\n",
    "mock_3['stellar_mass'] = mock_3['stellar_mass']*0.9\n",
    "\n",
    "print(\"number of galaxies in mock: \", len(mock_3))\n",
    "f_sat = float(np.sum(mock_3['halo_upid']!=-1))/len(mock_3)\n",
    "print(\"satellite fraction: \", f_sat)"
   ]
  },
  {
   "cell_type": "markdown",
   "metadata": {},
   "source": [
    "###Yang 2012 Evolving SMHM (model #4)"
   ]
  },
  {
   "cell_type": "code",
   "execution_count": 8,
   "metadata": {
    "collapsed": false
   },
   "outputs": [],
   "source": [
    "from SMHM_model_components import Yang12SmHm, Bell_to_Blanton\n",
    "\n",
    "#build model\n",
    "prim_haloprop_key =  'halo_mpeak180b'\n",
    "mstar_model = Yang12SmHm(redshift=0.0, prim_haloprop_key=prim_haloprop_key)\n",
    "mstar_model.littleh = 1.0\n",
    "mstar_model._m_conv_factor = 1.0#1.1\n",
    "mstar_model._mstar_conv_factor = 0.7\n",
    "additional_halo_properties = HaloProps()\n",
    "mstar_conv = Bell_to_Blanton()\n",
    "composite_model_4 = SubhaloModelFactory(stellar_mass = mstar_model,\n",
    "                                        haloprops = additional_halo_properties,\n",
    "                                        galaxy_selection_func = galaxy_selection_func,\n",
    "                                        stellar_mass_conversion = mstar_conv,\n",
    "                                        model_feature_calling_sequence = ('haloprops','stellar_mass','stellar_mass_conversion'))\n",
    "composite_model_4.param_dict['scatter_model_param1'] =  0.173\n",
    "composite_model_4.param_dict['c'] =  1.0 #consistent with confidence interval"
   ]
  },
  {
   "cell_type": "code",
   "execution_count": null,
   "metadata": {
    "collapsed": true
   },
   "outputs": [],
   "source": [
    "#populate simulation\n",
    "composite_model_4.populate_mock(halocat = halocat)\n",
    "mock_4 = composite_model_4.mock.galaxy_table\n",
    "print(mock_4.dtype.names)\n",
    "\n",
    "print(\"number of galaxies in mock: \", len(mock_4))\n",
    "f_sat = float(np.sum(mock_4['halo_upid']!=-1))/len(mock_4)\n",
    "print(\"satellite fraction: \", f_sat)"
   ]
  },
  {
   "cell_type": "markdown",
   "metadata": {},
   "source": [
    "###Behroozi 2013 Evolving SMHM (model #5)"
   ]
  },
  {
   "cell_type": "code",
   "execution_count": 9,
   "metadata": {
    "collapsed": false
   },
   "outputs": [],
   "source": [
    "from SMHM_model_components import BehrooziSmHm13, Moustakas_to_Blanton,  Kauffmann_to_Blanton\n",
    "\n",
    "#build model\n",
    "mstar_model = BehrooziSmHm13(redshift=0.0)\n",
    "additional_halo_properties = HaloProps()\n",
    "mstar_conv = Kauffmann_to_Blanton()\n",
    "mstar_conv = Moustakas_to_Blanton()\n",
    "composite_model_5 = SubhaloModelFactory(stellar_mass = mstar_model,\n",
    "                                        haloprops = additional_halo_properties,\n",
    "                                        galaxy_selection_func = galaxy_selection_func,\n",
    "                                        stellar_mass_conversion = mstar_conv,\n",
    "                                        model_feature_calling_sequence = ('haloprops','stellar_mass','stellar_mass_conversion'))\n",
    "composite_model_5.param_dict['scatter_model_param1'] =  0.21"
   ]
  },
  {
   "cell_type": "code",
   "execution_count": null,
   "metadata": {
    "collapsed": true
   },
   "outputs": [],
   "source": [
    "#populate simulation\n",
    "composite_model_5.populate_mock(halocat = halocat)\n",
    "mock_5 = composite_model_5.mock.galaxy_table\n",
    "mock_5['stellar_mass'] =  mock_5['stellar_mass']\n",
    "print(mock_5.dtype.names)\n",
    "\n",
    "print(\"number of galaxies in mock: \", len(mock_5))\n",
    "f_sat = float(np.sum(mock_5['halo_upid']!=-1))/len(mock_5)\n",
    "print(\"satellite fraction: \", f_sat)"
   ]
  },
  {
   "cell_type": "markdown",
   "metadata": {},
   "source": [
    "##The z=0.0 Stellar Mass Function"
   ]
  },
  {
   "cell_type": "code",
   "execution_count": 12,
   "metadata": {
    "collapsed": true
   },
   "outputs": [],
   "source": [
    "def stellar_mass_func(mock):\n",
    "    \"\"\"\n",
    "    caclulate stellar mass function\n",
    "    \"\"\"\n",
    "    \n",
    "    #stellar mass function\n",
    "    bins = np.arange(9.5,12,0.1)\n",
    "    bins = 10.0**bins\n",
    "    bin_centers = (bins[:-1]+bins[1:])/2.0\n",
    "    counts = np.histogram(mock['stellar_mass'],bins=bins)[0]\n",
    "    dndm = counts/(halocat.Lbox[0]**3)/0.1\n",
    "\n",
    "    return dndm, bin_centers, bins"
   ]
  },
  {
   "cell_type": "code",
   "execution_count": 13,
   "metadata": {
    "collapsed": false
   },
   "outputs": [
    {
     "name": "stdout",
     "output_type": "stream",
     "text": [
      "0\n",
      "1\n",
      "2\n",
      "3\n",
      "4\n",
      "5\n",
      "6\n",
      "7\n",
      "8\n",
      "9\n",
      "10\n",
      "11\n",
      "12\n",
      "13\n",
      "14\n",
      "15\n",
      "16\n",
      "17\n",
      "18\n",
      "19\n",
      "20\n",
      "21\n",
      "22\n",
      "23\n",
      "24\n"
     ]
    }
   ],
   "source": [
    "#calculate errors on stellar mass fuction for one mock\n",
    "Nboot = 25\n",
    "dndm_2_boot = np.zeros((Nboot,24))\n",
    "for i in range(0,Nboot):\n",
    "    print(i)\n",
    "    composite_model_2.populate_mock(halocat = halocat)\n",
    "    mock_2 = composite_model_2.mock.galaxy_table\n",
    "    dndm_2_boot[i,:], bin_centers, bins = stellar_mass_func(mock_2)\n",
    "\n",
    "dndm_2_err = np.std(dndm_2_boot, axis=0)\n",
    "dndm_2 = np.mean(dndm_2_boot, axis=0)"
   ]
  },
  {
   "cell_type": "code",
   "execution_count": 54,
   "metadata": {
    "collapsed": false
   },
   "outputs": [
    {
     "data": {
      "image/png": "[encoded data removed]",
      "text/plain": [
       "<matplotlib.figure.Figure at 0x20b25f310>"
      ]
     },
     "metadata": {},
     "output_type": "display_data"
    }
   ],
   "source": [
    "dndm_1, bin_centers, bins = stellar_mass_func(mock_1)\n",
    "#dndm_2, bin_centers, bins = stellar_mass_func(mock_2)\n",
    "dndm_3, bin_centers, bins = stellar_mass_func(mock_3)\n",
    "dndm_4, bin_centers, bins = stellar_mass_func(mock_4)\n",
    "dndm_5, bin_centers, bins = stellar_mass_func(mock_5)\n",
    "\n",
    "#load sdss results\n",
    "from lss_observations.stellar_mass_functions import LiWhite_2009_phi\n",
    "from lss_observations.stellar_mass_functions import Baldry_2011_phi\n",
    "from lss_observations.stellar_mass_functions import Yang_2012_phi\n",
    "sdss_phi = LiWhite_2009_phi()\n",
    "sdss_phi_2 = Baldry_2011_phi()\n",
    "#sdss_phi = Yang_2012_phi()\n",
    "\n",
    "sdss_m = np.arange(9,12,0.1)\n",
    "sdss_m = 10.0**sdss_m \n",
    "sdss_dndm = sdss_phi(sdss_m)\n",
    "sdss_err = sdss_dndm * 0.05\n",
    "\n",
    "sdss_dndm = sdss_phi.data_table['phi']\n",
    "sdss_err = sdss_phi.data_table['err']\n",
    "sdss_m = sdss_phi.data_table['bin_center']\n",
    "\n",
    "#plot stellar mass function\n",
    "fig = plt.figure(figsize=(3.3,4.0))\n",
    "\n",
    "#upper panel\n",
    "rect = 0.2,0.35,0.7,0.55\n",
    "ax = fig.add_axes(rect)\n",
    "p0 = ax.errorbar(sdss_m, sdss_dndm, yerr=sdss_err, fmt='o', color='black', ms=2)\n",
    "p1, = ax.plot(bin_centers, dndm_1, '-', color='cyan')\n",
    "p2, = ax.plot(bin_centers, dndm_2, '-', color='magenta')\n",
    "p3, = ax.plot(bin_centers, dndm_3, '-', color='black')\n",
    "p4, = ax.plot(bin_centers, dndm_4, '--', color='black')\n",
    "p5, = ax.plot(bin_centers, dndm_5, ':', color='black')\n",
    "#ax.plot(sdss_m, sdss_phi_2(sdss_m), '-', color='red')\n",
    "ax.set_yscale('log')\n",
    "ax.set_xscale('log')\n",
    "ax.set_ylabel(r'$\\phi(M_{*})~[h^{3}{\\rm Mpc}^{-3}{\\rm dex}^{-1}]$', labelpad=-1)\n",
    "ax.set_xlim([10**9,10**12])\n",
    "ax.set_ylim([10**-6,10**-1])\n",
    "ax.set_yticks([10**-5,10**-4,10**-3,10**-2,10**-1])\n",
    "ax.xaxis.set_visible(False)\n",
    "plt.legend((p0,p1,p2,p3,p4,p5),\n",
    "           (\"Li \\& White (2009)\",\"RM\",\"RV\",\"Moster et al. (2013)\",\\\n",
    "            \"Yang et al. (2012)\",\"Behroozi et al. (2013)\"),\\\n",
    "           loc=3, fontsize=8, frameon=False, numpoints=1)\n",
    "\n",
    "#lower panel\n",
    "rect = 0.2,0.15,0.7,0.2\n",
    "ax = fig.add_axes(rect)\n",
    "ax.plot(bin_centers, (dndm_1-sdss_phi(bin_centers))/sdss_phi(bin_centers),'-', color='cyan', lw=0.75)\n",
    "ax.plot(bin_centers, (dndm_2-sdss_phi(bin_centers))/sdss_phi(bin_centers),'-', color='magenta', lw=0.75)\n",
    "y1 = (dndm_2 + dndm_2_err -sdss_phi(bin_centers))/sdss_phi(bin_centers)\n",
    "y2 = (dndm_2 - dndm_2_err -sdss_phi(bin_centers))/sdss_phi(bin_centers)\n",
    "ax.fill_between(bin_centers, y1, y2, color='magenta', alpha=0.25)\n",
    "ax.plot(bin_centers, (dndm_3-sdss_phi(bin_centers))/sdss_phi(bin_centers),'-', color='black', lw=0.75)\n",
    "ax.plot(bin_centers, (dndm_4-sdss_phi(bin_centers))/sdss_phi(bin_centers),'--', color='black', lw=0.75)\n",
    "ax.plot(bin_centers, (dndm_5-sdss_phi(bin_centers))/sdss_phi(bin_centers),':', color='black', lw=0.75)\n",
    "#ax.plot(bin_centers, (sdss_phi_2(bin_centers)-sdss_phi(bin_centers))/sdss_phi(bin_centers),'-', color='red', lw=0.75)\n",
    "ax.errorbar(sdss_m,  (sdss_dndm-sdss_phi(sdss_m))/sdss_phi(sdss_m), yerr=(sdss_err)/sdss_phi(sdss_m), fmt='o', color='black', ms=2, lw=1)\n",
    "ax.set_ylabel(r'$\\Delta\\phi/\\phi_{\\rm SDSS}$', labelpad=-2)\n",
    "ax.set_xlabel(r'$M_{*} ~[h^{-2}M_{\\odot}]$')\n",
    "ax.set_xscale('log')\n",
    "#ax.set_yscale('log')\n",
    "#ax.set_ylim([10**(-0.2),10**(0.2)])\n",
    "ax.set_ylim([-0.2,0.2])\n",
    "ax.set_yticks([-0.1,0.0,0.1])\n",
    "ax.set_xlim([10**9,10**12])\n",
    "\n",
    "plt.show()\n",
    "\n",
    "filepath = './figures/'\n",
    "filename = 'stellar_mass_function'\n",
    "fig.savefig(filepath+filename+'.pdf', dpi=300)"
   ]
  },
  {
   "cell_type": "markdown",
   "metadata": {},
   "source": [
    "##SMHM Relation"
   ]
  },
  {
   "cell_type": "code",
   "execution_count": 16,
   "metadata": {
    "collapsed": false
   },
   "outputs": [
    {
     "data": {
      "image/png": "[encoded data removed]",
      "text/plain": [
       "<matplotlib.figure.Figure at 0x2128d4bd0>"
      ]
     },
     "metadata": {},
     "output_type": "display_data"
    }
   ],
   "source": [
    "composite_model_4.param_dict['c']=1.0\n",
    "\n",
    "mhalo_sample = np.logspace(10,15,1000)\n",
    "\n",
    "redshifts = np.arange(0,4,0.1)[::-1]\n",
    "scale_factors = 1.0/(1.0+redshifts)\n",
    "\n",
    "#plot results\n",
    "from matplotlib import cm\n",
    "fig, axes = plt.subplots(nrows=2, ncols=3, sharex=True, sharey=False, figsize=(6.95, 4.75))\n",
    "fig.subplots_adjust(hspace=0, wspace=0.05, left=0.09, right=0.9, bottom=0.2, top=0.9)\n",
    " \n",
    "#top left\n",
    "ax = axes[0,0]\n",
    "ax.set_title('Moster et al. (2013)')\n",
    "\n",
    "ax.scatter(mock_2['halo_mpeak'],mock_2['stellar_mass'], c=mock_2['stellar_mass']*0.0 + 0.9,\n",
    "           lw=0, s=2, vmin=0.0, vmax=1.0, cmap='gray', rasterized=True)\n",
    "\n",
    "for a in scale_factors:\n",
    "    color = cm.coolwarm_r((a-0.2)/0.8)\n",
    "    mean_mstar = composite_model_3.mean_stellar_mass(prim_haloprop = mhalo_sample, halo_acc_scale=a)\n",
    "    ax.plot(mhalo_sample, mean_mstar, color=color, lw=0.5)\n",
    "\n",
    "ax.set_xscale('log')\n",
    "ax.set_yscale('log')\n",
    "ax.set_ylim([10**9,10**12])\n",
    "ax.set_xlim([10**10,10**15])\n",
    "ax.set_xlabel(r'$M_{\\rm peak} ~ [h^{-1}M_{\\odot}]$')\n",
    "ax.set_xticks([10.0**10,10.0**11,10.0**12,10.0**13,10.0**14])\n",
    "ax.set_ylabel(r'$\\langle M_{*} \\rangle ~ [h^{-2}M_{\\odot}]$')\n",
    "\n",
    "#top middle\n",
    "ax = axes[0,1]\n",
    "ax.set_title('Yang et al. (2012)')\n",
    "\n",
    "ax.scatter(mock_2['halo_mpeak'],mock_2['stellar_mass'], c=mock_2['stellar_mass']*0.0 + 0.9,\n",
    "           lw=0, s=2, vmin=0.0, vmax=1.0, cmap='gray', rasterized=True)\n",
    "\n",
    "for a in scale_factors:\n",
    "    color = cm.coolwarm_r((a-0.2)/0.8)\n",
    "    mean_mstar = composite_model_4.mean_stellar_mass(prim_haloprop = mhalo_sample, halo_acc_scale=a)\n",
    "    ax.plot(mhalo_sample, mean_mstar, color=color, lw=0.5)\n",
    "#show relation at z=1.0\n",
    "composite_model_4.param_dict['c']=0.0\n",
    "mean_mstar = composite_model_4.mean_stellar_mass(prim_haloprop = mhalo_sample, halo_acc_scale=0.5)\n",
    "color = color = cm.coolwarm_r((0.5-0.2)/0.8)\n",
    "ax.plot(mhalo_sample, mean_mstar, ':', color=color, lw=3, alpha=1)\n",
    "#reset parameter\n",
    "composite_model_4.param_dict['c']=1.0#0.98\n",
    "ax.set_xlabel(r'$M_{\\rm peak} ~ [h^{-1}M_{\\odot}]$')\n",
    "ax.set_xscale('log')\n",
    "ax.set_yscale('log')\n",
    "ax.set_ylim([10**9,10**12])\n",
    "ax.set_xlim([10**10,10**15])\n",
    "ax.set_xlabel(r'$M_{\\rm peak} ~ [h^{-1}M_{\\odot}]$')\n",
    "ax.set_xticks([10.0**10,10.0**11,10.0**12,10.0**13,10.0**14,10.0**15])\n",
    "ax.get_yaxis().set_ticks([])\n",
    "\n",
    "#top right\n",
    "ax = axes[0,2]\n",
    "ax.set_title('Behroozi et al. (2013)')\n",
    "\n",
    "ax.scatter(mock_2['halo_mpeak'],mock_2['stellar_mass'], c=mock_2['stellar_mass']*0.0 + 0.9,\n",
    "           lw=0, s=2, vmin=0.0, vmax=1.0, cmap='gray', rasterized=True)\n",
    "\n",
    "for a in scale_factors:\n",
    "    color = cm.coolwarm_r((a-0.2)/0.8)\n",
    "    mean_mstar = composite_model_5.mean_stellar_mass(prim_haloprop = mhalo_sample, halo_acc_scale=a)\n",
    "    ax.plot(mhalo_sample, mean_mstar, color=color, lw=0.5)\n",
    "\n",
    "ax.set_xscale('log')\n",
    "ax.set_yscale('log')\n",
    "ax.set_ylim([10**9,10**12])\n",
    "ax.set_xlim([10**10,10**15])\n",
    "ax.set_xlabel(r'$M_{\\rm peak} ~ [h^{-1}M_{\\odot}]$')\n",
    "ax.set_xticks([10.0**10,10.0**11,10.0**12,10.0**13,10.0**14])\n",
    "ax.get_yaxis().set_ticks([])\n",
    "\n",
    "#bottom left\n",
    "ax = axes[1,0]\n",
    "\n",
    "ax.scatter(mock_2['halo_mpeak'],mock_2['stellar_mass']/mock_2['halo_mpeak'], c=mock_2['stellar_mass']*0.0 + 0.9,\n",
    "           lw=0, s=2, vmin=0.0, vmax=1.0, cmap='gray', rasterized=True)\n",
    "\n",
    "for a in scale_factors:\n",
    "    color = cm.coolwarm_r((a-0.2)/0.8)\n",
    "    mean_mstar = composite_model_3.mean_stellar_mass(prim_haloprop = mhalo_sample, halo_acc_scale=a)\n",
    "    ax.plot(mhalo_sample, mean_mstar/mhalo_sample, color=color, lw=0.5)\n",
    "ax.plot([10**8,10**16],[0.17,0.17],'--', color='black')\n",
    "ax.set_xscale('log')\n",
    "ax.set_yscale('log')\n",
    "ax.set_ylim([0.001,0.5])\n",
    "ax.set_xlim([10**10,10**15])\n",
    "ax.set_xlabel(r'$M_{\\rm peak} ~ [h^{-1}M_{\\odot}]$')\n",
    "ax.set_xticks([10.0**10,10.0**11,10.0**12,10.0**13,10.0**14])\n",
    "ax.set_ylabel(r'$\\langle M_{*} \\rangle /M_{\\rm peak} ~ [h^{-1}]$')\n",
    "\n",
    "#bottom middle\n",
    "ax = axes[1,1]\n",
    "\n",
    "ax.scatter(mock_2['halo_mpeak'], mock_2['stellar_mass']/mock_2['halo_mpeak'], c=mock_2['stellar_mass']*0.0 + 0.9,\n",
    "           lw=0, s=2, vmin=0.0, vmax=1.0, cmap='gray', rasterized=True)\n",
    "\n",
    "for a in scale_factors:\n",
    "    color = cm.coolwarm_r((a-0.2)/0.8)\n",
    "    mean_mstar = composite_model_4.mean_stellar_mass(prim_haloprop = mhalo_sample, halo_acc_scale=a)\n",
    "    ax.plot(mhalo_sample, mean_mstar/mhalo_sample, color=color, lw=0.5)\n",
    "#show relation at z=1.0\n",
    "composite_model_4.param_dict['c']=0.0\n",
    "mean_mstar = composite_model_4.mean_stellar_mass(prim_haloprop = mhalo_sample, halo_acc_scale=0.5)\n",
    "color = color = cm.coolwarm_r((0.5-0.2)/0.8)\n",
    "ax.plot(mhalo_sample, mean_mstar/mhalo_sample, ':', color=color, lw=3, alpha=1)\n",
    "#reset parameter\n",
    "composite_model_4.param_dict['c']=1.0#0.98\n",
    "ax.plot([10**8,10**16],[0.17,0.17],'--', color='black')\n",
    "ax.set_xlabel(r'$M_{\\rm peak} ~ [h^{-1}M_{\\odot}]$')\n",
    "ax.set_xscale('log')\n",
    "ax.set_yscale('log')\n",
    "ax.set_ylim([0.001,0.5])\n",
    "ax.set_xlim([10**10,10**15])\n",
    "ax.set_xlabel(r'$M_{\\rm peak} ~ [h^{-1}M_{\\odot}]$')\n",
    "ax.set_xticks([10.0**10,10.0**11,10.0**12,10.0**13,10.0**14,10.0**15])\n",
    "ax.get_yaxis().set_ticks([])\n",
    "\n",
    "#bottom right\n",
    "ax = axes[1,2]\n",
    "\n",
    "ax.scatter(mock_2['halo_mpeak'],mock_2['stellar_mass']/mock_2['halo_mpeak'], c=mock_2['stellar_mass']*0.0 + 0.9,\n",
    "           lw=0, s=2, vmin=0.0, vmax=1.0, cmap='gray', rasterized=True)\n",
    "\n",
    "for a in scale_factors:\n",
    "    color = cm.coolwarm_r((a-0.2)/0.8)\n",
    "    mean_mstar = composite_model_5.mean_stellar_mass(prim_haloprop = mhalo_sample, halo_acc_scale=a)\n",
    "    ax.plot(mhalo_sample, mean_mstar/mhalo_sample, color=color, lw=0.5)\n",
    "ax.plot([10**8,10**16],[0.17,0.17],'--', color='black')\n",
    "ax.text(10**14,0.2,r'$f_{\\rm bary}$')\n",
    "ax.set_xscale('log')\n",
    "ax.set_yscale('log')\n",
    "ax.set_ylim([0.001,0.5])\n",
    "ax.set_xlim([10**10,10**15])\n",
    "ax.set_xticks([10.0**10,10.0**11,10.0**12,10.0**13,10.0**14])\n",
    "ax.set_xlabel(r'$M_{\\rm peak} ~ [h^{-1}M_{\\odot}]$')\n",
    "ax.get_yaxis().set_ticks([])\n",
    "\n",
    "#colorbar\n",
    "p = ax.scatter(scale_factors*0.0,scale_factors*0.0,c=scale_factors, vmin=0.2, vmax=1.0, cmap='coolwarm_r')\n",
    "cbar_ax = fig.add_axes([0.91, 0.2, 0.02, 0.7]) #xmin, ymin, +dx, +dy\n",
    "cbar = fig.colorbar(p, cax=cbar_ax)\n",
    "cbar.set_label(r'$a_{\\rm acc}$')\n",
    "cbar.set_ticks([0.2,0.4,0.6,0.8,1.0])\n",
    "plt.show()"
   ]
  },
  {
   "cell_type": "code",
   "execution_count": 30,
   "metadata": {
    "collapsed": false
   },
   "outputs": [
    {
     "data": {
      "image/png": "[encoded data removed]",
      "text/plain": [
       "<matplotlib.figure.Figure at 0x20b1bc9d0>"
      ]
     },
     "metadata": {},
     "output_type": "display_data"
    }
   ],
   "source": [
    "#calculate the SMHM relation for RV mock\n",
    "from halotools.mock_observables import mean_y_vs_x\n",
    "\n",
    "subs = (mock_2['halo_upid']!=-1)\n",
    "hosts = (mock_2['halo_upid']==-1)\n",
    "\n",
    "bins = np.arange(11.5,15,0.25)\n",
    "x = np.log10(mock_2['halo_mpeak'][hosts])\n",
    "y = np.log10(mock_2['stellar_mass'][hosts])\n",
    "log_bin_centers, log_mean_mstar, log_sigma_mstar = mean_y_vs_x(x,y, bins=bins, error_estimator='variance')\n",
    "\n",
    "#translate to non-log errors\n",
    "err_lower = 10**(log_mean_mstar) - 10**(log_mean_mstar-(log_sigma_mstar))\n",
    "err_upper = 10**(log_mean_mstar+(log_sigma_mstar)) - 10**(log_mean_mstar)\n",
    "err = np.vstack((err_lower, err_upper))\n",
    "\n",
    "#plot SMHM relation for mock #2\n",
    "from matplotlib import cm \n",
    "fig, axes = plt.subplots(nrows=2,ncols=1, sharex=True, figsize=(3.3, 6.0))\n",
    "fig.subplots_adjust(hspace=0, wspace=0, left=0.2, right=0.9, bottom=0.1, top=0.85)\n",
    "\n",
    "#top panel\n",
    "ax = axes[0]\n",
    "p = ax.scatter(mock_2['halo_mpeak'][subs], mock_2['stellar_mass'][subs], c=mock_2['halo_acc_scale'][subs],\n",
    "               lw=0, s=2, vmin=0.2, vmax=1.0, cmap='coolwarm_r', rasterized=True)\n",
    "p2 = ax.errorbar(10.0**log_bin_centers, 10.0**log_mean_mstar, yerr=err, color='black', fmt='o', ms=2)\n",
    "ax.set_xscale('log')\n",
    "ax.set_yscale('log')\n",
    "ax.set_ylim([10**9,10**12])\n",
    "ax.set_xlim([10**10,10**15])\n",
    "ax.set_ylabel(r'$M_* ~ [h^{-2}M_{\\odot}]$')\n",
    "ax.legend([p2],['centrals'],frameon = False, loc='upper left', numpoints=1, handletextpad=0)\n",
    "\n",
    "#bottom panel\n",
    "ax = axes[1]\n",
    "p = ax.scatter(mock_2['halo_mpeak'][subs],mock_2['stellar_mass'][subs]/mock_2['halo_mpeak'][subs],c=mock_2['halo_acc_scale'][subs],\n",
    "               lw=0, s=2, vmin=0.2, vmax=1.0, cmap='coolwarm_r', rasterized=True)\n",
    "p2 = ax.errorbar(10.0**log_bin_centers, (10.0**log_mean_mstar)/(10.0**log_bin_centers), yerr=err/(10.0**log_bin_centers), color='black', fmt='o', ms=2)\n",
    "ax.plot([10**8,10**16],[0.17,0.17],'--', color='black')\n",
    "ax.text(10**14,0.2,r'$f_{\\rm bary}$')\n",
    "ax.set_xscale('log')\n",
    "ax.set_yscale('log')\n",
    "ax.set_ylim([0.001,0.5])\n",
    "ax.set_xlim([10**10,10**15])\n",
    "ax.set_ylabel(r'$M_*/M_{\\rm peak} ~ [h^{-1}]$')\n",
    "ax.set_xlabel(r'$M_{\\rm peak} ~ [h^{-1}M_{\\odot}]$')\n",
    "\n",
    "#colorbar\n",
    "cbar_ax = fig.add_axes([0.2, 0.86, 0.7, 0.02]) #xmin, ymin, +dx, +dy\n",
    "cbar = fig.colorbar(p, cax=cbar_ax, orientation='horizontal')\n",
    "cbar.ax.xaxis.set_ticks_position('top')\n",
    "cbar.set_label(r'$z_{\\rm acc}$', labelpad=-35)\n",
    "redshifts = np.array([0.0,0.5,1.0,2.0,3.0])\n",
    "scales = 1.0/(1+redshifts)\n",
    "cbar.set_ticks(scales)\n",
    "cbar.set_ticklabels(redshifts)\n",
    "plt.show()"
   ]
  },
  {
   "cell_type": "code",
   "execution_count": 14,
   "metadata": {
    "collapsed": false
   },
   "outputs": [
    {
     "data": {
      "image/png": "[encoded data removed]",
      "text/plain": [
       "<matplotlib.figure.Figure at 0x16d214ad0>"
      ]
     },
     "metadata": {},
     "output_type": "display_data"
    }
   ],
   "source": [
    "#create a new version of these plots\n",
    "\n",
    "#SMHM for RV mock\n",
    "subs = (mock_2['halo_upid']!=-1)\n",
    "hosts = (mock_2['halo_upid']==-1)\n",
    "\n",
    "from halotools.mock_observables import mean_y_vs_x\n",
    "bins = np.arange(11.5,15,0.25)\n",
    "x = np.log10(mock_2['halo_mpeak'][hosts])\n",
    "y = np.log10(mock_2['stellar_mass'][hosts])\n",
    "log_bin_centers, log_mean_mstar, log_sigma_mstar = mean_y_vs_x(x,y, bins=bins, error_estimator='variance')\n",
    "\n",
    "#translate to non-log errors\n",
    "err_lower = 10**(log_mean_mstar) - 10**(log_mean_mstar-(log_sigma_mstar))\n",
    "err_upper = 10**(log_mean_mstar+(log_sigma_mstar)) - 10**(log_mean_mstar)\n",
    "err = np.vstack((err_lower, err_upper))\n",
    "\n",
    "from matplotlib.collections import LineCollection\n",
    "from matplotlib.colors import ListedColormap, BoundaryNorm\n",
    "\n",
    "from matplotlib import cm \n",
    "fig, axes = plt.subplots(nrows=4,ncols=1, sharex=True, figsize=(3.3, 7.5))\n",
    "fig.subplots_adjust(hspace=0, wspace=0, left=0.2, right=0.85, bottom=0.05, top=0.925)\n",
    "\n",
    "min_redshift = 0\n",
    "max_redshift = 3\n",
    "min_a = 1.0/(1.0+max_redshift)\n",
    "max_a = 1.0/(1.0+min_redshift)\n",
    "\n",
    "msample = np.logspace(8,16,100)\n",
    "redshifts = np.arange(0,4,0.1)[::-1]\n",
    "scale_factors = 1.0/(1.0+redshifts)\n",
    "\n",
    "#top panel\n",
    "ax = axes[0]\n",
    "p = ax.scatter(mock_2['halo_mpeak'][subs], mock_2['stellar_mass'][subs], c=mock_2['halo_acc_scale'][subs],\n",
    "               lw=0, s=2, vmin=min_a, vmax=max_a, cmap='coolwarm_r', rasterized=True)\n",
    "p2 = ax.errorbar(10.0**log_bin_centers, 10.0**log_mean_mstar, yerr=err, color='black', fmt='o', ms=2)\n",
    "#p3, = ax.plot(msample,  mpeak_mstar_model(msample, 0), '-', color='black')\n",
    "ax.set_xscale('log')\n",
    "ax.set_yscale('log')\n",
    "ax.set_ylim([10**9,10**11.9])\n",
    "ax.set_xlim([10**10,10**15])\n",
    "ax.set_ylabel(r'$M_* ~ [h^{-2}M_{\\odot}]$')\n",
    "#ax.legend([p3, p2],['RM','RV centrals'],frameon = False, loc='upper left', numpoints=1, handletextpad=1, fontsize = 8)\n",
    "#lc = LineCollection(segments_2, cmap='coolwarm_r')\n",
    "#lc.set_array(c)\n",
    "#lc.set_linewidth(2)\n",
    "#ax.add_collection(lc)\n",
    "#ax.text(1.2*10**11, 0.9*10**11, 'RV satellites', fontsize=8)\n",
    "ax.text(2*10**10, 3*10**11, 'RV', fontsize=10)\n",
    "\n",
    "#second panel\n",
    "ax = axes[1]\n",
    "#p2 = ax.errorbar(10.0**log_bin_centers, 10.0**log_mean_mstar, yerr=err, color='black', fmt='o', ms=2)\n",
    "for a in scale_factors:\n",
    "    color = cm.coolwarm_r((a-min_a)/(max_a-min_a))\n",
    "    mean_mstar = composite_model_3.mean_stellar_mass(prim_haloprop = msample, halo_acc_scale=a)\n",
    "    ax.plot(msample, mean_mstar, color=color, lw=0.5)\n",
    "#p3, = ax.plot(msample,  mpeak_mstar_model(msample, 0), '-', color='black')\n",
    "ax.set_xscale('log')\n",
    "ax.set_yscale('log')\n",
    "ax.set_ylim([10**9,10**11.9])\n",
    "ax.set_xlim([10**10,10**15])\n",
    "ax.set_xlabel(r'$M_{\\rm peak} ~ [h^{-1}M_{\\odot}]$')\n",
    "ax.set_xticks([10.0**10,10.0**11,10.0**12,10.0**13,10.0**14])\n",
    "ax.set_ylabel(r'$\\langle M_{*} \\rangle_{\\rm med} ~ [h^{-2}M_{\\odot}]$')\n",
    "#ax.legend([p2],['RV centrals'],frameon = False, loc='upper left', numpoints=1, handletextpad=1, fontsize = 8)\n",
    "#lc = LineCollection(segments_1, cmap='coolwarm_r')\n",
    "#lc.set_array(c)\n",
    "#lc.set_linewidth(2)\n",
    "#ax.add_collection(lc)\n",
    "#ax.text(1.2*10**11, 1.8*10**11, 'M13', fontsize=8)\n",
    "ax.text(2*10**10, 3*10**11, 'Moster et al. (2013)', fontsize=10)\n",
    "\n",
    "#third panel\n",
    "ax = axes[2]\n",
    "#p2 = ax.errorbar(10.0**log_bin_centers, 10.0**log_mean_mstar, yerr=err, color='black', fmt='o', ms=2)\n",
    "for a in scale_factors:\n",
    "    color = cm.coolwarm_r((a-min_a)/(max_a-min_a))\n",
    "    mean_mstar = composite_model_5.mean_stellar_mass(prim_haloprop = msample, halo_acc_scale=a)\n",
    "    ax.plot(msample, mean_mstar, color=color, lw=0.5)\n",
    "#p3, = ax.plot(msample,  mpeak_mstar_model(msample, 0), '-', color='black')\n",
    "ax.set_xscale('log')\n",
    "ax.set_yscale('log')\n",
    "ax.set_ylim([10**9,10**11.9])\n",
    "ax.set_xlim([10**10,10**15])\n",
    "ax.set_xlabel(r'$M_{\\rm peak} ~ [h^{-1}M_{\\odot}]$')\n",
    "ax.set_xticks([10.0**10,10.0**11,10.0**12,10.0**13,10.0**14])\n",
    "ax.set_ylabel(r'$\\langle M_{*} \\rangle_{\\rm med} ~ [h^{-2}M_{\\odot}]$')\n",
    "#ax.legend([p2],['RV centrals'],frameon = False, loc='upper left', numpoints=1, handletextpad=1, fontsize = 8)\n",
    "#lc = LineCollection(segments_1, cmap='coolwarm_r')\n",
    "#lc.set_array(c)\n",
    "#lc.set_linewidth(2)\n",
    "#ax.add_collection(lc)\n",
    "#ax.text(1.2*10**11, 1.8*10**11, 'B13', fontsize=8)\n",
    "ax.text(2*10**10, 3*10**11, 'Behroozi et al. (2013)', fontsize=10)\n",
    "\n",
    "\n",
    "#bottom panel\n",
    "ax = axes[3]\n",
    "#p2 = ax.errorbar(10.0**log_bin_centers, 10.0**log_mean_mstar, yerr=err, color='black', fmt='o', ms=2)\n",
    "for a in scale_factors:\n",
    "    color = cm.coolwarm_r((a-min_a)/(max_a-min_a))\n",
    "    mean_mstar = composite_model_4.mean_stellar_mass(prim_haloprop = msample, halo_acc_scale=a)\n",
    "    ax.plot(msample, mean_mstar, color=color, lw=0.5)\n",
    "#show relation at z=1.0\n",
    "composite_model_4.param_dict['c']=0.0\n",
    "scale_factors = [0.67,0.5]\n",
    "for a in scale_factors:\n",
    "    color = cm.coolwarm_r((a-min_a)/(max_a-min_a))\n",
    "    mean_mstar = composite_model_4.mean_stellar_mass(prim_haloprop = msample, halo_acc_scale=a)\n",
    "    ax.plot(msample, mean_mstar, '--', color=color, lw=2, alpha=1, dashes=(2,2))\n",
    "#reset parameter\n",
    "composite_model_4.param_dict['c']=1.0#0.98\n",
    "#p3 = ax.plot(msample,  mpeak_mstar_model(msample, 0), '-', color='black')\n",
    "ax.set_xlabel(r'$M_{\\rm peak} ~ [h^{-1}M_{\\odot}]$', labelpad=1)\n",
    "ax.set_xscale('log')\n",
    "ax.set_yscale('log')\n",
    "ax.set_ylim([10**9,10**11.9])\n",
    "ax.set_xlim([10**10,10**15])\n",
    "ax.set_xlabel(r'$M_{\\rm peak} ~ [h^{-1}M_{\\odot}]$')\n",
    "ax.set_xticks([10.0**10,10.0**11,10.0**12,10.0**13,10.0**14,10.0**15])\n",
    "ax.set_ylabel(r'$\\langle M_{*} \\rangle_{\\rm med} ~ [h^{-2}M_{\\odot}]$')\n",
    "#ax.legend([p2],['RV centrals'],frameon = False, loc='upper left', numpoints=1, handletextpad=1, fontsize = 8)\n",
    "#lc = LineCollection(segments_1, cmap='coolwarm_r')\n",
    "#lc.set_array(c)\n",
    "#lc.set_linewidth(2)\n",
    "#ax.add_collection(lc)\n",
    "#ax.text(1.2*10**11, 1.8*10**11, 'Y12', fontsize=8)\n",
    "ax.text(2*10**10, 3*10**11, 'Yang et al. (2012)', fontsize=10)\n",
    "\n",
    "\n",
    "#colorbar\n",
    "cbar_ax = fig.add_axes([0.2, 0.935, 0.65, 0.0125]) #xmin, ymin, +dx, +dy\n",
    "cbar = fig.colorbar(p, cax=cbar_ax, orientation='horizontal')\n",
    "cbar.ax.xaxis.set_ticks_position('top')\n",
    "cbar.set_label(r'$z_{\\rm acc}$', labelpad=-35)\n",
    "redshifts = np.array([0,0.5,1,2,3])[::-1]\n",
    "scales = 1.0/(1+redshifts)\n",
    "cbar.set_ticks(scales)\n",
    "cbar.set_ticklabels(redshifts)\n",
    "plt.show()\n",
    "\n",
    "\n",
    "filepath = './figures/'\n",
    "filename = 'SMHM_comparison'\n",
    "fig.savefig(filepath+filename+'.pdf', dpi=300)"
   ]
  },
  {
   "cell_type": "markdown",
   "metadata": {},
   "source": [
    "##z=0 Galaxy Clustering"
   ]
  },
  {
   "cell_type": "code",
   "execution_count": 24,
   "metadata": {
    "collapsed": true
   },
   "outputs": [],
   "source": [
    "#set up function to calculate projected correlation function\n",
    "#in stellar mass bins after placing mock in redshift-space.\n",
    "\n",
    "from halotools.mock_observables import wp, return_xyz_formatted_array\n",
    "\n",
    "def calculate_wp(mock, rp_bins,\n",
    "                 log_mstar_min=10.0, log_mstar_max =10.5,\n",
    "                 pi_max=40.0, Lbox=250.0):\n",
    "    \"\"\"\n",
    "    Calculate the projected correaltion function\n",
    "    \"\"\"\n",
    "    \n",
    "    #number of threads to use in wp calculation\n",
    "    num_threads = 4\n",
    "    \n",
    "    #create mask for stellar mass bin\n",
    "    mask = (mock['stellar_mass']<10.0**log_mstar_max) &\\\n",
    "           (mock['stellar_mass']>10.0**log_mstar_min)\n",
    "    \n",
    "    #put galaxy coordinates in mock observables format\n",
    "    #and apply redshift space distortions\n",
    "    coords = return_xyz_formatted_array(mock['x'], mock['y'], mock['z'],\n",
    "                                        velocity = mock['vz'],\n",
    "                                        velocity_distortion_dimension = 'z',\n",
    "                                        period = Lbox)\n",
    "    \n",
    "    #apply mask for stellar mass bin\n",
    "    coords = coords[mask]\n",
    "    \n",
    "    result = wp(coords,\n",
    "                rp_bins = rp_bins, pi_max = pi_max,\n",
    "                period = Lbox,\n",
    "                do_auto = True, do_cross = False,\n",
    "                estimator = 'Natural', \n",
    "                num_threads = num_threads,\n",
    "                max_sample_size = int(1e7))\n",
    "        \n",
    "    return result"
   ]
  },
  {
   "cell_type": "markdown",
   "metadata": {},
   "source": [
    "###Calculate Clustering Predicitons for Each Model"
   ]
  },
  {
   "cell_type": "code",
   "execution_count": 11,
   "metadata": {
    "collapsed": true
   },
   "outputs": [],
   "source": [
    "#calculate wp for each model in stellar mass bins\n",
    "\n",
    "#define rp bins\n",
    "rp_bins = np.logspace(-2.0,1.4,25)\n",
    "rp_bin_centers = (rp_bins[:-1]+rp_bins[1:])/2.0\n",
    "\n",
    "#create arrays to store results for each mock\n",
    "wp_1 = np.zeros((3,24))\n",
    "wp_2 = np.zeros((3,24))\n",
    "wp_3 = np.zeros((3,24))\n",
    "wp_4 = np.zeros((3,24))\n",
    "wp_5 = np.zeros((3,24))\n",
    "\n",
    "wp_1[0] = calculate_wp(mock_1, rp_bins, pi_max=40.0, Lbox=halocat.Lbox,\n",
    "                    log_mstar_min=9.5, log_mstar_max =10.0)\n",
    "wp_2[0] = calculate_wp(mock_2, rp_bins, pi_max=40.0, Lbox=halocat.Lbox,\n",
    "                    log_mstar_min=9.5, log_mstar_max =10.0)\n",
    "wp_3[0] = calculate_wp(mock_3, rp_bins, pi_max=40.0, Lbox=halocat.Lbox,\n",
    "                    log_mstar_min=9.5, log_mstar_max =10.0)\n",
    "wp_4[0] = calculate_wp(mock_4, rp_bins, pi_max=40.0, Lbox=halocat.Lbox,\n",
    "                    log_mstar_min=9.5, log_mstar_max =10.0)\n",
    "wp_5[0] = calculate_wp(mock_5, rp_bins, pi_max=40.0, Lbox=halocat.Lbox,\n",
    "                    log_mstar_min=9.5, log_mstar_max =10.0)\n",
    "\n",
    "wp_1[1] = calculate_wp(mock_1, rp_bins, pi_max=40.0, Lbox=halocat.Lbox,\n",
    "                    log_mstar_min=10.0, log_mstar_max =10.5)\n",
    "wp_2[1] = calculate_wp(mock_2, rp_bins, pi_max=40.0, Lbox=halocat.Lbox,\n",
    "                    log_mstar_min=10.0, log_mstar_max =10.5)\n",
    "wp_3[1] = calculate_wp(mock_3, rp_bins, pi_max=40.0, Lbox=halocat.Lbox,\n",
    "                    log_mstar_min=10.0, log_mstar_max =10.5)\n",
    "wp_4[1] = calculate_wp(mock_4, rp_bins, pi_max=40.0, Lbox=halocat.Lbox,\n",
    "                    log_mstar_min=10.0, log_mstar_max =10.5)\n",
    "wp_5[1] = calculate_wp(mock_5, rp_bins, pi_max=40.0, Lbox=halocat.Lbox,\n",
    "                    log_mstar_min=10.0, log_mstar_max =10.5)\n",
    "\n",
    "wp_1[2] = calculate_wp(mock_1, rp_bins, pi_max=40.0, Lbox=halocat.Lbox,\n",
    "                    log_mstar_min=10.5, log_mstar_max =11.0)\n",
    "wp_2[2] = calculate_wp(mock_2, rp_bins, pi_max=40.0, Lbox=halocat.Lbox,\n",
    "                    log_mstar_min=10.5, log_mstar_max =11.0)\n",
    "wp_3[2] = calculate_wp(mock_3, rp_bins, pi_max=40.0, Lbox=halocat.Lbox,\n",
    "                    log_mstar_min=10.5, log_mstar_max =11.0)\n",
    "wp_4[2] = calculate_wp(mock_4, rp_bins, pi_max=40.0, Lbox=halocat.Lbox,\n",
    "                    log_mstar_min=10.5, log_mstar_max =11.0)\n",
    "wp_5[2] = calculate_wp(mock_5, rp_bins, pi_max=40.0, Lbox=halocat.Lbox,\n",
    "                    log_mstar_min=10.5, log_mstar_max =11.0)"
   ]
  },
  {
   "cell_type": "markdown",
   "metadata": {},
   "source": [
    "###calculate jackknife errors on clustering"
   ]
  },
  {
   "cell_type": "code",
   "execution_count": 132,
   "metadata": {
    "collapsed": false
   },
   "outputs": [
    {
     "name": "stdout",
     "output_type": "stream",
     "text": [
      "1\n",
      "2\n",
      "3\n",
      "4\n",
      "5\n",
      "6\n",
      "7\n",
      "8\n",
      "9\n",
      "10\n",
      "11\n",
      "12\n",
      "13\n",
      "14\n",
      "15\n",
      "16\n",
      "17\n",
      "18\n",
      "19\n",
      "20\n",
      "21\n",
      "22\n",
      "23\n",
      "24\n",
      "25\n",
      "26\n",
      "27\n"
     ]
    }
   ],
   "source": [
    "#calculate jackknife errors on wp for model 2\n",
    "from halotools.mock_observables import cuboid_subvolume_labels\n",
    "from halotools.mock_observables import npairs_projected\n",
    "\n",
    "mock = mock_2\n",
    "coords = return_xyz_formatted_array(mock['x'], mock['y'], mock['z'],\n",
    "                                    velocity = mock['vz'],\n",
    "                                    velocity_distortion_dimension = 'z',\n",
    "                                    period = halocat.Lbox)\n",
    "\n",
    "labels, N = cuboid_subvolume_labels(coords, Nsub=[3,3,3],\n",
    "                                    Lbox = np.array([halocat.Lbox]*3))\n",
    "\n",
    "#number of threads to use in wp calculation\n",
    "num_threads = 4\n",
    "\n",
    "#create mask for stellar mass bin\n",
    "mask_a = (mock['stellar_mass']<10.0**10.0) &\\\n",
    "         (mock['stellar_mass']>10.0**9.5)\n",
    "    \n",
    "mask_b = (mock['stellar_mass']<10.0**10.5) &\\\n",
    "         (mock['stellar_mass']>10.0**10.0) \n",
    "    \n",
    "mask_c = (mock['stellar_mass']<10.0**11.0) &\\\n",
    "         (mock['stellar_mass']>10.0**10.5)\n",
    "\n",
    "Npts=10**6\n",
    "x = np.random.uniform(0, halocat.Lbox, Npts)\n",
    "y = np.random.uniform(0, halocat.Lbox, Npts)\n",
    "z = np.random.uniform(0, halocat.Lbox, Npts)\n",
    "ran_coords = np.vstack((x,y,z)).T\n",
    "\n",
    "ran_labels, N = cuboid_subvolume_labels(ran_coords, Nsub=[3,3,3],\n",
    "                                        Lbox = np.array([halocat.Lbox]*3))\n",
    "\n",
    "mask_ran = (ran_labels!=1)\n",
    "ran_coords = ran_coords[mask_ran]\n",
    "\n",
    "rp_bins = np.logspace(-2.0,1.4,25)\n",
    "rp_bin_centers = (rp_bins[:-1]+rp_bins[1:])/2.0\n",
    "pi_max=40.0\n",
    "\n",
    "RR = npairs_projected(ran_coords, ran_coords,\n",
    "                      rp_bins = rp_bins, pi_max = pi_max,\n",
    "                      period = halocat.Lbox,\n",
    "                      num_threads = num_threads)\n",
    "\n",
    "result_a = np.zeros((N,25))\n",
    "result_b = np.zeros((N,25))\n",
    "result_c = np.zeros((N,25))\n",
    "                    \n",
    "for i in range(1,N+1):\n",
    "    print(i)\n",
    "    mask_1 = (labels!=i)\n",
    "    \n",
    "    #apply mask for stellar mass bin\n",
    "    coords_p = coords[mask_1 & mask_a]\n",
    "    result_a[i-1] = npairs_projected(coords_p,coords_p,\n",
    "                    rp_bins = rp_bins, pi_max = pi_max,\n",
    "                    period = halocat.Lbox,\n",
    "                    num_threads = num_threads)\n",
    "    \n",
    "    coords_p = coords[mask_1 & mask_b]\n",
    "    result_b[i-1] = npairs_projected(coords_p,coords_p,\n",
    "                    rp_bins = rp_bins, pi_max = pi_max,\n",
    "                    period = halocat.Lbox,\n",
    "                    num_threads = num_threads)\n",
    "    \n",
    "    coords_p = coords[mask_1 & mask_c]\n",
    "    result_c[i-1] = npairs_projected(coords_p,coords_p,\n",
    "                    rp_bins = rp_bins, pi_max = pi_max,\n",
    "                    period = halocat.Lbox,\n",
    "                    num_threads = num_threads)"
   ]
  },
  {
   "cell_type": "code",
   "execution_count": 133,
   "metadata": {
    "collapsed": true
   },
   "outputs": [],
   "source": [
    "RR = np.diff(RR)\n",
    "result_a = np.diff(result_a, axis=1)\n",
    "result_b = np.diff(result_b, axis=1)\n",
    "result_c = np.diff(result_c, axis=1)"
   ]
  },
  {
   "cell_type": "code",
   "execution_count": 134,
   "metadata": {
    "collapsed": true
   },
   "outputs": [],
   "source": [
    "wp_a = 2.0*40.0*((Npts/np.sum(mask_a))**2*(result_a/RR) - 1.0)\n",
    "wp_b = 2.0*40.0*((Npts/np.sum(mask_b))**2*(result_b/RR) - 1.0)\n",
    "wp_c = 2.0*40.0*((Npts/np.sum(mask_c))**2*(result_c/RR) - 1.0)\n",
    "\n",
    "err_a = np.sqrt(np.diag(np.cov(wp_a.T)))\n",
    "err_b = np.sqrt(np.diag(np.cov(wp_b.T)))\n",
    "err_c = np.sqrt(np.diag(np.cov(wp_c.T)))"
   ]
  },
  {
   "cell_type": "markdown",
   "metadata": {},
   "source": [
    "###Load SDSS clustering Measurements"
   ]
  },
  {
   "cell_type": "code",
   "execution_count": 12,
   "metadata": {
    "collapsed": true
   },
   "outputs": [],
   "source": [
    "#load SDSS results from Yang 2012\n",
    "from lss_observations import yang_2012_wp\n",
    "\n",
    "#create arrays to store results\n",
    "\n",
    "wp_sdss_1, cov = yang_2012_wp(10.0**9.5,10.0**10.0, sample='Mass-limit')\n",
    "err_1 = np.sqrt(np.diagonal(cov))\n",
    "\n",
    "wp_sdss_2, cov = yang_2012_wp(10.0**10.0,10.0**10.5, sample='Mass-limit')\n",
    "err_2 = np.sqrt(np.diagonal(cov))\n",
    "\n",
    "wp_sdss_3, cov = yang_2012_wp(10.0**10.5,10.0**11.0, sample='Mass-limit')\n",
    "err_3 = np.sqrt(np.diagonal(cov))\n",
    "\n",
    "#create intterpolation function\n",
    "from scipy.interpolate import interp1d\n",
    "f_w_1 = interp1d(wp_sdss_1[0,:],wp_sdss_1[1,:], fill_value=\"extrapolate\")\n",
    "f_err_1 = interp1d(wp_sdss_1[0,:],err_1, fill_value=\"extrapolate\")\n",
    "f_w_2 = interp1d(wp_sdss_2[0,:],wp_sdss_2[1,:], fill_value=\"extrapolate\")\n",
    "f_err_2 = interp1d(wp_sdss_2[0,:],err_2, fill_value=\"extrapolate\")\n",
    "f_w_3 = interp1d(wp_sdss_3[0,:],wp_sdss_3[1,:], fill_value=\"extrapolate\")\n",
    "f_err_3 = interp1d(wp_sdss_3[0,:],err_3, fill_value=\"extrapolate\")"
   ]
  },
  {
   "cell_type": "code",
   "execution_count": 20,
   "metadata": {
    "collapsed": false
   },
   "outputs": [
    {
     "data": {
      "image/png": "[encoded data removed]",
      "text/plain": [
       "<matplotlib.figure.Figure at 0x127c53550>"
      ]
     },
     "metadata": {},
     "output_type": "display_data"
    }
   ],
   "source": [
    "#plot results\n",
    "\n",
    "use_err=False\n",
    "\n",
    "fig, axes = plt.subplots(nrows=1,ncols=3,sharex=True,sharey=True,figsize=(6.95, 2.75))\n",
    "fig.subplots_adjust(hspace=0, wspace=0.05, left=0.075, right=0.975, bottom=0.2, top=0.9)\n",
    "    \n",
    "ax = axes[0]\n",
    "ax.set_xlim([0.1,20])\n",
    "ax.set_ylim([10,300])\n",
    "ax.set_yscale('log')\n",
    "ax.set_xscale('log')\n",
    "ax.set_ylabel(r'$w_p(r_p)\\times r_p ~ [h^{-2}{\\rm Mpc}^2]$')\n",
    "ax.set_xlabel(r'$r_p~[h^{-1}{\\rm Mpc}]$')\n",
    "ax.set_title(r'$9.5<\\log(M_{*}/h^{-2}M_{\\odot})<10.0$')\n",
    "    \n",
    "ax = axes[1]\n",
    "ax.set_xlim([0.1,20])\n",
    "ax.set_ylim([10,300])\n",
    "ax.set_yscale('log')\n",
    "ax.set_xscale('log')\n",
    "ax.set_xlabel(r'$r_p~[h^{-1}{\\rm Mpc}]$')\n",
    "ax.set_title(r'$10.0<\\log(M_{*}/h^{-2}M_{\\odot})<10.5$')\n",
    "    \n",
    "ax = axes[2]\n",
    "ax.set_xlim([0.1,20])\n",
    "ax.set_ylim([10,300])\n",
    "ax.set_yscale('log')\n",
    "ax.set_xscale('log')\n",
    "ax.set_xlabel(r'$r_p~[h^{-1}{\\rm Mpc}]$')\n",
    "ax.set_title(r'$10.5<\\log(M_{*}/h^{-2}M_{\\odot})<11.0$')\n",
    "\n",
    "ax = axes[0]\n",
    "p1, = ax.plot(rp_bin_centers, wp_1[0]*rp_bin_centers, '-', color='cyan', alpha=1)\n",
    "p2, = ax.plot(rp_bin_centers, wp_2[0]*rp_bin_centers, '-', color='magenta', alpha=1)\n",
    "if use_err==True:\n",
    "    ax.fill_between(rp_bin_centers, (wp_2[0]+err_a)*rp_bin_centers,(wp_2[0]-err_a)*rp_bin_centers,\n",
    "                color='magenta', alpha=0.25)\n",
    "p3, = ax.plot(rp_bin_centers, wp_3[0]*rp_bin_centers, '-', color='black', alpha=1)\n",
    "p4, = ax.plot(rp_bin_centers, wp_4[0]*rp_bin_centers, '--', color='black', alpha=1)\n",
    "p5, = ax.plot(rp_bin_centers, wp_5[0]*rp_bin_centers, ':', color='black', alpha=1)\n",
    "p0 = ax.errorbar(wp_sdss_1[0,:], wp_sdss_1[1,:]*wp_sdss_1[0,:], yerr=err_1*wp_sdss_1[0,:],\n",
    "                  fmt='o', color='black', ms=4, mec='none')\n",
    "\n",
    "ax = axes[1]\n",
    "p1, = ax.plot(rp_bin_centers, wp_1[1]*rp_bin_centers, '-', color='cyan', alpha=1)\n",
    "p2, = ax.plot(rp_bin_centers, wp_2[1]*rp_bin_centers, '-', color='magenta', alpha=1)\n",
    "if use_err==True:\n",
    "    ax.fill_between(rp_bin_centers, (wp_2[1]+err_b)*rp_bin_centers,(wp_2[1]-err_b)*rp_bin_centers,\n",
    "                color='magenta', alpha=0.25)\n",
    "p3, = ax.plot(rp_bin_centers, wp_3[1]*rp_bin_centers, '-', color='black', alpha=1)\n",
    "p4, = ax.plot(rp_bin_centers, wp_4[1]*rp_bin_centers, '--', color='black', alpha=1)\n",
    "p5, = ax.plot(rp_bin_centers, wp_5[1]*rp_bin_centers, ':', color='black', alpha=1)\n",
    "p0 = ax.errorbar(wp_sdss_2[0,:], wp_sdss_2[1,:]*wp_sdss_2[0,:], yerr=err_2*wp_sdss_2[0,:],\n",
    "                  fmt='o', color='black', ms=4, mec='none')\n",
    "\n",
    "ax = axes[2]\n",
    "p1, = ax.plot(rp_bin_centers, wp_1[2]*rp_bin_centers, '-', color='cyan', alpha=1)\n",
    "p2, = ax.plot(rp_bin_centers, wp_2[2]*rp_bin_centers, '-', color='magenta', alpha=1)\n",
    "if use_err==True:\n",
    "    ax.fill_between(rp_bin_centers, (wp_2[2]+err_c)*rp_bin_centers,(wp_2[2]-err_c)*rp_bin_centers,\n",
    "                color='magenta', alpha=0.25)\n",
    "p3, = ax.plot(rp_bin_centers, wp_3[2]*rp_bin_centers, '-', color='black', alpha=1)\n",
    "p4, = ax.plot(rp_bin_centers, wp_4[2]*rp_bin_centers, '--', color='black', alpha=1)\n",
    "p5, = ax.plot(rp_bin_centers, wp_5[2]*rp_bin_centers, ':', color='black', alpha=1)\n",
    "p0 = ax.errorbar(wp_sdss_3[0,:], wp_sdss_3[1,:]*wp_sdss_3[0,:], yerr=err_3*wp_sdss_3[0,:],\n",
    "                  fmt='o', color='black', ms=4, mec='none')\n",
    "\n",
    "#add legends\n",
    "ax = axes[0]\n",
    "ax.legend((p1,p2),\n",
    "     ('RM','RV'),\n",
    "     frameon = False, fontsize=8, loc='lower right', numpoints=1, handletextpad=1)\n",
    "\n",
    "\n",
    "ax = axes[1]\n",
    "ax.legend((p3,p4,p5,p0),\n",
    "    ('Moster et al.\\n (2013)','Yang et al.\\n (2012)'),\n",
    "    frameon = False, fontsize=8, loc='lower right', numpoints=1, handletextpad=1)\n",
    "\n",
    "ax = axes[2]\n",
    "ax.legend((p5,p0),\n",
    "    ('Behroozi et al.\\n (2013)', 'SDSS'),\n",
    "    frameon = False, fontsize=8, loc='lower right', numpoints=1, handletextpad=1)\n",
    "\n",
    "plt.show()\n",
    "\n",
    "filepath = './plots/'\n",
    "filename = 'wp_comparison'\n",
    "fig.savefig(filepath+filename+'.pdf', dpi=300)"
   ]
  },
  {
   "cell_type": "markdown",
   "metadata": {},
   "source": [
    "###Satellite Fraction"
   ]
  },
  {
   "cell_type": "code",
   "execution_count": null,
   "metadata": {
    "collapsed": true
   },
   "outputs": [],
   "source": [
    "def f_sat_mstar_dep(mock, Nboot=10):\n",
    "    \"\"\"\n",
    "    satellite fraction as a function of stellar mass\n",
    "    \"\"\"\n",
    "\n",
    "    cens = (mock['halo_upid']==-1)\n",
    "    sats = (mock['halo_upid']!=-1)\n",
    "\n",
    "    bins = np.arange(9.5,11.6,0.1)\n",
    "    bins = 10.0**bins\n",
    "    bin_centers = (bins[:-1]+bins[1:])/2.0\n",
    "    \n",
    "    inds = np.arange(0,len(mock))\n",
    "    f_sat = np.zeros((Nboot,len(bins)-1))\n",
    "    for i in range(0,Nboot):\n",
    "        boot_inds = np.random.choice(inds,len(mock))\n",
    "        cens = (mock['halo_upid'][boot_inds]==-1)\n",
    "        sats = (mock['halo_upid'][boot_inds]!=-1)\n",
    "        n_sat = np.histogram(mock['stellar_mass'][boot_inds][sats], bins=bins)[0]\n",
    "        n = np.histogram(mock['stellar_mass'],bins=bins)[0]\n",
    "        f_sat[i,:] = 1.0*n_sat/n\n",
    "    \n",
    "    return np.mean(f_sat, axis=0), bin_centers, np.std(f_sat, axis=0)"
   ]
  },
  {
   "cell_type": "code",
   "execution_count": 50,
   "metadata": {
    "collapsed": false
   },
   "outputs": [
    {
     "name": "stdout",
     "output_type": "stream",
     "text": [
      "0\n",
      "1\n",
      "2\n",
      "3\n",
      "4\n",
      "5\n",
      "6\n",
      "7\n",
      "8\n",
      "9\n",
      "10\n",
      "11\n",
      "12\n",
      "13\n",
      "14\n",
      "15\n",
      "16\n",
      "17\n",
      "18\n",
      "19\n",
      "20\n",
      "21\n",
      "22\n",
      "23\n",
      "24\n"
     ]
    }
   ],
   "source": [
    "#calculate errors on stellar mass fuction for one mock\n",
    "Nboot = 25\n",
    "f_sat_22_boot = np.zeros((Nboot,20))\n",
    "for i in range(0,Nboot):\n",
    "    print(i)\n",
    "    composite_model_2.populate_mock(halocat = halocat)\n",
    "    mock_2 = composite_model_2.mock.galaxy_table\n",
    "    f_sat_22_boot[i,:], bin_centers, err = f_sat_mstar_dep(mock_2, Nboot=1)\n",
    "\n",
    "err_22 = np.std(f_sat_22_boot, axis=0)\n",
    "f_sat_22 = np.mean(f_sat_22_boot, axis=0)"
   ]
  },
  {
   "cell_type": "code",
   "execution_count": 53,
   "metadata": {
    "collapsed": false
   },
   "outputs": [
    {
     "data": {
      "image/png": "[encoded data removed]",
      "text/plain": [
       "<matplotlib.figure.Figure at 0x20abc50d0>"
      ]
     },
     "metadata": {},
     "output_type": "display_data"
    }
   ],
   "source": [
    "f_sat_11, bin_centers, err_11 = f_sat_mstar_dep(mock_1, Nboot=100)\n",
    "#f_sat_22, bin_centers, err_22 = f_sat_mstar_dep(mock_2)\n",
    "f_sat_33, bin_centers, err_33 = f_sat_mstar_dep(mock_3, Nboot=100)\n",
    "f_sat_44, bin_centers, err_44 = f_sat_mstar_dep(mock_4, Nboot=100)\n",
    "f_sat_55, bin_centers, err_55 = f_sat_mstar_dep(mock_5, Nboot=100)\n",
    "\n",
    "f_sat_1 = float(np.sum(mock_1['halo_upid']!=-1))/len(mock_1)\n",
    "f_sat_2 = float(np.sum(mock_2['halo_upid']!=-1))/len(mock_2)\n",
    "f_sat_3 = float(np.sum(mock_3['halo_upid']!=-1))/len(mock_3)\n",
    "f_sat_4 = float(np.sum(mock_4['halo_upid']!=-1))/len(mock_4)\n",
    "f_sat_5 = float(np.sum(mock_5['halo_upid']!=-1))/len(mock_5)\n",
    "\n",
    "f_sat_sdss = np.array([31.4,33.0,34.2,33.5,33.4,31.9,32.5,31.5,30.1,\\\n",
    "              29.7,29.1,28.5,26.9,26.5,24.7,22.9,20.9,19.2,\\\n",
    "             17.5,14.9,13.6,11.1,9.7,7.6,5.7,3.5,2.1])/100.0\n",
    "f_sat_sdss_err = np.array([1.1,1.3,1.2,1.0,1.1,0.8,0.7,0.7,0.5,0.5,0.6,\\\n",
    "                  0.4,0.4,0.4,0.3,0.2,0.3,0.3,0.2,0.2,0.2,0.3,\\\n",
    "                  0.3,0.3,0.3,0.4,0.6])/100.0\n",
    "m_sdss = 10**np.arange(8.85,11.46,0.1)\n",
    "\n",
    "    \n",
    "fig = plt.figure(figsize=(3.3,3.3))\n",
    "ax = fig.subplots_adjust(left=0.2, right=0.9, bottom=0.2, top=0.9)\n",
    "p0 = plt.errorbar(m_sdss,f_sat_sdss,yerr=f_sat_sdss_err,\n",
    "                  fmt='o', color='black', ms=3, mec='none')\n",
    "p1, = plt.plot(bin_centers, f_sat_11, '-', color='cyan')\n",
    "#plt.plot([2*10**9],[f_sat_1],'o',color='cyan', mec='none', ms=5)\n",
    "p2, = plt.plot(bin_centers, f_sat_22, '-', color='magenta')\n",
    "plt.fill_between(bin_centers, f_sat_22+err_22, f_sat_22-err_22, color='magenta', alpha=0.25)\n",
    "#plt.plot([2*10**9],[f_sat_2],'o',color='magenta', mec='none', ms=5)\n",
    "p3, = plt.plot(bin_centers, f_sat_33, '-', color='black')\n",
    "#plt.plot([2*10**9],[f_sat_3],'x',color='black', ms=5)\n",
    "p4, = plt.plot(bin_centers, f_sat_44, '--', color='black')\n",
    "#plt.plot([2*10**9],[f_sat_4],'s',color='black', mec='none', ms=5)\n",
    "p5, = plt.plot(bin_centers, f_sat_55, ':',  color='black')\n",
    "#plt.plot([2*10**9],[f_sat_5],'p',color='black', mec='none', ms=5)\n",
    "plt.xscale('log')\n",
    "#plt.yscale('log')\n",
    "#plt.ylim([0.06,0.5])\n",
    "plt.xlim([10**9.0,10.0**12.0])\n",
    "plt.ylim([0,0.4])\n",
    "plt.xlabel(r'$M_{*}~[h^{-2}M_{\\odot}]$')\n",
    "plt.ylabel(r'$f_{\\rm sat}$')\n",
    "\n",
    "#add legends\n",
    "first_legend = plt.legend((p0,p1,p2),\n",
    "     ('van den Bosch\\n et al. (2008)','RM','RV'),\n",
    "     frameon = False, fontsize=8, loc='lower left',\n",
    "     numpoints=1, handletextpad=1)\n",
    "ax = plt.gca().add_artist(first_legend)\n",
    "plt.legend((p3,p4,p5),\n",
    "     ('Moster et al.\\n (2013)','Yang et al.\\n (2012)','Behroozi et al.\\n (2013)'),\n",
    "     frameon = False, fontsize=8, loc='upper right',\n",
    "     numpoints=1, handletextpad=1)\n",
    "\n",
    "plt.show()\n",
    "\n",
    "filepath = './figures/'\n",
    "filename = 'f_sat_mstar'\n",
    "fig.savefig(filepath+filename+'.pdf', dpi=300)"
   ]
  },
  {
   "cell_type": "markdown",
   "metadata": {},
   "source": [
    "##Evolution of Stellar Mass Function"
   ]
  },
  {
   "cell_type": "markdown",
   "metadata": {},
   "source": [
    "###load halo catalogues"
   ]
  },
  {
   "cell_type": "code",
   "execution_count": 15,
   "metadata": {
    "collapsed": false
   },
   "outputs": [],
   "source": [
    "from halotools import sim_manager\n",
    "from astropy.cosmology import FlatLambdaCDM\n",
    "\n",
    "#load halo catalogue to populate for mocks\n",
    "simname = 'bolshoi_250'\n",
    "halocat_000 = sim_manager.CachedHaloCatalog(simname = simname, redshift=-0.0003, dz_tol=0.001,\n",
    "                                            version_name='custom', halo_finder='Rockstar')\n",
    "halocat_025 = sim_manager.CachedHaloCatalog(simname = simname, redshift=0.2463, dz_tol=0.001,\n",
    "                                            version_name='custom', halo_finder='Rockstar')\n",
    "halocat_067 = sim_manager.CachedHaloCatalog(simname = simname, redshift=0.6713, dz_tol=0.001,\n",
    "                                            version_name='custom', halo_finder='Rockstar')\n",
    "halocat_100 = sim_manager.CachedHaloCatalog(simname = simname, redshift=1.0066, dz_tol=0.001,\n",
    "                                            version_name='custom', halo_finder='Rockstar')\n",
    "\n",
    "cosmo = FlatLambdaCDM(H0=70, Om0=0.27) #bolshoi cosmology"
   ]
  },
  {
   "cell_type": "markdown",
   "metadata": {},
   "source": [
    "###Build mocks for RV Model"
   ]
  },
  {
   "cell_type": "markdown",
   "metadata": {},
   "source": [
    "build interpolation of stellar mass-vpeak relation."
   ]
  },
  {
   "cell_type": "code",
   "execution_count": 13,
   "metadata": {
    "collapsed": false
   },
   "outputs": [
    {
     "name": "stdout",
     "output_type": "stream",
     "text": [
      "('halo_upid', 'halo_hostid', 'halo_mpeak', 'halo_acc_scale', 'halo_x', 'halo_y', 'halo_id', 'halo_z', 'halo_vx', 'halo_vy', 'halo_vz', 'halo_rvir', 'halo_vpeak', 'halo_mvir', 'halo_half_mass_scale', 'halo_mvir_host_halo', 'x', 'y', 'z', 'vx', 'vy', 'vz', 'galid', 'stellar_mass')\n",
      "number of galaxies in mock:  296831\n",
      "satellite fraction:  0.272323308549\n"
     ]
    }
   ],
   "source": [
    "from beyond_age_matching.make_mocks.model_components import RankSmHm\n",
    "\n",
    "#build model\n",
    "prim_haloprop_key = 'halo_vpeak'\n",
    "mstar_model = RankSmHm(prim_haloprop_key = prim_haloprop_key, Lbox=halocat.Lbox[0], redshift=0.0)\n",
    "composite_model_2 = SubhaloModelFactory(stellar_mass = mstar_model,\n",
    "                                        haloprops = additional_halo_properties,\n",
    "                                        galaxy_selection_func = galaxy_selection_func)\n",
    "\n",
    "composite_model_2.param_dict['scatter'] = 0.0\n",
    "\n",
    "#populate simulation\n",
    "composite_model_2.populate_mock(halocat = halocat)\n",
    "mock_2 = composite_model_2.mock.galaxy_table\n",
    "print(mock_2.dtype.names)\n",
    "\n",
    "print(\"number of galaxies in mock: \", len(mock_2))\n",
    "f_sat = float(np.sum(mock_2['halo_upid']!=-1))/len(mock_2)\n",
    "print(\"satellite fraction: \", f_sat)"
   ]
  },
  {
   "cell_type": "code",
   "execution_count": 14,
   "metadata": {
    "collapsed": true
   },
   "outputs": [],
   "source": [
    "#calculate the vpeak mstar relation\n",
    "from scipy.interpolate import interp1d\n",
    "\n",
    "sort_inds = np.argsort(mock_2['halo_vpeak'])\n",
    "v = mock_2['halo_vpeak'][sort_inds]\n",
    "m = mock_2['stellar_mass'][sort_inds]\n",
    "logf = interp1d(np.log10(v), np.log10(m), bounds_error=False, fill_value='extrapolate')\n",
    "f = lambda x: 10.0**logf(np.log10(x))"
   ]
  },
  {
   "cell_type": "code",
   "execution_count": 15,
   "metadata": {
    "collapsed": false
   },
   "outputs": [
    {
     "data": {
      "image/png": "[encoded data removed]",
      "text/plain": [
       "<matplotlib.figure.Figure at 0x15cb950d0>"
      ]
     },
     "metadata": {},
     "output_type": "display_data"
    }
   ],
   "source": [
    "v_sample = np.logspace(1,3,100)\n",
    "\n",
    "fig, ax = plt.subplots(nrows=1,ncols=1,sharex=False,sharey=True, figsize=(3.3, 3.3))\n",
    "fig.subplots_adjust(left=0.2, right=0.9, bottom=0.2, top=0.9)\n",
    "ax.plot(v_sample, f(v_sample))\n",
    "ax.plot(mock_2['halo_vpeak'], mock_2['stellar_mass'], '.', ms=1)\n",
    "plt.xscale('log')\n",
    "plt.yscale('log')\n",
    "plt.xlim([100,3000])\n",
    "plt.ylim([10**9.0,10**12])\n",
    "plt.show()"
   ]
  },
  {
   "cell_type": "code",
   "execution_count": 35,
   "metadata": {
    "collapsed": false
   },
   "outputs": [],
   "source": [
    "#build mocks for different redshifts\n",
    "mock_2_000 = halocat_000.halo_table\n",
    "mock_2_000['stellar_mass'] = f(mock_2_000['halo_vpeak'])\n",
    "mask = (mock_2_000['stellar_mass'] > 10**9.5) & (mock_2_000['stellar_mass'] < 10**15.0)\n",
    "mock_2_000 = mock_2_000[mask]\n",
    "\n",
    "mock_2_025 = halocat_025.halo_table\n",
    "mock_2_025['stellar_mass'] = f(mock_2_025['halo_vpeak'])\n",
    "mask = (mock_2_025['stellar_mass'] > 10**9.5) & (mock_2_025['stellar_mass'] < 10**15.0)\n",
    "mock_2_025 = mock_2_025[mask]\n",
    "\n",
    "mock_2_067 = halocat_067.halo_table\n",
    "mock_2_067['stellar_mass'] = f(mock_2_067['halo_vpeak'])\n",
    "mask = (mock_2_067['stellar_mass'] > 10**9.5) & (mock_2_067['stellar_mass'] < 10**15.0)\n",
    "mock_2_067 = mock_2_067[mask]\n",
    "\n",
    "mock_2_100 = halocat_100.halo_table\n",
    "mock_2_100['stellar_mass'] = f(mock_2_100['halo_vpeak'])\n",
    "mask = (mock_2_100['stellar_mass'] > 10**9.5) & (mock_2_100['stellar_mass'] < 10**15.0)\n",
    "mock_2_100 = mock_2_100[mask]"
   ]
  },
  {
   "cell_type": "markdown",
   "metadata": {},
   "source": [
    "###Build Mocks for M13 Model"
   ]
  },
  {
   "cell_type": "code",
   "execution_count": 37,
   "metadata": {
    "collapsed": true
   },
   "outputs": [],
   "source": [
    "from beyond_age_matching.make_mocks.model_components import MosterSmHm13\n",
    "\n",
    "#build model\n",
    "mstar_model = MosterSmHm13(redshift=0.0)\n",
    "mstar_model.littleh = 0.701\n",
    "mstar_model._m_conv_factor = 0.8\n",
    "composite_model_3 = SubhaloModelFactory(stellar_mass = mstar_model,\n",
    "                                        haloprops = additional_halo_properties,\n",
    "                                        galaxy_selection_func = galaxy_selection_func,\n",
    "                                        model_feature_calling_sequence = ('stellar_mass','haloprops'))\n",
    "composite_model_3.populate_mock(halocat = halocat_000)\n",
    "mock_3_000 = composite_model_3.mock.galaxy_table\n",
    "\n",
    "mstar_model = MosterSmHm13(redshift=0.25)\n",
    "mstar_model.littleh = 0.701\n",
    "mstar_model._m_conv_factor = 0.8\n",
    "composite_model_3 = SubhaloModelFactory(stellar_mass = mstar_model,\n",
    "                                        haloprops = additional_halo_properties,\n",
    "                                        galaxy_selection_func = galaxy_selection_func,\n",
    "                                        model_feature_calling_sequence = ('stellar_mass','haloprops'))\n",
    "composite_model_3.populate_mock(halocat = halocat_025)\n",
    "mock_3_025 = composite_model_3.mock.galaxy_table\n",
    "\n",
    "mstar_model = MosterSmHm13(redshift=0.67)\n",
    "mstar_model.littleh = 0.701\n",
    "mstar_model._m_conv_factor = 0.8\n",
    "composite_model_3 = SubhaloModelFactory(stellar_mass = mstar_model,\n",
    "                                        haloprops = additional_halo_properties,\n",
    "                                        galaxy_selection_func = galaxy_selection_func,\n",
    "                                        model_feature_calling_sequence = ('stellar_mass','haloprops'))\n",
    "composite_model_3.populate_mock(halocat = halocat_067)\n",
    "mock_3_067 = composite_model_3.mock.galaxy_table\n",
    "\n",
    "mstar_model = MosterSmHm13(redshift=1.0)\n",
    "mstar_model.littleh = 0.701\n",
    "mstar_model._m_conv_factor = 0.8\n",
    "composite_model_3 = SubhaloModelFactory(stellar_mass = mstar_model,\n",
    "                                        haloprops = additional_halo_properties,\n",
    "                                        galaxy_selection_func = galaxy_selection_func,\n",
    "                                        model_feature_calling_sequence = ('stellar_mass','haloprops'))\n",
    "composite_model_3.populate_mock(halocat = halocat_100)\n",
    "mock_3_100 = composite_model_3.mock.galaxy_table"
   ]
  },
  {
   "cell_type": "markdown",
   "metadata": {},
   "source": [
    "##Evolution of Stellar Mass Function"
   ]
  },
  {
   "cell_type": "code",
   "execution_count": 12,
   "metadata": {
    "collapsed": false
   },
   "outputs": [
    {
     "ename": "NameError",
     "evalue": "name 'mock_2_000' is not defined",
     "output_type": "error",
     "traceback": [
      "\u001b[0;31m---------------------------------------------------------------------------\u001b[0m",
      "\u001b[0;31mNameError\u001b[0m                                 Traceback (most recent call last)",
      "\u001b[0;32m<ipython-input-12-f0a0c2742d1b>\u001b[0m in \u001b[0;36m<module>\u001b[0;34m()\u001b[0m\n\u001b[1;32m     15\u001b[0m \u001b[0;34m\u001b[0m\u001b[0m\n\u001b[1;32m     16\u001b[0m \u001b[0;31m#calculate for model #2\u001b[0m\u001b[0;34m\u001b[0m\u001b[0;34m\u001b[0m\u001b[0m\n\u001b[0;32m---> 17\u001b[0;31m \u001b[0mdndm_2_a\u001b[0m\u001b[0;34m,\u001b[0m \u001b[0mbin_centers\u001b[0m \u001b[0;34m=\u001b[0m \u001b[0mstellar_mass_func\u001b[0m\u001b[0;34m(\u001b[0m\u001b[0mmock_2_000\u001b[0m\u001b[0;34m,\u001b[0m \u001b[0mbins\u001b[0m\u001b[0;34m=\u001b[0m\u001b[0mbins\u001b[0m\u001b[0;34m)\u001b[0m\u001b[0;34m\u001b[0m\u001b[0m\n\u001b[0m\u001b[1;32m     18\u001b[0m \u001b[0mdndm_2_b\u001b[0m\u001b[0;34m,\u001b[0m \u001b[0mbin_centers\u001b[0m \u001b[0;34m=\u001b[0m \u001b[0mstellar_mass_func\u001b[0m\u001b[0;34m(\u001b[0m\u001b[0mmock_2_025\u001b[0m\u001b[0;34m,\u001b[0m \u001b[0mbins\u001b[0m\u001b[0;34m=\u001b[0m\u001b[0mbins\u001b[0m\u001b[0;34m)\u001b[0m\u001b[0;34m\u001b[0m\u001b[0m\n\u001b[1;32m     19\u001b[0m \u001b[0mdndm_2_c\u001b[0m\u001b[0;34m,\u001b[0m \u001b[0mbin_centers\u001b[0m \u001b[0;34m=\u001b[0m \u001b[0mstellar_mass_func\u001b[0m\u001b[0;34m(\u001b[0m\u001b[0mmock_2_067\u001b[0m\u001b[0;34m,\u001b[0m \u001b[0mbins\u001b[0m\u001b[0;34m=\u001b[0m\u001b[0mbins\u001b[0m\u001b[0;34m)\u001b[0m\u001b[0;34m\u001b[0m\u001b[0m\n",
      "\u001b[0;31mNameError\u001b[0m: name 'mock_2_000' is not defined"
     ]
    }
   ],
   "source": [
    "def stellar_mass_func(mock, bins=np.logspace(9.5,12.0,26)):\n",
    "    \"\"\"\n",
    "    caclulate stellar mass function\n",
    "    \"\"\"\n",
    "    \n",
    "    #stellar mass function\n",
    "    bin_centers = (bins[:-1]+bins[1:])/2.0\n",
    "    counts = np.histogram(mock['stellar_mass'],bins=bins)[0]\n",
    "    dndm = counts/(halocat.Lbox[0]**3)/0.1\n",
    "\n",
    "    return dndm, bin_centers\n",
    "\n",
    "bins = np.arange(9.5,12.0,0.1)\n",
    "bins = 10.0**bins\n",
    "\n",
    "#calculate for model #2\n",
    "dndm_2_a, bin_centers = stellar_mass_func(mock_2_000, bins=bins)\n",
    "dndm_2_b, bin_centers = stellar_mass_func(mock_2_025, bins=bins)\n",
    "dndm_2_c, bin_centers = stellar_mass_func(mock_2_067, bins=bins)\n",
    "dndm_2_d, bin_centers = stellar_mass_func(mock_2_100, bins=bins)\n",
    "\n",
    "#calculate for model #3\n",
    "dndm_3_a, bin_centers = stellar_mass_func(mock_3_000, bins=bins)\n",
    "dndm_3_b, bin_centers = stellar_mass_func(mock_3_025, bins=bins)\n",
    "dndm_3_c, bin_centers = stellar_mass_func(mock_3_067, bins=bins)\n",
    "dndm_3_d, bin_centers = stellar_mass_func(mock_3_100, bins=bins)"
   ]
  },
  {
   "cell_type": "code",
   "execution_count": 39,
   "metadata": {
    "collapsed": true
   },
   "outputs": [],
   "source": [
    "#load observational stellar mass functions\n",
    "\n",
    "from lss_observations.stellar_mass_functions import Tomczak_2014_phi, LiWhite_2009_phi\n",
    "\n",
    "obs_phi_a = LiWhite_2009_phi(redshift=0.0)\n",
    "obs_phi_b = Tomczak_2014_phi(redshift=0.25)\n",
    "obs_phi_c = Tomczak_2014_phi(redshift=0.67)\n",
    "obs_phi_d = Tomczak_2014_phi(redshift=1.0)\n",
    "\n",
    "m = obs_phi_b.data_table['bin_center']\n",
    "phi_b = obs_phi_b.data_table['0.2_0.5']\n",
    "phi_c = obs_phi_b.data_table['0.5_0.75']\n",
    "phi_d = obs_phi_b.data_table['1.0_1.25']\n",
    "\n",
    "phi_b_err = np.vstack((obs_phi_b.data_table['0.2_0.5_minus_err'],\n",
    "                       obs_phi_b.data_table['0.2_0.5_plus_err']))\n",
    "phi_c_err = np.vstack((obs_phi_b.data_table['0.5_0.75_minus_err'],\n",
    "                       obs_phi_b.data_table['0.5_0.75_plus_err']))\n",
    "phi_d_err = np.vstack((obs_phi_b.data_table['0.75_1.0_minus_err'],\n",
    "                       obs_phi_b.data_table['0.75_1.0_plus_err']))"
   ]
  },
  {
   "cell_type": "code",
   "execution_count": 44,
   "metadata": {
    "collapsed": false
   },
   "outputs": [
    {
     "data": {
      "image/png": "[encoded data removed]",
      "text/plain": [
       "<matplotlib.figure.Figure at 0x12f87b4d0>"
      ]
     },
     "metadata": {},
     "output_type": "display_data"
    }
   ],
   "source": [
    "#plot stellar mass function\n",
    "fig, axes = plt.subplots(nrows=1,ncols=3,sharex=True,sharey=True,figsize=(6.95, 2.75))\n",
    "fig.subplots_adjust(hspace=0, wspace=0.05, left=0.075, right=0.975, bottom=0.2, top=0.9)\n",
    "\n",
    "ax = axes[0]\n",
    "ax.text(10.0**11.1, 0.03, 'z=0.0')\n",
    "p1 = ax.errorbar(obs_phi_a.data_table['bin_center'], obs_phi_a.data_table['phi'],\n",
    "                 yerr=obs_phi_a.data_table['err'],\n",
    "                 fmt='o', mec='none', color='black', ms=4)\n",
    "p2, = ax.plot(bin_centers, dndm_2_a,'-', color='magenta')\n",
    "p3, = ax.plot(bin_centers, dndm_3_a,'-', color='black')\n",
    "ax.legend((p1,p2,p3),('Li \\& White (2009)','RV','Moster et al. (2013)'),\n",
    "          fontsize=8, frameon=False, numpoints=1, loc='lower left')\n",
    "\n",
    "#ax = axes[1]\n",
    "#ax.text(10.0**11.2, 0.03, 'z=0.25')\n",
    "#p1 = ax.errorbar(m, phi_b, yerr=phi_b_err,\n",
    "#                 fmt='o', mec='none', color='black', ms=4)\n",
    "#ax.plot(bin_centers, dndm_2_b,'--', color='magenta')\n",
    "#ax.plot(bin_centers, dndm_3_b,'-', color='black')\n",
    "#ax.legend([p1],['Tomczak et al. (2014)\\n z=0.2-0.5'],\n",
    "#          fontsize=8, frameon=False, numpoints=1, loc='lower left',handletextpad=0)\n",
    "\n",
    "ax = axes[1]\n",
    "ax.text(10.0**11.1, 0.03, 'z=0.67')\n",
    "p1 = ax.errorbar(m, phi_c, yerr=phi_c_err,\n",
    "                 fmt='o', mec='none', color='black', ms=4)\n",
    "ax.plot(bin_centers, dndm_2_c,'--', color='magenta')\n",
    "ax.plot(bin_centers, dndm_3_c,'-', color='black')\n",
    "ax.legend([p1],['Tomczak et al. (2014)\\n z=0.5-0.75'],\n",
    "          fontsize=8, frameon=False, numpoints=1, loc='lower left',handletextpad=0)\n",
    "\n",
    "ax = axes[2]\n",
    "ax.text(10.0**11.1, 0.03, 'z=1.0')\n",
    "p1 = ax.errorbar(m, phi_d, yerr=phi_d_err,\n",
    "                 fmt='o', mec='none', color='black', ms=4)\n",
    "ax.plot(bin_centers, dndm_2_d,'--', color='magenta')\n",
    "ax.plot(bin_centers, dndm_3_d,'-', color='black')\n",
    "ax.legend([p1],['Tomczak et al. (2014)\\n z=1.0-1.25'],\n",
    "          fontsize=8, frameon=False, numpoints=1, loc='lower left',handletextpad=0)\n",
    "\n",
    "ax = axes[0]\n",
    "ax.set_yscale('log')\n",
    "ax.set_xscale('log')\n",
    "ax.set_ylabel(r'$\\phi(M_{*})~[h^{3}{\\rm Mpc}^{-3}{\\rm dex}^{-1}]$', labelpad=-1)\n",
    "ax.set_xlim([10**9,10**11.8])\n",
    "ax.set_ylim([10**-5,10**-1])\n",
    "ax.set_xlabel(r'$M_{*} ~[h^{-2}M_{\\odot}]$')\n",
    "ax = axes[1]\n",
    "ax.set_xlabel(r'$M_{*} ~[h^{-2}M_{\\odot}]$')\n",
    "#ax = axes[2]\n",
    "#ax.set_xlabel(r'$M_{*} ~[h^{-2}M_{\\odot}]$')\n",
    "ax = axes[2]\n",
    "ax.set_xlabel(r'$M_{*} ~[h^{-2}M_{\\odot}]$')\n",
    "plt.show()\n",
    "\n",
    "filepath = './plots/'\n",
    "filename = 'stellar_mass_function_evolution'\n",
    "fig.savefig(filepath+filename+'.pdf', dpi=300)"
   ]
  },
  {
   "cell_type": "markdown",
   "metadata": {
    "collapsed": true
   },
   "source": [
    "##Stellar Mass Growth Histories"
   ]
  },
  {
   "cell_type": "code",
   "execution_count": 10,
   "metadata": {
    "collapsed": false
   },
   "outputs": [],
   "source": [
    "from beyond_age_matching.make_mocks.model_components import PWGH, MAH\n",
    "\n",
    "v_sample = np.arange(2.0,3.01,0.05)\n",
    "\n",
    "#sample as a function of redshift\n",
    "z_sample = np.zeros(len(v_sample))\n",
    "\n",
    "#caclulate average Vpeak histotires of haloes\n",
    "p = PWGH()\n",
    "\n",
    "v_sample = 10**v_sample\n",
    "v_histories, z = p.pwgh(v_sample, z_sample)\n",
    "\n",
    "#caclulate average Mpeak histotires of haloes\n",
    "p = MAH()\n",
    "\n",
    "m_sample = (v_sample/(159.43))**3.0 * 10.0**12\n",
    "m_histories, z = p.mah(m_sample, z_sample)"
   ]
  },
  {
   "cell_type": "code",
   "execution_count": 11,
   "metadata": {
    "collapsed": false
   },
   "outputs": [
    {
     "data": {
      "image/png": "[encoded data removed]",
      "text/plain": [
       "<matplotlib.figure.Figure at 0x1241a9790>"
      ]
     },
     "metadata": {},
     "output_type": "display_data"
    },
    {
     "data": {
      "image/png": "[encoded data removed]",
      "text/plain": [
       "<matplotlib.figure.Figure at 0x124179050>"
      ]
     },
     "metadata": {},
     "output_type": "display_data"
    }
   ],
   "source": [
    "from SHAM_model_components import ParamSmHm\n",
    "smvp = ParamSmHm(prim_haloprop_key='halo_vpeak', scatter=0.0)\n",
    "smhm = ParamSmHm(prim_haloprop_key='halo_mpeak', scatter=0.0)\n",
    "\n",
    "plt.figure()\n",
    "plt.plot(v_sample, smvp.mean_stellar_mass(prim_haloprop=v_sample, scatter=0.0),'-', color='magenta')\n",
    "plt.plot(v_sample, smhm.mean_stellar_mass(prim_haloprop=m_sample, scatter=0.0),'-', color='cyan')\n",
    "plt.xscale('log')\n",
    "plt.yscale('log')\n",
    "plt.show()\n",
    "\n",
    "plt.figure()\n",
    "plt.plot(m_sample,v_sample)\n",
    "plt.xscale('log')\n",
    "plt.yscale('log')\n",
    "plt.show()"
   ]
  },
  {
   "cell_type": "code",
   "execution_count": 144,
   "metadata": {
    "collapsed": false
   },
   "outputs": [
    {
     "name": "stdout",
     "output_type": "stream",
     "text": [
      "0 1.9992380461\n",
      "1 2.0464950461\n",
      "2 2.0937210461\n",
      "3 2.15663871276\n",
      "4 2.20379371276\n",
      "5 2.25092271276\n",
      "6 2.29802571276\n",
      "7 2.34510271276\n",
      "8 2.39216171276\n",
      "9 2.45488037943\n",
      "10 2.50190437943\n",
      "11 2.54892037943\n",
      "12 2.59593337943\n",
      "13 2.64294537943\n",
      "14 2.7056440461\n",
      "15 2.7526830461\n",
      "16 2.7997500461\n",
      "17 2.8468500461\n",
      "18 2.8939920461\n",
      "19 2.95693671276\n",
      "20 3.00423571276\n"
     ]
    },
    {
     "data": {
      "image/png": "[encoded data removed]",
      "text/plain": [
       "<matplotlib.figure.Figure at 0x1461710d0>"
      ]
     },
     "metadata": {},
     "output_type": "display_data"
    }
   ],
   "source": [
    "from scipy.interpolate import interp1d\n",
    "\n",
    "sort_inds = np.argsort(mock_2['halo_vpeak'])\n",
    "v = mock_2['halo_vpeak'][sort_inds]\n",
    "m = mock_2['stellar_mass'][sort_inds]\n",
    "logf = interp1d(np.log10(v), np.log10(m), bounds_error=False)\n",
    "f = lambda x: 10.0**logf(np.log10(x))\n",
    "f = lambda x: smvp.mean_stellar_mass(prim_haloprop=x, scatter=0.0)\n",
    "\n",
    "fig, ax = plt.subplots(nrows=1,ncols=1,sharex=False,sharey=True, figsize=(3.3, 3.3))\n",
    "fig.subplots_adjust(left=0.2, right=0.9, bottom=0.2, top=0.9)\n",
    "c = np.linspace(0,1,len(v_histories))\n",
    "from matplotlib import cm\n",
    "for i, v_history in enumerate(v_histories):\n",
    "    print(i, v_history[0])\n",
    "    color = cm.winter(c[i])\n",
    "    m = f(10**v_history)\n",
    "    p1, = plt.plot(1+z, m/m[0], color=color)\n",
    "    a = 1.0/(1.0+z)\n",
    "    composite_model_4.param_dict['c']=0.0\n",
    "    m = composite_model_4.mean_stellar_mass(prim_haloprop = 10**m_histories[i], halo_acc_scale=a)\n",
    "    p2, = plt.plot(1+z, m/m[0], ':', color=color, lw=1.5)#, dashes = (1,1))\n",
    "p1, = plt.plot(1+z, m/m[0]*0.0, color='black')\n",
    "p2, = plt.plot(1+z, m/m[0]*0.0,':', color='black', lw=1.5)#, dashes = (1,1))\n",
    "plt.xscale('log')\n",
    "plt.ylim([0,1.1])\n",
    "plt.xlim([10,1])\n",
    "plt.xlabel(r'$z$')\n",
    "plt.xticks([10,7,5,4,3,2,1])\n",
    "ax.set_xticklabels(['9','6','4','3','2','1','0'])\n",
    "plt.ylabel(r'$\\langle M_*/M_0 \\rangle_{\\rm med}$')\n",
    "plt.legend((p1,p2), ('RV','M13'), loc='upper left', frameon = False, fontsize=10)\n",
    "p = plt.scatter(v_sample*0.0,v_sample*0.0,c=np.log10(v_sample),cmap='winter',vmin=2, vmax=3)\n",
    "cbar = plt.colorbar(p)\n",
    "#cbar.set_label(r'$\\log(V_{\\rm peak}(z=0))$')\n",
    "cbar.set_label(r'$V_{\\rm peak}(z=0) ~ [{\\rm km/s}]$', labelpad=-5)\n",
    "cbar.set_ticks(np.log10(np.linspace(100,1000,10)))\n",
    "cbar.set_ticklabels([100,'','','','','','','','',1000])\n",
    "plt.show()\n",
    "\n",
    "filepath = './figures/'\n",
    "filename = 'mstar_of_z_rm'\n",
    "fig.savefig(filepath+filename+'.pdf', dpi=300)"
   ]
  },
  {
   "cell_type": "code",
   "execution_count": 16,
   "metadata": {
    "collapsed": false
   },
   "outputs": [
    {
     "data": {
      "image/png": "[encoded data removed]",
      "text/plain": [
       "<matplotlib.figure.Figure at 0x125dfb490>"
      ]
     },
     "metadata": {},
     "output_type": "display_data"
    }
   ],
   "source": [
    "from scipy.interpolate import interp1d\n",
    "\n",
    "x1 = np.zeros((len(v_histories)))\n",
    "y1 = np.zeros((3,len(v_histories)))\n",
    "\n",
    "x2 = np.zeros((len(v_histories)))\n",
    "y2 = np.zeros((3,len(v_histories)))\n",
    "\n",
    "x3 = np.zeros((len(v_histories)))\n",
    "y3 = np.zeros((3,len(v_histories)))\n",
    "\n",
    "x4 = np.zeros((len(v_histories)))\n",
    "y4 = np.zeros((3,len(v_histories)))\n",
    "\n",
    "x5 = np.zeros((len(v_histories)))\n",
    "y5 = np.zeros((3,len(v_histories)))\n",
    "\n",
    "for i, v_history in enumerate(v_histories):\n",
    "    \n",
    "    m = smhm.mean_stellar_mass(prim_haloprop=10**m_histories[i], scatter=0.0)\n",
    "    finv = interp1d(m/np.max(m), z)\n",
    "    x1[i] = 10**v_history[0]\n",
    "    y1[0,i] = 1+finv(0.1)\n",
    "    y1[1,i] = 1+finv(0.5)\n",
    "    y1[2,i] = 1+finv(0.9)\n",
    "    \n",
    "    m = smvp.mean_stellar_mass(prim_haloprop=10**v_history, scatter=0.0)\n",
    "    finv = interp1d(m/np.max(m), z)\n",
    "    x2[i] = 10**v_history[0]\n",
    "    y2[0,i] = 1+finv(0.1)\n",
    "    y2[1,i] = 1+finv(0.5)\n",
    "    y2[2,i] = 1+finv(0.9)\n",
    "    \n",
    "    a = 1.0/(1.0+z)\n",
    "    \n",
    "    m = composite_model_3.mean_stellar_mass(prim_haloprop = 10**m_histories[i], halo_acc_scale=a)\n",
    "    finv = interp1d(m/np.max(m), z)\n",
    "    x3[i] = 10**v_history[0]\n",
    "    y3[0,i] = 1+finv(0.1)\n",
    "    y3[1,i] = 1+finv(0.5)\n",
    "    y3[2,i] = 1+finv(0.9)\n",
    "    \n",
    "    composite_model_4.param_dict['c']=0.0\n",
    "    m = composite_model_4.mean_stellar_mass(prim_haloprop = 10**m_histories[i], halo_acc_scale=a)\n",
    "    mask = np.isfinite(m)\n",
    "    m[mask==False] = 0.0\n",
    "    mm = np.maximum.accumulate(m[::-1])[::-1]\n",
    "    finv = interp1d(mm/np.max(m), z)\n",
    "    x4[i] = 10**v_history[0]\n",
    "    y4[0,i] = 1+finv(0.1)\n",
    "    y4[1,i] = 1+finv(0.5)\n",
    "    y4[2,i] = 1+finv(0.9)\n",
    "    \n",
    "    m = composite_model_5.mean_stellar_mass(prim_haloprop = 10**m_histories[i], halo_acc_scale=a)\n",
    "    finv = interp1d(m/np.max(m), z)\n",
    "    x5[i] = 10**v_history[0]\n",
    "    y5[0,i] = 1+finv(0.1)\n",
    "    y5[1,i] = 1+finv(0.5)\n",
    "    y5[2,i] = 1+finv(0.9)\n",
    "    \n",
    "\n",
    "from matplotlib import cm    \n",
    "\n",
    "fig, axes = plt.subplots(nrows=3,ncols=1,sharex=True,sharey=True,figsize=(3.3, 7.6))\n",
    "fig.subplots_adjust(hspace=0.05, wspace=0, left=0.18, right=0.9, bottom=0.075, top=0.975)\n",
    "\n",
    "ax=axes[0]\n",
    "c = np.linspace(0,1,len(v_histories))\n",
    "p1, = ax.plot(x1, y1[0,:], '-', color='cyan')   \n",
    "p2, = ax.plot(x2, y2[0,:], '-', color='magenta')   \n",
    "p3, = ax.plot(x3, y3[0,:], '-', color='black') \n",
    "p4, = ax.plot(x4, y4[0,:], '--', color='black') \n",
    "p5, = ax.plot(x5, y5[0,:], ':', color='black') \n",
    "ax.set_xscale('log')\n",
    "ax.set_xlim([100,1000])\n",
    "ax.set_yscale('log')\n",
    "ax.set_ylim([1,10])\n",
    "ax.set_ylabel(r'$\\langle z | M_*/M_0 = 0.1 \\rangle_{\\rm med}$')\n",
    "ax.set_yticks([10,7,5,4,3,2,1])\n",
    "ax.set_yticklabels(['9','6','4','3','2','1','0'])\n",
    "ax.set_xticks([100,200,300,400,500,600,700,800,900,1000])\n",
    "ax.set_xticklabels(['100','200','','','500','','','','','1000'])\n",
    "ax.set_xlabel(r'$V_{\\rm peak}(z=0) ~ [{\\rm km/s}]$')\n",
    "\n",
    "ax=axes[1]\n",
    "c = np.linspace(0,1,len(v_histories))\n",
    "p1, = ax.plot(x1, y1[1,:], '-', color='cyan')   \n",
    "p2, = ax.plot(x2, y2[1,:], '-', color='magenta')   \n",
    "p3, = ax.plot(x3, y3[1,:], '-', color='black') \n",
    "p4, = ax.plot(x4, y4[1,:], '--', color='black') \n",
    "p5, = ax.plot(x5, y5[1,:], ':', color='black') \n",
    "ax.set_xscale('log')\n",
    "ax.set_xlim([100,1000])\n",
    "ax.set_yscale('log')\n",
    "ax.set_ylim([1,10])\n",
    "ax.set_ylabel(r'$\\langle z | M_*/M_0 = 0.5 \\rangle_{\\rm med}$')\n",
    "ax.set_yticks([10,7,5,4,3,2,1])\n",
    "ax.set_yticklabels(['','6','4','3','2','1','0'])\n",
    "ax.set_xticks([100,200,300,400,500,600,700,800,900,1000])\n",
    "ax.set_xticklabels(['100','200','','','500','','','','','1000'])\n",
    "ax.set_xlabel(r'$V_{\\rm peak}(z=0) ~ [{\\rm km/s}]$')\n",
    "\n",
    "ax=axes[2]\n",
    "c = np.linspace(0,1,len(v_histories))\n",
    "p1, = ax.plot(x1, y1[2,:], '-', color='cyan')   \n",
    "p2, = ax.plot(x2, y2[2,:], '-', color='magenta')   \n",
    "p3, = ax.plot(x3, y3[2,:], '-', color='black') \n",
    "p4, = ax.plot(x4, y4[2,:], '--', color='black') \n",
    "p5, = ax.plot(x5, y5[2,:], ':', color='black') \n",
    "ax.set_xscale('log')\n",
    "ax.set_xlim([100,1000])\n",
    "ax.set_yscale('log')\n",
    "ax.set_ylim([1,10])\n",
    "ax.set_ylabel(r'$\\langle z | M_*/M_0 = 0.9 \\rangle_{\\rm med}$')\n",
    "ax.set_yticks([10,7,5,4,3,2,1])\n",
    "ax.set_yticklabels(['','6','4','3','2','1','0'])\n",
    "ax.set_xticks([100,200,300,400,500,600,700,800,900,1000])\n",
    "ax.set_xticklabels(['100','200','','','500','','','','','1000'])\n",
    "ax.set_xlabel(r'$V_{\\rm peak}(z=0) ~ [{\\rm km/s}]$')\n",
    "\n",
    "\n",
    "#add legends\n",
    "ax = axes[0]\n",
    "ax.legend((p1,p2),('RM','RV'), frameon = False, fontsize=8, loc='lower right', numpoints=1, handletextpad=1)\n",
    "\n",
    "ax = axes[2]\n",
    "ax.legend((p3,p4,p5),\n",
    "     ('Moster et al. (2013)','Yang et al. (2012)','Behroozi et al. (2013)'),\n",
    "     frameon = False, fontsize=8, loc='upper left', numpoints=1, handletextpad=1)\n",
    "\n",
    "plt.show()\n",
    "\n",
    "filepath = './figures/'\n",
    "filename = 'stellar_mass_zform'\n",
    "fig.savefig(filepath+filename+'.pdf', dpi=300)"
   ]
  },
  {
   "cell_type": "code",
   "execution_count": 180,
   "metadata": {
    "collapsed": false
   },
   "outputs": [],
   "source": [
    "m = composite_model_4.mean_stellar_mass(prim_haloprop = 10**m_histories[i], halo_acc_scale=a)"
   ]
  },
  {
   "cell_type": "code",
   "execution_count": 173,
   "metadata": {
    "collapsed": false
   },
   "outputs": [],
   "source": [
    "m = np.nan_to_num(m)"
   ]
  },
  {
   "cell_type": "code",
   "execution_count": 176,
   "metadata": {
    "collapsed": false
   },
   "outputs": [
    {
     "data": {
      "text/plain": [
       "array([  1.27666198e+11,   1.28604641e+11,   1.29531801e+11,\n",
       "         1.30447910e+11,   1.31369115e+11,   1.32295916e+11,\n",
       "         1.33229545e+11,   1.34170146e+11,   1.35103094e+11,\n",
       "         1.36042877e+11,   1.36989397e+11,   1.37941958e+11,\n",
       "         1.38901947e+11,   1.39853098e+11,   1.40825275e+11,\n",
       "         1.41787989e+11,   1.42756214e+11,   1.43729724e+11,\n",
       "         1.44692498e+11,   1.45675430e+11,   1.46646938e+11,\n",
       "         1.47638281e+11,   1.48616872e+11,   1.49598652e+11,\n",
       "         1.50583077e+11,   1.51571005e+11,   1.52559416e+11,\n",
       "         1.53549112e+11,   1.54539605e+11,   1.55531789e+11,\n",
       "         1.56522381e+11,   1.57495335e+11,   1.58488180e+11,\n",
       "         1.59474809e+11,   1.60440308e+11,   1.61419732e+11,\n",
       "         1.62395406e+11,   1.63365084e+11,   1.64312193e+11,\n",
       "         1.65270909e+11,   1.66221462e+11,   1.67163055e+11,\n",
       "         1.68098373e+11,   1.69021418e+11,   1.69936680e+11,\n",
       "         1.70839789e+11,   1.71747907e+11,   1.72627902e+11,\n",
       "         1.73509399e+11,   1.74379205e+11,   1.75214263e+11,\n",
       "         1.76070514e+11,   1.76892178e+11,   1.77696644e+11,\n",
       "         1.78501502e+11,   1.79268848e+11,   1.80034800e+11,\n",
       "         1.80798535e+11,   1.81519568e+11,   1.82238729e+11,\n",
       "         1.82931822e+11,   1.83600098e+11,   1.84240149e+11,\n",
       "         1.84872128e+11,   1.85476209e+11,   1.86048857e+11,\n",
       "         1.86612898e+11,   1.87143383e+11,   1.87641757e+11,\n",
       "         1.88123273e+11,   1.88570517e+11,   1.88979731e+11,\n",
       "         1.89371442e+11,   1.89725654e+11,   1.90038517e+11,\n",
       "         1.90333487e+11,   1.90600967e+11,   1.90838252e+11,\n",
       "         1.91030022e+11,   1.91193994e+11,   1.91313216e+11,\n",
       "         1.91405467e+11,   1.91450970e+11,   1.91467458e+11,\n",
       "         1.91435260e+11,   1.91375225e+11,   1.91280016e+11,\n",
       "         1.91139766e+11,   1.90962444e+11,   1.90738529e+11,\n",
       "         1.90439187e+11,   1.90131387e+11,   1.89796577e+11,\n",
       "         1.89396640e+11,   1.88967827e+11,   1.88477860e+11,\n",
       "         1.87947368e+11,   1.87361449e+11,   1.86754834e+11,\n",
       "         1.86088156e+11,   1.85361079e+11,   1.84611353e+11,\n",
       "         1.83821033e+11,   1.82969029e+11,   1.82072074e+11,\n",
       "         1.81133415e+11,   1.80149025e+11,   1.79105834e+11,\n",
       "         1.78032914e+11,   1.76901031e+11,   1.75738774e+11,\n",
       "         1.74513851e+11,   1.73246158e+11,   1.71931956e+11,\n",
       "         1.70594301e+11,   1.69198620e+11,   1.67760685e+11,\n",
       "         1.66284250e+11,   1.64758704e+11,   1.63218594e+11,\n",
       "         1.61602522e+11,   1.59972511e+11,   1.58277007e+11,\n",
       "         1.56544908e+11,   1.54814407e+11,   1.53020745e+11,\n",
       "         1.51178655e+11,   1.49302202e+11,   1.47416605e+11,\n",
       "         1.45497841e+11,   1.43558873e+11,   1.41551310e+11,\n",
       "         1.39538338e+11,   1.37532751e+11,   1.35449839e+11,\n",
       "         1.33364623e+11,   1.31253147e+11,   1.29105377e+11,\n",
       "         1.26969652e+11,   1.24800238e+11,   1.22609452e+11,\n",
       "         1.20388309e+11,   1.18173325e+11,   1.15951059e+11,\n",
       "         1.13727234e+11,   1.11498347e+11,   1.09246768e+11,\n",
       "         1.06983706e+11,   1.04734334e+11,   1.02476314e+11,\n",
       "         1.00211282e+11,   9.79638783e+10,   9.56896359e+10,\n",
       "         9.34359766e+10,   9.11816525e+10,   8.89503957e+10,\n",
       "         8.67287101e+10,   8.45106799e+10,   8.23192128e+10,\n",
       "         8.01343199e+10,   7.79642624e+10,   7.58241167e+10,\n",
       "         7.36748143e+10,   7.15582146e+10,   6.94808242e+10,\n",
       "         6.73993034e+10,   6.53589165e+10,   6.33597237e+10,\n",
       "         6.13557553e+10,   5.93950593e+10,   5.74556277e+10,\n",
       "         5.55435830e+10,   5.36762661e+10,   5.18374745e+10,\n",
       "         5.00196942e+10,   4.82520766e+10,   4.64962799e+10,\n",
       "         4.47873943e+10,   4.31249981e+10,   4.14948934e+10,\n",
       "         3.98809774e+10,   3.83307870e+10,   3.67950362e+10,\n",
       "         3.53095350e+10,   3.38584915e+10,   3.24422912e+10,\n",
       "         3.10586144e+10,   2.97239275e+10,   2.84242117e+10,\n",
       "         2.71697135e+10,   2.59401017e+10,   2.47552397e+10,\n",
       "         2.36071599e+10,   2.24916731e+10,   2.14211023e+10,\n",
       "         2.03842903e+10,   1.93811069e+10,   1.84129951e+10,\n",
       "         1.74850878e+10,   1.65825669e+10,   1.57205053e+10,\n",
       "         1.48975076e+10,   1.40976749e+10,   1.33366842e+10,\n",
       "         1.26052058e+10,   1.19091051e+10,   1.12360257e+10,\n",
       "         1.05909475e+10,   9.97969221e+09,   9.39471553e+09,\n",
       "         8.83629152e+09,   8.30758908e+09,   7.79994424e+09,\n",
       "         7.32368376e+09,   6.86707001e+09,   6.43245405e+09,\n",
       "         6.02333159e+09,   5.63172198e+09,   5.26377856e+09,\n",
       "         4.91527392e+09,   4.58551183e+09,   4.27642324e+09,\n",
       "         3.98191551e+09,   3.70641232e+09,   3.44663752e+09,\n",
       "         3.20226936e+09,   2.97200517e+09,   2.75763404e+09,\n",
       "         2.55479294e+09,   2.36605627e+09,   2.18906975e+09,\n",
       "         2.02327925e+09,   1.86853898e+09,   1.72486815e+09,\n",
       "         1.58986413e+09,   1.46390896e+09,   1.34762136e+09,\n",
       "         1.23928501e+09,   1.13871959e+09,   1.04521770e+09,\n",
       "         9.58487852e+08,   8.78868154e+08,   8.04415497e+08,\n",
       "         7.35564613e+08,   6.72546866e+08,   6.13873203e+08,\n",
       "         5.60207294e+08,   5.10742261e+08,   4.65196029e+08,\n",
       "         4.23352637e+08,   3.84946414e+08,   3.49684327e+08,\n",
       "         3.17382065e+08,   2.87782381e+08,   2.60720465e+08,\n",
       "         2.36169442e+08,   2.13597235e+08,   1.92992355e+08,\n",
       "         1.74399170e+08,   1.57307564e+08,   1.41769726e+08,\n",
       "         1.27788006e+08,   1.14970490e+08,   1.03458078e+08,\n",
       "         9.29362817e+07,   8.35023108e+07,   7.48944288e+07,\n",
       "         6.71173096e+07,   6.01627677e+07,   5.38411675e+07,\n",
       "         4.81972369e+07,   4.30680990e+07,   3.84588201e+07,\n",
       "         3.43146123e+07,   3.06013132e+07,   2.72719256e+07,\n",
       "         2.43137168e+07,   2.16405851e+07,   1.92291013e+07,\n",
       "         1.70959000e+07,   1.51898967e+07,   1.34759392e+07,\n",
       "         1.19607690e+07,   1.05980480e+07,   9.39835412e+06,\n",
       "         8.32038343e+06,   7.36294313e+06,   6.51183123e+06,\n",
       "         5.75123495e+06,   5.08322186e+06,   4.48585303e+06,\n",
       "         3.96175801e+06,   3.49411949e+06,   3.08050816e+06,\n",
       "         2.71483991e+06,   2.38923973e+06,   2.10488655e+06,\n",
       "         1.85140859e+06,   1.62816569e+06,   1.43159468e+06,\n",
       "         1.25692942e+06,   1.10479348e+06,   9.69638203e+05,\n",
       "         8.51031382e+05,   7.45624691e+05,   6.54285468e+05,\n",
       "         5.73100495e+05,   5.01966987e+05,   4.39023707e+05,\n",
       "         3.84473166e+05,   3.36185857e+05,   2.93421336e+05,\n",
       "         2.56468409e+05,   2.23781609e+05,   1.95193055e+05,\n",
       "         1.69929363e+05,   1.47893882e+05,   1.28636230e+05,\n",
       "         1.11833341e+05,   9.70141756e+04,   8.39595417e+04,\n",
       "         7.26907837e+04,   6.27779971e+04,   5.40532434e+04,\n",
       "         4.64648134e+04,   3.98653008e+04,   3.41364814e+04,\n",
       "         2.91120826e+04,   2.47072777e+04,   2.09002725e+04,\n",
       "         1.76126570e+04,   1.47488493e+04,   1.22669331e+04,\n",
       "         1.01583228e+04,   8.32365311e+03,   6.77953651e+03,\n",
       "         5.45033172e+03,   4.34578724e+03,   3.41679394e+03,\n",
       "         2.64299128e+03,   2.00817079e+03,   1.49803387e+03,\n",
       "         1.09414022e+03,   7.78263083e+02,   5.36862321e+02,\n",
       "         3.58633276e+02,   2.30221167e+02,   1.41585445e+02,\n",
       "         8.28727414e+01,              inf,              nan,\n",
       "                    nan,              nan,              nan,\n",
       "                    nan,              nan,              nan,\n",
       "                    nan,              nan,              nan,\n",
       "                    nan,              nan,              nan,\n",
       "                    nan,              nan,              nan,\n",
       "                    nan,              nan,              nan,\n",
       "                    nan,              nan,              nan,\n",
       "                    nan,              nan,              nan,\n",
       "                    nan,              nan,              nan,\n",
       "                    nan,              nan,              nan,\n",
       "                    nan,              nan,              nan,\n",
       "                    nan,              nan,              nan,\n",
       "                    nan,              nan,              nan,\n",
       "                    nan,              nan,              nan,\n",
       "                    nan,              nan,              nan,\n",
       "                    nan,              nan,              nan,\n",
       "                    nan])"
      ]
     },
     "execution_count": 176,
     "metadata": {},
     "output_type": "execute_result"
    }
   ],
   "source": [
    "m"
   ]
  },
  {
   "cell_type": "markdown",
   "metadata": {
    "collapsed": true
   },
   "source": [
    "##Effect of Primary Accretion Definition on Clustering"
   ]
  },
  {
   "cell_type": "code",
   "execution_count": 20,
   "metadata": {
    "collapsed": false
   },
   "outputs": [
    {
     "name": "stdout",
     "output_type": "stream",
     "text": [
      "('halo_upid', 'halo_hostid', 'halo_mpeak200c', 'halo_mpeak', 'halo_acc_scale', 'halo_x', 'halo_y', 'halo_id', 'halo_z', 'halo_vx', 'halo_vy', 'halo_vz', 'halo_rvir', 'halo_vpeak', 'halo_mvir', 'halo_half_mass_scale', 'halo_acc_scale_1', 'halo_mvir_host_halo', 'x', 'y', 'z', 'vx', 'vy', 'vz', 'galid', 'stellar_mass')\n",
      "number of galaxies in mock:  287225\n",
      "satellite fraction:  0.16307424493\n"
     ]
    }
   ],
   "source": [
    "from SMHM_model_components import MosterSmHm13\n",
    "\n",
    "#build model\n",
    "prim_haloprop_key =  'halo_mpeak200c'\n",
    "acc_scale_key='halo_acc_scale_1'\n",
    "mstar_model = MosterSmHm13(redshift=0.0, prim_haloprop_key=prim_haloprop_key, acc_scale_key=acc_scale_key)\n",
    "mstar_model.littleh = 0.701\n",
    "mstar_model._m_conv_factor = 1.0#0.8\n",
    "composite_model_3 = SubhaloModelFactory(stellar_mass = mstar_model,\n",
    "                                        haloprops = additional_halo_properties,\n",
    "                                        galaxy_selection_func = galaxy_selection_func)\n",
    "composite_model_3.param_dict['scatter_model_param1'] =  0.18\n",
    "composite_model_3.param_dict['m10'] = 11.590\n",
    "composite_model_3.param_dict['m11'] = 1.195\n",
    "composite_model_3.param_dict['n10'] = 0.0351\n",
    "composite_model_3.param_dict['n11'] = -0.0247\n",
    "composite_model_3.param_dict['beta10'] = 1.376\n",
    "composite_model_3.param_dict['beta11'] = -0.826\n",
    "composite_model_3.param_dict['gamma10'] = 0.608\n",
    "composite_model_3.param_dict['gamma11'] = 0.329\n",
    "\n",
    "#populate simulation\n",
    "composite_model_3.populate_mock(halocat = halocat)\n",
    "mock_3a = composite_model_3.mock.galaxy_table\n",
    "print(mock_3a.dtype.names)\n",
    "mock_3a['stellar_mass'] = mock_3a['stellar_mass']*0.9\n",
    "\n",
    "print(\"number of galaxies in mock: \", len(mock_3a))\n",
    "f_sat = float(np.sum(mock_3a['halo_upid']!=-1))/len(mock_3a)\n",
    "print(\"satellite fraction: \", f_sat)"
   ]
  },
  {
   "cell_type": "code",
   "execution_count": 21,
   "metadata": {
    "collapsed": false
   },
   "outputs": [
    {
     "name": "stdout",
     "output_type": "stream",
     "text": [
      "('halo_upid', 'halo_hostid', 'halo_mpeak200c', 'halo_mpeak', 'halo_acc_scale', 'halo_x', 'halo_y', 'halo_id', 'halo_z', 'halo_vx', 'halo_vy', 'halo_vz', 'halo_rvir', 'halo_vpeak', 'halo_mvir', 'halo_half_mass_scale', 'halo_acc_scale_1', 'halo_mvir_host_halo', 'x', 'y', 'z', 'vx', 'vy', 'vz', 'galid', 'stellar_mass')\n",
      "number of galaxies in mock:  294778\n",
      "satellite fraction:  0.181241476637\n"
     ]
    }
   ],
   "source": [
    "#build model\n",
    "prim_haloprop_key =  'halo_mpeak200c'\n",
    "acc_scale_key='halo_last_acc_scale'\n",
    "mstar_model = MosterSmHm13(redshift=0.0, prim_haloprop_key=prim_haloprop_key, acc_scale_key=acc_scale_key)\n",
    "mstar_model.littleh = 0.701\n",
    "mstar_model._m_conv_factor = 1.0#0.8\n",
    "composite_model_3 = SubhaloModelFactory(stellar_mass = mstar_model,\n",
    "                                        haloprops = additional_halo_properties,\n",
    "                                        galaxy_selection_func = galaxy_selection_func)\n",
    "composite_model_3.param_dict['scatter_model_param1'] =  0.18\n",
    "composite_model_3.param_dict['m10'] = 11.590\n",
    "composite_model_3.param_dict['m11'] = 1.195\n",
    "composite_model_3.param_dict['n10'] = 0.0351\n",
    "composite_model_3.param_dict['n11'] = -0.0247\n",
    "composite_model_3.param_dict['beta10'] = 1.376\n",
    "composite_model_3.param_dict['beta11'] = -0.826\n",
    "composite_model_3.param_dict['gamma10'] = 0.608\n",
    "composite_model_3.param_dict['gamma11'] = 0.329\n",
    "\n",
    "#populate simulation\n",
    "composite_model_3.populate_mock(halocat = halocat)\n",
    "mock_3b = composite_model_3.mock.galaxy_table\n",
    "print(mock_3a.dtype.names)\n",
    "mock_3b['stellar_mass'] = mock_3b['stellar_mass']*0.9\n",
    "\n",
    "print(\"number of galaxies in mock: \", len(mock_3b))\n",
    "f_sat = float(np.sum(mock_3b['halo_upid']!=-1))/len(mock_3b)\n",
    "print(\"satellite fraction: \", f_sat)"
   ]
  },
  {
   "cell_type": "code",
   "execution_count": 22,
   "metadata": {
    "collapsed": false
   },
   "outputs": [
    {
     "name": "stdout",
     "output_type": "stream",
     "text": [
      "('halo_upid', 'halo_hostid', 'halo_mpeak200c', 'halo_mpeak', 'halo_acc_scale', 'halo_x', 'halo_y', 'halo_id', 'halo_z', 'halo_vx', 'halo_vy', 'halo_vz', 'halo_prime_acc_scale_1', 'halo_rvir', 'halo_vpeak', 'halo_mvir', 'halo_half_mass_scale', 'halo_mvir_host_halo', 'x', 'y', 'z', 'vx', 'vy', 'vz', 'galid', 'stellar_mass')\n",
      "number of galaxies in mock:  300546\n",
      "satellite fraction:  0.162104968956\n"
     ]
    }
   ],
   "source": [
    "#build model\n",
    "prim_haloprop_key =  'halo_mpeak200c'\n",
    "acc_scale_key='halo_prime_acc_scale_1'\n",
    "mstar_model = MosterSmHm13(redshift=0.0, prim_haloprop_key=prim_haloprop_key, acc_scale_key=acc_scale_key)\n",
    "mstar_model.littleh = 0.701\n",
    "mstar_model._m_conv_factor = 1.0#0.8\n",
    "composite_model_3 = SubhaloModelFactory(stellar_mass = mstar_model,\n",
    "                                        haloprops = additional_halo_properties,\n",
    "                                        galaxy_selection_func = galaxy_selection_func)\n",
    "composite_model_3.param_dict['scatter_model_param1'] =  0.18\n",
    "composite_model_3.param_dict['m10'] = 11.590\n",
    "composite_model_3.param_dict['m11'] = 1.195\n",
    "composite_model_3.param_dict['n10'] = 0.0351\n",
    "composite_model_3.param_dict['n11'] = -0.0247\n",
    "composite_model_3.param_dict['beta10'] = 1.376\n",
    "composite_model_3.param_dict['beta11'] = -0.826\n",
    "composite_model_3.param_dict['gamma10'] = 0.608\n",
    "composite_model_3.param_dict['gamma11'] = 0.329\n",
    "\n",
    "#populate simulation\n",
    "composite_model_3.populate_mock(halocat = halocat)\n",
    "mock_3c = composite_model_3.mock.galaxy_table\n",
    "print(mock_3c.dtype.names)\n",
    "mock_3c['stellar_mass'] = mock_3c['stellar_mass']*0.9\n",
    "\n",
    "print(\"number of galaxies in mock: \", len(mock_3c))\n",
    "f_sat = float(np.sum(mock_3c['halo_upid']!=-1))/len(mock_3c)\n",
    "print(\"satellite fraction: \", f_sat)"
   ]
  },
  {
   "cell_type": "code",
   "execution_count": 23,
   "metadata": {
    "collapsed": false
   },
   "outputs": [
    {
     "name": "stdout",
     "output_type": "stream",
     "text": [
      "('halo_upid', 'halo_hostid', 'halo_mpeak200c', 'halo_mpeak', 'halo_acc_scale', 'halo_x', 'halo_y', 'halo_id', 'halo_z', 'halo_vx', 'halo_vy', 'halo_vz', 'halo_vpeak', 'halo_rvir', 'halo_half_mass_scale', 'halo_mvir', 'halo_prime_acc_scale_2', 'halo_mvir_host_halo', 'x', 'y', 'z', 'vx', 'vy', 'vz', 'galid', 'stellar_mass')\n",
      "number of galaxies in mock:  301282\n",
      "satellite fraction:  0.162635006406\n"
     ]
    }
   ],
   "source": [
    "#build model\n",
    "prim_haloprop_key =  'halo_mpeak200c'\n",
    "acc_scale_key='halo_prime_acc_scale_2'\n",
    "mstar_model = MosterSmHm13(redshift=0.0, prim_haloprop_key=prim_haloprop_key, acc_scale_key=acc_scale_key)\n",
    "mstar_model.littleh = 0.701\n",
    "mstar_model._m_conv_factor = 1.0#0.8\n",
    "composite_model_3 = SubhaloModelFactory(stellar_mass = mstar_model,\n",
    "                                        haloprops = additional_halo_properties,\n",
    "                                        galaxy_selection_func = galaxy_selection_func)\n",
    "composite_model_3.param_dict['scatter_model_param1'] =  0.18\n",
    "composite_model_3.param_dict['m10'] = 11.590\n",
    "composite_model_3.param_dict['m11'] = 1.195\n",
    "composite_model_3.param_dict['n10'] = 0.0351\n",
    "composite_model_3.param_dict['n11'] = -0.0247\n",
    "composite_model_3.param_dict['beta10'] = 1.376\n",
    "composite_model_3.param_dict['beta11'] = -0.826\n",
    "composite_model_3.param_dict['gamma10'] = 0.608\n",
    "composite_model_3.param_dict['gamma11'] = 0.329\n",
    "\n",
    "#populate simulation\n",
    "composite_model_3.populate_mock(halocat = halocat)\n",
    "mock_3d = composite_model_3.mock.galaxy_table\n",
    "print(mock_3d.dtype.names)\n",
    "mock_3d['stellar_mass'] = mock_3d['stellar_mass']*0.9\n",
    "\n",
    "print(\"number of galaxies in mock: \", len(mock_3d))\n",
    "f_sat = float(np.sum(mock_3d['halo_upid']!=-1))/len(mock_3d)\n",
    "print(\"satellite fraction: \", f_sat)"
   ]
  },
  {
   "cell_type": "code",
   "execution_count": 27,
   "metadata": {
    "collapsed": false
   },
   "outputs": [],
   "source": [
    "#define rp bins\n",
    "rp_bins = np.logspace(-2.0,1.4,25)\n",
    "rp_bin_centers = (rp_bins[:-1]+rp_bins[1:])/2.0\n",
    "\n",
    "#create arrays to store results for each mock\n",
    "wp_3a = np.zeros((3,24))\n",
    "wp_3b = np.zeros((3,24))\n",
    "wp_3c = np.zeros((3,24))\n",
    "wp_3d = np.zeros((3,24))\n",
    "\n",
    "wp_3a[0] = calculate_wp(mock_3a, rp_bins, pi_max=40.0, Lbox=halocat.Lbox,\n",
    "                    log_mstar_min=9.5, log_mstar_max =10.0)\n",
    "wp_3a[1] = calculate_wp(mock_3a, rp_bins, pi_max=40.0, Lbox=halocat.Lbox,\n",
    "                    log_mstar_min=10.0, log_mstar_max =10.5)\n",
    "wp_3a[2] = calculate_wp(mock_3a, rp_bins, pi_max=40.0, Lbox=halocat.Lbox,\n",
    "                    log_mstar_min=10.5, log_mstar_max =11.0)\n",
    "\n",
    "wp_3b[0] = calculate_wp(mock_3b, rp_bins, pi_max=40.0, Lbox=halocat.Lbox,\n",
    "                    log_mstar_min=9.5, log_mstar_max =10.0)\n",
    "wp_3b[1] = calculate_wp(mock_3b, rp_bins, pi_max=40.0, Lbox=halocat.Lbox,\n",
    "                    log_mstar_min=10.0, log_mstar_max =10.5)\n",
    "wp_3b[2] = calculate_wp(mock_3b, rp_bins, pi_max=40.0, Lbox=halocat.Lbox,\n",
    "                    log_mstar_min=10.5, log_mstar_max =11.0)\n",
    "\n",
    "wp_3c[0] = calculate_wp(mock_3c, rp_bins, pi_max=40.0, Lbox=halocat.Lbox,\n",
    "                    log_mstar_min=9.5, log_mstar_max =10.0)\n",
    "wp_3c[1] = calculate_wp(mock_3c, rp_bins, pi_max=40.0, Lbox=halocat.Lbox,\n",
    "                    log_mstar_min=10.0, log_mstar_max =10.5)\n",
    "wp_3c[2] = calculate_wp(mock_3c, rp_bins, pi_max=40.0, Lbox=halocat.Lbox,\n",
    "                    log_mstar_min=10.5, log_mstar_max =11.0)\n",
    "\n",
    "wp_3d[0] = calculate_wp(mock_3d, rp_bins, pi_max=40.0, Lbox=halocat.Lbox,\n",
    "                    log_mstar_min=9.5, log_mstar_max =10.0)\n",
    "wp_3d[1] = calculate_wp(mock_3d, rp_bins, pi_max=40.0, Lbox=halocat.Lbox,\n",
    "                    log_mstar_min=10.0, log_mstar_max =10.5)\n",
    "wp_3d[2] = calculate_wp(mock_3d, rp_bins, pi_max=40.0, Lbox=halocat.Lbox,\n",
    "                    log_mstar_min=10.5, log_mstar_max =11.0)"
   ]
  },
  {
   "cell_type": "code",
   "execution_count": 41,
   "metadata": {
    "collapsed": false
   },
   "outputs": [
    {
     "data": {
      "image/png": "[encoded data removed]",
      "text/plain": [
       "<matplotlib.figure.Figure at 0x12b851b90>"
      ]
     },
     "metadata": {},
     "output_type": "display_data"
    },
    {
     "data": {
      "image/png": "[encoded data removed]",
      "text/plain": [
       "<matplotlib.figure.Figure at 0x12b946bd0>"
      ]
     },
     "metadata": {},
     "output_type": "display_data"
    },
    {
     "data": {
      "image/png": "[encoded data removed]",
      "text/plain": [
       "<matplotlib.figure.Figure at 0x12be1f990>"
      ]
     },
     "metadata": {},
     "output_type": "display_data"
    }
   ],
   "source": [
    "#compare effect of sub-halo profiles in single panel\n",
    "\n",
    "#load SDSS results from Yang 2012\n",
    "from lss_observations import yang_2012_wp\n",
    "\n",
    "#create arrays to store results\n",
    "\n",
    "wp_sdss_1, cov = yang_2012_wp(10.0**9.5,10.0**10.0, sample='Mass-limit')\n",
    "err_1 = np.sqrt(np.diagonal(cov))\n",
    "\n",
    "wp_sdss_2, cov = yang_2012_wp(10.0**10.0,10.0**10.5, sample='Mass-limit')\n",
    "err_2 = np.sqrt(np.diagonal(cov))\n",
    "\n",
    "wp_sdss_3, cov = yang_2012_wp(10.0**10.5,10.0**11.0, sample='Mass-limit')\n",
    "err_3 = np.sqrt(np.diagonal(cov))\n",
    "\n",
    "fig, ax = plt.subplots(nrows=1,ncols=1,sharex=True,sharey=True,figsize=(3.3,3.3))\n",
    "fig.subplots_adjust(left=0.2, right=0.9, bottom=0.2, top=0.9)\n",
    "ax.set_xlim([0.1,20])\n",
    "ax.set_ylim([10,300])\n",
    "ax.set_yscale('log')\n",
    "ax.set_xscale('log')\n",
    "ax.set_ylabel(r'$w_p(r_p) \\times r_p ~ [h^{-2}{\\rm Mpc}^2]$')\n",
    "ax.set_xlabel(r'$r_p~[h^{-1}{\\rm Mpc}]$')\n",
    "ax.set_title(r'$9.5<\\log(M_{*}/h^{-2}M_{\\odot})<10.0$')\n",
    "p3a, = ax.plot(rp_bin_centers, wp_3a[0]*rp_bin_centers, ':', color='black', alpha=1)\n",
    "p3b, = ax.plot(rp_bin_centers, wp_3b[0]*rp_bin_centers, '--', color='black', alpha=1)\n",
    "p3c, = ax.plot(rp_bin_centers, wp_3c[0]*rp_bin_centers, '-.', color='black', alpha=1.0)\n",
    "p3d, = ax.plot(rp_bin_centers, wp_3d[0]*rp_bin_centers, '-', color='black', alpha=1.0)\n",
    "p0 = ax.errorbar(wp_sdss_1[0,:], wp_sdss_1[1,:]*wp_sdss_1[0,:], yerr=err_1*wp_sdss_1[0,:],\n",
    "                  fmt='o', color='black', ms=4, mec='none')\n",
    "upper_legend = plt.legend([p0], [r'$\\rm SDSS$'], frameon = False, fontsize=8, loc='upper left', numpoints=1, handletextpad=1)\n",
    "ax.legend((p3a,p3b,p3c,p3d),('i','ii','iii','iv'), title=r'$z_{\\rm acc, prim}$',\n",
    "          frameon = False, fontsize=8, loc='lower right', numpoints=1, handletextpad=1)\n",
    "plt.gca().add_artist(upper_legend)\n",
    "plt.show()\n",
    "\n",
    "filepath = './plots/'\n",
    "filename = 'wp_comparison_zacc_prime_1'\n",
    "fig.savefig(filepath+filename+'.pdf', dpi=300)\n",
    "\n",
    "fig, ax = plt.subplots(nrows=1,ncols=1,sharex=True,sharey=True,figsize=(3.3,3.3))\n",
    "fig.subplots_adjust(left=0.2, right=0.9, bottom=0.2, top=0.9)\n",
    "ax.set_xlim([0.1,20])\n",
    "ax.set_ylim([10,300])\n",
    "ax.set_yscale('log')\n",
    "ax.set_xscale('log')\n",
    "ax.set_ylabel(r'$w_p(r_p) \\times r_p ~ [h^{-2}{\\rm Mpc}^2]$')\n",
    "ax.set_xlabel(r'$r_p~[h^{-1}{\\rm Mpc}]$')\n",
    "ax.set_title(r'$10.0<\\log(M_{*}/h^{-2}M_{\\odot})<10.5$')\n",
    "p3a, = ax.plot(rp_bin_centers, wp_3a[1]*rp_bin_centers, ':', color='black', alpha=1)\n",
    "p3b, = ax.plot(rp_bin_centers, wp_3b[1]*rp_bin_centers, '--', color='black', alpha=1)\n",
    "p3c, = ax.plot(rp_bin_centers, wp_3c[1]*rp_bin_centers, '-.', color='black', alpha=1.0)\n",
    "p3d, = ax.plot(rp_bin_centers, wp_3d[1]*rp_bin_centers, '-', color='black', alpha=1.0)\n",
    "p0 = ax.errorbar(wp_sdss_2[0,:], wp_sdss_2[1,:]*wp_sdss_2[0,:], yerr=err_1*wp_sdss_1[0,:],\n",
    "                  fmt='o', color='black', ms=4, mec='none')\n",
    "upper_legend = plt.legend([p0], [r'$\\rm SDSS$'], frameon = False, fontsize=8, loc='upper left', numpoints=1, handletextpad=1)\n",
    "ax.legend((p3a,p3b,p3c,p3d),('i','ii','iii', 'iv'), title=r'$z_{\\rm acc, prim}$',\n",
    "          frameon = False, fontsize=8, loc='lower right', numpoints=1, handletextpad=1)\n",
    "plt.gca().add_artist(upper_legend)\n",
    "plt.show()\n",
    "\n",
    "filepath = './plots/'\n",
    "filename = 'wp_comparison_zacc_prime_2'\n",
    "fig.savefig(filepath+filename+'.pdf', dpi=300)\n",
    "\n",
    "\n",
    "fig, ax = plt.subplots(nrows=1,ncols=1,sharex=True,sharey=True,figsize=(3.3,3.3))\n",
    "fig.subplots_adjust(left=0.2, right=0.9, bottom=0.2, top=0.9)\n",
    "ax.set_xlim([0.1,20])\n",
    "ax.set_ylim([10,300])\n",
    "ax.set_yscale('log')\n",
    "ax.set_xscale('log')\n",
    "ax.set_ylabel(r'$w_p(r_p) \\times r_p ~ [h^{-2}{\\rm Mpc}^2]$')\n",
    "ax.set_xlabel(r'$r_p~[h^{-1}{\\rm Mpc}]$')\n",
    "ax.set_title(r'$10.5<\\log(M_{*}/h^{-2}M_{\\odot})<11.0$')\n",
    "p3a, = ax.plot(rp_bin_centers, wp_3a[2]*rp_bin_centers, ':', color='black', alpha=1)\n",
    "p3b, = ax.plot(rp_bin_centers, wp_3b[2]*rp_bin_centers, '--', color='black', alpha=1)\n",
    "p3c, = ax.plot(rp_bin_centers, wp_3c[2]*rp_bin_centers, '-.', color='black', alpha=1.0)\n",
    "p3d, = ax.plot(rp_bin_centers, wp_3d[2]*rp_bin_centers, '-', color='black', alpha=1.0)\n",
    "p0 = ax.errorbar(wp_sdss_3[0,:], wp_sdss_3[1,:]*wp_sdss_3[0,:], yerr=err_1*wp_sdss_1[0,:],\n",
    "                  fmt='o', color='black', ms=4, mec='none')\n",
    "upper_legend = plt.legend([p0], [r'$\\rm SDSS$'], frameon = False, fontsize=8, loc='upper left', numpoints=1, handletextpad=1)\n",
    "ax.legend((p3a,p3b,p3c,p3d),('i','ii','iii', 'iv'), title=r'$z_{\\rm acc, prim}$',\n",
    "          frameon = False, fontsize=8, loc='lower right', numpoints=1, handletextpad=1)\n",
    "plt.gca().add_artist(upper_legend)\n",
    "plt.show()\n",
    "\n",
    "filepath = './plots/'\n",
    "filename = 'wp_comparison_zacc_prime_3'\n",
    "fig.savefig(filepath+filename+'.pdf', dpi=300)"
   ]
  },
  {
   "cell_type": "code",
   "execution_count": null,
   "metadata": {
    "collapsed": true
   },
   "outputs": [],
   "source": []
  }
 ],
 "metadata": {
  "kernelspec": {
   "display_name": "Python 2",
   "language": "python",
   "name": "python2"
  },
  "language_info": {
   "codemirror_mode": {
    "name": "ipython",
    "version": 2
   },
   "file_extension": ".py",
   "mimetype": "text/x-python",
   "name": "python",
   "nbconvert_exporter": "python",
   "pygments_lexer": "ipython2",
   "version": "2.7.13"
  }
 },
 "nbformat": 4,
 "nbformat_minor": 0
}
