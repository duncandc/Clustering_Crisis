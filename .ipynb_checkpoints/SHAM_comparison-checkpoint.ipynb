{
 "cells": [
  {
   "cell_type": "code",
   "execution_count": 1,
   "metadata": {
    "collapsed": true
   },
   "outputs": [],
   "source": [
    "import numpy as np\n",
    "import matplotlib.pyplot as plt\n",
    "from __future__ import print_function, division\n",
    "%matplotlib inline"
   ]
  },
  {
   "cell_type": "markdown",
   "metadata": {},
   "source": [
    "#Compare SHAM Models"
   ]
  },
  {
   "cell_type": "markdown",
   "metadata": {},
   "source": [
    "In this notebook I explore five SHAM models.  For each of these models, I examine the z=0 galaxy clustering signal and the evolution of the stellar mass."
   ]
  },
  {
   "cell_type": "code",
   "execution_count": 2,
   "metadata": {
    "collapsed": false
   },
   "outputs": [
    {
     "data": {
      "image/png": "[encoded data removed]",
      "text/plain": [
       "<matplotlib.figure.Figure at 0x1099c1fd0>"
      ]
     },
     "metadata": {},
     "output_type": "display_data"
    }
   ],
   "source": [
    "\"\"\"\n",
    "create a venn diagram of SHAM models\n",
    "\"\"\"\n",
    "\n",
    "#create some circles\n",
    "circle1 = plt.Circle((-.6,0.5), 1.1, color='red', alpha=.2)\n",
    "circle2 = plt.Circle(( .6,0.5), 1.1, color='blue', alpha=.2)\n",
    "circle3 = plt.Circle((0,-0.5), 1.1, color='green', alpha=.2)\n",
    "\n",
    "#create figure\n",
    "fig, ax = plt.subplots(nrows=1,ncols=1,figsize=(3.3,3.3))\n",
    "fig.subplots_adjust(left=0.0, right=1.0, bottom=0.0, top=1.0)\n",
    "ax.add_artist(circle1)\n",
    "ax.add_artist(circle2)\n",
    "ax.add_artist(circle3)\n",
    "\n",
    "#add labels for each circle\n",
    "ax.text(-1.1,1.7,r'fits $w_p(r_p)$', fontsize=12)\n",
    "ax.text(0.2,1.7,r'fits $\\phi(M_*,z)$', fontsize=12)\n",
    "ax.text(-0.65,-1.8,'utilize orphans', fontsize=12)\n",
    "\n",
    "#add points for various SHAM models\n",
    "\n",
    "#falls in region A+B+C\n",
    "plt.plot([0],[0.1],'o', color='black', ms=5)\n",
    "plt.text(-0.425, -0.1, 'Wang + 10')\n",
    "plt.plot([0.0],[0.5],'o', color='black', ms=5)\n",
    "plt.text(-0.4, 0.3, 'Yang + 12')\n",
    "\n",
    "#falls in region A+B\n",
    "plt.text(-0.05,1.0,'?', fontsize=16)\n",
    "\n",
    "#falls in region B+C\n",
    "plt.plot([0.6],[-0.3],'o', color='black', ms=5)\n",
    "plt.text(0.2, -0.5, 'Moster + 13')\n",
    "\n",
    "#falls in region A\n",
    "p1, = plt.plot([-1.2],[0.65],'*', color='black', ms=9)\n",
    "plt.plot([-1.2],[0.65],'o', color='black', ms=9, mfc='none')\n",
    "plt.text(-1.7, 0.45, 'Lehmann + 15')\n",
    "plt.plot([-1.0],[1.0],'*', color='black', ms=9)\n",
    "plt.text(-1.5, 0.75, 'Reddick + 13')\n",
    "plt.plot([-1.2],[0.35],'*', color='black', ms=9)\n",
    "plt.text(-1.7, 0.15, 'Hearin + 15')\n",
    "plt.plot([-0.8],[1.4],'*', color='black', ms=9)\n",
    "plt.text(-1.3, 1.2, 'Conroy + 06')\n",
    "\n",
    "#falls in region B\n",
    "p2, = plt.plot([1.0],[0.9],'o', color='black', ms=5)\n",
    "plt.text(0.5, 0.7, 'Behroozi + 13')\n",
    "\n",
    "#falls in region D\n",
    "#plt.plot([1.2],[-1.1],'o', color='black', ms=5)\n",
    "#plt.text(0.9, -1.3, 'Guo + 10')\n",
    "\n",
    "#create a legend\n",
    "plt.legend((p1,p2),(r'$V_{\\rm max}$',r'$M_{\\rm vir}$'), loc='lower left', \n",
    "           numpoints=1,frameon=False, handletextpad=0)\n",
    "\n",
    "#set extent of plot\n",
    "ax.set_xlim(-2, 2)\n",
    "ax.set_ylim(-2, 2)\n",
    "ax.set_aspect('equal')\n",
    "ax.axes.get_yaxis().set_visible(False)\n",
    "ax.axes.get_xaxis().set_visible(False)\n",
    "ax.set_frame_on(False)\n",
    "\n",
    "plt.show()\n",
    "\n",
    "filename = 'SHAM_models_venn_diagram.pdf'\n",
    "fig.savefig('./figures/'+filename, dpi=300)"
   ]
  },
  {
   "cell_type": "markdown",
   "metadata": {},
   "source": [
    "##Load Simulation"
   ]
  },
  {
   "cell_type": "markdown",
   "metadata": {},
   "source": [
    "Load the halo catalgue which will be populated using each SHAM model."
   ]
  },
  {
   "cell_type": "code",
   "execution_count": 2,
   "metadata": {
    "collapsed": false
   },
   "outputs": [
    {
     "name": "stdout",
     "output_type": "stream",
     "text": [
      "('halo_upid', 'halo_first_acc_mvir', 'halo_acc_scale', 'halo_rvir', 'halo_vpeak', 'halo_macc', 'halo_first_acc_scale', 'halo_mpeak', 'halo_half_mass_scale', 'halo_mvir', 'halo_T/|U|', 'halo_vmax_at_mpeak', 'halo_pid', 'halo_y', 'halo_x', 'halo_z', 'halo_m200b', 'halo_m200c', 'halo_first_acc_vmax', 'halo_mpeak_scale', 'halo_vmax', 'halo_vacc', 'halo_id', 'halo_vx', 'halo_vy', 'halo_vz', 'halo_rs', 'halo_nfw_conc', 'halo_hostid', 'halo_mvir_host_halo')\n"
     ]
    }
   ],
   "source": [
    "from halotools import sim_manager\n",
    "\n",
    "#load halo catalogue\n",
    "simname = 'bolshoi_250'\n",
    "halocat = sim_manager.CachedHaloCatalog(simname = simname, redshift=0.0, dz_tol = 0.001,\n",
    "                                        version_name='custom', halo_finder='Rockstar')\n",
    "\n",
    "#print out column names of halo catalogue\n",
    "print(halocat.halo_table.dtype.names)"
   ]
  },
  {
   "cell_type": "code",
   "execution_count": 3,
   "metadata": {
    "collapsed": false
   },
   "outputs": [
    {
     "name": "stdout",
     "output_type": "stream",
     "text": [
      "('halo_id', 'halo_mpeak', 'halo_mpeak_scale', 'halo_mpeak_prime', 'halo_mpeak_prime_scale', 'halo_0.1_mpeak_scale', 'halo_0.2_mpeak_scale', 'halo_0.3_mpeak_scale', 'halo_0.4_mpeak_scale', 'halo_0.5_mpeak_scale', 'halo_0.6_mpeak_scale', 'halo_0.7_mpeak_scale', 'halo_0.8_mpeak_scale', 'halo_0.9_mpeak_scale', 'halo_0.1_mpeak_prime_scale', 'halo_0.2_mpeak_prime_scale', 'halo_0.3_mpeak_prime_scale', 'halo_0.4_mpeak_prime_scale', 'halo_0.5_mpeak_prime_scale', 'halo_0.6_mpeak_prime_scale', 'halo_0.7_mpeak_prime_scale', 'halo_0.8_mpeak_prime_scale', 'halo_0.9_mpeak_prime_scale', 'halo_acc_scale_1', 'halo_acc_scale_2', 'halo_acc_scale_3', 'halo_acc_scale_4', 'halo_acc_scale_5', 'halo_acc_scale_6', 'halo_acc_scale_7', 'halo_acc_scale_8', 'halo_acc_scale_9', 'halo_acc_scale_10', 'halo_ejt_scale_1', 'halo_ejt_scale_2', 'halo_ejt_scale_3', 'halo_ejt_scale_4', 'halo_ejt_scale_5', 'halo_ejt_scale_6', 'halo_ejt_scale_7', 'halo_ejt_scale_8', 'halo_ejt_scale_9', 'halo_ejt_scale_10', 'halo_last_acc_scale', 'halo_last_ejt_scale', 'halo_prime_acc_scale_1', 'halo_prime_acc_scale_2', 'halo_last_acc_scale_prime', 'halo_prime_acc_scale_1_x', 'halo_prime_acc_scale_1_y', 'halo_prime_acc_scale_1_z', 'halo_prime_acc_scale_2_x', 'halo_prime_acc_scale_2_y', 'halo_prime_acc_scale_2_z', 'halo_last_acc_scale_prime_x', 'halo_last_acc_scale_prime_y', 'halo_last_acc_scale_prime_z')\n",
      "number of (sub-)haloes:  6161686\n"
     ]
    }
   ],
   "source": [
    "#load supplemtary halo catalogue properties\n",
    "from astropy.table import Table\n",
    "\n",
    "filepath = '/Volumes/burt/bam_data/'\n",
    "add_halo_props = Table.read(filepath+\"bolshoi_additional_halo_properties.hdf5\", path='data')\n",
    "\n",
    "print(add_halo_props.dtype.names)\n",
    "print(\"number of (sub-)haloes: \", len(add_halo_props))"
   ]
  },
  {
   "cell_type": "code",
   "execution_count": 15,
   "metadata": {
    "collapsed": true
   },
   "outputs": [],
   "source": [
    "halocat.halo_table['halo_mpeak'] = add_halo_props['halo_mpeak_prime']\n",
    "halocat.halo_table['halo_mpeak_scale'] = add_halo_props['halo_mpeak_prime_scale']\n",
    "halocat.halo_table['halo_acc_scale_1'] = add_halo_props['halo_acc_scale_1']\n",
    "halocat.halo_table['halo_prime_acc_scale_1'] = add_halo_props['halo_prime_acc_scale_1']\n",
    "halocat.halo_table['halo_prime_acc_scale_2'] = add_halo_props['halo_prime_acc_scale_2']\n",
    "halocat.halo_table['halo_last_acc_scale'] = add_halo_props['halo_last_acc_scale']"
   ]
  },
  {
   "cell_type": "code",
   "execution_count": 5,
   "metadata": {
    "collapsed": false
   },
   "outputs": [
    {
     "name": "stdout",
     "output_type": "stream",
     "text": [
      "FlatLambdaCDM(H0=70 km / (Mpc s), Om0=0.27, Tcmb0=2.725 K, Neff=3.04, m_nu=[ 0.  0.  0.] eV, Ob0=None)\n"
     ]
    }
   ],
   "source": [
    "#define cosmology used in the simulation\n",
    "from astropy.cosmology import FlatLambdaCDM\n",
    "cosmo = FlatLambdaCDM(H0=70, Om0=0.27) #Bolshoi cosmology\n",
    "print(cosmo)"
   ]
  },
  {
   "cell_type": "markdown",
   "metadata": {},
   "source": [
    "##Define SHAM Models"
   ]
  },
  {
   "cell_type": "markdown",
   "metadata": {},
   "source": [
    "define some componenets all SHAM models will utilize"
   ]
  },
  {
   "cell_type": "code",
   "execution_count": 6,
   "metadata": {
    "collapsed": true
   },
   "outputs": [],
   "source": [
    "from halotools.empirical_models import SubhaloModelFactory\n",
    "\n",
    "#define stellar mass threshold for each mock\n",
    "def galaxy_selection_func(table):\n",
    "    mask = (table['stellar_mass'] >= 10**9.5)\n",
    "    return mask\n",
    "\n",
    "#carry over some halo properties to each mock galaxy catalogue\n",
    "class HaloProps(object):\n",
    "    \"\"\"\n",
    "    class to carry over halo properties to galaxy mock\n",
    "    \"\"\"\n",
    "    def __init__(self,\n",
    "                 haloprop_keys = ['halo_mpeak','halo_vpeak','halo_acc_scale','halo_half_mass_scale'],\n",
    "                 **kwargs):\n",
    "        \"\"\"\n",
    "        Parameters\n",
    "        ----------\n",
    "        haloprop_keys : list\n",
    "        \"\"\"\n",
    "        \n",
    "        self._mock_generation_calling_sequence = []\n",
    "        self._galprop_dtypes_to_allocate = np.dtype([])\n",
    "        self.list_of_haloprops_needed = haloprop_keys\n",
    "\n",
    "additional_halo_properties = HaloProps(['halo_mpeak','halo_vpeak',\n",
    "                                        'halo_half_mass_scale',\n",
    "                                        'halo_acc_scale'])\n",
    "\n",
    "#add some derived halo properties used by the M13 and Y13 Models\n",
    "from cosmo_utils import halo_mass_conversion\n",
    "\n",
    "m180b = halo_mass_conversion(halocat.halo_table['halo_mpeak'],\n",
    "                             halocat.halo_table['halo_nfw_conc'],\n",
    "                             delta_h=360, delta_vir=180,\n",
    "                             cosmo=None, wrt='mean')\n",
    "m200c = halo_mass_conversion(halocat.halo_table['halo_mpeak'],\n",
    "                             halocat.halo_table['halo_nfw_conc'],\n",
    "                             delta_h=360, delta_vir=200/cosmo.Om0,\n",
    "                             cosmo=None, wrt='mean')\n",
    "\n",
    "halocat.halo_table['halo_mpeak200c'] = m200c\n",
    "halocat.halo_table['halo_mpeak180b'] = m180b"
   ]
  },
  {
   "cell_type": "markdown",
   "metadata": {},
   "source": [
    "###Rank Order AM on Mpeak (model #1)"
   ]
  },
  {
   "cell_type": "markdown",
   "metadata": {},
   "source": [
    "Create mock based on rank order abundance matching using halo mass."
   ]
  },
  {
   "cell_type": "code",
   "execution_count": 5,
   "metadata": {
    "collapsed": false
   },
   "outputs": [
    {
     "name": "stdout",
     "output_type": "stream",
     "text": [
      "('halo_upid', 'halo_hostid', 'halo_mpeak', 'halo_acc_scale', 'halo_x', 'halo_y', 'halo_id', 'halo_z', 'halo_vx', 'halo_vy', 'halo_vz', 'halo_rvir', 'halo_vpeak', 'halo_mvir', 'halo_half_mass_scale', 'halo_mvir_host_halo', 'x', 'y', 'z', 'vx', 'vy', 'vz', 'galid', 'stellar_mass')\n",
      "number of galaxies in mock:  290206\n",
      "satellite fraction:  0.21327953247\n"
     ]
    }
   ],
   "source": [
    "from SHAM_model_components import RankSmHm\n",
    "\n",
    "#build model\n",
    "prim_haloprop_key = 'halo_mpeak'\n",
    "mstar_model = RankSmHm(prim_haloprop_key = prim_haloprop_key, Lbox=halocat.Lbox[0], redshift=0.0)\n",
    "composite_model_1 = SubhaloModelFactory(stellar_mass = mstar_model, \n",
    "                                        haloprops = additional_halo_properties,\n",
    "                                        galaxy_selection_func = galaxy_selection_func)\n",
    "\n",
    "composite_model_1.param_dict['scatter'] = 0.0\n",
    "\n",
    "#populate simulation\n",
    "composite_model_1.populate_mock(halocat = halocat)\n",
    "mock_1 = composite_model_1.mock.galaxy_table\n",
    "print(mock_1.dtype.names)\n",
    "\n",
    "print(\"number of galaxies in mock: \", len(mock_1))\n",
    "f_sat = float(np.sum(mock_1['halo_upid']!=-1))/len(mock_1)\n",
    "print(\"satellite fraction: \", f_sat)"
   ]
  },
  {
   "cell_type": "markdown",
   "metadata": {},
   "source": [
    "###Rank Order AM on Vpeak (model #2)"
   ]
  },
  {
   "cell_type": "code",
   "execution_count": 6,
   "metadata": {
    "collapsed": false
   },
   "outputs": [
    {
     "name": "stdout",
     "output_type": "stream",
     "text": [
      "('halo_upid', 'halo_hostid', 'halo_mpeak', 'halo_acc_scale', 'halo_x', 'halo_y', 'halo_id', 'halo_z', 'halo_vx', 'halo_vy', 'halo_vz', 'halo_rvir', 'halo_vpeak', 'halo_mvir', 'halo_half_mass_scale', 'halo_mvir_host_halo', 'x', 'y', 'z', 'vx', 'vy', 'vz', 'galid', 'stellar_mass')\n",
      "number of galaxies in mock:  290474\n",
      "satellite fraction:  0.271353029875\n"
     ]
    }
   ],
   "source": [
    "from SHAM_model_components import RankSmHm\n",
    "\n",
    "#build model\n",
    "prim_haloprop_key = 'halo_vpeak'\n",
    "mstar_model = RankSmHm(prim_haloprop_key = prim_haloprop_key, Lbox=halocat.Lbox[0], redshift=0.0)\n",
    "composite_model_2 = SubhaloModelFactory(stellar_mass = mstar_model,\n",
    "                                        haloprops = additional_halo_properties,\n",
    "                                        galaxy_selection_func = galaxy_selection_func)\n",
    "\n",
    "composite_model_2.param_dict['scatter'] = 0.0\n",
    "\n",
    "#populate simulation\n",
    "composite_model_2.populate_mock(halocat = halocat)\n",
    "mock_2 = composite_model_2.mock.galaxy_table\n",
    "print(mock_2.dtype.names)\n",
    "\n",
    "print(\"number of galaxies in mock: \", len(mock_2))\n",
    "f_sat = float(np.sum(mock_2['halo_upid']!=-1))/len(mock_2)\n",
    "print(\"satellite fraction: \", f_sat)"
   ]
  },
  {
   "cell_type": "markdown",
   "metadata": {},
   "source": [
    "###Moster 2013 Evolving SMHM (model #3)"
   ]
  },
  {
   "cell_type": "code",
   "execution_count": 16,
   "metadata": {
    "collapsed": false
   },
   "outputs": [
    {
     "name": "stdout",
     "output_type": "stream",
     "text": [
      "('halo_upid', 'halo_hostid', 'halo_mpeak200c', 'halo_last_acc_scale', 'halo_acc_scale', 'halo_x', 'halo_y', 'halo_id', 'halo_z', 'halo_vx', 'halo_vy', 'halo_vz', 'halo_mpeak', 'halo_rvir', 'halo_vpeak', 'halo_mvir', 'halo_half_mass_scale', 'halo_mvir_host_halo', 'x', 'y', 'z', 'vx', 'vy', 'vz', 'galid', 'stellar_mass')\n",
      "number of galaxies in mock:  294891\n",
      "satellite fraction:  0.181270367695\n"
     ]
    }
   ],
   "source": [
    "from SMHM_model_components import MosterSmHm13\n",
    "\n",
    "#build model\n",
    "prim_haloprop_key =  'halo_mpeak200c'\n",
    "acc_scale_key='halo_last_acc_scale'\n",
    "mstar_model = MosterSmHm13(redshift=0.0, prim_haloprop_key=prim_haloprop_key, acc_scale_key=acc_scale_key)\n",
    "mstar_model.littleh = 0.701\n",
    "mstar_model._m_conv_factor = 1.0#0.8\n",
    "composite_model_3 = SubhaloModelFactory(stellar_mass = mstar_model,\n",
    "                                        haloprops = additional_halo_properties,\n",
    "                                        galaxy_selection_func = galaxy_selection_func)\n",
    "composite_model_3.param_dict['scatter_model_param1'] =  0.18\n",
    "composite_model_3.param_dict['m10'] = 11.590\n",
    "composite_model_3.param_dict['m11'] = 1.195\n",
    "composite_model_3.param_dict['n10'] = 0.0351\n",
    "composite_model_3.param_dict['n11'] = -0.0247\n",
    "composite_model_3.param_dict['beta10'] = 1.376\n",
    "composite_model_3.param_dict['beta11'] = -0.826\n",
    "composite_model_3.param_dict['gamma10'] = 0.608\n",
    "composite_model_3.param_dict['gamma11'] = 0.329\n",
    "\n",
    "#populate simulation\n",
    "composite_model_3.populate_mock(halocat = halocat)\n",
    "mock_3 = composite_model_3.mock.galaxy_table\n",
    "print(mock_3.dtype.names)\n",
    "mock_3['stellar_mass'] = mock_3['stellar_mass']*0.9\n",
    "\n",
    "print(\"number of galaxies in mock: \", len(mock_3))\n",
    "f_sat = float(np.sum(mock_3['halo_upid']!=-1))/len(mock_3)\n",
    "print(\"satellite fraction: \", f_sat)"
   ]
  },
  {
   "cell_type": "markdown",
   "metadata": {},
   "source": [
    "###Yang 2012 Evolving SMHM (model #4)"
   ]
  },
  {
   "cell_type": "code",
   "execution_count": 8,
   "metadata": {
    "collapsed": false
   },
   "outputs": [
    {
     "data": {
      "image/png": "[encoded data removed]",
      "text/plain": [
       "<matplotlib.figure.Figure at 0x159ed65d0>"
      ]
     },
     "metadata": {},
     "output_type": "display_data"
    },
    {
     "data": {
      "image/png": "[encoded data removed]",
      "text/plain": [
       "<matplotlib.figure.Figure at 0x12947ce90>"
      ]
     },
     "metadata": {},
     "output_type": "display_data"
    }
   ],
   "source": [
    "from scipy.interpolate import interp1d\n",
    "\n",
    "class Bell_to_Blanton(object):\n",
    "    \"\"\"\n",
    "    class to convert Bell et al. (2003) to Blanton \\& Roweis (2007) stellar masses \n",
    "    \"\"\"\n",
    "    def __init__(self,\n",
    "                 haloprop_keys = [],\n",
    "                 **kwargs):\n",
    "        \"\"\"\n",
    "        Parameters\n",
    "        ----------\n",
    "        \"\"\"\n",
    "        \n",
    "        self._mock_generation_calling_sequence = ['assign_new_stellar_masses']\n",
    "        self._galprop_dtypes_to_allocate = np.dtype([])\n",
    "        self.list_of_haloprops_needed = haloprop_keys\n",
    "        \n",
    "        self.publications = ['arXiv:0901.0706']\n",
    "        self.param_dict = self.retrieve_default_param_dict()\n",
    "    \n",
    "    def assign_new_stellar_masses(self, **kwargs):\n",
    "        \"\"\"\n",
    "        convert Bell et al. stellar masses to Blanton et al. stellar masses\n",
    "        \"\"\"\n",
    "        table = kwargs['table']\n",
    "        \n",
    "        new_mstar = self.convert_stellar_mass(table=table)\n",
    "        table['stellar_mass'] = new_mstar\n",
    "        \n",
    "    def retrieve_default_param_dict(self):\n",
    "        \"\"\" \n",
    "        Method returns a dictionary of function parameters\n",
    "        for eq. A2 in Li \\& White (2011).\n",
    "        \n",
    "        Returns\n",
    "        -------\n",
    "        d : dict\n",
    "            Dictionary containing parameter values.\n",
    "        \"\"\"\n",
    "        \n",
    "        d = {'a1':2.0,\n",
    "             'a2':-0.043,\n",
    "             'a3':-0.045,\n",
    "             'a4':0.0032,\n",
    "             'a5':-2.1*10**(-5.0),\n",
    "             }\n",
    "        \n",
    "        return d\n",
    "    \n",
    "    def convert_stellar_mass(self, **kwargs):\n",
    "        \"\"\"\n",
    "        conversion function from Bell et al. (2003) to Blanton \\& Roweis (2007) \n",
    "        stellar masses using eq. A2 in Li \\& White (2011).\n",
    "        \n",
    "        Parameters\n",
    "        ----------\n",
    "        stellar_mass : array_like\n",
    "            Bell et al. stellar mass(es) in $h^{-2} M_{\\odot}$\n",
    "        \n",
    "        Returns\n",
    "        -------\n",
    "        stellar_mass : array_like\n",
    "            Blanton \\& Roweis stellar mass(es) in $h^{-2} M_{\\odot}$\n",
    "        \"\"\"\n",
    "        \n",
    "        if 'table' in list(kwargs.keys()):\n",
    "            m = np.log10(kwargs['table']['stellar_mass'])\n",
    "        elif 'stellar_mass' in list(kwargs.keys()):\n",
    "            m = np.log10(kwargs['stellar_mass'])\n",
    "        \n",
    "        a1 = self.param_dict['a1']\n",
    "        a2 = self.param_dict['a2']\n",
    "        a3 = self.param_dict['a3']\n",
    "        a4 = self.param_dict['a4']\n",
    "        a5 = self.param_dict['a5']\n",
    "        \n",
    "        #invert conversion function\n",
    "        m_blanton = np.linspace(5.0,13.0,1000) #blanton stellar masses\n",
    "        delta_m = a1 + a2*m_blanton + a3*m_blanton**2 +\\\n",
    "                  a4*m_blanton**3 + a5*m_blanton**4\n",
    "        m_bell = m_blanton + delta_m\n",
    "        \n",
    "        #interpolate inversion\n",
    "        f_conv = interp1d(m_bell, delta_m, fill_value='extrapolate')\n",
    "        \n",
    "        return 10.0**(m - f_conv(m))\n",
    "\n",
    "#plot conversion function\n",
    "m_bell = np.logspace(8.5,12.5,1000)\n",
    "mstar_conv = Bell_to_Blanton()\n",
    "m_blant = mstar_conv.convert_stellar_mass(stellar_mass = m_bell)\n",
    "\n",
    "fig = plt.figure(figsize=(3.3,3.3))\n",
    "plt.plot(m_blant, m_bell/m_blant)\n",
    "#plt.ylim([10**(-0.2),10**(0.6)])\n",
    "plt.ylim([0.9,2.0])\n",
    "plt.xscale('log')\n",
    "#plt.yscale('log')\n",
    "plt.ylabel(r'$M_{\\rm Bell}/M_{\\rm Blanton}$')\n",
    "plt.xlabel(r'$M_{\\rm Blanton}$')\n",
    "plt.xlim([10**9,10**12])\n",
    "plt.show()\n",
    "\n",
    "fig = plt.figure(figsize=(3.3,3.3))\n",
    "plt.plot(m_bell, m_blant/m_bell)\n",
    "#plt.ylim([10**(-0.2),10**(0.6)])\n",
    "plt.ylim([0.0,1.1])\n",
    "plt.xscale('log')\n",
    "#plt.yscale('log')\n",
    "plt.ylabel(r'$M_{\\rm Blanton}/M_{\\rm Bell}$')\n",
    "plt.xlabel(r'$M_{\\rm Bell}$')\n",
    "plt.xlim([10**9,10**12])\n",
    "plt.show()"
   ]
  },
  {
   "cell_type": "code",
   "execution_count": 9,
   "metadata": {
    "collapsed": false
   },
   "outputs": [
    {
     "name": "stdout",
     "output_type": "stream",
     "text": [
      "('halo_upid', 'halo_hostid', 'halo_mpeak180b', 'halo_mpeak', 'halo_acc_scale', 'halo_x', 'halo_y', 'halo_id', 'halo_z', 'halo_vx', 'halo_vy', 'halo_vz', 'halo_rvir', 'halo_vpeak', 'halo_mvir', 'halo_half_mass_scale', 'halo_mvir_host_halo', 'x', 'y', 'z', 'vx', 'vy', 'vz', 'galid', 'stellar_mass')\n",
      "number of galaxies in mock:  303293\n",
      "satellite fraction:  0.202655517932\n"
     ]
    }
   ],
   "source": [
    "from beyond_age_matching.make_mocks.model_components import Yang12SmHm\n",
    "\n",
    "#build model\n",
    "prim_haloprop_key =  'halo_mpeak180b'\n",
    "mstar_model = Yang12SmHm(redshift=0.0, prim_haloprop_key=prim_haloprop_key)\n",
    "mstar_model.littleh = 1.0\n",
    "mstar_model._m_conv_factor = 1.0#1.1\n",
    "mstar_model._mstar_conv_factor = 0.7\n",
    "additional_halo_properties = HaloProps()\n",
    "mstar_conv = Bell_to_Blanton()\n",
    "composite_model_4 = SubhaloModelFactory(stellar_mass = mstar_model,\n",
    "                                        haloprops = additional_halo_properties,\n",
    "                                        galaxy_selection_func = galaxy_selection_func,\n",
    "                                        stellar_mass_conversion = mstar_conv,\n",
    "                                        model_feature_calling_sequence = ('haloprops','stellar_mass','stellar_mass_conversion'))\n",
    "composite_model_4.param_dict['scatter_model_param1'] =  0.173\n",
    "composite_model_4.param_dict['c'] =  1.0 #consistent with confidence interval\n",
    "\n",
    "#populate simulation\n",
    "composite_model_4.populate_mock(halocat = halocat)\n",
    "mock_4 = composite_model_4.mock.galaxy_table\n",
    "print(mock_4.dtype.names)\n",
    "\n",
    "print(\"number of galaxies in mock: \", len(mock_4))\n",
    "f_sat = float(np.sum(mock_4['halo_upid']!=-1))/len(mock_4)\n",
    "print(\"satellite fraction: \", f_sat)"
   ]
  },
  {
   "cell_type": "markdown",
   "metadata": {},
   "source": [
    "###Behroozi 2013 Evolving SMHM (model #5)"
   ]
  },
  {
   "cell_type": "code",
   "execution_count": 10,
   "metadata": {
    "collapsed": false
   },
   "outputs": [
    {
     "data": {
      "image/png": "[encoded data removed]",
      "text/plain": [
       "<matplotlib.figure.Figure at 0x129859390>"
      ]
     },
     "metadata": {},
     "output_type": "display_data"
    },
    {
     "data": {
      "image/png": "[encoded data removed]",
      "text/plain": [
       "<matplotlib.figure.Figure at 0x130eae450>"
      ]
     },
     "metadata": {},
     "output_type": "display_data"
    }
   ],
   "source": [
    "from scipy.interpolate import interp1d\n",
    "\n",
    "class Kauffmann_to_Blanton(object):\n",
    "    \"\"\"\n",
    "    class to convert Kauffmann (2003) to Blanton \\& Roweis (2007) stellar masses \n",
    "    \"\"\"\n",
    "    def __init__(self,\n",
    "                 haloprop_keys = [],\n",
    "                 **kwargs):\n",
    "        \"\"\"\n",
    "        Parameters\n",
    "        ----------\n",
    "        \"\"\"\n",
    "        \n",
    "        self._mock_generation_calling_sequence = ['assign_new_stellar_masses']\n",
    "        self._galprop_dtypes_to_allocate = np.dtype([])\n",
    "        self.list_of_haloprops_needed = haloprop_keys\n",
    "        \n",
    "        self.publications = ['arXiv:0901.0706']\n",
    "        self.param_dict = self.retrieve_default_param_dict()\n",
    "    \n",
    "    def assign_new_stellar_masses(self, **kwargs):\n",
    "        \"\"\"\n",
    "        convert Kauffmann et al. stellar masses to Blanton et al. stellar masses\n",
    "        \"\"\"\n",
    "        table = kwargs['table']\n",
    "        \n",
    "        new_mstar = self.convert_stellar_mass(table=table)\n",
    "        table['stellar_mass'] = new_mstar\n",
    "        \n",
    "    def retrieve_default_param_dict(self):\n",
    "        \"\"\" \n",
    "        Method returns a dictionary of function parameters\n",
    "        for eq. A1 in Li \\& White (2011).\n",
    "        \n",
    "        Returns\n",
    "        -------\n",
    "        d : dict\n",
    "            Dictionary containing parameter values.\n",
    "        \"\"\"\n",
    "        \n",
    "        d = {'a1':0.0256,\n",
    "             'a2':0.0478,\n",
    "             'a3':9.73,\n",
    "             'a4':0.417\n",
    "             }\n",
    "        \n",
    "        return d\n",
    "    \n",
    "    def convert_stellar_mass(self, **kwargs):\n",
    "        \"\"\"\n",
    "        conversion function from Bell et al. (2003) to Blanton \\& Roweis (2007) \n",
    "        stellar masses using eq. A1 in Li \\& White (2011).\n",
    "        \n",
    "        Parameters\n",
    "        ----------\n",
    "        stellar_mass : array_like\n",
    "            Bell et al. stellar mass(es) in $h^{-2} M_{\\odot}$\n",
    "        \n",
    "        Returns\n",
    "        -------\n",
    "        stellar_mass : array_like\n",
    "            Blanton \\& Roweis stellar mass(es) in $h^{-2} M_{\\odot}$\n",
    "        \"\"\"\n",
    "        \n",
    "        if 'table' in list(kwargs.keys()):\n",
    "            m = np.log10(kwargs['table']['stellar_mass'])\n",
    "        elif 'stellar_mass' in list(kwargs.keys()):\n",
    "            m = np.log10(kwargs['stellar_mass'])\n",
    "        \n",
    "        a1 = self.param_dict['a1']\n",
    "        a2 = self.param_dict['a2']\n",
    "        a3 = self.param_dict['a3']\n",
    "        a4 = self.param_dict['a4']\n",
    "        \n",
    "        #invert conversion function\n",
    "        m_blanton = np.linspace(5.0,13.0,1000) #blanton stellar masses\n",
    "        delta_m = a1 + a2*np.tanh((m_blanton-a3)/a4)\n",
    "        m_kauff = m_blanton + delta_m\n",
    "        \n",
    "        #interpolate inversion\n",
    "        f_conv = interp1d(m_kauff, delta_m, fill_value='extrapolate')\n",
    "        \n",
    "        return 10.0**(m - f_conv(m))\n",
    "\n",
    "#plot conversion function\n",
    "m_kauff = np.logspace(8.5,12.5,1000)\n",
    "mstar_conv = Kauffmann_to_Blanton()\n",
    "m_blant = mstar_conv.convert_stellar_mass(stellar_mass = m_kauff)\n",
    "\n",
    "fig = plt.figure(figsize=(3.3,3.3))\n",
    "plt.plot(m_blant, m_kauff/m_blant)\n",
    "#plt.ylim([10**(-0.2),10**(0.6)])\n",
    "plt.ylim([0.0,2.0])\n",
    "plt.xscale('log')\n",
    "#plt.yscale('log')\n",
    "plt.ylabel(r'$M_{\\rm Bell}/M_{\\rm Blanton}$')\n",
    "plt.xlabel(r'$M_{\\rm Blanton}$')\n",
    "plt.xlim([10**9,10**12])\n",
    "plt.show()\n",
    "\n",
    "fig = plt.figure(figsize=(3.3,3.3))\n",
    "plt.plot(m_kauff, m_blant/m_kauff)\n",
    "#plt.ylim([10**(-0.2),10**(0.6)])\n",
    "plt.ylim([0.0,2.0])\n",
    "plt.xscale('log')\n",
    "#plt.yscale('log')\n",
    "plt.ylabel(r'$M_{\\rm Blanton}/M_{\\rm Bell}$')\n",
    "plt.xlabel(r'$M_{\\rm Bell}$')\n",
    "plt.xlim([10**9,10**12])\n",
    "plt.show()"
   ]
  },
  {
   "cell_type": "code",
   "execution_count": 11,
   "metadata": {
    "collapsed": false
   },
   "outputs": [
    {
     "data": {
      "image/png": "[encoded data removed]",
      "text/plain": [
       "<matplotlib.figure.Figure at 0x17475d190>"
      ]
     },
     "metadata": {},
     "output_type": "display_data"
    },
    {
     "data": {
      "image/png": "[encoded data removed]",
      "text/plain": [
       "<matplotlib.figure.Figure at 0x1296ee610>"
      ]
     },
     "metadata": {},
     "output_type": "display_data"
    }
   ],
   "source": [
    "class Moustakas_to_Blanton(object):\n",
    "    \"\"\"\n",
    "    class to convert Moustakas et al. (2013) to Blanton \\& Roweis (2007) stellar masses \n",
    "    \"\"\"\n",
    "    def __init__(self,\n",
    "                 haloprop_keys = [],\n",
    "                 **kwargs):\n",
    "        \"\"\"\n",
    "        Parameters\n",
    "        ----------\n",
    "        \"\"\"\n",
    "        \n",
    "        self._mock_generation_calling_sequence = ['assign_new_stellar_masses']\n",
    "        self._galprop_dtypes_to_allocate = np.dtype([])\n",
    "        self.list_of_haloprops_needed = haloprop_keys\n",
    "        \n",
    "        self.publications = ['arXiv:0901.0706']\n",
    "        self.param_dict = self.retrieve_default_param_dict()\n",
    "        self.littleh = 0.7\n",
    "        \n",
    "        \n",
    "    def assign_new_stellar_masses(self, **kwargs):\n",
    "        \"\"\"\n",
    "        convert Moustakas et al. stellar masses to Blanton et al. stellar masses\n",
    "        \"\"\"\n",
    "        table = kwargs['table']\n",
    "        \n",
    "        new_mstar = self.convert_stellar_mass(table=table)\n",
    "        table['stellar_mass'] = new_mstar\n",
    "        \n",
    "    def retrieve_default_param_dict(self):\n",
    "        \"\"\" \n",
    "        Method returns a dictionary of function parameters\n",
    "        for eq. A1 in Li \\& White in order to reproduce the \n",
    "        top panel in Moustakas et al. (2013) upper left panel of figure A1.\n",
    "        \n",
    "        Returns\n",
    "        -------\n",
    "        d : dict\n",
    "            Dictionary containing parameter values.\n",
    "        \"\"\"\n",
    "        \n",
    "        d = {'a1':0.0056,\n",
    "             'a2':-0.0978,\n",
    "             'a3':9.73+0.8,\n",
    "             'a4':0.817\n",
    "             }\n",
    "        \n",
    "        return d\n",
    "    \n",
    "    def convert_stellar_mass(self, **kwargs):\n",
    "        \"\"\"\n",
    "        conversion function from Moustakas et al. (2013) to Blanton \\& Roweis (2007) \n",
    "        stellar masses using eq. A1 in Li \\& White (2011).\n",
    "        \n",
    "        Parameters\n",
    "        ----------\n",
    "        stellar_mass : array_like\n",
    "            Moustakas et al. stellar mass(es) in $h^{-2} M_{\\odot}$\n",
    "        \n",
    "        Returns\n",
    "        -------\n",
    "        stellar_mass : array_like\n",
    "            Blanton \\& Roweis stellar mass(es) in $h^{-2} M_{\\odot}$\n",
    "        \"\"\"\n",
    "        \n",
    "        if 'table' in list(kwargs.keys()):\n",
    "            m = kwargs['table']['stellar_mass']\n",
    "        elif 'stellar_mass' in list(kwargs.keys()):\n",
    "            m = kwargs['stellar_mass']\n",
    "        \n",
    "        m = m/self.littleh**2.0\n",
    "        m = np.log10(m)\n",
    "        \n",
    "        a1 = self.param_dict['a1']\n",
    "        a2 = self.param_dict['a2']\n",
    "        a3 = self.param_dict['a3']\n",
    "        a4 = self.param_dict['a4']\n",
    "        \n",
    "        delta_m = a1 + a2*np.tanh((m-a3)/a4)\n",
    "        \n",
    "        return 10.0**(m + delta_m)*self.littleh**2.0\n",
    "\n",
    "#plot conversion function\n",
    "m_ised = np.logspace(8.5,12.5,1000)\n",
    "mstar_conv = Moustakas_to_Blanton()\n",
    "m_blant = mstar_conv.convert_stellar_mass(stellar_mass = m_ised)\n",
    "\n",
    "fig = plt.figure(figsize=(3.3,3.3))\n",
    "plt.plot(m_blant, m_ised/m_blant)\n",
    "#plt.ylim([10**(-0.2),10**(0.6)])\n",
    "plt.ylim([0.0,2.0])\n",
    "plt.xscale('log')\n",
    "#plt.yscale('log')\n",
    "plt.ylabel(r'$M_{\\rm iSED}/M_{\\rm Blanton}$')\n",
    "plt.xlabel(r'$M_{\\rm Blanton}$')\n",
    "plt.xlim([10**9,10**12])\n",
    "plt.show()\n",
    "\n",
    "fig = plt.figure(figsize=(3.3,3.3))\n",
    "plt.plot(m_ised, m_blant/m_ised)\n",
    "#plt.ylim([10**(-0.2),10**(0.6)])\n",
    "plt.ylim([0.0,2.0])\n",
    "plt.xscale('log')\n",
    "#plt.yscale('log')\n",
    "plt.ylabel(r'$M_{\\rm Blanton}/M_{\\rm iSED}$')\n",
    "plt.xlabel(r'$M_{\\rm iSED}$')\n",
    "plt.xlim([10**9,10**12])\n",
    "plt.show()"
   ]
  },
  {
   "cell_type": "code",
   "execution_count": 12,
   "metadata": {
    "collapsed": false
   },
   "outputs": [
    {
     "data": {
      "image/png": "[encoded data removed]",
      "text/plain": [
       "<matplotlib.figure.Figure at 0x174767ed0>"
      ]
     },
     "metadata": {},
     "output_type": "display_data"
    },
    {
     "data": {
      "image/png": "[encoded data removed]",
      "text/plain": [
       "<matplotlib.figure.Figure at 0x12976a550>"
      ]
     },
     "metadata": {},
     "output_type": "display_data"
    }
   ],
   "source": [
    "m_ised = np.logspace(8.5,12.5,1000)\n",
    "m_kauff = np.logspace(8.5,12.5,1000)\n",
    "m_bell = np.logspace(8.5,12.5,1000)\n",
    "\n",
    "mstar_conv = Bell_to_Blanton()\n",
    "m_blanton_1 = mstar_conv.convert_stellar_mass(stellar_mass = m_bell)\n",
    "\n",
    "mstar_conv = Kauffmann_to_Blanton()\n",
    "m_blanton_2 = mstar_conv.convert_stellar_mass(stellar_mass = m_kauff)\n",
    "\n",
    "mstar_conv = Moustakas_to_Blanton()\n",
    "m_blanton_3 = mstar_conv.convert_stellar_mass(stellar_mass = m_ised)\n",
    "\n",
    "fig = plt.figure(figsize=(3.3,3.3))\n",
    "plt.plot(m_blanton_1, m_bell/m_blanton_1, color='black')\n",
    "plt.plot(m_blanton_2, m_kauff/m_blanton_2, color='purple')\n",
    "plt.plot(m_blanton_3, m_ised/m_blanton_3, color='orange')\n",
    "plt.xscale('log')\n",
    "plt.xlabel(r'$M_{\\rm Blanton}$')\n",
    "plt.ylabel(r'$f_{\\rm conv}$')\n",
    "plt.xlim([10**9,10**12])\n",
    "plt.show()\n",
    "\n",
    "fig = plt.figure(figsize=(3.3,3.3))\n",
    "plt.plot(np.logspace(8,13,100),np.logspace(8,13,100)*0.0 + 1.0, ':', color='black')\n",
    "p1, = plt.plot(m_bell, m_blanton_1/m_bell, color='black')\n",
    "p2, = plt.plot(m_kauff, m_blanton_2/m_kauff, color='purple')\n",
    "p3, = plt.plot(m_ised, m_blanton_3/m_ised, color='orange')\n",
    "plt.legend([p1,p2,p3],['Bell et al. (2003)','kauffmann et al. (2003)','Moustakas et al. (2013)'],\n",
    "           loc='lower right', fontsize=8, frameon=False, numpoints=1)\n",
    "plt.xscale('log')\n",
    "plt.xlabel(r'$M_{*}$')\n",
    "plt.ylabel(r'$f_{\\rm conv}$')\n",
    "plt.xlim([10**9,10**12])\n",
    "plt.show()"
   ]
  },
  {
   "cell_type": "code",
   "execution_count": 13,
   "metadata": {
    "collapsed": false
   },
   "outputs": [
    {
     "name": "stdout",
     "output_type": "stream",
     "text": [
      "('halo_upid', 'halo_hostid', 'halo_mpeak', 'halo_acc_scale', 'halo_x', 'halo_y', 'halo_id', 'halo_z', 'halo_vx', 'halo_vy', 'halo_vz', 'halo_rvir', 'halo_vpeak', 'halo_mvir', 'halo_half_mass_scale', 'halo_mvir_host_halo', 'x', 'y', 'z', 'vx', 'vy', 'vz', 'galid', 'stellar_mass')\n",
      "number of galaxies in mock:  285135\n",
      "satellite fraction:  0.198256965999\n"
     ]
    }
   ],
   "source": [
    "from beyond_age_matching.make_mocks.model_components import BehrooziSmHm13, Orphans\n",
    "\n",
    "#build model\n",
    "mstar_model = BehrooziSmHm13(redshift=0.0)\n",
    "additional_halo_properties = HaloProps()\n",
    "mstar_conv = Kauffmann_to_Blanton()\n",
    "mstar_conv = Moustakas_to_Blanton()\n",
    "composite_model_5 = SubhaloModelFactory(stellar_mass = mstar_model,\n",
    "                                        haloprops = additional_halo_properties,\n",
    "                                        galaxy_selection_func = galaxy_selection_func,\n",
    "                                        stellar_mass_conversion = mstar_conv,\n",
    "                                        model_feature_calling_sequence = ('haloprops','stellar_mass','stellar_mass_conversion'))\n",
    "composite_model_5.param_dict['scatter_model_param1'] =  0.21\n",
    "\n",
    "#populate simulation\n",
    "composite_model_5.populate_mock(halocat = halocat)\n",
    "mock_5 = composite_model_5.mock.galaxy_table\n",
    "mock_5['stellar_mass'] =  mock_5['stellar_mass']\n",
    "print(mock_5.dtype.names)\n",
    "\n",
    "print(\"number of galaxies in mock: \", len(mock_5))\n",
    "f_sat = float(np.sum(mock_5['halo_upid']!=-1))/len(mock_5)\n",
    "print(\"satellite fraction: \", f_sat)"
   ]
  },
  {
   "cell_type": "markdown",
   "metadata": {},
   "source": [
    "##The z=0.0 Stellar Mass Function"
   ]
  },
  {
   "cell_type": "code",
   "execution_count": 14,
   "metadata": {
    "collapsed": true
   },
   "outputs": [],
   "source": [
    "def stellar_mass_func(mock):\n",
    "    \"\"\"\n",
    "    caclulate stellar mass function\n",
    "    \"\"\"\n",
    "    \n",
    "    #stellar mass function\n",
    "    bins = np.arange(9.5,12,0.1)\n",
    "    bins = 10.0**bins\n",
    "    bin_centers = (bins[:-1]+bins[1:])/2.0\n",
    "    counts = np.histogram(mock['stellar_mass'],bins=bins)[0]\n",
    "    dndm = counts/(halocat.Lbox[0]**3)/0.1\n",
    "\n",
    "    return dndm, bin_centers, bins"
   ]
  },
  {
   "cell_type": "code",
   "execution_count": null,
   "metadata": {
    "collapsed": false
   },
   "outputs": [
    {
     "name": "stdout",
     "output_type": "stream",
     "text": [
      "0\n",
      "1\n",
      "2\n",
      "3\n",
      "4\n",
      "5\n",
      "6\n",
      "7\n",
      "8\n",
      "9\n",
      "10\n",
      "11\n",
      "12\n",
      "13\n",
      "14\n",
      "15\n",
      "16\n",
      "17\n",
      "18\n",
      "19\n",
      "20\n",
      "21"
     ]
    }
   ],
   "source": [
    "#calculate errors on stellar mass fuction for one mock\n",
    "Nboot = 25\n",
    "dndm_2_boot = np.zeros((Nboot,24))\n",
    "for i in range(0,Nboot):\n",
    "    print(i)\n",
    "    composite_model_2.populate_mock(halocat = halocat)\n",
    "    mock_2 = composite_model_2.mock.galaxy_table\n",
    "    dndm_2_boot[i,:], bin_centers, bins = stellar_mass_func(mock_2)\n",
    "\n",
    "dndm_2_err = np.std(dndm_2_boot, axis=0)\n",
    "dndm_2 = np.mean(dndm_2_boot, axis=0)"
   ]
  },
  {
   "cell_type": "code",
   "execution_count": 17,
   "metadata": {
    "collapsed": false
   },
   "outputs": [
    {
     "data": {
      "image/png": "[encoded data removed]",
      "text/plain": [
       "<matplotlib.figure.Figure at 0x1832e6750>"
      ]
     },
     "metadata": {},
     "output_type": "display_data"
    },
    {
     "data": {
      "image/png": "[encoded data removed]",
      "text/plain": [
       "<matplotlib.figure.Figure at 0x17463a3d0>"
      ]
     },
     "metadata": {},
     "output_type": "display_data"
    }
   ],
   "source": [
    "dndm_1, bin_centers, bins = stellar_mass_func(mock_1)\n",
    "#dndm_2, bin_centers, bins = stellar_mass_func(mock_2)\n",
    "dndm_3, bin_centers, bins = stellar_mass_func(mock_3)\n",
    "dndm_4, bin_centers, bins = stellar_mass_func(mock_4)\n",
    "dndm_5, bin_centers, bins = stellar_mass_func(mock_5)\n",
    "\n",
    "#load sdss results\n",
    "from lss_observations.stellar_mass_functions import LiWhite_2009_phi\n",
    "from lss_observations.stellar_mass_functions import Baldry_2011_phi\n",
    "from lss_observations.stellar_mass_functions import Yang_2012_phi\n",
    "sdss_phi = LiWhite_2009_phi()\n",
    "sdss_phi_2 = Baldry_2011_phi()\n",
    "#sdss_phi = Yang_2012_phi()\n",
    "\n",
    "sdss_m = np.arange(9,12,0.1)\n",
    "sdss_m = 10.0**sdss_m \n",
    "sdss_dndm = sdss_phi(sdss_m)\n",
    "sdss_err = sdss_dndm * 0.05\n",
    "\n",
    "sdss_dndm = sdss_phi.data_table['phi']\n",
    "sdss_err = sdss_phi.data_table['err']\n",
    "sdss_m = sdss_phi.data_table['bin_center']\n",
    "\n",
    "#plot stellar mass function\n",
    "fig = plt.figure(figsize=(3.3,4.0))\n",
    "\n",
    "#upper panel\n",
    "rect = 0.2,0.35,0.7,0.55\n",
    "ax = fig.add_axes(rect)\n",
    "p0 = ax.errorbar(sdss_m, sdss_dndm, yerr=sdss_err, fmt='o', color='black', ms=2)\n",
    "p1, = ax.plot(bin_centers, dndm_1, '-', color='cyan')\n",
    "p2, = ax.plot(bin_centers, dndm_2, '-', color='magenta')\n",
    "p3, = ax.plot(bin_centers, dndm_3, '-', color='black')\n",
    "p4, = ax.plot(bin_centers, dndm_4, '--', color='black')\n",
    "p5, = ax.plot(bin_centers, dndm_5, ':', color='black')\n",
    "#ax.plot(sdss_m, sdss_phi_2(sdss_m), '-', color='red')\n",
    "ax.set_yscale('log')\n",
    "ax.set_xscale('log')\n",
    "ax.set_ylabel(r'$\\phi(M_{*})~[h^{3}{\\rm Mpc}^{-3}{\\rm dex}^{-1}]$', labelpad=-1)\n",
    "ax.set_xlim([10**9,10**12])\n",
    "ax.set_ylim([10**-6,10**-1])\n",
    "ax.set_yticks([10**-5,10**-4,10**-3,10**-2,10**-1])\n",
    "ax.xaxis.set_visible(False)\n",
    "plt.legend((p0,p1,p2,p3,p4,p5),\n",
    "           (\"Li \\& White (2009)\",\"RM\",\"RV\",\"Moster et al. (2013)\",\\\n",
    "            \"Yang et al. (2012)\",\"Behroozi et al. (2013)\"),\\\n",
    "           loc=3, fontsize=8, frameon=False, numpoints=1)\n",
    "\n",
    "#lower panel\n",
    "rect = 0.2,0.15,0.7,0.2\n",
    "ax = fig.add_axes(rect)\n",
    "ax.plot(bin_centers, (dndm_1-sdss_phi(bin_centers))/sdss_phi(bin_centers),'-', color='cyan', lw=0.75)\n",
    "ax.plot(bin_centers, (dndm_2-sdss_phi(bin_centers))/sdss_phi(bin_centers),'-', color='magenta', lw=0.75)\n",
    "y1 = (dndm_2 + dndm_2_err -sdss_phi(bin_centers))/sdss_phi(bin_centers)\n",
    "y2 = (dndm_2 - dndm_2_err -sdss_phi(bin_centers))/sdss_phi(bin_centers)\n",
    "#ax.fill_between(bin_centers, y1, y2, facecolor='magenta', alpha=0.25)\n",
    "ax.plot(bin_centers, (dndm_3-sdss_phi(bin_centers))/sdss_phi(bin_centers),'-', color='black', lw=0.75)\n",
    "ax.plot(bin_centers, (dndm_4-sdss_phi(bin_centers))/sdss_phi(bin_centers),'--', color='black', lw=0.75)\n",
    "ax.plot(bin_centers, (dndm_5-sdss_phi(bin_centers))/sdss_phi(bin_centers),':', color='black', lw=0.75)\n",
    "#ax.plot(bin_centers, (sdss_phi_2(bin_centers)-sdss_phi(bin_centers))/sdss_phi(bin_centers),'-', color='red', lw=0.75)\n",
    "ax.errorbar(sdss_m,  (sdss_dndm-sdss_phi(sdss_m))/sdss_phi(sdss_m), yerr=(sdss_err)/sdss_phi(sdss_m), fmt='o', color='black', ms=2, lw=1)\n",
    "ax.set_ylabel(r'$\\Delta\\phi/\\phi_{\\rm SDSS}$', labelpad=-2)\n",
    "ax.set_xlabel(r'$M_{*} ~[h^{-2}M_{\\odot}]$')\n",
    "ax.set_xscale('log')\n",
    "#ax.set_yscale('log')\n",
    "#ax.set_ylim([10**(-0.2),10**(0.2)])\n",
    "ax.set_ylim([-0.2,0.2])\n",
    "ax.set_yticks([-0.1,0.0,0.1])\n",
    "ax.set_xlim([10**9,10**12])\n",
    "\n",
    "plt.show()\n",
    "\n",
    "filepath = './plots/'\n",
    "filename = 'stellar_mass_function'\n",
    "fig.savefig(filepath+filename+'.pdf', dpi=300)\n",
    "\n",
    "sdss_phi_bin = sdss_phi(bin_centers)\n",
    "\n",
    "#lower panel\n",
    "fig = plt.figure(figsize=(3.3,3.3))\n",
    "#plt.plot(bin_centers, (dndm_1-sdss_phi(bin_centers))/sdss_phi(bin_centers),'-', color='cyan', lw=0.75)\n",
    "#plt.plot(bin_centers, (dndm_2-sdss_phi(bin_centers))/sdss_phi(bin_centers),'-', color='magenta', lw=0.75)\n",
    "#y1 = (dndm_2 + dndm_2_err -sdss_phi(bin_centers))/sdss_phi(bin_centers)\n",
    "#y2 = (dndm_2 - dndm_2_err -sdss_phi(bin_centers))/sdss_phi(bin_centers)\n",
    "plt.plot(bin_centers, (dndm_2-sdss_phi_bin)/sdss_phi_bin,'-', color='magenta', lw=0.75)\n",
    "y1 = (dndm_2 + dndm_2_err -sdss_phi_bin)/sdss_phi_bin\n",
    "y2 = (dndm_2 - dndm_2_err -sdss_phi_bin)/sdss_phi_bin\n",
    "plt.fill_between(bin_centers, y1, y2, facecolor='magenta', alpha=0.25)\n",
    "#plt.plot(bin_centers, (dndm_3-sdss_phi(bin_centers))/sdss_phi(bin_centers),'-', color='black', lw=0.75)\n",
    "#plt.plot(bin_centers, (dndm_4-sdss_phi(bin_centers))/sdss_phi(bin_centers),'--', color='black', lw=0.75)\n",
    "#plt.plot(bin_centers, (dndm_5-sdss_phi(bin_centers))/sdss_phi(bin_centers),':', color='black', lw=0.75)\n",
    "#plt.plot(bin_centers, (sdss_phi_2(bin_centers)-sdss_phi(bin_centers))/sdss_phi(bin_centers),'-', color='red', lw=0.75)\n",
    "#plt.errorbar(sdss_m,  (sdss_dndm-sdss_phi(sdss_m))/sdss_phi(sdss_m), yerr=(sdss_err)/sdss_phi(sdss_m), fmt='o', color='black', ms=1, lw=1)\n",
    "plt.ylabel(r'$\\Delta\\phi/\\phi_{\\rm SDSS}$', labelpad=-2)\n",
    "plt.xlabel(r'$M_{*} ~[h^{-2}M_{\\odot}]$')\n",
    "plt.xscale('log')\n",
    "#plt.set_yscale('log')\n",
    "#plt.set_ylim([10**(-0.2),10**(0.2)])\n",
    "plt.ylim([-0.2,0.2])\n",
    "plt.yticks([-0.1,0.0,0.1])\n",
    "plt.xlim([10**9,10**12])\n",
    "plt.show()"
   ]
  },
  {
   "cell_type": "code",
   "execution_count": 76,
   "metadata": {
    "collapsed": false
   },
   "outputs": [
    {
     "data": {
      "text/plain": [
       "array([  4.34804161e-01,   4.27705536e-01,   4.16465238e-01,\n",
       "         4.00367644e-01,   3.78755731e-01,   3.51148390e-01,\n",
       "         3.17403851e-01,   2.77919649e-01,   2.33834170e-01,\n",
       "         1.87158318e-01,   1.40730230e-01,   9.80706769e-02,\n",
       "         6.32353334e-02,   3.81373700e-02,   2.14374378e-02,\n",
       "         1.10368875e-02,   5.09327883e-03,   2.05142287e-03,\n",
       "         6.97829229e-04,   1.92503894e-04,   4.09429482e-05,\n",
       "         6.30018310e-06,   6.46769768e-07,   3.99059295e-08])"
      ]
     },
     "execution_count": 76,
     "metadata": {},
     "output_type": "execute_result"
    }
   ],
   "source": [
    "(sdss_phi(bins[:-1])+sdss_phi(bins[1:]))/0.1"
   ]
  },
  {
   "cell_type": "code",
   "execution_count": 72,
   "metadata": {
    "collapsed": false
   },
   "outputs": [
    {
     "data": {
      "text/plain": [
       "array([ 0.99935951,  0.99939677,  0.9994727 ,  0.99961432,  0.99986554,\n",
       "        1.00029743,  1.0010245 ,  1.00223062,  1.00421051,  1.00743594,\n",
       "        1.01266199,  1.02307249,  1.03585178,  1.04441035,  1.05677703,\n",
       "        1.07489989,  1.10183515,  1.14244388,  1.20459089,  1.30128758,\n",
       "        1.45471597,  1.70426036,  2.12373514,  2.86150383])"
      ]
     },
     "execution_count": 72,
     "metadata": {},
     "output_type": "execute_result"
    }
   ],
   "source": [
    "n/sdss_phi(bin_centers)"
   ]
  },
  {
   "cell_type": "markdown",
   "metadata": {},
   "source": [
    "##SMHM Relation (Model #1)"
   ]
  },
  {
   "cell_type": "code",
   "execution_count": 9,
   "metadata": {
    "collapsed": false
   },
   "outputs": [],
   "source": [
    "#get mocks for a few different values for the scatter\n",
    "composite_model_1.param_dict['scatter'] = 0.0\n",
    "composite_model_1.populate_mock(halocat = halocat)\n",
    "mock_1_00 = composite_model_1.mock.galaxy_table\n",
    "\n",
    "composite_model_1.param_dict['scatter'] = 0.05\n",
    "composite_model_1.populate_mock(halocat = halocat)\n",
    "mock_1_05 = composite_model_1.mock.galaxy_table\n",
    "\n",
    "composite_model_1.param_dict['scatter'] = 0.1\n",
    "composite_model_1.populate_mock(halocat = halocat)\n",
    "mock_1_10 = composite_model_1.mock.galaxy_table\n",
    "\n",
    "composite_model_1.param_dict['scatter'] = 0.15\n",
    "composite_model_1.populate_mock(halocat = halocat)\n",
    "mock_1_15 = composite_model_1.mock.galaxy_table\n",
    "\n",
    "composite_model_1.param_dict['scatter'] = 0.20\n",
    "composite_model_1.populate_mock(halocat = halocat)\n",
    "mock_1_20 = composite_model_1.mock.galaxy_table\n",
    "\n",
    "composite_model_1.param_dict['scatter'] = 0.25\n",
    "composite_model_1.populate_mock(halocat = halocat)\n",
    "mock_1_25 = composite_model_1.mock.galaxy_table\n",
    "\n",
    "composite_model_1.param_dict['scatter'] = 0.30\n",
    "composite_model_1.populate_mock(halocat = halocat)\n",
    "mock_1_30 = composite_model_1.mock.galaxy_table"
   ]
  },
  {
   "cell_type": "code",
   "execution_count": 10,
   "metadata": {
    "collapsed": false
   },
   "outputs": [],
   "source": [
    "def broken_powerlaw_1(x, y0=10.0, x0=12.0, alpha=2, gamma=0.1, s=-1.0):\n",
    "    \"\"\"\n",
    "    smooth transitioning broken powerlaw model\n",
    "    \"\"\"\n",
    "    x = 10**x\n",
    "    y0 = 10.0**y0\n",
    "    x0 = 10.0**x0\n",
    "    beta = alpha - gamma\n",
    "    return np.log10(2.0*(y0)*((x/x0)**(alpha))/(1.0+x/x0)**(beta))\n",
    "\n",
    "def broken_powerlaw_2(x, y0=9.96226, x0=10.12457721, alpha=0.14238348, beta=-19.8308, s=-1.0):\n",
    "    \"\"\"\n",
    "    smooth transitioning broken powerlaw model\n",
    "    \"\"\"\n",
    "    \n",
    "    return y0*((x/x0)**(alpha) + s*(x/x0)**(beta))"
   ]
  },
  {
   "cell_type": "code",
   "execution_count": 11,
   "metadata": {
    "collapsed": false
   },
   "outputs": [
    {
     "data": {
      "image/png": "[encoded data removed]",
      "text/plain": [
       "<matplotlib.figure.Figure at 0x11f33c450>"
      ]
     },
     "metadata": {},
     "output_type": "display_data"
    }
   ],
   "source": [
    "x = np.linspace(10,15,1000)\n",
    "\n",
    "plt.figure()\n",
    "plt.plot(10**x, 10**broken_powerlaw_1(x), '-')\n",
    "plt.plot(10**x, 10**broken_powerlaw_2(x), '-')\n",
    "plt.xscale('log')\n",
    "plt.yscale('log')\n",
    "plt.ylim([10**9,10**12])\n",
    "plt.show()"
   ]
  },
  {
   "cell_type": "code",
   "execution_count": 12,
   "metadata": {
    "collapsed": false
   },
   "outputs": [
    {
     "name": "stdout",
     "output_type": "stream",
     "text": [
      "y0 = 9.7217105433 +- 0.00211815467048\n",
      "x0 = 10.1142142524 +- 0.0058782921529\n",
      "alpha = 0.421165607901 +- 0.00137620810003\n",
      "beta = -23.0431228453 +- 0.135926563177\n",
      " \n",
      "y0 = 9.71902477773 +- 0.00426573859011\n",
      "x0 = 10.1072220863 +- 0.0109578184856\n",
      "alpha = 0.419571817358 +- 0.00272292978932\n",
      "beta = -22.873405132 +- 0.253266262986\n",
      " \n",
      "y0 = 9.73594416939 +- 0.00652709040885\n",
      "x0 = 10.1101456722 +- 0.0182840631849\n",
      "alpha = 0.406765865652 +- 0.00427586240908\n",
      "beta = -23.0075979456 +- 0.41517734863\n",
      " \n",
      "y0 = 9.81762136074 +- 0.0247421035214\n",
      "x0 = 9.96552322133 +- 0.063664284358\n",
      "alpha = 0.348611661069 +- 0.0136414232759\n",
      "beta = -20.021574836 +- 1.15084213664\n",
      " \n",
      "y0 = 9.93329754664 +- 0.0398644626918\n",
      "x0 = 9.77556168983 +- 0.07463310568\n",
      "alpha = 0.282057737855 +- 0.0163413641284\n",
      "beta = -17.0443933258 +- 1.07645467074\n",
      " \n",
      "y0 = 10.0 +- 0.0735271085351\n",
      "x0 = 9.97477042456 +- 0.196197997829\n",
      "alpha = 0.247223212035 +- 0.0349049767783\n",
      "beta = -19.847630157 +- 3.27375763512\n",
      " \n",
      "y0 = 10.0 +- 0.0905215037896\n",
      "x0 = 10.1976440127 +- 0.458015207882\n",
      "alpha = 0.23344036014 +- 0.0595867410291\n",
      "beta = -24.4648490603 +- 9.53784003559\n",
      " \n"
     ]
    },
    {
     "data": {
      "image/png": "[encoded data removed]",
      "text/plain": [
       "<matplotlib.figure.Figure at 0x11fdf0e50>"
      ]
     },
     "metadata": {},
     "output_type": "display_data"
    }
   ],
   "source": [
    "#fit the SMHM relation for each mock\n",
    "from scipy.stats import binned_statistic\n",
    "from scipy.optimize import curve_fit\n",
    "\n",
    "def fit_smv(mock, Nboot=10, model=1):\n",
    "    #calculate the mean stellar mass in bins of vpeak with bootstrap errors on the mean\n",
    "    x = np.log10(np.array(mock['halo_mpeak']))\n",
    "    y = np.log10(np.array(mock['stellar_mass']))\n",
    "\n",
    "    #finding minimum vpeak bin to use\n",
    "    mask = (mock['stellar_mass']<10**9.6)\n",
    "    mean_v = np.mean(x[mask])\n",
    "    std_v = 2*np.std(x[mask])\n",
    "    min_v = mean_v + std_v\n",
    "\n",
    "    bins = np.arange(min_v,14.0,0.1) #log bins\n",
    "    bin_centers = (bins[:-1]+bins[1:])/2.0 #log bins\n",
    "    mean_y = np.zeros((Nboot,len(bins)-1))\n",
    "    for i in range(0,Nboot):\n",
    "        inds = np.random.randint(0, len(x), len(x))\n",
    "        mean_y[i,:] = binned_statistic(x[inds], y[inds], bins=bins, statistic='mean')[0]\n",
    "    err = np.sqrt(np.std(mean_y, axis=0))\n",
    "    mean_y = np.mean(mean_y, axis=0)\n",
    "\n",
    "    #get linear errors\n",
    "    err_plus = 10**(mean_y + err)-10**(mean_y)\n",
    "    err_minus = 10**(mean_y) - 10**(mean_y - err)\n",
    "    lin_err = np.vstack((err_minus, err_plus))\n",
    "\n",
    "    #fit double powerlaw model\n",
    "    if model==1:\n",
    "        popt, cov = curve_fit(broken_powerlaw_1, bin_centers, mean_y, sigma=err,\n",
    "                          p0=[10.0, 12.0, 5.0, 0.1], bounds=([9.0,9.0,5.0,0.0],[11.0,14.0,10.0,1.0]))\n",
    "    elif model==2:\n",
    "        popt, cov = curve_fit(broken_powerlaw_2, bin_centers, mean_y, sigma=err,\n",
    "                          p0=[9.65, 10.15, 0.1, -20.0], bounds=([9.0,9.0,0.0,-30.0],[10.0,11,1.0,0.0]))\n",
    "    param_err = np.sqrt(cov.diagonal())\n",
    "    print('y0 = {0} +- {1}'.format(popt[0],param_err[0]))\n",
    "    print('x0 = {0} +- {1}'.format(popt[1],param_err[1]))\n",
    "    print('alpha = {0} +- {1}'.format(popt[2],param_err[2]))\n",
    "    print('beta = {0} +- {1}'.format(popt[3],param_err[3]))\n",
    "    print(' ')\n",
    "    \n",
    "    return popt, param_err, bin_centers, mean_y, err\n",
    "\n",
    "popt_00, param_err_00, x_00, y_00, err_00 = fit_smv(mock_1_00, model=2)\n",
    "popt_05, param_err_05, x_05, y_05, err_05 = fit_smv(mock_1_05, model=2)\n",
    "popt_10, param_err_10, x_10, y_10, err_10 = fit_smv(mock_1_10, model=2)\n",
    "popt_15, param_err_15, x_15, y_15, err_15 = fit_smv(mock_1_15, model=2)\n",
    "popt_20, param_err_20, x_20, y_20, err_20 = fit_smv(mock_1_20, model=2)\n",
    "popt_25, param_err_25, x_25, y_25, err_25 = fit_smv(mock_1_25, model=2)\n",
    "popt_30, param_err_30, x_30, y_30, err_30 = fit_smv(mock_1_30, model=2)\n",
    "\n",
    "#get linear errors\n",
    "err_d = 10**y_00 - 10**(y_00-err_00)\n",
    "err_u = 10**(y_00+err_00)-10**y_00\n",
    "err_00 = np.vstack((err_d,err_u))\n",
    "\n",
    "err_d = 10**y_05 - 10**(y_05-err_05)\n",
    "err_u = 10**(y_05+err_05)-10**y_05\n",
    "err_05 = np.vstack((err_d,err_u))\n",
    "\n",
    "err_d = 10**y_10 - 10**(y_10-err_10)\n",
    "err_u = 10**(y_10+err_10)-10**y_10\n",
    "err_10 = np.vstack((err_d,err_u))\n",
    "\n",
    "err_d = 10**y_15 - 10**(y_15-err_15)\n",
    "err_u = 10**(y_15+err_15)-10**y_15\n",
    "err_15 = np.vstack((err_d,err_u))\n",
    "\n",
    "err_d = 10**y_20 - 10**(y_20-err_20)\n",
    "err_u = 10**(y_20+err_20)-10**y_20\n",
    "err_20 = np.vstack((err_d,err_u))\n",
    "\n",
    "err_d = 10**y_25 - 10**(y_25-err_25)\n",
    "err_u = 10**(y_25+err_25)-10**y_25\n",
    "err_25 = np.vstack((err_d,err_u))\n",
    "\n",
    "err_d = 10**y_30 - 10**(y_30-err_30)\n",
    "err_u = 10**(y_30+err_30)-10**y_30\n",
    "err_30 = np.vstack((err_d,err_u))\n",
    "\n",
    "f_model_00 = lambda x: 10**broken_powerlaw_2(np.log10(x), *popt_00)\n",
    "f_model_05 = lambda x: 10**broken_powerlaw_2(np.log10(x), *popt_05)\n",
    "f_model_10 = lambda x: 10**broken_powerlaw_2(np.log10(x), *popt_10)\n",
    "f_model_15 = lambda x: 10**broken_powerlaw_2(np.log10(x), *popt_15)\n",
    "f_model_20 = lambda x: 10**broken_powerlaw_2(np.log10(x), *popt_20)\n",
    "f_model_25 = lambda x: 10**broken_powerlaw_2(np.log10(x), *popt_25)\n",
    "f_model_30 = lambda x: 10**broken_powerlaw_2(np.log10(x), *popt_30)\n",
    "\n",
    "#plot result\n",
    "vsample = np.logspace(9,16,1000)\n",
    "fig = plt.figure(figsize=(3.3,3.3))\n",
    "fig.subplots_adjust(left=0.2, right=0.9, bottom=0.2, top=0.9)\n",
    "plt.errorbar(10**x_00, 10**y_00, yerr=err_00, fmt='o', ms=2, color='black')\n",
    "#plt.errorbar(10**x_05, 10**y_05, yerr=err_05, fmt='o', ms=2, color='black')\n",
    "#plt.errorbar(10**x_10, 10**y_10, yerr=err_10, fmt='o', ms=2, color='black')\n",
    "#plt.errorbar(10**x_15, 10**y_15, yerr=err_15, fmt='o', ms=2, color='black')\n",
    "#plt.errorbar(10**x_20, 10**y_20, yerr=err_20, fmt='o', ms=2, color='black')\n",
    "#plt.errorbar(10**x_25, 10**y_25, yerr=err_25, fmt='o', ms=2, color='black')\n",
    "plt.errorbar(10**x_30, 10**y_30, yerr=err_30, fmt='o', ms=2, color='black')\n",
    "plt.plot(vsample, f_model_00(vsample), '-', color='red')\n",
    "plt.plot(vsample, f_model_05(vsample), '-', color='red')\n",
    "plt.plot(vsample, f_model_10(vsample), '-', color='red')\n",
    "plt.plot(vsample, f_model_15(vsample), '-', color='red')\n",
    "plt.plot(vsample, f_model_20(vsample), '-', color='red')\n",
    "plt.plot(vsample, f_model_25(vsample), '-', color='red')\n",
    "plt.plot(vsample, f_model_30(vsample), '-', color='red')\n",
    "plt.ylim([10**9.0,10**12.0])\n",
    "plt.xlim([10**10,10**15])\n",
    "plt.xscale('log')\n",
    "plt.yscale('log')\n",
    "plt.show()"
   ]
  },
  {
   "cell_type": "code",
   "execution_count": 13,
   "metadata": {
    "collapsed": false
   },
   "outputs": [
    {
     "name": "stdout",
     "output_type": "stream",
     "text": [
      "y0 = 9.72027285511 +- 0.0031369290323\n",
      "x0 = 0.416858199442 +- 0.0626448700622\n",
      "alpha = 2.67327895924 +- 0.500154357914\n",
      " \n",
      "y0 = 10.110011748 +- 0.0103796838992\n",
      " \n",
      "y0 = 0.421827993641 +- 0.00212208257077\n",
      "x0 = 0.499373991866 +- 0.0784965499983\n",
      "alpha = 2.41404968028 +- 0.378300841234\n",
      " \n",
      "y0 = -22.9059780372 +- 0.286075806858\n",
      " \n"
     ]
    },
    {
     "data": {
      "image/png": "[encoded data removed]",
      "text/plain": [
       "<matplotlib.figure.Figure at 0x11f9915d0>"
      ]
     },
     "metadata": {},
     "output_type": "display_data"
    }
   ],
   "source": [
    "sigmas = np.array([0.0,0.05,0.1,0.15,0.2,0.25,0.3])\n",
    "x0s = [popt_00[0],popt_05[0],popt_10[0],popt_15[0],popt_20[0],popt_25[0],popt_30[0]]\n",
    "x0s_err = [param_err_00[0],param_err_05[0],param_err_10[0],param_err_15[0],param_err_20[0],param_err_25[0],param_err_30[0]]\n",
    "y0s = [popt_00[1],popt_05[1],popt_10[1],popt_15[1],popt_20[1],popt_25[1],popt_30[1]]\n",
    "y0s_err = [param_err_00[1],param_err_05[1],param_err_10[1],param_err_15[1],param_err_20[1],param_err_25[1],param_err_30[1]]\n",
    "alphas = [popt_00[2],popt_05[2],popt_10[2],popt_15[2],popt_20[2],popt_25[2],popt_30[2]]\n",
    "alphas_err = [param_err_00[2],param_err_05[2],param_err_10[2],param_err_15[2],param_err_20[2],param_err_25[2],param_err_30[2]]\n",
    "betas = [popt_00[3],popt_05[3],popt_10[3],popt_15[3],popt_20[3],popt_25[3],popt_30[3]]\n",
    "betas_err = [param_err_00[3],param_err_05[3],param_err_10[3],param_err_15[3],param_err_20[3],param_err_25[3],param_err_30[3]]\n",
    "\n",
    "\n",
    "def f_model_p(x, f0=9.65, x0=0.3, alpha=2.5):\n",
    "    return f0 + (x/x0)**alpha\n",
    "\n",
    "def f_model_m(x, f0=9.65, x0=0.3, alpha=2.5):\n",
    "    return f0 - (x/x0)**alpha\n",
    "\n",
    "def f_model_l(x, f0):\n",
    "    return f0 + 0.0*x\n",
    "\n",
    "popt_a, cov_a = curve_fit(f_model_p, sigmas, x0s, sigma=x0s_err,\n",
    "                          p0=[9.7, 0.6, 1.7])\n",
    "param_err_a = np.sqrt(cov_a.diagonal())\n",
    "print('y0 = {0} +- {1}'.format(popt_a[0],param_err_a[0]))\n",
    "print('x0 = {0} +- {1}'.format(popt_a[1],param_err_a[1]))\n",
    "print('alpha = {0} +- {1}'.format(popt_a[2],param_err_a[2]))\n",
    "print(' ')\n",
    "f_model_a = lambda x: f_model_p(x, *popt_a)\n",
    "\n",
    "popt_b, cov_b = curve_fit(f_model_l, sigmas, y0s, sigma=y0s_err,\n",
    "                      p0=[9.5])\n",
    "param_err_b = np.sqrt(cov_b.diagonal())\n",
    "print('y0 = {0} +- {1}'.format(popt_b[0],param_err_b[0]))\n",
    "print(' ')\n",
    "f_model_b = lambda x: f_model_l(x, *popt_b)\n",
    "\n",
    "popt_c, cov_c = curve_fit(f_model_m, sigmas, alphas, sigma=alphas_err,\n",
    "                      p0=[0.4, 0.3, 2.4])\n",
    "param_err_c = np.sqrt(cov_c.diagonal())\n",
    "print('y0 = {0} +- {1}'.format(popt_c[0],param_err_c[0]))\n",
    "print('x0 = {0} +- {1}'.format(popt_c[1],param_err_c[1]))\n",
    "print('alpha = {0} +- {1}'.format(popt_c[2],param_err_c[2]))\n",
    "print(' ')\n",
    "f_model_c = lambda x: f_model_m(x, *popt_c)\n",
    "\n",
    "popt_d, cov_d = curve_fit(f_model_l, sigmas, betas, sigma=betas_err,\n",
    "                      p0=[-15])\n",
    "param_err_d = np.sqrt(cov_d.diagonal())\n",
    "print('y0 = {0} +- {1}'.format(popt_d[0],param_err_d[0]))\n",
    "print(' ')\n",
    "f_model_d = lambda x: f_model_l(x, *popt_d)\n",
    "\n",
    "sigma_sample = np.linspace(0,0.3,100)\n",
    "fig, axes = plt.subplots(nrows=4, ncols=1, sharex=True, figsize=(3.3, 10.0))\n",
    "fig.subplots_adjust(left=0.2, right=0.9, bottom=0.1, top=0.95, hspace=0.0)\n",
    "#top panel\n",
    "ax = axes[0]\n",
    "p0=[9.7, 0.6, 1.7]\n",
    "ax.plot(sigma_sample, f_model_p(sigma_sample, *p0),'--', color='red')\n",
    "ax.plot(sigma_sample, f_model_a(sigma_sample), '-', color='red')\n",
    "ax.errorbar(sigmas, x0s, yerr=x0s_err, fmt='o', mec='none', ms=4, color='black')\n",
    "ax.set_xlim([0,0.35])\n",
    "ax.set_ylim([9.5,10.25])\n",
    "#middle panel\n",
    "ax = axes[1]\n",
    "ax.plot(sigma_sample, f_model_b(sigma_sample), '-', color='red')\n",
    "ax.errorbar(sigmas, y0s, yerr=y0s_err, fmt='o', mec='none', ms=4, color='black')\n",
    "ax.set_xlim([0,0.35])\n",
    "ax.set_ylim([9.0,11.0])\n",
    "#bottom panel\n",
    "ax = axes[2]\n",
    "ax.plot(sigma_sample, f_model_c(sigma_sample), '-', color='red')\n",
    "ax.errorbar(sigmas, alphas, yerr=alphas_err, fmt='o', mec='none', ms=4, color='black')\n",
    "ax.set_xlim([0,0.35])\n",
    "#ax.set_ylim([0.1,0.3])\n",
    "#bottom panel\n",
    "ax = axes[3]\n",
    "ax.plot(sigma_sample, f_model_d(sigma_sample), '-', color='red')\n",
    "ax.errorbar(sigmas, betas, yerr=betas_err, fmt='o', mec='none', ms=4, color='black')\n",
    "ax.set_xlim([0,0.35])\n",
    "ax.set_xlabel(r'$\\sigma$')\n",
    "plt.show()"
   ]
  },
  {
   "cell_type": "code",
   "execution_count": 14,
   "metadata": {
    "collapsed": false
   },
   "outputs": [
    {
     "name": "stdout",
     "output_type": "stream",
     "text": [
      "y0 = 9.74356068707 +- 0.0258336168249\n",
      "x0 = 10.9406087077 +- 0.06054345474\n",
      "alpha = 5.0 +- 0.552406848063\n",
      "beta = 0.362292924579 +- 0.00199212229204\n",
      " \n",
      "y0 = 9.73656076635 +- 0.0247045468544\n",
      "x0 = 10.9386342136 +- 0.0562747380858\n",
      "alpha = 5.0 +- 0.508639611991\n",
      "beta = 0.362824676316 +- 0.00218164183961\n",
      " \n",
      "y0 = 9.74274726177 +- 0.0314743568931\n",
      "x0 = 10.9333900181 +- 0.0765667131545\n",
      "alpha = 5.0 +- 0.708867558132\n",
      "beta = 0.350564147001 +- 0.00241019702838\n",
      " \n",
      "y0 = 9.75679965402 +- 0.0969857628995\n",
      "x0 = 10.9354958452 +- 0.253417009529\n",
      "alpha = 5.0 +- 2.38597607984\n",
      "beta = 0.328650722184 +- 0.0067479232404\n",
      " \n",
      "y0 = 9.77547542963 +- 0.120363714623\n",
      "x0 = 10.9383575652 +- 0.349747240436\n",
      "alpha = 5.0 +- 3.37470703313\n",
      "beta = 0.302170249226 +- 0.00735465969441\n",
      " \n",
      "y0 = 9.86853179691 +- 0.196102731695\n",
      "x0 = 10.9808137383 +- 0.713252814282\n",
      "alpha = 5.0 +- 6.98609532007\n",
      "beta = 0.232535747368 +- 0.0147999804708\n",
      " \n",
      "y0 = 9.99024006891 +- 0.227414640263\n",
      "x0 = 11.0615411717 +- 1.19474258977\n",
      "alpha = 5.0 +- 11.9529031371\n",
      "beta = 0.149033261472 +- 0.0235872980908\n",
      " \n"
     ]
    },
    {
     "data": {
      "image/png": "[encoded data removed]",
      "text/plain": [
       "<matplotlib.figure.Figure at 0x11fdf0d90>"
      ]
     },
     "metadata": {},
     "output_type": "display_data"
    }
   ],
   "source": [
    "popt_00, param_err_00, x_00, y_00, err_00 = fit_smv(mock_1_00, model=1)\n",
    "popt_05, param_err_05, x_05, y_05, err_05 = fit_smv(mock_1_05, model=1)\n",
    "popt_10, param_err_10, x_10, y_10, err_10 = fit_smv(mock_1_10, model=1)\n",
    "popt_15, param_err_15, x_15, y_15, err_15 = fit_smv(mock_1_15, model=1)\n",
    "popt_20, param_err_20, x_20, y_20, err_20 = fit_smv(mock_1_20, model=1)\n",
    "popt_25, param_err_25, x_25, y_25, err_25 = fit_smv(mock_1_25, model=1)\n",
    "popt_30, param_err_30, x_30, y_30, err_30 = fit_smv(mock_1_30, model=1)\n",
    "\n",
    "#get linear errors\n",
    "err_d = 10**y_00 - 10**(y_00-err_00)\n",
    "err_u = 10**(y_00+err_00)-10**y_00\n",
    "err_00 = np.vstack((err_d,err_u))\n",
    "\n",
    "err_d = 10**y_05 - 10**(y_05-err_05)\n",
    "err_u = 10**(y_05+err_05)-10**y_05\n",
    "err_05 = np.vstack((err_d,err_u))\n",
    "\n",
    "err_d = 10**y_10 - 10**(y_10-err_10)\n",
    "err_u = 10**(y_10+err_10)-10**y_10\n",
    "err_10 = np.vstack((err_d,err_u))\n",
    "\n",
    "err_d = 10**y_15 - 10**(y_15-err_15)\n",
    "err_u = 10**(y_15+err_15)-10**y_15\n",
    "err_15 = np.vstack((err_d,err_u))\n",
    "\n",
    "err_d = 10**y_20 - 10**(y_20-err_20)\n",
    "err_u = 10**(y_20+err_20)-10**y_20\n",
    "err_20 = np.vstack((err_d,err_u))\n",
    "\n",
    "err_d = 10**y_25 - 10**(y_25-err_25)\n",
    "err_u = 10**(y_25+err_25)-10**y_25\n",
    "err_25 = np.vstack((err_d,err_u))\n",
    "\n",
    "err_d = 10**y_30 - 10**(y_30-err_30)\n",
    "err_u = 10**(y_30+err_30)-10**y_30\n",
    "err_30 = np.vstack((err_d,err_u))\n",
    "\n",
    "f_model_00 = lambda x: 10**broken_powerlaw_1(np.log10(x), *popt_00)\n",
    "f_model_05 = lambda x: 10**broken_powerlaw_1(np.log10(x), *popt_05)\n",
    "f_model_10 = lambda x: 10**broken_powerlaw_1(np.log10(x), *popt_10)\n",
    "f_model_15 = lambda x: 10**broken_powerlaw_1(np.log10(x), *popt_15)\n",
    "f_model_20 = lambda x: 10**broken_powerlaw_1(np.log10(x), *popt_20)\n",
    "f_model_25 = lambda x: 10**broken_powerlaw_1(np.log10(x), *popt_25)\n",
    "f_model_30 = lambda x: 10**broken_powerlaw_1(np.log10(x), *popt_30)\n",
    "\n",
    "#plot result\n",
    "vsample = np.logspace(9,16,1000)\n",
    "fig = plt.figure(figsize=(3.3,3.3))\n",
    "fig.subplots_adjust(left=0.2, right=0.9, bottom=0.2, top=0.9)\n",
    "plt.errorbar(10**x_00, 10**y_00, yerr=err_00, fmt='o', ms=2, color='black')\n",
    "#plt.errorbar(10**x_05, 10**y_05, yerr=err_05, fmt='o', ms=2, color='black')\n",
    "#plt.errorbar(10**x_10, 10**y_10, yerr=err_10, fmt='o', ms=2, color='black')\n",
    "#plt.errorbar(10**x_15, 10**y_15, yerr=err_15, fmt='o', ms=2, color='black')\n",
    "#plt.errorbar(10**x_20, 10**y_20, yerr=err_20, fmt='o', ms=2, color='black')\n",
    "#plt.errorbar(10**x_25, 10**y_25, yerr=err_25, fmt='o', ms=2, color='black')\n",
    "plt.errorbar(10**x_30, 10**y_30, yerr=err_30, fmt='o', ms=2, color='black')\n",
    "plt.plot(vsample, f_model_00(vsample), '-', color='red', alpha=1.0)\n",
    "plt.plot(vsample, f_model_05(vsample), '-', color='red', alpha=0.9)\n",
    "plt.plot(vsample, f_model_10(vsample), '-', color='red', alpha=0.8)\n",
    "plt.plot(vsample, f_model_15(vsample), '-', color='red', alpha=0.7)\n",
    "plt.plot(vsample, f_model_20(vsample), '-', color='red', alpha=0.6)\n",
    "plt.plot(vsample, f_model_25(vsample), '-', color='red', alpha=0.5)\n",
    "plt.plot(vsample, f_model_30(vsample), '-', color='red', alpha=0.4)\n",
    "plt.ylim([10**9.0,10**12.0])\n",
    "plt.xlim([10**10,10**15])\n",
    "plt.xscale('log')\n",
    "plt.yscale('log')\n",
    "plt.show()"
   ]
  },
  {
   "cell_type": "code",
   "execution_count": 17,
   "metadata": {
    "collapsed": false
   },
   "outputs": [
    {
     "name": "stdout",
     "output_type": "stream",
     "text": [
      "y0 = 8.73992962193 +- 0.00189632405391\n",
      "x0 = 0.431393748065 +- 0.0279862295988\n",
      "alpha = 4.08400048325 +- 0.595947757494\n",
      " \n",
      "y0 = 10.938331271 +- 0.00205560291934\n",
      " \n",
      "y0 = 5.0 +- 1.57201767203e-14\n",
      " \n",
      "y0 = 1.36287306044 +- 0.00121596225126\n",
      "x0 = 0.567325507506 +- 0.0344525503472\n",
      "alpha = 2.61052949849 +- 0.175049766144\n",
      " \n"
     ]
    },
    {
     "data": {
      "image/png": "[encoded data removed]",
      "text/plain": [
       "<matplotlib.figure.Figure at 0x115194b90>"
      ]
     },
     "metadata": {},
     "output_type": "display_data"
    }
   ],
   "source": [
    "sigmas = np.array([0.0,0.05,0.1,0.15,0.2,0.25,0.3])\n",
    "x0s = [popt_00[0],popt_05[0],popt_10[0],popt_15[0],popt_20[0],popt_25[0],popt_30[0]]\n",
    "x0s_err = [param_err_00[0],param_err_05[0],param_err_10[0],param_err_15[0],param_err_20[0],param_err_25[0],param_err_30[0]]\n",
    "y0s = [popt_00[1],popt_05[1],popt_10[1],popt_15[1],popt_20[1],popt_25[1],popt_30[1]]\n",
    "y0s_err = [param_err_00[1],param_err_05[1],param_err_10[1],param_err_15[1],param_err_20[1],param_err_25[1],param_err_30[1]]\n",
    "alphas = [popt_00[2],popt_05[2],popt_10[2],popt_15[2],popt_20[2],popt_25[2],popt_30[2]]\n",
    "alphas_err = [param_err_00[2],param_err_05[2],param_err_10[2],param_err_15[2],param_err_20[2],param_err_25[2],param_err_30[2]]\n",
    "betas = [popt_00[3],popt_05[3],popt_10[3],popt_15[3],popt_20[3],popt_25[3],popt_30[3]]\n",
    "betas_err = [param_err_00[3],param_err_05[3],param_err_10[3],param_err_15[3],param_err_20[3],param_err_25[3],param_err_30[3]]\n",
    "\n",
    "\n",
    "def f_model_p(x, f0=9.65, x0=0.3, alpha=2.5):\n",
    "    return f0 + (x/x0)**alpha\n",
    "\n",
    "def f_model_m(x, f0=9.65, x0=0.3, alpha=2.5):\n",
    "    return f0 - (x/x0)**alpha\n",
    "\n",
    "def f_model_l(x, f0):\n",
    "    return f0 + 0.0*x\n",
    "\n",
    "def f_model_e(x, f0=9.65, x0=0.3, alpha=2.5):\n",
    "    return f0 + np.exp((x/x0)**alpha)\n",
    "\n",
    "def f_model_g(x, f0=9.65, x0=0.3, alpha=2.5):\n",
    "    return f0 - np.exp((x/x0)**alpha)\n",
    "\n",
    "popt_a, cov_a = curve_fit(f_model_e, sigmas, x0s, sigma=x0s_err,\n",
    "                          p0=[9.7, 0.6, 1.7])\n",
    "param_err_a = np.sqrt(cov_a.diagonal())\n",
    "print('y0 = {0} +- {1}'.format(popt_a[0],param_err_a[0]))\n",
    "print('x0 = {0} +- {1}'.format(popt_a[1],param_err_a[1]))\n",
    "print('alpha = {0} +- {1}'.format(popt_a[2],param_err_a[2]))\n",
    "print(' ')\n",
    "f_model_a = lambda x: f_model_e(x, *popt_a)\n",
    "\n",
    "popt_b, cov_b = curve_fit(f_model_l, sigmas, y0s, sigma=y0s_err,\n",
    "                      p0=[10.0])\n",
    "param_err_b = np.sqrt(cov_b.diagonal())\n",
    "print('y0 = {0} +- {1}'.format(popt_b[0],param_err_b[0]))\n",
    "print(' ')\n",
    "f_model_b = lambda x: f_model_l(x, *popt_b)\n",
    "\n",
    "popt_c, cov_c = curve_fit(f_model_l, sigmas, alphas, sigma=alphas_err,\n",
    "                      p0=[5.0])\n",
    "param_err_c = np.sqrt(cov_c.diagonal())\n",
    "print('y0 = {0} +- {1}'.format(popt_c[0],param_err_c[0]))\n",
    "#print('x0 = {0} +- {1}'.format(popt_c[1],param_err_c[1]))\n",
    "#print('alpha = {0} +- {1}'.format(popt_c[2],param_err_c[2]))\n",
    "print(' ')\n",
    "f_model_c = lambda x: f_model_l(x, *popt_c)\n",
    "\n",
    "popt_d, cov_d = curve_fit(f_model_g, sigmas, betas, sigma=betas_err,\n",
    "                      p0=[0.35, 0.3, 1.7])\n",
    "param_err_d = np.sqrt(cov_d.diagonal())\n",
    "print('y0 = {0} +- {1}'.format(popt_d[0],param_err_d[0]))\n",
    "print('x0 = {0} +- {1}'.format(popt_d[1],param_err_d[1]))\n",
    "print('alpha = {0} +- {1}'.format(popt_d[2],param_err_d[2]))\n",
    "print(' ')\n",
    "f_model_d = lambda x: f_model_g(x, *popt_d)\n",
    "\n",
    "sigma_sample = np.linspace(0,0.35,100)\n",
    "fig, axes = plt.subplots(nrows=4, ncols=1, sharex=True, figsize=(3.3, 10.0))\n",
    "fig.subplots_adjust(left=0.2, right=0.9, bottom=0.1, top=0.95, hspace=0.0)\n",
    "#top panel\n",
    "ax = axes[0]\n",
    "p0=[9.7, 0.6, 1.7]\n",
    "#ax.plot(sigma_sample, f_model_p(sigma_sample, *p0),'--', color='red')\n",
    "ax.plot(sigma_sample, f_model_a(sigma_sample), '-', color='red')\n",
    "ax.errorbar(sigmas, x0s, yerr=x0s_err, fmt='o', mec='none', ms=4, color='black')\n",
    "ax.set_xlim([0,0.35])\n",
    "#ax.set_ylim([9.5,10.25])\n",
    "#middle panel\n",
    "ax = axes[1]\n",
    "ax.plot(sigma_sample, f_model_b(sigma_sample), '-', color='red')\n",
    "ax.errorbar(sigmas, y0s, yerr=y0s_err, fmt='o', mec='none', ms=4, color='black')\n",
    "ax.set_xlim([0,0.35])\n",
    "#ax.set_ylim([9.0,11.0])\n",
    "#bottom panel\n",
    "ax = axes[2]\n",
    "ax.plot(sigma_sample, f_model_c(sigma_sample), '-', color='red')\n",
    "ax.errorbar(sigmas, alphas, yerr=alphas_err, fmt='o', mec='none', ms=4, color='black')\n",
    "ax.set_xlim([0,0.35])\n",
    "#ax.set_ylim([0.1,0.3])\n",
    "#bottom panel\n",
    "ax = axes[3]\n",
    "ax.plot(sigma_sample, f_model_d(sigma_sample), '-', color='red')\n",
    "ax.errorbar(sigmas, betas, yerr=betas_err, fmt='o', mec='none', ms=4, color='black')\n",
    "ax.set_xlim([0,0.35])\n",
    "ax.set_xlabel(r'$\\sigma$')\n",
    "plt.show()"
   ]
  },
  {
   "cell_type": "code",
   "execution_count": 33,
   "metadata": {
    "collapsed": false
   },
   "outputs": [],
   "source": [
    "def mpeak_mstar_model(mpeak, sigma):\n",
    "    \"\"\"\n",
    "    \"\"\"\n",
    "    #set parameters\n",
    "    f_1 = 8.7399\n",
    "    x_1 = 0.4313\n",
    "    alpha_1 = 4.0840\n",
    "    \n",
    "    f_2 = 10.9383\n",
    "    \n",
    "    f_3 = 5.0\n",
    "    \n",
    "    f_4 = 1.36287\n",
    "    x_4 = 0.5673\n",
    "    alpha_4 = 2.6105\n",
    "    \n",
    "    def power_law(x, f0=9.65, x0=0.3, alpha=2.5, s=1.0):\n",
    "        \"\"\"\n",
    "        \"\"\"\n",
    "        return f0 + s*np.exp((x/x0)**alpha)\n",
    "    \n",
    "    def broken_powerlaw_1(x, y0=10.0, x0=12.0, alpha=2, gamma=0.1, s=-1.0):\n",
    "        \"\"\"\n",
    "        smooth transitioning broken powerlaw model\n",
    "        \"\"\"\n",
    "        x = 10**x\n",
    "        y0 = 10.0**y0\n",
    "        x0 = 10.0**x0\n",
    "        beta = alpha - gamma\n",
    "        return np.log10(2.0*(y0)*((x/x0)**(alpha))/(1.0+x/x0)**(beta))\n",
    "    \n",
    "    y0 = power_law(sigma, f_1, x_1, alpha_1)\n",
    "    x0 = f_2\n",
    "    alpha = f_3\n",
    "    beta = power_law(sigma, f_4, x_4, alpha_4, s=-1)\n",
    "    \n",
    "    print(np.array([x0, y0, alpha, beta]))\n",
    "    \n",
    "    mpeak = np.log10(mpeak)\n",
    "    mstar = broken_powerlaw_1(mpeak, y0, x0, alpha, beta)\n",
    "    \n",
    "    return 10**mstar   "
   ]
  },
  {
   "cell_type": "code",
   "execution_count": 34,
   "metadata": {
    "collapsed": false
   },
   "outputs": [
    {
     "name": "stdout",
     "output_type": "stream",
     "text": [
      "[ 10.9383       9.75337807   5.           0.33134794]\n",
      "[ 10.9383       9.99479418   5.           0.1541787 ]\n"
     ]
    },
    {
     "data": {
      "image/png": "[encoded data removed]",
      "text/plain": [
       "<matplotlib.figure.Figure at 0x12339b690>"
      ]
     },
     "metadata": {},
     "output_type": "display_data"
    }
   ],
   "source": [
    "msample = np.logspace(10,15,100)\n",
    "x1 = mpeak_mstar_model(msample, 0.15)\n",
    "x2 = mpeak_mstar_model(msample, 0.3)\n",
    "\n",
    "plt.figure()\n",
    "plt.plot(msample, x1, '-')\n",
    "plt.plot(msample, x2, '--')\n",
    "plt.yscale('log')\n",
    "plt.xscale('log')\n",
    "plt.ylim([10**9,10**12])\n",
    "plt.show()"
   ]
  },
  {
   "cell_type": "code",
   "execution_count": 76,
   "metadata": {
    "collapsed": false
   },
   "outputs": [
    {
     "name": "stdout",
     "output_type": "stream",
     "text": [
      "[ 10.1362   9.69     0.4394 -23.591 ]\n",
      "[ 10.1362       9.71864169   0.41929817 -23.591     ]\n",
      "[ 10.1362       9.75268483   0.39381286 -23.591     ]\n",
      "[ 10.1362       9.78911642   0.3658032  -23.591     ]\n",
      "[ 10.1362       9.82719124   0.33601701 -23.591     ]\n",
      "[ 10.1362       9.86653657   0.30483601 -23.591     ]\n",
      "[ 10.1362       9.90692494   0.27249641 -23.591     ]\n"
     ]
    },
    {
     "data": {
      "image/png": "[encoded data removed]",
      "text/plain": [
       "<matplotlib.figure.Figure at 0x17bb58f90>"
      ]
     },
     "metadata": {},
     "output_type": "display_data"
    }
   ],
   "source": [
    "msample = np.logspace(9,16,1000)\n",
    "fig = plt.figure(figsize=(3.3,3.3))\n",
    "fig.subplots_adjust(left=0.2, right=0.9, bottom=0.2, top=0.9)\n",
    "#plt.errorbar(10**x_00, 10**y_00, yerr=err_00, fmt='o', ms=2, color='black')\n",
    "#plt.errorbar(10**x_05, 10**y_05, yerr=err_05, fmt='o', ms=2, color='black')\n",
    "#plt.errorbar(10**x_10, 10**y_10, yerr=err_10, fmt='o', ms=2, color='black')\n",
    "#plt.errorbar(10**x_15, 10**y_15, yerr=err_15, fmt='o', ms=2, color='black')\n",
    "#plt.errorbar(10**x_20, 10**y_20, yerr=err_20, fmt='o', ms=2, color='black')\n",
    "#plt.errorbar(10**x_25, 10**y_25, yerr=err_25, fmt='o', ms=2, color='black')\n",
    "plt.errorbar(10**x_30, 10**y_30, yerr=err_30, fmt='o', ms=2, color='black')\n",
    "plt.plot(msample, mpeak_mstar_model(msample, 0), '-', color='red')\n",
    "plt.plot(msample, mpeak_mstar_model(msample, 0.05), '-', color='red')\n",
    "plt.plot(msample, mpeak_mstar_model(msample, 0.1), '-', color='red')\n",
    "plt.plot(msample, mpeak_mstar_model(msample, 0.15), '-', color='red')\n",
    "plt.plot(msample, mpeak_mstar_model(msample, 0.2), '-', color='red')\n",
    "plt.plot(msample, mpeak_mstar_model(msample, 0.25), '-', color='red')\n",
    "plt.plot(msample, mpeak_mstar_model(msample, 0.30), '-', color='red')\n",
    "plt.ylim([10**9.0,10**12.0])\n",
    "plt.xlim([10**10,10**15])\n",
    "plt.xscale('log')\n",
    "plt.yscale('log')\n",
    "plt.show()"
   ]
  },
  {
   "cell_type": "markdown",
   "metadata": {},
   "source": [
    "##SMV Relation (Model #2)"
   ]
  },
  {
   "cell_type": "code",
   "execution_count": 164,
   "metadata": {
    "collapsed": true
   },
   "outputs": [],
   "source": [
    "#get a few different values for the scatter\n",
    "composite_model_2.param_dict['scatter'] = 0.0\n",
    "composite_model_2.populate_mock(halocat = halocat)\n",
    "mock_2_00 = composite_model_2.mock.galaxy_table\n",
    "\n",
    "composite_model_2.param_dict['scatter'] = 0.05\n",
    "composite_model_2.populate_mock(halocat = halocat)\n",
    "mock_2_05 = composite_model_2.mock.galaxy_table\n",
    "\n",
    "composite_model_2.param_dict['scatter'] = 0.1\n",
    "composite_model_2.populate_mock(halocat = halocat)\n",
    "mock_2_10 = composite_model_2.mock.galaxy_table\n",
    "\n",
    "composite_model_2.param_dict['scatter'] = 0.15\n",
    "composite_model_2.populate_mock(halocat = halocat)\n",
    "mock_2_15 = composite_model_2.mock.galaxy_table\n",
    "\n",
    "composite_model_2.param_dict['scatter'] = 0.20\n",
    "composite_model_2.populate_mock(halocat = halocat)\n",
    "mock_2_20 = composite_model_2.mock.galaxy_table"
   ]
  },
  {
   "cell_type": "code",
   "execution_count": 42,
   "metadata": {
    "collapsed": false
   },
   "outputs": [
    {
     "ename": "NameError",
     "evalue": "name 'mock_2_00' is not defined",
     "output_type": "error",
     "traceback": [
      "\u001b[0;31m---------------------------------------------------------------------------\u001b[0m",
      "\u001b[0;31mNameError\u001b[0m                                 Traceback (most recent call last)",
      "\u001b[0;32m<ipython-input-42-32a0992d1f85>\u001b[0m in \u001b[0;36m<module>\u001b[0;34m()\u001b[0m\n\u001b[1;32m     44\u001b[0m     \u001b[0;32mreturn\u001b[0m \u001b[0mpopt\u001b[0m\u001b[0;34m,\u001b[0m \u001b[0mparam_err\u001b[0m\u001b[0;34m,\u001b[0m \u001b[0mbin_centers\u001b[0m\u001b[0;34m,\u001b[0m \u001b[0mmean_y\u001b[0m\u001b[0;34m,\u001b[0m \u001b[0merr\u001b[0m\u001b[0;34m\u001b[0m\u001b[0m\n\u001b[1;32m     45\u001b[0m \u001b[0;34m\u001b[0m\u001b[0m\n\u001b[0;32m---> 46\u001b[0;31m \u001b[0mpopt_00\u001b[0m\u001b[0;34m,\u001b[0m \u001b[0mparam_err_00\u001b[0m\u001b[0;34m,\u001b[0m \u001b[0mx_00\u001b[0m\u001b[0;34m,\u001b[0m \u001b[0my_00\u001b[0m\u001b[0;34m,\u001b[0m \u001b[0merr_00\u001b[0m \u001b[0;34m=\u001b[0m \u001b[0mfit_smv\u001b[0m\u001b[0;34m(\u001b[0m\u001b[0mmock_2_00\u001b[0m\u001b[0;34m)\u001b[0m\u001b[0;34m\u001b[0m\u001b[0m\n\u001b[0m\u001b[1;32m     47\u001b[0m \u001b[0mpopt_05\u001b[0m\u001b[0;34m,\u001b[0m \u001b[0mparam_err_05\u001b[0m\u001b[0;34m,\u001b[0m \u001b[0mx_05\u001b[0m\u001b[0;34m,\u001b[0m \u001b[0my_05\u001b[0m\u001b[0;34m,\u001b[0m \u001b[0merr_05\u001b[0m \u001b[0;34m=\u001b[0m \u001b[0mfit_smv\u001b[0m\u001b[0;34m(\u001b[0m\u001b[0mmock_2_05\u001b[0m\u001b[0;34m)\u001b[0m\u001b[0;34m\u001b[0m\u001b[0m\n\u001b[1;32m     48\u001b[0m \u001b[0mpopt_10\u001b[0m\u001b[0;34m,\u001b[0m \u001b[0mparam_err_10\u001b[0m\u001b[0;34m,\u001b[0m \u001b[0mx_10\u001b[0m\u001b[0;34m,\u001b[0m \u001b[0my_10\u001b[0m\u001b[0;34m,\u001b[0m \u001b[0merr_10\u001b[0m \u001b[0;34m=\u001b[0m \u001b[0mfit_smv\u001b[0m\u001b[0;34m(\u001b[0m\u001b[0mmock_2_10\u001b[0m\u001b[0;34m)\u001b[0m\u001b[0;34m\u001b[0m\u001b[0m\n",
      "\u001b[0;31mNameError\u001b[0m: name 'mock_2_00' is not defined"
     ]
    }
   ],
   "source": [
    "from scipy.stats import binned_statistic\n",
    "\n",
    "def double_powerlaw(x, y0=9.65, x0=1.74, alpha=0.28, beta=-16.0, s=-1.0):\n",
    "    \"\"\"\n",
    "    smooth transitioning broken powerlaw model\n",
    "    \"\"\"\n",
    "    return y0*((x/x0)**(alpha) + s*(x/x0)**(beta))\n",
    "\n",
    "def fit_smv(mock, Nboot=10):\n",
    "    #calculate the mean stellar mass in bins of vpeak with bootstrap errors on the mean\n",
    "    x = np.log10(np.array(mock['halo_vpeak']))\n",
    "    y = np.log10(np.array(mock['stellar_mass']))\n",
    "\n",
    "    #finding minimum vpeak bin to use\n",
    "    mask = (mock['stellar_mass']<10**9.6)\n",
    "    mean_v = np.mean(x[mask])\n",
    "    std_v = 2*np.std(x[mask])\n",
    "    min_v = mean_v + std_v\n",
    "\n",
    "    bins = np.arange(min_v,3.1,0.025) #log bins\n",
    "    bin_centers = (bins[:-1]+bins[1:])/2.0 #log bins\n",
    "    mean_y = np.zeros((Nboot,len(bins)-1))\n",
    "    for i in range(0,Nboot):\n",
    "        inds = np.random.randint(0, len(x), len(x))\n",
    "        mean_y[i,:] = binned_statistic(x[inds], y[inds], bins=bins, statistic='mean')[0]\n",
    "    err = np.sqrt(np.std(mean_y, axis=0))\n",
    "    mean_y = np.mean(mean_y, axis=0)\n",
    "\n",
    "    #get linear errors\n",
    "    err_plus = 10**(mean_y + err)-10**(mean_y)\n",
    "    err_minus = 10**(mean_y) - 10**(mean_y - err)\n",
    "    lin_err = np.vstack((err_minus, err_plus))\n",
    "\n",
    "    #fit double powerlaw model\n",
    "    popt, cov = curve_fit(double_powerlaw, bin_centers, mean_y, sigma=err,\n",
    "                          p0=[9.65, 1.74, 0.28, -16], bounds=([9.0,1.5,0,-20],[10.0,2.0,1.0,0]))\n",
    "    param_err = np.sqrt(cov.diagonal())\n",
    "    print('y0 = {0} +- {1}'.format(popt[0],param_err[0]))\n",
    "    print('x0 = {0} +- {1}'.format(popt[1],param_err[1]))\n",
    "    print('alpha = {0} +- {1}'.format(popt[2],param_err[2]))\n",
    "    print('beta = {0} +- {1}'.format(popt[3],param_err[3]))\n",
    "    print(' ')\n",
    "    \n",
    "    return popt, param_err, bin_centers, mean_y, err\n",
    "\n",
    "popt_00, param_err_00, x_00, y_00, err_00 = fit_smv(mock_2_00)\n",
    "popt_05, param_err_05, x_05, y_05, err_05 = fit_smv(mock_2_05)\n",
    "popt_10, param_err_10, x_10, y_10, err_10 = fit_smv(mock_2_10)\n",
    "popt_15, param_err_15, x_15, y_15, err_15 = fit_smv(mock_2_15)\n",
    "popt_20, param_err_20, x_20, y_20, err_20 = fit_smv(mock_2_20)\n",
    "\n",
    "#get linear errors\n",
    "err_d = 10**y_00 - 10**(y_00-err_00)\n",
    "err_u = 10**(y_00+err_00)-10**y_00\n",
    "err_00 = np.vstack((err_d,err_u))\n",
    "\n",
    "err_d = 10**y_05 - 10**(y_05-err_05)\n",
    "err_u = 10**(y_05+err_05)-10**y_05\n",
    "err_05 = np.vstack((err_d,err_u))\n",
    "\n",
    "err_d = 10**y_10 - 10**(y_10-err_10)\n",
    "err_u = 10**(y_10+err_10)-10**y_10\n",
    "err_10 = np.vstack((err_d,err_u))\n",
    "\n",
    "err_d = 10**y_15 - 10**(y_15-err_15)\n",
    "err_u = 10**(y_15+err_15)-10**y_15\n",
    "err_15 = np.vstack((err_d,err_u))\n",
    "\n",
    "err_d = 10**y_20 - 10**(y_20-err_20)\n",
    "err_u = 10**(y_20+err_20)-10**y_20\n",
    "err_20 = np.vstack((err_d,err_u))\n",
    "\n",
    "f_model_00 = lambda x: 10**double_powerlaw(np.log10(x), *popt_00)\n",
    "f_model_05 = lambda x: 10**double_powerlaw(np.log10(x), *popt_05)\n",
    "f_model_10 = lambda x: 10**double_powerlaw(np.log10(x), *popt_10)\n",
    "f_model_15 = lambda x: 10**double_powerlaw(np.log10(x), *popt_15)\n",
    "f_model_20 = lambda x: 10**double_powerlaw(np.log10(x), *popt_20)\n",
    "\n",
    "#plot result\n",
    "vsample = np.logspace(1,3.2,1000)\n",
    "fig = plt.figure(figsize=(3.3,3.3))\n",
    "fig.subplots_adjust(left=0.2, right=0.9, bottom=0.2, top=0.9)\n",
    "plt.errorbar(10**x_00, 10**y_00, yerr=err_00, fmt='o', ms=2, color='black')\n",
    "#plt.errorbar(10**x_05, 10**y_05, yerr=err_05, fmt='o', ms=2, color='black')\n",
    "#plt.errorbar(10**x_10, 10**y_10, yerr=err_10, fmt='o', ms=2, color='black')\n",
    "#plt.errorbar(10**x_15, 10**y_15, yerr=err_15, fmt='o', ms=2, color='black')\n",
    "plt.errorbar(10**x_20, 10**y_20, yerr=err_20, fmt='o', ms=2, color='black')\n",
    "plt.plot(vsample, f_model_00(vsample), '-', color='red')\n",
    "plt.plot(vsample, f_model_05(vsample), '-', color='red')\n",
    "plt.plot(vsample, f_model_10(vsample), '-', color='red')\n",
    "plt.plot(vsample, f_model_15(vsample), '-', color='red')\n",
    "plt.plot(vsample, f_model_20(vsample), '-', color='red')\n",
    "plt.ylim([10**9.0,10**12.0])\n",
    "plt.xlim([50,2000])\n",
    "plt.xscale('log')\n",
    "plt.yscale('log')\n",
    "plt.show()"
   ]
  },
  {
   "cell_type": "code",
   "execution_count": 254,
   "metadata": {
    "collapsed": false
   },
   "outputs": [
    {
     "name": "stdout",
     "output_type": "stream",
     "text": [
      "y0 = 9.64629602295 +- 0.000945357080429\n",
      "x0 = 0.272494777852 +- 0.0076666264576\n",
      "alpha = 3.43986395841 +- 0.146406357195\n",
      " \n",
      "y0 = 1.74121166355 +- 0.00170983413027\n",
      "x0 = 0.407841296033 +- 0.0670102486512\n",
      "alpha = 3.06047931088 +- 0.527731265302\n",
      " \n",
      "y0 = 0.285111524629 +- 0.000398460989751\n",
      "x0 = 0.41460698569 +- 0.0143521232806\n",
      "alpha = 2.83009062883 +- 0.0959558119562\n",
      " \n",
      "y0 = -15.0788574866 +- 0.102430812908\n",
      "x0 = 0.111394110262 +- 0.00983215051805\n",
      "alpha = 2.7743333588 +- 0.481678523645\n",
      " \n"
     ]
    },
    {
     "data": {
      "image/png": "[encoded data removed]",
      "text/plain": [
       "<matplotlib.figure.Figure at 0x11cb484d0>"
      ]
     },
     "metadata": {},
     "output_type": "display_data"
    }
   ],
   "source": [
    "sigmas = np.array([0.0,0.05,0.1,0.15,0.2])\n",
    "x0s = [popt_00[0],popt_05[0],popt_10[0],popt_15[0],popt_20[0]]\n",
    "x0s_err = [param_err_00[0],param_err_05[0],param_err_10[0],param_err_15[0],param_err_20[0]]\n",
    "y0s = [popt_00[1],popt_05[1],popt_10[1],popt_15[1],popt_20[1]]\n",
    "y0s_err = [param_err_00[1],param_err_05[1],param_err_10[1],param_err_15[1],param_err_20[1]]\n",
    "alphas = [popt_00[2],popt_05[2],popt_10[2],popt_15[2],popt_20[2]]\n",
    "alphas_err = [param_err_00[2],param_err_05[2],param_err_10[2],param_err_15[2],param_err_20[2]]\n",
    "betas = [popt_00[3],popt_05[3],popt_10[3],popt_15[3],popt_20[3]]\n",
    "betas_err = [param_err_00[3],param_err_05[3],param_err_10[3],param_err_15[3],param_err_20[3]]\n",
    "\n",
    "def f_model_p(x, f0=9.65, x0=0.3, alpha=2.5):\n",
    "    return f0 + (x/x0)**alpha\n",
    "\n",
    "def f_model_m(x, f0=9.65, x0=0.3, alpha=2.5):\n",
    "    return f0 - (x/x0)**alpha\n",
    "\n",
    "popt_a, cov_a = curve_fit(f_model_p, sigmas, x0s, sigma=x0s_err,\n",
    "                      p0=[9.65, 0.3, 2.4])\n",
    "param_err_a = np.sqrt(cov_a.diagonal())\n",
    "print('y0 = {0} +- {1}'.format(popt_a[0],param_err_a[0]))\n",
    "print('x0 = {0} +- {1}'.format(popt_a[1],param_err_a[1]))\n",
    "print('alpha = {0} +- {1}'.format(popt_a[2],param_err_a[2]))\n",
    "print(' ')\n",
    "f_model_a = lambda x: f_model_p(x, *popt_a)\n",
    "\n",
    "popt_b, cov_b = curve_fit(f_model_m, sigmas, y0s, sigma=y0s_err,\n",
    "                      p0=[1.75, 0.3, 2.4])\n",
    "param_err_b = np.sqrt(cov_b.diagonal())\n",
    "print('y0 = {0} +- {1}'.format(popt_b[0],param_err_b[0]))\n",
    "print('x0 = {0} +- {1}'.format(popt_b[1],param_err_b[1]))\n",
    "print('alpha = {0} +- {1}'.format(popt_b[2],param_err_b[2]))\n",
    "print(' ')\n",
    "f_model_b = lambda x: f_model_m(x, *popt_b)\n",
    "\n",
    "popt_c, cov_c = curve_fit(f_model_m, sigmas, alphas, sigma=alphas_err,\n",
    "                      p0=[0.28, 0.3, 2.4])\n",
    "param_err_c = np.sqrt(cov_c.diagonal())\n",
    "print('y0 = {0} +- {1}'.format(popt_c[0],param_err_c[0]))\n",
    "print('x0 = {0} +- {1}'.format(popt_c[1],param_err_c[1]))\n",
    "print('alpha = {0} +- {1}'.format(popt_c[2],param_err_c[2]))\n",
    "print(' ')\n",
    "f_model_c = lambda x: f_model_m(x, *popt_c)\n",
    "\n",
    "popt_d, cov_d = curve_fit(f_model_p, sigmas, betas, sigma=betas_err,\n",
    "                      p0=[-15, 0.3, 2.4])\n",
    "param_err_d = np.sqrt(cov_d.diagonal())\n",
    "print('y0 = {0} +- {1}'.format(popt_d[0],param_err_d[0]))\n",
    "print('x0 = {0} +- {1}'.format(popt_d[1],param_err_d[1]))\n",
    "print('alpha = {0} +- {1}'.format(popt_d[2],param_err_d[2]))\n",
    "print(' ')\n",
    "f_model_d = lambda x: f_model_p(x, *popt_d)\n",
    "\n",
    "sigma_sample = np.linspace(0,0.3,100)\n",
    "fig, axes = plt.subplots(nrows=4, ncols=1, sharex=True, figsize=(3.3, 10.0))\n",
    "fig.subplots_adjust(left=0.2, right=0.9, bottom=0.1, top=0.95, hspace=0.0)\n",
    "#top panel\n",
    "ax = axes[0]\n",
    "ax.plot(sigma_sample, f_model_a(sigma_sample), '-', color='red')\n",
    "ax.errorbar(sigmas, x0s, yerr=x0s_err, fmt='o', mec='none', ms=4, color='black')\n",
    "ax.set_xlim([0,0.3])\n",
    "ax.set_ylim([9.5,10.25])\n",
    "#middle panel\n",
    "ax = axes[1]\n",
    "ax.plot(sigma_sample, f_model_b(sigma_sample), '-', color='red')\n",
    "ax.errorbar(sigmas, y0s, yerr=y0s_err, fmt='o', mec='none', ms=4, color='black')\n",
    "ax.set_xlim([0,0.3])\n",
    "ax.set_ylim([1.55,1.75])\n",
    "#bottom panel\n",
    "ax = axes[2]\n",
    "ax.plot(sigma_sample, f_model_c(sigma_sample), '-', color='red')\n",
    "ax.errorbar(sigmas, alphas, yerr=alphas_err, fmt='o', mec='none', ms=4, color='black')\n",
    "ax.set_xlim([0,0.3])\n",
    "ax.set_ylim([0.1,0.3])\n",
    "#bottom panel\n",
    "ax = axes[3]\n",
    "ax.plot(sigma_sample, f_model_d(sigma_sample), '-', color='red')\n",
    "ax.errorbar(sigmas, betas, yerr=betas_err, fmt='o', mec='none', ms=4, color='black')\n",
    "ax.set_xlim([0,0.3])\n",
    "ax.set_xlabel(r'$\\sigma$')\n",
    "plt.show()"
   ]
  },
  {
   "cell_type": "code",
   "execution_count": 39,
   "metadata": {
    "collapsed": false
   },
   "outputs": [],
   "source": [
    "def vpeak_mstar_model(vpeak, sigma):\n",
    "    \"\"\"\n",
    "    \"\"\"\n",
    "    #set parameters\n",
    "    f_1 = 9.6477\n",
    "    x_1 = 0.294\n",
    "    alpha_1 = 3.171\n",
    "    \n",
    "    f_2 = 1.740\n",
    "    x_2 = 0.500\n",
    "    alpha_2 = 2.632\n",
    "    \n",
    "    f_3 = 0.284\n",
    "    x_3 = 0.453\n",
    "    alpha_3 = 2.639\n",
    "    \n",
    "    f_4 = -15.035\n",
    "    x_4 = 0.111\n",
    "    alpha_4 = 2.484\n",
    "    \n",
    "    def power_law(x, f0=9.65, x0=0.3, alpha=2.5, s=1.0):\n",
    "        \"\"\"\n",
    "        \"\"\"\n",
    "        return f0 + s*(x/x0)**alpha\n",
    "    \n",
    "    y0 = power_law(sigma, f_1, x_1, alpha_1)\n",
    "    x0 = power_law(sigma, f_2, x_2, alpha_2, s=-1.0)\n",
    "    alpha = power_law(sigma, f_3, x_3, alpha_3, s=-1.0)\n",
    "    beta = power_law(sigma, f_4, x_4, alpha_4)\n",
    "    \n",
    "    def double_powerlaw(x, y0, x0, alpha, beta, s=-1):\n",
    "        \"\"\"\n",
    "        smooth transitioning broken powerlaw model\n",
    "        \"\"\"\n",
    "        return y0*((x/x0)**(alpha) + s*(x/x0)**(beta))\n",
    "    \n",
    "    vpeak = np.log10(vpeak)\n",
    "    mstar = double_powerlaw(vpeak, y0, x0, alpha, beta)\n",
    "    \n",
    "    return 10**mstar   "
   ]
  },
  {
   "cell_type": "code",
   "execution_count": 256,
   "metadata": {
    "collapsed": false
   },
   "outputs": [
    {
     "data": {
      "image/png": "[encoded data removed]",
      "text/plain": [
       "<matplotlib.figure.Figure at 0x11cbbfc10>"
      ]
     },
     "metadata": {},
     "output_type": "display_data"
    }
   ],
   "source": [
    "vsample = np.logspace(1,3.2,1000)\n",
    "fig = plt.figure(figsize=(3.3,3.3))\n",
    "fig.subplots_adjust(left=0.2, right=0.9, bottom=0.2, top=0.9)\n",
    "plt.errorbar(10**x_00, 10**y_00, yerr=err_00, fmt='o', ms=2, color='black')\n",
    "#plt.errorbar(10**x_05, 10**y_05, yerr=err_05, fmt='o', ms=2, color='black')\n",
    "#plt.errorbar(10**x_10, 10**y_10, yerr=err_10, fmt='o', ms=2, color='black')\n",
    "#plt.errorbar(10**x_15, 10**y_15, yerr=err_15, fmt='o', ms=2, color='black')\n",
    "#plt.errorbar(10**x_20, 10**y_20, yerr=err_20, fmt='o', ms=2, color='black')\n",
    "plt.plot(vsample, vpeak_mstar_model(vsample, 0), '-', color='red')\n",
    "plt.plot(vsample, vpeak_mstar_model(vsample, 0.05), '-', color='red')\n",
    "plt.plot(vsample, vpeak_mstar_model(vsample, 0.1), '-', color='red')\n",
    "plt.plot(vsample, vpeak_mstar_model(vsample, 0.15), '-', color='red')\n",
    "plt.plot(vsample, vpeak_mstar_model(vsample, 0.2), '-', color='red')\n",
    "plt.ylim([10**9.0,10**12.0])\n",
    "plt.xlim([50,2000])\n",
    "plt.xscale('log')\n",
    "plt.yscale('log')\n",
    "plt.show()"
   ]
  },
  {
   "cell_type": "markdown",
   "metadata": {},
   "source": [
    "##SMHM Relation"
   ]
  },
  {
   "cell_type": "code",
   "execution_count": 10,
   "metadata": {
    "collapsed": false
   },
   "outputs": [
    {
     "data": {
      "image/png": "[encoded data removed]",
      "text/plain": [
       "<matplotlib.figure.Figure at 0x12fb88910>"
      ]
     },
     "metadata": {},
     "output_type": "display_data"
    }
   ],
   "source": [
    "composite_model_4.param_dict['c']=1.0\n",
    "\n",
    "mhalo_sample = np.logspace(10,15,1000)\n",
    "\n",
    "redshifts = np.arange(0,4,0.1)[::-1]\n",
    "scale_factors = 1.0/(1.0+redshifts)\n",
    "\n",
    "#plot results\n",
    "from matplotlib import cm\n",
    "fig, axes = plt.subplots(nrows=2, ncols=3, sharex=True, sharey=False, figsize=(6.95, 4.75))\n",
    "fig.subplots_adjust(hspace=0, wspace=0.05, left=0.09, right=0.9, bottom=0.2, top=0.9)\n",
    " \n",
    "#top left\n",
    "ax = axes[0,0]\n",
    "ax.set_title('Moster et al. (2013)')\n",
    "\n",
    "ax.scatter(mock_2['halo_mpeak'],mock_2['stellar_mass'], c=mock_2['stellar_mass']*0.0 + 0.9,\n",
    "           lw=0, s=2, vmin=0.0, vmax=1.0, cmap='gray', rasterized=True)\n",
    "\n",
    "for a in scale_factors:\n",
    "    color = cm.coolwarm_r((a-0.2)/0.8)\n",
    "    mean_mstar = composite_model_3.mean_stellar_mass(prim_haloprop = mhalo_sample, halo_acc_scale=a)\n",
    "    ax.plot(mhalo_sample, mean_mstar, color=color, lw=0.5)\n",
    "\n",
    "ax.set_xscale('log')\n",
    "ax.set_yscale('log')\n",
    "ax.set_ylim([10**9,10**12])\n",
    "ax.set_xlim([10**10,10**15])\n",
    "ax.set_xlabel(r'$M_{\\rm peak} ~ [h^{-1}M_{\\odot}]$')\n",
    "ax.set_xticks([10.0**10,10.0**11,10.0**12,10.0**13,10.0**14])\n",
    "ax.set_ylabel(r'$\\langle M_{*} \\rangle ~ [h^{-2}M_{\\odot}]$')\n",
    "\n",
    "#top middle\n",
    "ax = axes[0,1]\n",
    "ax.set_title('Yang et al. (2012)')\n",
    "\n",
    "ax.scatter(mock_2['halo_mpeak'],mock_2['stellar_mass'], c=mock_2['stellar_mass']*0.0 + 0.9,\n",
    "           lw=0, s=2, vmin=0.0, vmax=1.0, cmap='gray', rasterized=True)\n",
    "\n",
    "for a in scale_factors:\n",
    "    color = cm.coolwarm_r((a-0.2)/0.8)\n",
    "    mean_mstar = composite_model_4.mean_stellar_mass(prim_haloprop = mhalo_sample, halo_acc_scale=a)\n",
    "    ax.plot(mhalo_sample, mean_mstar, color=color, lw=0.5)\n",
    "#show relation at z=1.0\n",
    "composite_model_4.param_dict['c']=0.0\n",
    "mean_mstar = composite_model_4.mean_stellar_mass(prim_haloprop = mhalo_sample, halo_acc_scale=0.5)\n",
    "color = color = cm.coolwarm_r((0.5-0.2)/0.8)\n",
    "ax.plot(mhalo_sample, mean_mstar, ':', color=color, lw=3, alpha=1)\n",
    "#reset parameter\n",
    "composite_model_4.param_dict['c']=1.0#0.98\n",
    "ax.set_xlabel(r'$M_{\\rm peak} ~ [h^{-1}M_{\\odot}]$')\n",
    "ax.set_xscale('log')\n",
    "ax.set_yscale('log')\n",
    "ax.set_ylim([10**9,10**12])\n",
    "ax.set_xlim([10**10,10**15])\n",
    "ax.set_xlabel(r'$M_{\\rm peak} ~ [h^{-1}M_{\\odot}]$')\n",
    "ax.set_xticks([10.0**10,10.0**11,10.0**12,10.0**13,10.0**14,10.0**15])\n",
    "ax.get_yaxis().set_ticks([])\n",
    "\n",
    "#top right\n",
    "ax = axes[0,2]\n",
    "ax.set_title('Behroozi et al. (2013)')\n",
    "\n",
    "ax.scatter(mock_2['halo_mpeak'],mock_2['stellar_mass'], c=mock_2['stellar_mass']*0.0 + 0.9,\n",
    "           lw=0, s=2, vmin=0.0, vmax=1.0, cmap='gray', rasterized=True)\n",
    "\n",
    "for a in scale_factors:\n",
    "    color = cm.coolwarm_r((a-0.2)/0.8)\n",
    "    mean_mstar = composite_model_5.mean_stellar_mass(prim_haloprop = mhalo_sample, halo_acc_scale=a)\n",
    "    ax.plot(mhalo_sample, mean_mstar, color=color, lw=0.5)\n",
    "\n",
    "ax.set_xscale('log')\n",
    "ax.set_yscale('log')\n",
    "ax.set_ylim([10**9,10**12])\n",
    "ax.set_xlim([10**10,10**15])\n",
    "ax.set_xlabel(r'$M_{\\rm peak} ~ [h^{-1}M_{\\odot}]$')\n",
    "ax.set_xticks([10.0**10,10.0**11,10.0**12,10.0**13,10.0**14])\n",
    "ax.get_yaxis().set_ticks([])\n",
    "\n",
    "#bottom left\n",
    "ax = axes[1,0]\n",
    "\n",
    "ax.scatter(mock_2['halo_mpeak'],mock_2['stellar_mass']/mock_2['halo_mpeak'], c=mock_2['stellar_mass']*0.0 + 0.9,\n",
    "           lw=0, s=2, vmin=0.0, vmax=1.0, cmap='gray', rasterized=True)\n",
    "\n",
    "for a in scale_factors:\n",
    "    color = cm.coolwarm_r((a-0.2)/0.8)\n",
    "    mean_mstar = composite_model_3.mean_stellar_mass(prim_haloprop = mhalo_sample, halo_acc_scale=a)\n",
    "    ax.plot(mhalo_sample, mean_mstar/mhalo_sample, color=color, lw=0.5)\n",
    "ax.plot([10**8,10**16],[0.17,0.17],'--', color='black')\n",
    "ax.set_xscale('log')\n",
    "ax.set_yscale('log')\n",
    "ax.set_ylim([0.001,0.5])\n",
    "ax.set_xlim([10**10,10**15])\n",
    "ax.set_xlabel(r'$M_{\\rm peak} ~ [h^{-1}M_{\\odot}]$')\n",
    "ax.set_xticks([10.0**10,10.0**11,10.0**12,10.0**13,10.0**14])\n",
    "ax.set_ylabel(r'$\\langle M_{*} \\rangle /M_{\\rm peak} ~ [h^{-1}]$')\n",
    "\n",
    "#bottom middle\n",
    "ax = axes[1,1]\n",
    "\n",
    "ax.scatter(mock_2['halo_mpeak'], mock_2['stellar_mass']/mock_2['halo_mpeak'], c=mock_2['stellar_mass']*0.0 + 0.9,\n",
    "           lw=0, s=2, vmin=0.0, vmax=1.0, cmap='gray', rasterized=True)\n",
    "\n",
    "for a in scale_factors:\n",
    "    color = cm.coolwarm_r((a-0.2)/0.8)\n",
    "    mean_mstar = composite_model_4.mean_stellar_mass(prim_haloprop = mhalo_sample, halo_acc_scale=a)\n",
    "    ax.plot(mhalo_sample, mean_mstar/mhalo_sample, color=color, lw=0.5)\n",
    "#show relation at z=1.0\n",
    "composite_model_4.param_dict['c']=0.0\n",
    "mean_mstar = composite_model_4.mean_stellar_mass(prim_haloprop = mhalo_sample, halo_acc_scale=0.5)\n",
    "color = color = cm.coolwarm_r((0.5-0.2)/0.8)\n",
    "ax.plot(mhalo_sample, mean_mstar/mhalo_sample, ':', color=color, lw=3, alpha=1)\n",
    "#reset parameter\n",
    "composite_model_4.param_dict['c']=1.0#0.98\n",
    "ax.plot([10**8,10**16],[0.17,0.17],'--', color='black')\n",
    "ax.set_xlabel(r'$M_{\\rm peak} ~ [h^{-1}M_{\\odot}]$')\n",
    "ax.set_xscale('log')\n",
    "ax.set_yscale('log')\n",
    "ax.set_ylim([0.001,0.5])\n",
    "ax.set_xlim([10**10,10**15])\n",
    "ax.set_xlabel(r'$M_{\\rm peak} ~ [h^{-1}M_{\\odot}]$')\n",
    "ax.set_xticks([10.0**10,10.0**11,10.0**12,10.0**13,10.0**14,10.0**15])\n",
    "ax.get_yaxis().set_ticks([])\n",
    "\n",
    "#bottom right\n",
    "ax = axes[1,2]\n",
    "\n",
    "ax.scatter(mock_2['halo_mpeak'],mock_2['stellar_mass']/mock_2['halo_mpeak'], c=mock_2['stellar_mass']*0.0 + 0.9,\n",
    "           lw=0, s=2, vmin=0.0, vmax=1.0, cmap='gray', rasterized=True)\n",
    "\n",
    "for a in scale_factors:\n",
    "    color = cm.coolwarm_r((a-0.2)/0.8)\n",
    "    mean_mstar = composite_model_5.mean_stellar_mass(prim_haloprop = mhalo_sample, halo_acc_scale=a)\n",
    "    ax.plot(mhalo_sample, mean_mstar/mhalo_sample, color=color, lw=0.5)\n",
    "ax.plot([10**8,10**16],[0.17,0.17],'--', color='black')\n",
    "ax.text(10**14,0.2,r'$f_{\\rm bary}$')\n",
    "ax.set_xscale('log')\n",
    "ax.set_yscale('log')\n",
    "ax.set_ylim([0.001,0.5])\n",
    "ax.set_xlim([10**10,10**15])\n",
    "ax.set_xticks([10.0**10,10.0**11,10.0**12,10.0**13,10.0**14])\n",
    "ax.set_xlabel(r'$M_{\\rm peak} ~ [h^{-1}M_{\\odot}]$')\n",
    "ax.get_yaxis().set_ticks([])\n",
    "\n",
    "#colorbar\n",
    "p = ax.scatter(scale_factors*0.0,scale_factors*0.0,c=scale_factors, vmin=0.2, vmax=1.0, cmap='coolwarm_r')\n",
    "cbar_ax = fig.add_axes([0.91, 0.2, 0.02, 0.7]) #xmin, ymin, +dx, +dy\n",
    "cbar = fig.colorbar(p, cax=cbar_ax)\n",
    "cbar.set_label(r'$a_{\\rm acc}$')\n",
    "cbar.set_ticks([0.2,0.4,0.6,0.8,1.0])\n",
    "plt.show()\n",
    "\n",
    "filepath = './plots/'\n",
    "filename = 'SMHM_FSM_comparison'\n",
    "\n",
    "fig.savefig(filepath+filename+'.pdf', dpi=300)"
   ]
  },
  {
   "cell_type": "code",
   "execution_count": 11,
   "metadata": {
    "collapsed": false
   },
   "outputs": [
    {
     "data": {
      "image/png": "[encoded data removed]",
      "text/plain": [
       "<matplotlib.figure.Figure at 0x11dece650>"
      ]
     },
     "metadata": {},
     "output_type": "display_data"
    }
   ],
   "source": [
    "#calculate the SMHM relation for RV mock\n",
    "from halotools.mock_observables import mean_y_vs_x\n",
    "\n",
    "subs = (mock_2['halo_upid']!=-1)\n",
    "hosts = (mock_2['halo_upid']==-1)\n",
    "\n",
    "bins = np.arange(11.5,15,0.25)\n",
    "x = np.log10(mock_2['halo_mpeak'][hosts])\n",
    "y = np.log10(mock_2['stellar_mass'][hosts])\n",
    "log_bin_centers, log_mean_mstar, log_sigma_mstar = mean_y_vs_x(x,y, bins=bins, error_estimator='variance')\n",
    "\n",
    "#translate to non-log errors\n",
    "err_lower = 10**(log_mean_mstar) - 10**(log_mean_mstar-(log_sigma_mstar))\n",
    "err_upper = 10**(log_mean_mstar+(log_sigma_mstar)) - 10**(log_mean_mstar)\n",
    "err = np.vstack((err_lower, err_upper))\n",
    "\n",
    "#plot SMHM relation for mock #2\n",
    "from matplotlib import cm \n",
    "fig, axes = plt.subplots(nrows=2,ncols=1, sharex=True, figsize=(3.3, 6.0))\n",
    "fig.subplots_adjust(hspace=0, wspace=0, left=0.2, right=0.9, bottom=0.1, top=0.85)\n",
    "\n",
    "#top panel\n",
    "ax = axes[0]\n",
    "p = ax.scatter(mock_2['halo_mpeak'][subs], mock_2['stellar_mass'][subs], c=mock_2['halo_acc_scale'][subs],\n",
    "               lw=0, s=2, vmin=0.2, vmax=1.0, cmap='coolwarm_r', rasterized=True)\n",
    "p2 = ax.errorbar(10.0**log_bin_centers, 10.0**log_mean_mstar, yerr=err, color='black', fmt='o', ms=2)\n",
    "ax.set_xscale('log')\n",
    "ax.set_yscale('log')\n",
    "ax.set_ylim([10**9,10**12])\n",
    "ax.set_xlim([10**10,10**15])\n",
    "ax.set_ylabel(r'$M_* ~ [h^{-2}M_{\\odot}]$')\n",
    "ax.legend([p2],['centrals'],frameon = False, loc='upper left', numpoints=1, handletextpad=0)\n",
    "\n",
    "#bottom panel\n",
    "ax = axes[1]\n",
    "p = ax.scatter(mock_2['halo_mpeak'][subs],mock_2['stellar_mass'][subs]/mock_2['halo_mpeak'][subs],c=mock_2['halo_acc_scale'][subs],\n",
    "               lw=0, s=2, vmin=0.2, vmax=1.0, cmap='coolwarm_r', rasterized=True)\n",
    "p2 = ax.errorbar(10.0**log_bin_centers, (10.0**log_mean_mstar)/(10.0**log_bin_centers), yerr=err/(10.0**log_bin_centers), color='black', fmt='o', ms=2)\n",
    "ax.plot([10**8,10**16],[0.17,0.17],'--', color='black')\n",
    "ax.text(10**14,0.2,r'$f_{\\rm bary}$')\n",
    "ax.set_xscale('log')\n",
    "ax.set_yscale('log')\n",
    "ax.set_ylim([0.001,0.5])\n",
    "ax.set_xlim([10**10,10**15])\n",
    "ax.set_ylabel(r'$M_*/M_{\\rm peak} ~ [h^{-1}]$')\n",
    "ax.set_xlabel(r'$M_{\\rm peak} ~ [h^{-1}M_{\\odot}]$')\n",
    "\n",
    "#colorbar\n",
    "cbar_ax = fig.add_axes([0.2, 0.86, 0.7, 0.02]) #xmin, ymin, +dx, +dy\n",
    "cbar = fig.colorbar(p, cax=cbar_ax, orientation='horizontal')\n",
    "cbar.ax.xaxis.set_ticks_position('top')\n",
    "cbar.set_label(r'$a_{\\rm acc}$', labelpad=-35)\n",
    "cbar.set_ticks([0.2,0.4,0.6,0.8,1.0])\n",
    "plt.show()\n",
    "\n",
    "\n",
    "filepath = './plots/'\n",
    "filename = 'RV_SMHM_FSM'\n",
    "fig.savefig(filepath+filename+'.pdf', dpi=300)"
   ]
  },
  {
   "cell_type": "code",
   "execution_count": 36,
   "metadata": {
    "collapsed": false
   },
   "outputs": [
    {
     "data": {
      "image/png": "[encoded data removed]",
      "text/plain": [
       "<matplotlib.figure.Figure at 0x17e4b7450>"
      ]
     },
     "metadata": {},
     "output_type": "display_data"
    }
   ],
   "source": [
    "#create a new version of these plots\n",
    "\n",
    "from matplotlib.collections import LineCollection\n",
    "from matplotlib.colors import ListedColormap, BoundaryNorm\n",
    "\n",
    "msample = np.logspace(8,16,100)\n",
    "redshifts = np.arange(0,4,0.1)[::-1]\n",
    "scale_factors = 1.0/(1.0+redshifts)\n",
    "\n",
    "#make cmap line\n",
    "x  = np.logspace(np.log10(1.8*10**10), 10.9, 100)\n",
    "y = x*0.0 + 2.3*10**11\n",
    "c = np.linspace(0.2,1,100)\n",
    "points = np.array([x, y]).T.reshape(-1, 1, 2)\n",
    "segments_1 = np.concatenate([points[:-1], points[1:]], axis=1)\n",
    "x  = np.logspace(np.log10(1.8*10**10), 10.9, 100)\n",
    "y = x*0.0 + 1.1*10**11\n",
    "c = np.linspace(0.2,1,100)\n",
    "points = np.array([x, y]).T.reshape(-1, 1, 2)\n",
    "segments_2 = np.concatenate([points[:-1], points[1:]], axis=1)\n",
    "\n",
    "from matplotlib import cm \n",
    "fig, axes = plt.subplots(nrows=4,ncols=1, sharex=True, figsize=(3.3, 7.5))\n",
    "fig.subplots_adjust(hspace=0, wspace=0, left=0.25, right=0.85, bottom=0.05, top=0.925)\n",
    "\n",
    "#top panel\n",
    "ax = axes[0]\n",
    "p = ax.scatter(mock_2['halo_mpeak'][subs], mock_2['stellar_mass'][subs], c=mock_2['halo_acc_scale'][subs],\n",
    "               lw=0, s=2, vmin=0.2, vmax=1.0, cmap='coolwarm_r', rasterized=True)\n",
    "p2 = ax.errorbar(10.0**log_bin_centers, 10.0**log_mean_mstar, yerr=err, color='black', fmt='o', ms=2)\n",
    "p3, = ax.plot(msample,  mpeak_mstar_model(msample, 0), '-', color='black')\n",
    "ax.set_xscale('log')\n",
    "ax.set_yscale('log')\n",
    "ax.set_ylim([10**9,10**11.9])\n",
    "ax.set_xlim([10**10,10**15])\n",
    "ax.set_ylabel(r'$M_* ~ [h^{-2}M_{\\odot}]$')\n",
    "#ax.legend([p3, p2],['RM','RV centrals'],frameon = False, loc='upper left', numpoints=1, handletextpad=1, fontsize = 8)\n",
    "lc = LineCollection(segments_2, cmap='coolwarm_r')\n",
    "lc.set_array(c)\n",
    "lc.set_linewidth(2)\n",
    "#ax.add_collection(lc)\n",
    "#ax.text(1.2*10**11, 0.9*10**11, 'RV satellites', fontsize=8)\n",
    "ax.text(2*10**10, 3*10**11, 'RV', fontsize=10)\n",
    "\n",
    "#second panel\n",
    "ax = axes[1]\n",
    "#p2 = ax.errorbar(10.0**log_bin_centers, 10.0**log_mean_mstar, yerr=err, color='black', fmt='o', ms=2)\n",
    "for a in scale_factors:\n",
    "    color = cm.coolwarm_r((a-0.2)/0.8)\n",
    "    mean_mstar = composite_model_3.mean_stellar_mass(prim_haloprop = mhalo_sample, halo_acc_scale=a)\n",
    "    ax.plot(mhalo_sample, mean_mstar, color=color, lw=0.5)\n",
    "#p3, = ax.plot(msample,  mpeak_mstar_model(msample, 0), '-', color='black')\n",
    "ax.set_xscale('log')\n",
    "ax.set_yscale('log')\n",
    "ax.set_ylim([10**9,10**11.9])\n",
    "ax.set_xlim([10**10,10**15])\n",
    "ax.set_xlabel(r'$M_{\\rm peak} ~ [h^{-1}M_{\\odot}]$')\n",
    "ax.set_xticks([10.0**10,10.0**11,10.0**12,10.0**13,10.0**14])\n",
    "ax.set_ylabel(r'$\\langle M_{*} \\rangle ~ [h^{-2}M_{\\odot}]$')\n",
    "#ax.legend([p2],['RV centrals'],frameon = False, loc='upper left', numpoints=1, handletextpad=1, fontsize = 8)\n",
    "lc = LineCollection(segments_1, cmap='coolwarm_r')\n",
    "lc.set_array(c)\n",
    "lc.set_linewidth(2)\n",
    "#ax.add_collection(lc)\n",
    "#ax.text(1.2*10**11, 1.8*10**11, 'M13', fontsize=8)\n",
    "ax.text(2*10**10, 3*10**11, 'Moster et al. (2013)', fontsize=10)\n",
    "\n",
    "#third panel\n",
    "ax = axes[2]\n",
    "#p2 = ax.errorbar(10.0**log_bin_centers, 10.0**log_mean_mstar, yerr=err, color='black', fmt='o', ms=2)\n",
    "for a in scale_factors:\n",
    "    color = cm.coolwarm_r((a-0.2)/0.8)\n",
    "    mean_mstar = composite_model_5.mean_stellar_mass(prim_haloprop = mhalo_sample, halo_acc_scale=a)\n",
    "    ax.plot(mhalo_sample, mean_mstar, color=color, lw=0.5)\n",
    "#p3, = ax.plot(msample,  mpeak_mstar_model(msample, 0), '-', color='black')\n",
    "ax.set_xscale('log')\n",
    "ax.set_yscale('log')\n",
    "ax.set_ylim([10**9,10**11.9])\n",
    "ax.set_xlim([10**10,10**15])\n",
    "ax.set_xlabel(r'$M_{\\rm peak} ~ [h^{-1}M_{\\odot}]$')\n",
    "ax.set_xticks([10.0**10,10.0**11,10.0**12,10.0**13,10.0**14])\n",
    "ax.set_ylabel(r'$\\langle M_{*} \\rangle ~ [h^{-2}M_{\\odot}]$')\n",
    "#ax.legend([p2],['RV centrals'],frameon = False, loc='upper left', numpoints=1, handletextpad=1, fontsize = 8)\n",
    "lc = LineCollection(segments_1, cmap='coolwarm_r')\n",
    "lc.set_array(c)\n",
    "lc.set_linewidth(2)\n",
    "#ax.add_collection(lc)\n",
    "#ax.text(1.2*10**11, 1.8*10**11, 'B13', fontsize=8)\n",
    "ax.text(2*10**10, 3*10**11, 'Behroozi et al. (2013)', fontsize=10)\n",
    "\n",
    "\n",
    "#bottom panel\n",
    "ax = axes[3]\n",
    "#p2 = ax.errorbar(10.0**log_bin_centers, 10.0**log_mean_mstar, yerr=err, color='black', fmt='o', ms=2)\n",
    "for a in scale_factors:\n",
    "    color = cm.coolwarm_r((a-0.2)/0.8)\n",
    "    mean_mstar = composite_model_4.mean_stellar_mass(prim_haloprop = mhalo_sample, halo_acc_scale=a)\n",
    "    ax.plot(mhalo_sample, mean_mstar, color=color, lw=0.5)\n",
    "#show relation at z=1.0\n",
    "composite_model_4.param_dict['c']=0.0\n",
    "scale_factors = [0.67,0.5]\n",
    "for a in scale_factors:\n",
    "    color = cm.coolwarm_r((a-0.2)/0.8)\n",
    "    mean_mstar = composite_model_4.mean_stellar_mass(prim_haloprop = mhalo_sample, halo_acc_scale=a)\n",
    "    ax.plot(mhalo_sample, mean_mstar, '--', color=color, lw=2, alpha=1, dashes=(2,2))\n",
    "#reset parameter\n",
    "composite_model_4.param_dict['c']=1.0#0.98\n",
    "#p3 = ax.plot(msample,  mpeak_mstar_model(msample, 0), '-', color='black')\n",
    "ax.set_xlabel(r'$M_{\\rm peak} ~ [h^{-1}M_{\\odot}]$', labelpad=1)\n",
    "ax.set_xscale('log')\n",
    "ax.set_yscale('log')\n",
    "ax.set_ylim([10**9,10**11.9])\n",
    "ax.set_xlim([10**10,10**15])\n",
    "ax.set_xlabel(r'$M_{\\rm peak} ~ [h^{-1}M_{\\odot}]$')\n",
    "ax.set_xticks([10.0**10,10.0**11,10.0**12,10.0**13,10.0**14,10.0**15])\n",
    "ax.set_ylabel(r'$\\langle M_{*} \\rangle ~ [h^{-2}M_{\\odot}]$')\n",
    "#ax.legend([p2],['RV centrals'],frameon = False, loc='upper left', numpoints=1, handletextpad=1, fontsize = 8)\n",
    "lc = LineCollection(segments_1, cmap='coolwarm_r')\n",
    "lc.set_array(c)\n",
    "lc.set_linewidth(2)\n",
    "#ax.add_collection(lc)\n",
    "#ax.text(1.2*10**11, 1.8*10**11, 'Y12', fontsize=8)\n",
    "ax.text(2*10**10, 3*10**11, 'Yang et al. (2012)', fontsize=10)\n",
    "\n",
    "\n",
    "#colorbar\n",
    "cbar_ax = fig.add_axes([0.25, 0.935, 0.6, 0.0125]) #xmin, ymin, +dx, +dy\n",
    "cbar = fig.colorbar(p, cax=cbar_ax, orientation='horizontal')\n",
    "cbar.ax.xaxis.set_ticks_position('top')\n",
    "cbar.set_label(r'$a_{\\rm acc}$', labelpad=-32)\n",
    "cbar.set_ticks([0.2,0.4,0.6,0.8,1.0])\n",
    "plt.show()\n",
    "\n",
    "\n",
    "filepath = './plots/'\n",
    "filename = 'SMHM_comparison'\n",
    "fig.savefig(filepath+filename+'.pdf', dpi=300)"
   ]
  },
  {
   "cell_type": "markdown",
   "metadata": {},
   "source": [
    "##z=0 Galaxy Clustering"
   ]
  },
  {
   "cell_type": "code",
   "execution_count": 24,
   "metadata": {
    "collapsed": true
   },
   "outputs": [],
   "source": [
    "#set up function to calculate projected correlation function\n",
    "#in stellar mass bins after placing mock in redshift-space.\n",
    "\n",
    "from halotools.mock_observables import wp, return_xyz_formatted_array\n",
    "\n",
    "def calculate_wp(mock, rp_bins,\n",
    "                 log_mstar_min=10.0, log_mstar_max =10.5,\n",
    "                 pi_max=40.0, Lbox=250.0):\n",
    "    \"\"\"\n",
    "    Calculate the projected correaltion function\n",
    "    \"\"\"\n",
    "    \n",
    "    #number of threads to use in wp calculation\n",
    "    num_threads = 4\n",
    "    \n",
    "    #create mask for stellar mass bin\n",
    "    mask = (mock['stellar_mass']<10.0**log_mstar_max) &\\\n",
    "           (mock['stellar_mass']>10.0**log_mstar_min)\n",
    "    \n",
    "    #put galaxy coordinates in mock observables format\n",
    "    #and apply redshift space distortions\n",
    "    coords = return_xyz_formatted_array(mock['x'], mock['y'], mock['z'],\n",
    "                                        velocity = mock['vz'],\n",
    "                                        velocity_distortion_dimension = 'z',\n",
    "                                        period = Lbox)\n",
    "    \n",
    "    #apply mask for stellar mass bin\n",
    "    coords = coords[mask]\n",
    "    \n",
    "    result = wp(coords,\n",
    "                rp_bins = rp_bins, pi_max = pi_max,\n",
    "                period = Lbox,\n",
    "                do_auto = True, do_cross = False,\n",
    "                estimator = 'Natural', \n",
    "                num_threads = num_threads,\n",
    "                max_sample_size = int(1e7))\n",
    "        \n",
    "    return result"
   ]
  },
  {
   "cell_type": "markdown",
   "metadata": {},
   "source": [
    "###Calculate Clustering Predicitons for Each Model"
   ]
  },
  {
   "cell_type": "code",
   "execution_count": 11,
   "metadata": {
    "collapsed": true
   },
   "outputs": [],
   "source": [
    "#calculate wp for each model in stellar mass bins\n",
    "\n",
    "#define rp bins\n",
    "rp_bins = np.logspace(-2.0,1.4,25)\n",
    "rp_bin_centers = (rp_bins[:-1]+rp_bins[1:])/2.0\n",
    "\n",
    "#create arrays to store results for each mock\n",
    "wp_1 = np.zeros((3,24))\n",
    "wp_2 = np.zeros((3,24))\n",
    "wp_3 = np.zeros((3,24))\n",
    "wp_4 = np.zeros((3,24))\n",
    "wp_5 = np.zeros((3,24))\n",
    "\n",
    "wp_1[0] = calculate_wp(mock_1, rp_bins, pi_max=40.0, Lbox=halocat.Lbox,\n",
    "                    log_mstar_min=9.5, log_mstar_max =10.0)\n",
    "wp_2[0] = calculate_wp(mock_2, rp_bins, pi_max=40.0, Lbox=halocat.Lbox,\n",
    "                    log_mstar_min=9.5, log_mstar_max =10.0)\n",
    "wp_3[0] = calculate_wp(mock_3, rp_bins, pi_max=40.0, Lbox=halocat.Lbox,\n",
    "                    log_mstar_min=9.5, log_mstar_max =10.0)\n",
    "wp_4[0] = calculate_wp(mock_4, rp_bins, pi_max=40.0, Lbox=halocat.Lbox,\n",
    "                    log_mstar_min=9.5, log_mstar_max =10.0)\n",
    "wp_5[0] = calculate_wp(mock_5, rp_bins, pi_max=40.0, Lbox=halocat.Lbox,\n",
    "                    log_mstar_min=9.5, log_mstar_max =10.0)\n",
    "\n",
    "wp_1[1] = calculate_wp(mock_1, rp_bins, pi_max=40.0, Lbox=halocat.Lbox,\n",
    "                    log_mstar_min=10.0, log_mstar_max =10.5)\n",
    "wp_2[1] = calculate_wp(mock_2, rp_bins, pi_max=40.0, Lbox=halocat.Lbox,\n",
    "                    log_mstar_min=10.0, log_mstar_max =10.5)\n",
    "wp_3[1] = calculate_wp(mock_3, rp_bins, pi_max=40.0, Lbox=halocat.Lbox,\n",
    "                    log_mstar_min=10.0, log_mstar_max =10.5)\n",
    "wp_4[1] = calculate_wp(mock_4, rp_bins, pi_max=40.0, Lbox=halocat.Lbox,\n",
    "                    log_mstar_min=10.0, log_mstar_max =10.5)\n",
    "wp_5[1] = calculate_wp(mock_5, rp_bins, pi_max=40.0, Lbox=halocat.Lbox,\n",
    "                    log_mstar_min=10.0, log_mstar_max =10.5)\n",
    "\n",
    "wp_1[2] = calculate_wp(mock_1, rp_bins, pi_max=40.0, Lbox=halocat.Lbox,\n",
    "                    log_mstar_min=10.5, log_mstar_max =11.0)\n",
    "wp_2[2] = calculate_wp(mock_2, rp_bins, pi_max=40.0, Lbox=halocat.Lbox,\n",
    "                    log_mstar_min=10.5, log_mstar_max =11.0)\n",
    "wp_3[2] = calculate_wp(mock_3, rp_bins, pi_max=40.0, Lbox=halocat.Lbox,\n",
    "                    log_mstar_min=10.5, log_mstar_max =11.0)\n",
    "wp_4[2] = calculate_wp(mock_4, rp_bins, pi_max=40.0, Lbox=halocat.Lbox,\n",
    "                    log_mstar_min=10.5, log_mstar_max =11.0)\n",
    "wp_5[2] = calculate_wp(mock_5, rp_bins, pi_max=40.0, Lbox=halocat.Lbox,\n",
    "                    log_mstar_min=10.5, log_mstar_max =11.0)"
   ]
  },
  {
   "cell_type": "markdown",
   "metadata": {},
   "source": [
    "###calculate jackknife errors on clustering"
   ]
  },
  {
   "cell_type": "code",
   "execution_count": 132,
   "metadata": {
    "collapsed": false
   },
   "outputs": [
    {
     "name": "stdout",
     "output_type": "stream",
     "text": [
      "1\n",
      "2\n",
      "3\n",
      "4\n",
      "5\n",
      "6\n",
      "7\n",
      "8\n",
      "9\n",
      "10\n",
      "11\n",
      "12\n",
      "13\n",
      "14\n",
      "15\n",
      "16\n",
      "17\n",
      "18\n",
      "19\n",
      "20\n",
      "21\n",
      "22\n",
      "23\n",
      "24\n",
      "25\n",
      "26\n",
      "27\n"
     ]
    }
   ],
   "source": [
    "#calculate jackknife errors on wp for model 2\n",
    "from halotools.mock_observables import cuboid_subvolume_labels\n",
    "from halotools.mock_observables import npairs_projected\n",
    "\n",
    "mock = mock_2\n",
    "coords = return_xyz_formatted_array(mock['x'], mock['y'], mock['z'],\n",
    "                                    velocity = mock['vz'],\n",
    "                                    velocity_distortion_dimension = 'z',\n",
    "                                    period = halocat.Lbox)\n",
    "\n",
    "labels, N = cuboid_subvolume_labels(coords, Nsub=[3,3,3],\n",
    "                                    Lbox = np.array([halocat.Lbox]*3))\n",
    "\n",
    "#number of threads to use in wp calculation\n",
    "num_threads = 4\n",
    "\n",
    "#create mask for stellar mass bin\n",
    "mask_a = (mock['stellar_mass']<10.0**10.0) &\\\n",
    "         (mock['stellar_mass']>10.0**9.5)\n",
    "    \n",
    "mask_b = (mock['stellar_mass']<10.0**10.5) &\\\n",
    "         (mock['stellar_mass']>10.0**10.0) \n",
    "    \n",
    "mask_c = (mock['stellar_mass']<10.0**11.0) &\\\n",
    "         (mock['stellar_mass']>10.0**10.5)\n",
    "\n",
    "Npts=10**6\n",
    "x = np.random.uniform(0, halocat.Lbox, Npts)\n",
    "y = np.random.uniform(0, halocat.Lbox, Npts)\n",
    "z = np.random.uniform(0, halocat.Lbox, Npts)\n",
    "ran_coords = np.vstack((x,y,z)).T\n",
    "\n",
    "ran_labels, N = cuboid_subvolume_labels(ran_coords, Nsub=[3,3,3],\n",
    "                                        Lbox = np.array([halocat.Lbox]*3))\n",
    "\n",
    "mask_ran = (ran_labels!=1)\n",
    "ran_coords = ran_coords[mask_ran]\n",
    "\n",
    "rp_bins = np.logspace(-2.0,1.4,25)\n",
    "rp_bin_centers = (rp_bins[:-1]+rp_bins[1:])/2.0\n",
    "pi_max=40.0\n",
    "\n",
    "RR = npairs_projected(ran_coords, ran_coords,\n",
    "                      rp_bins = rp_bins, pi_max = pi_max,\n",
    "                      period = halocat.Lbox,\n",
    "                      num_threads = num_threads)\n",
    "\n",
    "result_a = np.zeros((N,25))\n",
    "result_b = np.zeros((N,25))\n",
    "result_c = np.zeros((N,25))\n",
    "                    \n",
    "for i in range(1,N+1):\n",
    "    print(i)\n",
    "    mask_1 = (labels!=i)\n",
    "    \n",
    "    #apply mask for stellar mass bin\n",
    "    coords_p = coords[mask_1 & mask_a]\n",
    "    result_a[i-1] = npairs_projected(coords_p,coords_p,\n",
    "                    rp_bins = rp_bins, pi_max = pi_max,\n",
    "                    period = halocat.Lbox,\n",
    "                    num_threads = num_threads)\n",
    "    \n",
    "    coords_p = coords[mask_1 & mask_b]\n",
    "    result_b[i-1] = npairs_projected(coords_p,coords_p,\n",
    "                    rp_bins = rp_bins, pi_max = pi_max,\n",
    "                    period = halocat.Lbox,\n",
    "                    num_threads = num_threads)\n",
    "    \n",
    "    coords_p = coords[mask_1 & mask_c]\n",
    "    result_c[i-1] = npairs_projected(coords_p,coords_p,\n",
    "                    rp_bins = rp_bins, pi_max = pi_max,\n",
    "                    period = halocat.Lbox,\n",
    "                    num_threads = num_threads)"
   ]
  },
  {
   "cell_type": "code",
   "execution_count": 133,
   "metadata": {
    "collapsed": true
   },
   "outputs": [],
   "source": [
    "RR = np.diff(RR)\n",
    "result_a = np.diff(result_a, axis=1)\n",
    "result_b = np.diff(result_b, axis=1)\n",
    "result_c = np.diff(result_c, axis=1)"
   ]
  },
  {
   "cell_type": "code",
   "execution_count": 134,
   "metadata": {
    "collapsed": true
   },
   "outputs": [],
   "source": [
    "wp_a = 2.0*40.0*((Npts/np.sum(mask_a))**2*(result_a/RR) - 1.0)\n",
    "wp_b = 2.0*40.0*((Npts/np.sum(mask_b))**2*(result_b/RR) - 1.0)\n",
    "wp_c = 2.0*40.0*((Npts/np.sum(mask_c))**2*(result_c/RR) - 1.0)\n",
    "\n",
    "err_a = np.sqrt(np.diag(np.cov(wp_a.T)))\n",
    "err_b = np.sqrt(np.diag(np.cov(wp_b.T)))\n",
    "err_c = np.sqrt(np.diag(np.cov(wp_c.T)))"
   ]
  },
  {
   "cell_type": "markdown",
   "metadata": {},
   "source": [
    "###Load SDSS clustering Measurements"
   ]
  },
  {
   "cell_type": "code",
   "execution_count": 12,
   "metadata": {
    "collapsed": true
   },
   "outputs": [],
   "source": [
    "#load SDSS results from Yang 2012\n",
    "from lss_observations import yang_2012_wp\n",
    "\n",
    "#create arrays to store results\n",
    "\n",
    "wp_sdss_1, cov = yang_2012_wp(10.0**9.5,10.0**10.0, sample='Mass-limit')\n",
    "err_1 = np.sqrt(np.diagonal(cov))\n",
    "\n",
    "wp_sdss_2, cov = yang_2012_wp(10.0**10.0,10.0**10.5, sample='Mass-limit')\n",
    "err_2 = np.sqrt(np.diagonal(cov))\n",
    "\n",
    "wp_sdss_3, cov = yang_2012_wp(10.0**10.5,10.0**11.0, sample='Mass-limit')\n",
    "err_3 = np.sqrt(np.diagonal(cov))\n",
    "\n",
    "#create intterpolation function\n",
    "from scipy.interpolate import interp1d\n",
    "f_w_1 = interp1d(wp_sdss_1[0,:],wp_sdss_1[1,:], fill_value=\"extrapolate\")\n",
    "f_err_1 = interp1d(wp_sdss_1[0,:],err_1, fill_value=\"extrapolate\")\n",
    "f_w_2 = interp1d(wp_sdss_2[0,:],wp_sdss_2[1,:], fill_value=\"extrapolate\")\n",
    "f_err_2 = interp1d(wp_sdss_2[0,:],err_2, fill_value=\"extrapolate\")\n",
    "f_w_3 = interp1d(wp_sdss_3[0,:],wp_sdss_3[1,:], fill_value=\"extrapolate\")\n",
    "f_err_3 = interp1d(wp_sdss_3[0,:],err_3, fill_value=\"extrapolate\")"
   ]
  },
  {
   "cell_type": "code",
   "execution_count": 20,
   "metadata": {
    "collapsed": false
   },
   "outputs": [
    {
     "data": {
      "image/png": "[encoded data removed]",
      "text/plain": [
       "<matplotlib.figure.Figure at 0x127c53550>"
      ]
     },
     "metadata": {},
     "output_type": "display_data"
    }
   ],
   "source": [
    "#plot results\n",
    "\n",
    "use_err=False\n",
    "\n",
    "fig, axes = plt.subplots(nrows=1,ncols=3,sharex=True,sharey=True,figsize=(6.95, 2.75))\n",
    "fig.subplots_adjust(hspace=0, wspace=0.05, left=0.075, right=0.975, bottom=0.2, top=0.9)\n",
    "    \n",
    "ax = axes[0]\n",
    "ax.set_xlim([0.1,20])\n",
    "ax.set_ylim([10,300])\n",
    "ax.set_yscale('log')\n",
    "ax.set_xscale('log')\n",
    "ax.set_ylabel(r'$w_p(r_p)\\times r_p ~ [h^{-2}{\\rm Mpc}^2]$')\n",
    "ax.set_xlabel(r'$r_p~[h^{-1}{\\rm Mpc}]$')\n",
    "ax.set_title(r'$9.5<\\log(M_{*}/h^{-2}M_{\\odot})<10.0$')\n",
    "    \n",
    "ax = axes[1]\n",
    "ax.set_xlim([0.1,20])\n",
    "ax.set_ylim([10,300])\n",
    "ax.set_yscale('log')\n",
    "ax.set_xscale('log')\n",
    "ax.set_xlabel(r'$r_p~[h^{-1}{\\rm Mpc}]$')\n",
    "ax.set_title(r'$10.0<\\log(M_{*}/h^{-2}M_{\\odot})<10.5$')\n",
    "    \n",
    "ax = axes[2]\n",
    "ax.set_xlim([0.1,20])\n",
    "ax.set_ylim([10,300])\n",
    "ax.set_yscale('log')\n",
    "ax.set_xscale('log')\n",
    "ax.set_xlabel(r'$r_p~[h^{-1}{\\rm Mpc}]$')\n",
    "ax.set_title(r'$10.5<\\log(M_{*}/h^{-2}M_{\\odot})<11.0$')\n",
    "\n",
    "ax = axes[0]\n",
    "p1, = ax.plot(rp_bin_centers, wp_1[0]*rp_bin_centers, '-', color='cyan', alpha=1)\n",
    "p2, = ax.plot(rp_bin_centers, wp_2[0]*rp_bin_centers, '-', color='magenta', alpha=1)\n",
    "if use_err==True:\n",
    "    ax.fill_between(rp_bin_centers, (wp_2[0]+err_a)*rp_bin_centers,(wp_2[0]-err_a)*rp_bin_centers,\n",
    "                color='magenta', alpha=0.25)\n",
    "p3, = ax.plot(rp_bin_centers, wp_3[0]*rp_bin_centers, '-', color='black', alpha=1)\n",
    "p4, = ax.plot(rp_bin_centers, wp_4[0]*rp_bin_centers, '--', color='black', alpha=1)\n",
    "p5, = ax.plot(rp_bin_centers, wp_5[0]*rp_bin_centers, ':', color='black', alpha=1)\n",
    "p0 = ax.errorbar(wp_sdss_1[0,:], wp_sdss_1[1,:]*wp_sdss_1[0,:], yerr=err_1*wp_sdss_1[0,:],\n",
    "                  fmt='o', color='black', ms=4, mec='none')\n",
    "\n",
    "ax = axes[1]\n",
    "p1, = ax.plot(rp_bin_centers, wp_1[1]*rp_bin_centers, '-', color='cyan', alpha=1)\n",
    "p2, = ax.plot(rp_bin_centers, wp_2[1]*rp_bin_centers, '-', color='magenta', alpha=1)\n",
    "if use_err==True:\n",
    "    ax.fill_between(rp_bin_centers, (wp_2[1]+err_b)*rp_bin_centers,(wp_2[1]-err_b)*rp_bin_centers,\n",
    "                color='magenta', alpha=0.25)\n",
    "p3, = ax.plot(rp_bin_centers, wp_3[1]*rp_bin_centers, '-', color='black', alpha=1)\n",
    "p4, = ax.plot(rp_bin_centers, wp_4[1]*rp_bin_centers, '--', color='black', alpha=1)\n",
    "p5, = ax.plot(rp_bin_centers, wp_5[1]*rp_bin_centers, ':', color='black', alpha=1)\n",
    "p0 = ax.errorbar(wp_sdss_2[0,:], wp_sdss_2[1,:]*wp_sdss_2[0,:], yerr=err_2*wp_sdss_2[0,:],\n",
    "                  fmt='o', color='black', ms=4, mec='none')\n",
    "\n",
    "ax = axes[2]\n",
    "p1, = ax.plot(rp_bin_centers, wp_1[2]*rp_bin_centers, '-', color='cyan', alpha=1)\n",
    "p2, = ax.plot(rp_bin_centers, wp_2[2]*rp_bin_centers, '-', color='magenta', alpha=1)\n",
    "if use_err==True:\n",
    "    ax.fill_between(rp_bin_centers, (wp_2[2]+err_c)*rp_bin_centers,(wp_2[2]-err_c)*rp_bin_centers,\n",
    "                color='magenta', alpha=0.25)\n",
    "p3, = ax.plot(rp_bin_centers, wp_3[2]*rp_bin_centers, '-', color='black', alpha=1)\n",
    "p4, = ax.plot(rp_bin_centers, wp_4[2]*rp_bin_centers, '--', color='black', alpha=1)\n",
    "p5, = ax.plot(rp_bin_centers, wp_5[2]*rp_bin_centers, ':', color='black', alpha=1)\n",
    "p0 = ax.errorbar(wp_sdss_3[0,:], wp_sdss_3[1,:]*wp_sdss_3[0,:], yerr=err_3*wp_sdss_3[0,:],\n",
    "                  fmt='o', color='black', ms=4, mec='none')\n",
    "\n",
    "#add legends\n",
    "ax = axes[0]\n",
    "ax.legend((p1,p2),\n",
    "     ('RM','RV'),\n",
    "     frameon = False, fontsize=8, loc='lower right', numpoints=1, handletextpad=1)\n",
    "\n",
    "\n",
    "ax = axes[1]\n",
    "ax.legend((p3,p4,p5,p0),\n",
    "    ('Moster et al.\\n (2013)','Yang et al.\\n (2012)'),\n",
    "    frameon = False, fontsize=8, loc='lower right', numpoints=1, handletextpad=1)\n",
    "\n",
    "ax = axes[2]\n",
    "ax.legend((p5,p0),\n",
    "    ('Behroozi et al.\\n (2013)', 'SDSS'),\n",
    "    frameon = False, fontsize=8, loc='lower right', numpoints=1, handletextpad=1)\n",
    "\n",
    "plt.show()\n",
    "\n",
    "filepath = './plots/'\n",
    "filename = 'wp_comparison'\n",
    "fig.savefig(filepath+filename+'.pdf', dpi=300)"
   ]
  },
  {
   "cell_type": "markdown",
   "metadata": {},
   "source": [
    "###Satellite Fraction"
   ]
  },
  {
   "cell_type": "code",
   "execution_count": 22,
   "metadata": {
    "collapsed": false
   },
   "outputs": [
    {
     "data": {
      "image/png": "[encoded data removed]",
      "text/plain": [
       "<matplotlib.figure.Figure at 0x1286d2dd0>"
      ]
     },
     "metadata": {},
     "output_type": "display_data"
    }
   ],
   "source": [
    "#examine the satellite fraction as a function of stellar mass\n",
    "\n",
    "def f_sat_mstar_dep(mock):\n",
    "    \"\"\"\n",
    "    satellite fraction as a function of stellar mass\n",
    "    \"\"\"\n",
    "\n",
    "    cens = (mock['halo_upid']==-1)\n",
    "    sats = (mock['halo_upid']!=-1)\n",
    "\n",
    "    bins = np.arange(9.5,11.6,0.1)\n",
    "    bins = 10.0**bins\n",
    "    bin_centers = (bins[:-1]+bins[1:])/2.0\n",
    "\n",
    "    n_sat = np.histogram(mock['stellar_mass'][sats],bins=bins)[0]\n",
    "    n = np.histogram(mock['stellar_mass'],bins=bins)[0]\n",
    "    f_sat = 1.0*n_sat/n\n",
    "    \n",
    "    return f_sat, bin_centers\n",
    "\n",
    "f_sat_11, bin_centers = f_sat_mstar_dep(mock_1)\n",
    "f_sat_22, bin_centers = f_sat_mstar_dep(mock_2)\n",
    "f_sat_33, bin_centers = f_sat_mstar_dep(mock_3)\n",
    "f_sat_44, bin_centers = f_sat_mstar_dep(mock_4)\n",
    "f_sat_55, bin_centers = f_sat_mstar_dep(mock_5)\n",
    "\n",
    "f_sat_1 = float(np.sum(mock_1['halo_upid']!=-1))/len(mock_1)\n",
    "f_sat_2 = float(np.sum(mock_2['halo_upid']!=-1))/len(mock_2)\n",
    "f_sat_3 = float(np.sum(mock_3['halo_upid']!=-1))/len(mock_3)\n",
    "f_sat_4 = float(np.sum(mock_4['halo_upid']!=-1))/len(mock_4)\n",
    "f_sat_5 = float(np.sum(mock_5['halo_upid']!=-1))/len(mock_5)\n",
    "\n",
    "f_sat_sdss = np.array([31.4,33.0,34.2,33.5,33.4,31.9,32.5,31.5,30.1,\\\n",
    "              29.7,29.1,28.5,26.9,26.5,24.7,22.9,20.9,19.2,\\\n",
    "             17.5,14.9,13.6,11.1,9.7,7.6,5.7,3.5,2.1])/100.0\n",
    "f_sat_sdss_err = np.array([1.1,1.3,1.2,1.0,1.1,0.8,0.7,0.7,0.5,0.5,0.6,\\\n",
    "                  0.4,0.4,0.4,0.3,0.2,0.3,0.3,0.2,0.2,0.2,0.3,\\\n",
    "                  0.3,0.3,0.3,0.4,0.6])/100.0\n",
    "m_sdss = 10**np.arange(8.85,11.46,0.1)\n",
    "\n",
    "    \n",
    "fig = plt.figure(figsize=(3.3,3.3))\n",
    "ax = fig.subplots_adjust(left=0.2, right=0.9, bottom=0.2, top=0.9)\n",
    "p0 = plt.errorbar(m_sdss,f_sat_sdss,yerr=f_sat_sdss_err,\n",
    "                  fmt='o', color='black', ms=3, mec='none')\n",
    "p1, = plt.plot(bin_centers, f_sat_11, '-', color='cyan')\n",
    "plt.plot([2*10**9],[f_sat_1],'o',color='cyan', mec='none', ms=5)\n",
    "p2, = plt.plot(bin_centers, f_sat_22, '-', color='magenta')\n",
    "plt.plot([2*10**9],[f_sat_2],'o',color='magenta', mec='none', ms=5)\n",
    "p3, = plt.plot(bin_centers, f_sat_33, '-', color='black')\n",
    "plt.plot([2*10**9],[f_sat_3],'x',color='black', ms=5)\n",
    "p4, = plt.plot(bin_centers, f_sat_44, '--', color='black')\n",
    "plt.plot([2*10**9],[f_sat_4],'s',color='black', mec='none', ms=5)\n",
    "p5, = plt.plot(bin_centers, f_sat_55, ':',  color='black')\n",
    "plt.plot([2*10**9],[f_sat_5],'p',color='black', mec='none', ms=5)\n",
    "plt.xscale('log')\n",
    "plt.xlim([10**9.0,10.0**12.0])\n",
    "plt.ylim([0,0.4])\n",
    "plt.xlabel(r'$M_{*}~[h^{-2}M_{\\odot}]$')\n",
    "plt.ylabel(r'$f_{\\rm sat}$')\n",
    "\n",
    "#add legends\n",
    "first_legend = plt.legend((p0,p1,p2),\n",
    "     ('van den Bosch\\n et al. (2008)','RM','RV'),\n",
    "     frameon = False, fontsize=8, loc='lower left',\n",
    "     numpoints=1, handletextpad=1)\n",
    "ax = plt.gca().add_artist(first_legend)\n",
    "plt.legend((p3,p4,p5),\n",
    "     ('Moster et al.\\n (2013)','Yang et al.\\n (2012)','Behroozi et al.\\n (2013)'),\n",
    "     frameon = False, fontsize=8, loc='upper right',\n",
    "     numpoints=1, handletextpad=1)\n",
    "\n",
    "plt.show()\n",
    "\n",
    "filepath = './plots/'\n",
    "filename = 'f_sat_mstar'\n",
    "fig.savefig(filepath+filename+'.pdf', dpi=300)"
   ]
  },
  {
   "cell_type": "markdown",
   "metadata": {},
   "source": [
    "##Evolution of Stellar Mass Function"
   ]
  },
  {
   "cell_type": "markdown",
   "metadata": {},
   "source": [
    "###load halo catalogues"
   ]
  },
  {
   "cell_type": "code",
   "execution_count": 15,
   "metadata": {
    "collapsed": false
   },
   "outputs": [],
   "source": [
    "from halotools import sim_manager\n",
    "from astropy.cosmology import FlatLambdaCDM\n",
    "\n",
    "#load halo catalogue to populate for mocks\n",
    "simname = 'bolshoi_250'\n",
    "halocat_000 = sim_manager.CachedHaloCatalog(simname = simname, redshift=-0.0003, dz_tol=0.001,\n",
    "                                            version_name='custom', halo_finder='Rockstar')\n",
    "halocat_025 = sim_manager.CachedHaloCatalog(simname = simname, redshift=0.2463, dz_tol=0.001,\n",
    "                                            version_name='custom', halo_finder='Rockstar')\n",
    "halocat_067 = sim_manager.CachedHaloCatalog(simname = simname, redshift=0.6713, dz_tol=0.001,\n",
    "                                            version_name='custom', halo_finder='Rockstar')\n",
    "halocat_100 = sim_manager.CachedHaloCatalog(simname = simname, redshift=1.0066, dz_tol=0.001,\n",
    "                                            version_name='custom', halo_finder='Rockstar')\n",
    "\n",
    "cosmo = FlatLambdaCDM(H0=70, Om0=0.27) #bolshoi cosmology"
   ]
  },
  {
   "cell_type": "markdown",
   "metadata": {},
   "source": [
    "###builds mocks for RV Model"
   ]
  },
  {
   "cell_type": "markdown",
   "metadata": {},
   "source": [
    "build interpolation of stellar mass-vpeak relation."
   ]
  },
  {
   "cell_type": "code",
   "execution_count": 31,
   "metadata": {
    "collapsed": false
   },
   "outputs": [
    {
     "name": "stdout",
     "output_type": "stream",
     "text": [
      "('halo_upid', 'halo_hostid', 'halo_mpeak', 'halo_acc_scale', 'halo_x', 'halo_y', 'halo_id', 'halo_z', 'halo_vx', 'halo_vy', 'halo_vz', 'halo_rvir', 'halo_vpeak', 'halo_mvir', 'halo_half_mass_scale', 'halo_mvir_host_halo', 'x', 'y', 'z', 'vx', 'vy', 'vz', 'galid', 'stellar_mass')\n",
      "number of galaxies in mock:  298130\n",
      "satellite fraction:  0.27250528293\n"
     ]
    }
   ],
   "source": [
    "from beyond_age_matching.make_mocks.model_components import RankSmHm\n",
    "\n",
    "#build model\n",
    "prim_haloprop_key = 'halo_vpeak'\n",
    "mstar_model = RankSmHm(prim_haloprop_key = prim_haloprop_key, Lbox=halocat.Lbox[0], redshift=0.0)\n",
    "composite_model_2 = SubhaloModelFactory(stellar_mass = mstar_model,\n",
    "                                        haloprops = additional_halo_properties,\n",
    "                                        galaxy_selection_func = galaxy_selection_func)\n",
    "\n",
    "composite_model_2.param_dict['scatter'] = 0.0\n",
    "\n",
    "#populate simulation\n",
    "composite_model_2.populate_mock(halocat = halocat)\n",
    "mock_2 = composite_model_2.mock.galaxy_table\n",
    "print(mock_2.dtype.names)\n",
    "\n",
    "print(\"number of galaxies in mock: \", len(mock_2))\n",
    "f_sat = float(np.sum(mock_2['halo_upid']!=-1))/len(mock_2)\n",
    "print(\"satellite fraction: \", f_sat)"
   ]
  },
  {
   "cell_type": "code",
   "execution_count": 32,
   "metadata": {
    "collapsed": true
   },
   "outputs": [],
   "source": [
    "#calculate the vpeak mstar relation\n",
    "from scipy.interpolate import interp1d\n",
    "\n",
    "sort_inds = np.argsort(mock_2['halo_vpeak'])\n",
    "v = mock_2['halo_vpeak'][sort_inds]\n",
    "m = mock_2['stellar_mass'][sort_inds]\n",
    "logf = interp1d(np.log10(v), np.log10(m), bounds_error=False, fill_value='extrapolate')\n",
    "f = lambda x: 10.0**logf(np.log10(x))"
   ]
  },
  {
   "cell_type": "code",
   "execution_count": 34,
   "metadata": {
    "collapsed": false
   },
   "outputs": [
    {
     "data": {
      "image/png": "[encoded data removed]",
      "text/plain": [
       "<matplotlib.figure.Figure at 0x12c1d1610>"
      ]
     },
     "metadata": {},
     "output_type": "display_data"
    }
   ],
   "source": [
    "v_sample = np.logspace(1,3,100)\n",
    "\n",
    "fig, ax = plt.subplots(nrows=1,ncols=1,sharex=False,sharey=True, figsize=(3.3, 3.3))\n",
    "fig.subplots_adjust(left=0.2, right=0.9, bottom=0.2, top=0.9)\n",
    "ax.plot(v_sample, f(v_sample))\n",
    "ax.plot(mock_2['halo_vpeak'], mock_2['stellar_mass'], '.', ms=1)\n",
    "plt.xscale('log')\n",
    "plt.yscale('log')\n",
    "plt.xlim([100,3000])\n",
    "plt.ylim([10**9.0,10**12])\n",
    "plt.show()"
   ]
  },
  {
   "cell_type": "code",
   "execution_count": 35,
   "metadata": {
    "collapsed": false
   },
   "outputs": [],
   "source": [
    "#build mocks for different redshifts\n",
    "mock_2_000 = halocat_000.halo_table\n",
    "mock_2_000['stellar_mass'] = f(mock_2_000['halo_vpeak'])\n",
    "mask = (mock_2_000['stellar_mass'] > 10**9.5) & (mock_2_000['stellar_mass'] < 10**15.0)\n",
    "mock_2_000 = mock_2_000[mask]\n",
    "\n",
    "mock_2_025 = halocat_025.halo_table\n",
    "mock_2_025['stellar_mass'] = f(mock_2_025['halo_vpeak'])\n",
    "mask = (mock_2_025['stellar_mass'] > 10**9.5) & (mock_2_025['stellar_mass'] < 10**15.0)\n",
    "mock_2_025 = mock_2_025[mask]\n",
    "\n",
    "mock_2_067 = halocat_067.halo_table\n",
    "mock_2_067['stellar_mass'] = f(mock_2_067['halo_vpeak'])\n",
    "mask = (mock_2_067['stellar_mass'] > 10**9.5) & (mock_2_067['stellar_mass'] < 10**15.0)\n",
    "mock_2_067 = mock_2_067[mask]\n",
    "\n",
    "mock_2_100 = halocat_100.halo_table\n",
    "mock_2_100['stellar_mass'] = f(mock_2_100['halo_vpeak'])\n",
    "mask = (mock_2_100['stellar_mass'] > 10**9.5) & (mock_2_100['stellar_mass'] < 10**15.0)\n",
    "mock_2_100 = mock_2_100[mask]"
   ]
  },
  {
   "cell_type": "markdown",
   "metadata": {},
   "source": [
    "###Build Mocks for M13 Model"
   ]
  },
  {
   "cell_type": "code",
   "execution_count": 37,
   "metadata": {
    "collapsed": true
   },
   "outputs": [],
   "source": [
    "from beyond_age_matching.make_mocks.model_components import MosterSmHm13\n",
    "\n",
    "#build model\n",
    "mstar_model = MosterSmHm13(redshift=0.0)\n",
    "mstar_model.littleh = 0.701\n",
    "mstar_model._m_conv_factor = 0.8\n",
    "composite_model_3 = SubhaloModelFactory(stellar_mass = mstar_model,\n",
    "                                        haloprops = additional_halo_properties,\n",
    "                                        galaxy_selection_func = galaxy_selection_func,\n",
    "                                        model_feature_calling_sequence = ('stellar_mass','haloprops'))\n",
    "composite_model_3.populate_mock(halocat = halocat_000)\n",
    "mock_3_000 = composite_model_3.mock.galaxy_table\n",
    "\n",
    "mstar_model = MosterSmHm13(redshift=0.25)\n",
    "mstar_model.littleh = 0.701\n",
    "mstar_model._m_conv_factor = 0.8\n",
    "composite_model_3 = SubhaloModelFactory(stellar_mass = mstar_model,\n",
    "                                        haloprops = additional_halo_properties,\n",
    "                                        galaxy_selection_func = galaxy_selection_func,\n",
    "                                        model_feature_calling_sequence = ('stellar_mass','haloprops'))\n",
    "composite_model_3.populate_mock(halocat = halocat_025)\n",
    "mock_3_025 = composite_model_3.mock.galaxy_table\n",
    "\n",
    "mstar_model = MosterSmHm13(redshift=0.67)\n",
    "mstar_model.littleh = 0.701\n",
    "mstar_model._m_conv_factor = 0.8\n",
    "composite_model_3 = SubhaloModelFactory(stellar_mass = mstar_model,\n",
    "                                        haloprops = additional_halo_properties,\n",
    "                                        galaxy_selection_func = galaxy_selection_func,\n",
    "                                        model_feature_calling_sequence = ('stellar_mass','haloprops'))\n",
    "composite_model_3.populate_mock(halocat = halocat_067)\n",
    "mock_3_067 = composite_model_3.mock.galaxy_table\n",
    "\n",
    "mstar_model = MosterSmHm13(redshift=1.0)\n",
    "mstar_model.littleh = 0.701\n",
    "mstar_model._m_conv_factor = 0.8\n",
    "composite_model_3 = SubhaloModelFactory(stellar_mass = mstar_model,\n",
    "                                        haloprops = additional_halo_properties,\n",
    "                                        galaxy_selection_func = galaxy_selection_func,\n",
    "                                        model_feature_calling_sequence = ('stellar_mass','haloprops'))\n",
    "composite_model_3.populate_mock(halocat = halocat_100)\n",
    "mock_3_100 = composite_model_3.mock.galaxy_table"
   ]
  },
  {
   "cell_type": "markdown",
   "metadata": {},
   "source": [
    "##Evolution of Stellar Mass Function"
   ]
  },
  {
   "cell_type": "code",
   "execution_count": 38,
   "metadata": {
    "collapsed": false
   },
   "outputs": [],
   "source": [
    "def stellar_mass_func(mock, bins=np.logspace(9.5,12.0,26)):\n",
    "    \"\"\"\n",
    "    caclulate stellar mass function\n",
    "    \"\"\"\n",
    "    \n",
    "    #stellar mass function\n",
    "    bin_centers = (bins[:-1]+bins[1:])/2.0\n",
    "    counts = np.histogram(mock['stellar_mass'],bins=bins)[0]\n",
    "    dndm = counts/(halocat.Lbox[0]**3)/0.1\n",
    "\n",
    "    return dndm, bin_centers\n",
    "\n",
    "bins = np.arange(9.5,12.0,0.1)\n",
    "bins = 10.0**bins\n",
    "\n",
    "#calculate for model #2\n",
    "dndm_2_a, bin_centers = stellar_mass_func(mock_2_000, bins=bins)\n",
    "dndm_2_b, bin_centers = stellar_mass_func(mock_2_025, bins=bins)\n",
    "dndm_2_c, bin_centers = stellar_mass_func(mock_2_067, bins=bins)\n",
    "dndm_2_d, bin_centers = stellar_mass_func(mock_2_100, bins=bins)\n",
    "\n",
    "#calculate for model #3\n",
    "dndm_3_a, bin_centers = stellar_mass_func(mock_3_000, bins=bins)\n",
    "dndm_3_b, bin_centers = stellar_mass_func(mock_3_025, bins=bins)\n",
    "dndm_3_c, bin_centers = stellar_mass_func(mock_3_067, bins=bins)\n",
    "dndm_3_d, bin_centers = stellar_mass_func(mock_3_100, bins=bins)"
   ]
  },
  {
   "cell_type": "code",
   "execution_count": 39,
   "metadata": {
    "collapsed": true
   },
   "outputs": [],
   "source": [
    "#load observational stellar mass functions\n",
    "\n",
    "from lss_observations.stellar_mass_functions import Tomczak_2014_phi, LiWhite_2009_phi\n",
    "\n",
    "obs_phi_a = LiWhite_2009_phi(redshift=0.0)\n",
    "obs_phi_b = Tomczak_2014_phi(redshift=0.25)\n",
    "obs_phi_c = Tomczak_2014_phi(redshift=0.67)\n",
    "obs_phi_d = Tomczak_2014_phi(redshift=1.0)\n",
    "\n",
    "m = obs_phi_b.data_table['bin_center']\n",
    "phi_b = obs_phi_b.data_table['0.2_0.5']\n",
    "phi_c = obs_phi_b.data_table['0.5_0.75']\n",
    "phi_d = obs_phi_b.data_table['1.0_1.25']\n",
    "\n",
    "phi_b_err = np.vstack((obs_phi_b.data_table['0.2_0.5_minus_err'],\n",
    "                       obs_phi_b.data_table['0.2_0.5_plus_err']))\n",
    "phi_c_err = np.vstack((obs_phi_b.data_table['0.5_0.75_minus_err'],\n",
    "                       obs_phi_b.data_table['0.5_0.75_plus_err']))\n",
    "phi_d_err = np.vstack((obs_phi_b.data_table['0.75_1.0_minus_err'],\n",
    "                       obs_phi_b.data_table['0.75_1.0_plus_err']))"
   ]
  },
  {
   "cell_type": "code",
   "execution_count": 44,
   "metadata": {
    "collapsed": false
   },
   "outputs": [
    {
     "data": {
      "image/png": "[encoded data removed]",
      "text/plain": [
       "<matplotlib.figure.Figure at 0x12f87b4d0>"
      ]
     },
     "metadata": {},
     "output_type": "display_data"
    }
   ],
   "source": [
    "#plot stellar mass function\n",
    "fig, axes = plt.subplots(nrows=1,ncols=3,sharex=True,sharey=True,figsize=(6.95, 2.75))\n",
    "fig.subplots_adjust(hspace=0, wspace=0.05, left=0.075, right=0.975, bottom=0.2, top=0.9)\n",
    "\n",
    "ax = axes[0]\n",
    "ax.text(10.0**11.1, 0.03, 'z=0.0')\n",
    "p1 = ax.errorbar(obs_phi_a.data_table['bin_center'], obs_phi_a.data_table['phi'],\n",
    "                 yerr=obs_phi_a.data_table['err'],\n",
    "                 fmt='o', mec='none', color='black', ms=4)\n",
    "p2, = ax.plot(bin_centers, dndm_2_a,'-', color='magenta')\n",
    "p3, = ax.plot(bin_centers, dndm_3_a,'-', color='black')\n",
    "ax.legend((p1,p2,p3),('Li \\& White (2009)','RV','Moster et al. (2013)'),\n",
    "          fontsize=8, frameon=False, numpoints=1, loc='lower left')\n",
    "\n",
    "#ax = axes[1]\n",
    "#ax.text(10.0**11.2, 0.03, 'z=0.25')\n",
    "#p1 = ax.errorbar(m, phi_b, yerr=phi_b_err,\n",
    "#                 fmt='o', mec='none', color='black', ms=4)\n",
    "#ax.plot(bin_centers, dndm_2_b,'--', color='magenta')\n",
    "#ax.plot(bin_centers, dndm_3_b,'-', color='black')\n",
    "#ax.legend([p1],['Tomczak et al. (2014)\\n z=0.2-0.5'],\n",
    "#          fontsize=8, frameon=False, numpoints=1, loc='lower left',handletextpad=0)\n",
    "\n",
    "ax = axes[1]\n",
    "ax.text(10.0**11.1, 0.03, 'z=0.67')\n",
    "p1 = ax.errorbar(m, phi_c, yerr=phi_c_err,\n",
    "                 fmt='o', mec='none', color='black', ms=4)\n",
    "ax.plot(bin_centers, dndm_2_c,'--', color='magenta')\n",
    "ax.plot(bin_centers, dndm_3_c,'-', color='black')\n",
    "ax.legend([p1],['Tomczak et al. (2014)\\n z=0.5-0.75'],\n",
    "          fontsize=8, frameon=False, numpoints=1, loc='lower left',handletextpad=0)\n",
    "\n",
    "ax = axes[2]\n",
    "ax.text(10.0**11.1, 0.03, 'z=1.0')\n",
    "p1 = ax.errorbar(m, phi_d, yerr=phi_d_err,\n",
    "                 fmt='o', mec='none', color='black', ms=4)\n",
    "ax.plot(bin_centers, dndm_2_d,'--', color='magenta')\n",
    "ax.plot(bin_centers, dndm_3_d,'-', color='black')\n",
    "ax.legend([p1],['Tomczak et al. (2014)\\n z=1.0-1.25'],\n",
    "          fontsize=8, frameon=False, numpoints=1, loc='lower left',handletextpad=0)\n",
    "\n",
    "ax = axes[0]\n",
    "ax.set_yscale('log')\n",
    "ax.set_xscale('log')\n",
    "ax.set_ylabel(r'$\\phi(M_{*})~[h^{3}{\\rm Mpc}^{-3}{\\rm dex}^{-1}]$', labelpad=-1)\n",
    "ax.set_xlim([10**9,10**11.8])\n",
    "ax.set_ylim([10**-5,10**-1])\n",
    "ax.set_xlabel(r'$M_{*} ~[h^{-2}M_{\\odot}]$')\n",
    "ax = axes[1]\n",
    "ax.set_xlabel(r'$M_{*} ~[h^{-2}M_{\\odot}]$')\n",
    "#ax = axes[2]\n",
    "#ax.set_xlabel(r'$M_{*} ~[h^{-2}M_{\\odot}]$')\n",
    "ax = axes[2]\n",
    "ax.set_xlabel(r'$M_{*} ~[h^{-2}M_{\\odot}]$')\n",
    "plt.show()\n",
    "\n",
    "filepath = './plots/'\n",
    "filename = 'stellar_mass_function_evolution'\n",
    "fig.savefig(filepath+filename+'.pdf', dpi=300)"
   ]
  },
  {
   "cell_type": "markdown",
   "metadata": {
    "collapsed": true
   },
   "source": [
    "##Stellar Mass Growth Histories"
   ]
  },
  {
   "cell_type": "code",
   "execution_count": 37,
   "metadata": {
    "collapsed": false
   },
   "outputs": [],
   "source": [
    "from beyond_age_matching.make_mocks.model_components import PWGH, MAH\n",
    "\n",
    "v_sample = np.arange(2,3,0.1)\n",
    "\n",
    "#sample as a function of redshift\n",
    "z_sample = np.zeros(len(v_sample))\n",
    "\n",
    "#caclulate average Vpeak histotires of haloes\n",
    "p = PWGH()\n",
    "\n",
    "v_sample = np.arange(2,3,0.1)\n",
    "v_sample = 10**v_sample\n",
    "v_histories, z = p.pwgh(v_sample, z_sample)\n",
    "\n",
    "#caclulate average Mpeak histotires of haloes\n",
    "p = MAH()\n",
    "\n",
    "m_sample = (v_sample/(159.43))**3.0 * 10.0**12\n",
    "m_histories, z = p.mah(m_sample, z_sample)"
   ]
  },
  {
   "cell_type": "code",
   "execution_count": 42,
   "metadata": {
    "collapsed": false
   },
   "outputs": [
    {
     "data": {
      "image/png": "[encoded data removed]",
      "text/plain": [
       "<matplotlib.figure.Figure at 0x12fc4ca50>"
      ]
     },
     "metadata": {},
     "output_type": "display_data"
    }
   ],
   "source": [
    "from scipy.interpolate import interp1d\n",
    "\n",
    "sort_inds = np.argsort(mock_2['halo_vpeak'])\n",
    "v = mock_2['halo_vpeak'][sort_inds]\n",
    "m = mock_2['stellar_mass'][sort_inds]\n",
    "logf = interp1d(np.log10(v), np.log10(m), bounds_error=False)\n",
    "f = lambda x: 10.0**logf(np.log10(x))\n",
    "f = lambda x: vpeak_mstar_model(x, sigma=0.0)\n",
    "\n",
    "fig, ax = plt.subplots(nrows=1,ncols=1,sharex=False,sharey=True, figsize=(3.3, 3.3))\n",
    "fig.subplots_adjust(left=0.2, right=0.9, bottom=0.2, top=0.9)\n",
    "c = np.linspace(0,1,len(v_histories))\n",
    "from matplotlib import cm\n",
    "for i, v_history in enumerate(v_histories):\n",
    "    color = cm.plasma(c[i])\n",
    "    m = f(10**v_history)\n",
    "    p1, = plt.plot(1+z, m/m[0], color=color)\n",
    "    a = 1.0/(1.0+z)\n",
    "    m = composite_model_3.mean_stellar_mass(prim_haloprop = 10**m_histories[i], halo_acc_scale=a)\n",
    "    p2, = plt.plot(1+z, m/m[0], '--', color=color, lw=1, dashes = (1,1))\n",
    "p1, = plt.plot(1+z, m/m[0]*0.0, color='black')\n",
    "p2, = plt.plot(1+z, m/m[0]*0.0,'--', color='black', lw=1, dashes = (1,1))\n",
    "plt.xscale('log')\n",
    "plt.ylim([0,1.1])\n",
    "plt.xlim([10,1])\n",
    "plt.xlabel(r'$z$')\n",
    "plt.xticks([10,7,5,4,3,2,1])\n",
    "ax.set_xticklabels(['9','6','4','3','2','1','0'])\n",
    "plt.ylabel(r'$\\langle M_*/M_*(z=0) \\rangle$')\n",
    "plt.legend((p1,p2), ('RV','M13'), loc='upper left', frameon = False, fontsize=10)\n",
    "p = plt.scatter(v_sample*0.0,v_sample*0.0,c=np.log10(v_sample),cmap='plasma',vmin=2, vmax=3)\n",
    "cbar = plt.colorbar(p)\n",
    "#cbar.set_label(r'$\\log(V_{\\rm peak}(z=0))$')\n",
    "cbar.set_label(r'$V_{\\rm peak}(z=0) ~ [{\\rm km/s}]$', labelpad=-5)\n",
    "cbar.set_ticks(np.log10(np.linspace(100,1000,10)))\n",
    "cbar.set_ticklabels([100,'','','','','','','','',1000])\n",
    "plt.show()\n",
    "\n",
    "filepath = './plots/'\n",
    "filename = 'mstar_of_z_rm'\n",
    "fig.savefig(filepath+filename+'.pdf', dpi=300)"
   ]
  },
  {
   "cell_type": "markdown",
   "metadata": {
    "collapsed": true
   },
   "source": [
    "##Effect of Primary Accretion Definition on Clustering"
   ]
  },
  {
   "cell_type": "code",
   "execution_count": 20,
   "metadata": {
    "collapsed": false
   },
   "outputs": [
    {
     "name": "stdout",
     "output_type": "stream",
     "text": [
      "('halo_upid', 'halo_hostid', 'halo_mpeak200c', 'halo_mpeak', 'halo_acc_scale', 'halo_x', 'halo_y', 'halo_id', 'halo_z', 'halo_vx', 'halo_vy', 'halo_vz', 'halo_rvir', 'halo_vpeak', 'halo_mvir', 'halo_half_mass_scale', 'halo_acc_scale_1', 'halo_mvir_host_halo', 'x', 'y', 'z', 'vx', 'vy', 'vz', 'galid', 'stellar_mass')\n",
      "number of galaxies in mock:  287225\n",
      "satellite fraction:  0.16307424493\n"
     ]
    }
   ],
   "source": [
    "from SMHM_model_components import MosterSmHm13\n",
    "\n",
    "#build model\n",
    "prim_haloprop_key =  'halo_mpeak200c'\n",
    "acc_scale_key='halo_acc_scale_1'\n",
    "mstar_model = MosterSmHm13(redshift=0.0, prim_haloprop_key=prim_haloprop_key, acc_scale_key=acc_scale_key)\n",
    "mstar_model.littleh = 0.701\n",
    "mstar_model._m_conv_factor = 1.0#0.8\n",
    "composite_model_3 = SubhaloModelFactory(stellar_mass = mstar_model,\n",
    "                                        haloprops = additional_halo_properties,\n",
    "                                        galaxy_selection_func = galaxy_selection_func)\n",
    "composite_model_3.param_dict['scatter_model_param1'] =  0.18\n",
    "composite_model_3.param_dict['m10'] = 11.590\n",
    "composite_model_3.param_dict['m11'] = 1.195\n",
    "composite_model_3.param_dict['n10'] = 0.0351\n",
    "composite_model_3.param_dict['n11'] = -0.0247\n",
    "composite_model_3.param_dict['beta10'] = 1.376\n",
    "composite_model_3.param_dict['beta11'] = -0.826\n",
    "composite_model_3.param_dict['gamma10'] = 0.608\n",
    "composite_model_3.param_dict['gamma11'] = 0.329\n",
    "\n",
    "#populate simulation\n",
    "composite_model_3.populate_mock(halocat = halocat)\n",
    "mock_3a = composite_model_3.mock.galaxy_table\n",
    "print(mock_3a.dtype.names)\n",
    "mock_3a['stellar_mass'] = mock_3a['stellar_mass']*0.9\n",
    "\n",
    "print(\"number of galaxies in mock: \", len(mock_3a))\n",
    "f_sat = float(np.sum(mock_3a['halo_upid']!=-1))/len(mock_3a)\n",
    "print(\"satellite fraction: \", f_sat)"
   ]
  },
  {
   "cell_type": "code",
   "execution_count": 21,
   "metadata": {
    "collapsed": false
   },
   "outputs": [
    {
     "name": "stdout",
     "output_type": "stream",
     "text": [
      "('halo_upid', 'halo_hostid', 'halo_mpeak200c', 'halo_mpeak', 'halo_acc_scale', 'halo_x', 'halo_y', 'halo_id', 'halo_z', 'halo_vx', 'halo_vy', 'halo_vz', 'halo_rvir', 'halo_vpeak', 'halo_mvir', 'halo_half_mass_scale', 'halo_acc_scale_1', 'halo_mvir_host_halo', 'x', 'y', 'z', 'vx', 'vy', 'vz', 'galid', 'stellar_mass')\n",
      "number of galaxies in mock:  294778\n",
      "satellite fraction:  0.181241476637\n"
     ]
    }
   ],
   "source": [
    "#build model\n",
    "prim_haloprop_key =  'halo_mpeak200c'\n",
    "acc_scale_key='halo_last_acc_scale'\n",
    "mstar_model = MosterSmHm13(redshift=0.0, prim_haloprop_key=prim_haloprop_key, acc_scale_key=acc_scale_key)\n",
    "mstar_model.littleh = 0.701\n",
    "mstar_model._m_conv_factor = 1.0#0.8\n",
    "composite_model_3 = SubhaloModelFactory(stellar_mass = mstar_model,\n",
    "                                        haloprops = additional_halo_properties,\n",
    "                                        galaxy_selection_func = galaxy_selection_func)\n",
    "composite_model_3.param_dict['scatter_model_param1'] =  0.18\n",
    "composite_model_3.param_dict['m10'] = 11.590\n",
    "composite_model_3.param_dict['m11'] = 1.195\n",
    "composite_model_3.param_dict['n10'] = 0.0351\n",
    "composite_model_3.param_dict['n11'] = -0.0247\n",
    "composite_model_3.param_dict['beta10'] = 1.376\n",
    "composite_model_3.param_dict['beta11'] = -0.826\n",
    "composite_model_3.param_dict['gamma10'] = 0.608\n",
    "composite_model_3.param_dict['gamma11'] = 0.329\n",
    "\n",
    "#populate simulation\n",
    "composite_model_3.populate_mock(halocat = halocat)\n",
    "mock_3b = composite_model_3.mock.galaxy_table\n",
    "print(mock_3a.dtype.names)\n",
    "mock_3b['stellar_mass'] = mock_3b['stellar_mass']*0.9\n",
    "\n",
    "print(\"number of galaxies in mock: \", len(mock_3b))\n",
    "f_sat = float(np.sum(mock_3b['halo_upid']!=-1))/len(mock_3b)\n",
    "print(\"satellite fraction: \", f_sat)"
   ]
  },
  {
   "cell_type": "code",
   "execution_count": 22,
   "metadata": {
    "collapsed": false
   },
   "outputs": [
    {
     "name": "stdout",
     "output_type": "stream",
     "text": [
      "('halo_upid', 'halo_hostid', 'halo_mpeak200c', 'halo_mpeak', 'halo_acc_scale', 'halo_x', 'halo_y', 'halo_id', 'halo_z', 'halo_vx', 'halo_vy', 'halo_vz', 'halo_prime_acc_scale_1', 'halo_rvir', 'halo_vpeak', 'halo_mvir', 'halo_half_mass_scale', 'halo_mvir_host_halo', 'x', 'y', 'z', 'vx', 'vy', 'vz', 'galid', 'stellar_mass')\n",
      "number of galaxies in mock:  300546\n",
      "satellite fraction:  0.162104968956\n"
     ]
    }
   ],
   "source": [
    "#build model\n",
    "prim_haloprop_key =  'halo_mpeak200c'\n",
    "acc_scale_key='halo_prime_acc_scale_1'\n",
    "mstar_model = MosterSmHm13(redshift=0.0, prim_haloprop_key=prim_haloprop_key, acc_scale_key=acc_scale_key)\n",
    "mstar_model.littleh = 0.701\n",
    "mstar_model._m_conv_factor = 1.0#0.8\n",
    "composite_model_3 = SubhaloModelFactory(stellar_mass = mstar_model,\n",
    "                                        haloprops = additional_halo_properties,\n",
    "                                        galaxy_selection_func = galaxy_selection_func)\n",
    "composite_model_3.param_dict['scatter_model_param1'] =  0.18\n",
    "composite_model_3.param_dict['m10'] = 11.590\n",
    "composite_model_3.param_dict['m11'] = 1.195\n",
    "composite_model_3.param_dict['n10'] = 0.0351\n",
    "composite_model_3.param_dict['n11'] = -0.0247\n",
    "composite_model_3.param_dict['beta10'] = 1.376\n",
    "composite_model_3.param_dict['beta11'] = -0.826\n",
    "composite_model_3.param_dict['gamma10'] = 0.608\n",
    "composite_model_3.param_dict['gamma11'] = 0.329\n",
    "\n",
    "#populate simulation\n",
    "composite_model_3.populate_mock(halocat = halocat)\n",
    "mock_3c = composite_model_3.mock.galaxy_table\n",
    "print(mock_3c.dtype.names)\n",
    "mock_3c['stellar_mass'] = mock_3c['stellar_mass']*0.9\n",
    "\n",
    "print(\"number of galaxies in mock: \", len(mock_3c))\n",
    "f_sat = float(np.sum(mock_3c['halo_upid']!=-1))/len(mock_3c)\n",
    "print(\"satellite fraction: \", f_sat)"
   ]
  },
  {
   "cell_type": "code",
   "execution_count": 23,
   "metadata": {
    "collapsed": false
   },
   "outputs": [
    {
     "name": "stdout",
     "output_type": "stream",
     "text": [
      "('halo_upid', 'halo_hostid', 'halo_mpeak200c', 'halo_mpeak', 'halo_acc_scale', 'halo_x', 'halo_y', 'halo_id', 'halo_z', 'halo_vx', 'halo_vy', 'halo_vz', 'halo_vpeak', 'halo_rvir', 'halo_half_mass_scale', 'halo_mvir', 'halo_prime_acc_scale_2', 'halo_mvir_host_halo', 'x', 'y', 'z', 'vx', 'vy', 'vz', 'galid', 'stellar_mass')\n",
      "number of galaxies in mock:  301282\n",
      "satellite fraction:  0.162635006406\n"
     ]
    }
   ],
   "source": [
    "#build model\n",
    "prim_haloprop_key =  'halo_mpeak200c'\n",
    "acc_scale_key='halo_prime_acc_scale_2'\n",
    "mstar_model = MosterSmHm13(redshift=0.0, prim_haloprop_key=prim_haloprop_key, acc_scale_key=acc_scale_key)\n",
    "mstar_model.littleh = 0.701\n",
    "mstar_model._m_conv_factor = 1.0#0.8\n",
    "composite_model_3 = SubhaloModelFactory(stellar_mass = mstar_model,\n",
    "                                        haloprops = additional_halo_properties,\n",
    "                                        galaxy_selection_func = galaxy_selection_func)\n",
    "composite_model_3.param_dict['scatter_model_param1'] =  0.18\n",
    "composite_model_3.param_dict['m10'] = 11.590\n",
    "composite_model_3.param_dict['m11'] = 1.195\n",
    "composite_model_3.param_dict['n10'] = 0.0351\n",
    "composite_model_3.param_dict['n11'] = -0.0247\n",
    "composite_model_3.param_dict['beta10'] = 1.376\n",
    "composite_model_3.param_dict['beta11'] = -0.826\n",
    "composite_model_3.param_dict['gamma10'] = 0.608\n",
    "composite_model_3.param_dict['gamma11'] = 0.329\n",
    "\n",
    "#populate simulation\n",
    "composite_model_3.populate_mock(halocat = halocat)\n",
    "mock_3d = composite_model_3.mock.galaxy_table\n",
    "print(mock_3d.dtype.names)\n",
    "mock_3d['stellar_mass'] = mock_3d['stellar_mass']*0.9\n",
    "\n",
    "print(\"number of galaxies in mock: \", len(mock_3d))\n",
    "f_sat = float(np.sum(mock_3d['halo_upid']!=-1))/len(mock_3d)\n",
    "print(\"satellite fraction: \", f_sat)"
   ]
  },
  {
   "cell_type": "code",
   "execution_count": 27,
   "metadata": {
    "collapsed": false
   },
   "outputs": [],
   "source": [
    "#define rp bins\n",
    "rp_bins = np.logspace(-2.0,1.4,25)\n",
    "rp_bin_centers = (rp_bins[:-1]+rp_bins[1:])/2.0\n",
    "\n",
    "#create arrays to store results for each mock\n",
    "wp_3a = np.zeros((3,24))\n",
    "wp_3b = np.zeros((3,24))\n",
    "wp_3c = np.zeros((3,24))\n",
    "wp_3d = np.zeros((3,24))\n",
    "\n",
    "wp_3a[0] = calculate_wp(mock_3a, rp_bins, pi_max=40.0, Lbox=halocat.Lbox,\n",
    "                    log_mstar_min=9.5, log_mstar_max =10.0)\n",
    "wp_3a[1] = calculate_wp(mock_3a, rp_bins, pi_max=40.0, Lbox=halocat.Lbox,\n",
    "                    log_mstar_min=10.0, log_mstar_max =10.5)\n",
    "wp_3a[2] = calculate_wp(mock_3a, rp_bins, pi_max=40.0, Lbox=halocat.Lbox,\n",
    "                    log_mstar_min=10.5, log_mstar_max =11.0)\n",
    "\n",
    "wp_3b[0] = calculate_wp(mock_3b, rp_bins, pi_max=40.0, Lbox=halocat.Lbox,\n",
    "                    log_mstar_min=9.5, log_mstar_max =10.0)\n",
    "wp_3b[1] = calculate_wp(mock_3b, rp_bins, pi_max=40.0, Lbox=halocat.Lbox,\n",
    "                    log_mstar_min=10.0, log_mstar_max =10.5)\n",
    "wp_3b[2] = calculate_wp(mock_3b, rp_bins, pi_max=40.0, Lbox=halocat.Lbox,\n",
    "                    log_mstar_min=10.5, log_mstar_max =11.0)\n",
    "\n",
    "wp_3c[0] = calculate_wp(mock_3c, rp_bins, pi_max=40.0, Lbox=halocat.Lbox,\n",
    "                    log_mstar_min=9.5, log_mstar_max =10.0)\n",
    "wp_3c[1] = calculate_wp(mock_3c, rp_bins, pi_max=40.0, Lbox=halocat.Lbox,\n",
    "                    log_mstar_min=10.0, log_mstar_max =10.5)\n",
    "wp_3c[2] = calculate_wp(mock_3c, rp_bins, pi_max=40.0, Lbox=halocat.Lbox,\n",
    "                    log_mstar_min=10.5, log_mstar_max =11.0)\n",
    "\n",
    "wp_3d[0] = calculate_wp(mock_3d, rp_bins, pi_max=40.0, Lbox=halocat.Lbox,\n",
    "                    log_mstar_min=9.5, log_mstar_max =10.0)\n",
    "wp_3d[1] = calculate_wp(mock_3d, rp_bins, pi_max=40.0, Lbox=halocat.Lbox,\n",
    "                    log_mstar_min=10.0, log_mstar_max =10.5)\n",
    "wp_3d[2] = calculate_wp(mock_3d, rp_bins, pi_max=40.0, Lbox=halocat.Lbox,\n",
    "                    log_mstar_min=10.5, log_mstar_max =11.0)"
   ]
  },
  {
   "cell_type": "code",
   "execution_count": 41,
   "metadata": {
    "collapsed": false
   },
   "outputs": [
    {
     "data": {
      "image/png": "[encoded data removed]",
      "text/plain": [
       "<matplotlib.figure.Figure at 0x12b851b90>"
      ]
     },
     "metadata": {},
     "output_type": "display_data"
    },
    {
     "data": {
      "image/png": "[encoded data removed]",
      "text/plain": [
       "<matplotlib.figure.Figure at 0x12b946bd0>"
      ]
     },
     "metadata": {},
     "output_type": "display_data"
    },
    {
     "data": {
      "image/png": "[encoded data removed]",
      "text/plain": [
       "<matplotlib.figure.Figure at 0x12be1f990>"
      ]
     },
     "metadata": {},
     "output_type": "display_data"
    }
   ],
   "source": [
    "#compare effect of sub-halo profiles in single panel\n",
    "\n",
    "#load SDSS results from Yang 2012\n",
    "from lss_observations import yang_2012_wp\n",
    "\n",
    "#create arrays to store results\n",
    "\n",
    "wp_sdss_1, cov = yang_2012_wp(10.0**9.5,10.0**10.0, sample='Mass-limit')\n",
    "err_1 = np.sqrt(np.diagonal(cov))\n",
    "\n",
    "wp_sdss_2, cov = yang_2012_wp(10.0**10.0,10.0**10.5, sample='Mass-limit')\n",
    "err_2 = np.sqrt(np.diagonal(cov))\n",
    "\n",
    "wp_sdss_3, cov = yang_2012_wp(10.0**10.5,10.0**11.0, sample='Mass-limit')\n",
    "err_3 = np.sqrt(np.diagonal(cov))\n",
    "\n",
    "fig, ax = plt.subplots(nrows=1,ncols=1,sharex=True,sharey=True,figsize=(3.3,3.3))\n",
    "fig.subplots_adjust(left=0.2, right=0.9, bottom=0.2, top=0.9)\n",
    "ax.set_xlim([0.1,20])\n",
    "ax.set_ylim([10,300])\n",
    "ax.set_yscale('log')\n",
    "ax.set_xscale('log')\n",
    "ax.set_ylabel(r'$w_p(r_p) \\times r_p ~ [h^{-2}{\\rm Mpc}^2]$')\n",
    "ax.set_xlabel(r'$r_p~[h^{-1}{\\rm Mpc}]$')\n",
    "ax.set_title(r'$9.5<\\log(M_{*}/h^{-2}M_{\\odot})<10.0$')\n",
    "p3a, = ax.plot(rp_bin_centers, wp_3a[0]*rp_bin_centers, ':', color='black', alpha=1)\n",
    "p3b, = ax.plot(rp_bin_centers, wp_3b[0]*rp_bin_centers, '--', color='black', alpha=1)\n",
    "p3c, = ax.plot(rp_bin_centers, wp_3c[0]*rp_bin_centers, '-.', color='black', alpha=1.0)\n",
    "p3d, = ax.plot(rp_bin_centers, wp_3d[0]*rp_bin_centers, '-', color='black', alpha=1.0)\n",
    "p0 = ax.errorbar(wp_sdss_1[0,:], wp_sdss_1[1,:]*wp_sdss_1[0,:], yerr=err_1*wp_sdss_1[0,:],\n",
    "                  fmt='o', color='black', ms=4, mec='none')\n",
    "upper_legend = plt.legend([p0], [r'$\\rm SDSS$'], frameon = False, fontsize=8, loc='upper left', numpoints=1, handletextpad=1)\n",
    "ax.legend((p3a,p3b,p3c,p3d),('i','ii','iii','iv'), title=r'$z_{\\rm acc, prim}$',\n",
    "          frameon = False, fontsize=8, loc='lower right', numpoints=1, handletextpad=1)\n",
    "plt.gca().add_artist(upper_legend)\n",
    "plt.show()\n",
    "\n",
    "filepath = './plots/'\n",
    "filename = 'wp_comparison_zacc_prime_1'\n",
    "fig.savefig(filepath+filename+'.pdf', dpi=300)\n",
    "\n",
    "fig, ax = plt.subplots(nrows=1,ncols=1,sharex=True,sharey=True,figsize=(3.3,3.3))\n",
    "fig.subplots_adjust(left=0.2, right=0.9, bottom=0.2, top=0.9)\n",
    "ax.set_xlim([0.1,20])\n",
    "ax.set_ylim([10,300])\n",
    "ax.set_yscale('log')\n",
    "ax.set_xscale('log')\n",
    "ax.set_ylabel(r'$w_p(r_p) \\times r_p ~ [h^{-2}{\\rm Mpc}^2]$')\n",
    "ax.set_xlabel(r'$r_p~[h^{-1}{\\rm Mpc}]$')\n",
    "ax.set_title(r'$10.0<\\log(M_{*}/h^{-2}M_{\\odot})<10.5$')\n",
    "p3a, = ax.plot(rp_bin_centers, wp_3a[1]*rp_bin_centers, ':', color='black', alpha=1)\n",
    "p3b, = ax.plot(rp_bin_centers, wp_3b[1]*rp_bin_centers, '--', color='black', alpha=1)\n",
    "p3c, = ax.plot(rp_bin_centers, wp_3c[1]*rp_bin_centers, '-.', color='black', alpha=1.0)\n",
    "p3d, = ax.plot(rp_bin_centers, wp_3d[1]*rp_bin_centers, '-', color='black', alpha=1.0)\n",
    "p0 = ax.errorbar(wp_sdss_2[0,:], wp_sdss_2[1,:]*wp_sdss_2[0,:], yerr=err_1*wp_sdss_1[0,:],\n",
    "                  fmt='o', color='black', ms=4, mec='none')\n",
    "upper_legend = plt.legend([p0], [r'$\\rm SDSS$'], frameon = False, fontsize=8, loc='upper left', numpoints=1, handletextpad=1)\n",
    "ax.legend((p3a,p3b,p3c,p3d),('i','ii','iii', 'iv'), title=r'$z_{\\rm acc, prim}$',\n",
    "          frameon = False, fontsize=8, loc='lower right', numpoints=1, handletextpad=1)\n",
    "plt.gca().add_artist(upper_legend)\n",
    "plt.show()\n",
    "\n",
    "filepath = './plots/'\n",
    "filename = 'wp_comparison_zacc_prime_2'\n",
    "fig.savefig(filepath+filename+'.pdf', dpi=300)\n",
    "\n",
    "\n",
    "fig, ax = plt.subplots(nrows=1,ncols=1,sharex=True,sharey=True,figsize=(3.3,3.3))\n",
    "fig.subplots_adjust(left=0.2, right=0.9, bottom=0.2, top=0.9)\n",
    "ax.set_xlim([0.1,20])\n",
    "ax.set_ylim([10,300])\n",
    "ax.set_yscale('log')\n",
    "ax.set_xscale('log')\n",
    "ax.set_ylabel(r'$w_p(r_p) \\times r_p ~ [h^{-2}{\\rm Mpc}^2]$')\n",
    "ax.set_xlabel(r'$r_p~[h^{-1}{\\rm Mpc}]$')\n",
    "ax.set_title(r'$10.5<\\log(M_{*}/h^{-2}M_{\\odot})<11.0$')\n",
    "p3a, = ax.plot(rp_bin_centers, wp_3a[2]*rp_bin_centers, ':', color='black', alpha=1)\n",
    "p3b, = ax.plot(rp_bin_centers, wp_3b[2]*rp_bin_centers, '--', color='black', alpha=1)\n",
    "p3c, = ax.plot(rp_bin_centers, wp_3c[2]*rp_bin_centers, '-.', color='black', alpha=1.0)\n",
    "p3d, = ax.plot(rp_bin_centers, wp_3d[2]*rp_bin_centers, '-', color='black', alpha=1.0)\n",
    "p0 = ax.errorbar(wp_sdss_3[0,:], wp_sdss_3[1,:]*wp_sdss_3[0,:], yerr=err_1*wp_sdss_1[0,:],\n",
    "                  fmt='o', color='black', ms=4, mec='none')\n",
    "upper_legend = plt.legend([p0], [r'$\\rm SDSS$'], frameon = False, fontsize=8, loc='upper left', numpoints=1, handletextpad=1)\n",
    "ax.legend((p3a,p3b,p3c,p3d),('i','ii','iii', 'iv'), title=r'$z_{\\rm acc, prim}$',\n",
    "          frameon = False, fontsize=8, loc='lower right', numpoints=1, handletextpad=1)\n",
    "plt.gca().add_artist(upper_legend)\n",
    "plt.show()\n",
    "\n",
    "filepath = './plots/'\n",
    "filename = 'wp_comparison_zacc_prime_3'\n",
    "fig.savefig(filepath+filename+'.pdf', dpi=300)"
   ]
  },
  {
   "cell_type": "code",
   "execution_count": null,
   "metadata": {
    "collapsed": true
   },
   "outputs": [],
   "source": []
  }
 ],
 "metadata": {
  "kernelspec": {
   "display_name": "Python 2",
   "language": "python",
   "name": "python2"
  },
  "language_info": {
   "codemirror_mode": {
    "name": "ipython",
    "version": 2
   },
   "file_extension": ".py",
   "mimetype": "text/x-python",
   "name": "python",
   "nbconvert_exporter": "python",
   "pygments_lexer": "ipython2",
   "version": "2.7.13"
  }
 },
 "nbformat": 4,
 "nbformat_minor": 0
}
