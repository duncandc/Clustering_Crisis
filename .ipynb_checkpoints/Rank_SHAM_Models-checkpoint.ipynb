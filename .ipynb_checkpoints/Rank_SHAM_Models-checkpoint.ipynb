{
 "cells": [
  {
   "cell_type": "code",
   "execution_count": 1,
   "metadata": {
    "collapsed": true
   },
   "outputs": [],
   "source": [
    "import numpy as np\n",
    "import matplotlib.pyplot as plt\n",
    "from __future__ import print_function, division\n",
    "%matplotlib inline"
   ]
  },
  {
   "cell_type": "markdown",
   "metadata": {},
   "source": [
    "#Rank Order SHAM Models"
   ]
  },
  {
   "cell_type": "markdown",
   "metadata": {},
   "source": [
    "In this notebook I examine the basic properties of the rank order SHAM models in this paper."
   ]
  },
  {
   "cell_type": "code",
   "execution_count": 2,
   "metadata": {
    "collapsed": false
   },
   "outputs": [
    {
     "name": "stdout",
     "output_type": "stream",
     "text": [
      "('halo_upid', 'halo_first_acc_mvir', 'halo_acc_scale', 'halo_rvir', 'halo_vpeak', 'halo_macc', 'halo_first_acc_scale', 'halo_mpeak', 'halo_half_mass_scale', 'halo_mvir', 'halo_T/|U|', 'halo_vmax_at_mpeak', 'halo_pid', 'halo_y', 'halo_x', 'halo_z', 'halo_m200b', 'halo_m200c', 'halo_first_acc_vmax', 'halo_mpeak_scale', 'halo_vmax', 'halo_vacc', 'halo_id', 'halo_vx', 'halo_vy', 'halo_vz', 'halo_rs', 'halo_nfw_conc', 'halo_hostid', 'halo_mvir_host_halo')\n"
     ]
    }
   ],
   "source": [
    "from halotools import sim_manager\n",
    "\n",
    "#load halo catalogue\n",
    "simname = 'bolshoi_250'\n",
    "halocat = sim_manager.CachedHaloCatalog(simname = simname, redshift=0.0, dz_tol = 0.001,\n",
    "                                        version_name='custom', halo_finder='Rockstar')\n",
    "\n",
    "#print out column names of halo catalogue\n",
    "print(halocat.halo_table.dtype.names)"
   ]
  },
  {
   "cell_type": "code",
   "execution_count": 3,
   "metadata": {
    "collapsed": false
   },
   "outputs": [
    {
     "name": "stdout",
     "output_type": "stream",
     "text": [
      "FlatLambdaCDM(H0=70 km / (Mpc s), Om0=0.27, Tcmb0=2.725 K, Neff=3.04, m_nu=[ 0.  0.  0.] eV, Ob0=None)\n"
     ]
    }
   ],
   "source": [
    "#define cosmology used in the simulation\n",
    "from astropy.cosmology import FlatLambdaCDM\n",
    "cosmo = FlatLambdaCDM(H0=70, Om0=0.27) #Bolshoi cosmology\n",
    "print(cosmo)"
   ]
  },
  {
   "cell_type": "markdown",
   "metadata": {},
   "source": [
    "##Build SHAM Models"
   ]
  },
  {
   "cell_type": "code",
   "execution_count": 5,
   "metadata": {
    "collapsed": true
   },
   "outputs": [],
   "source": [
    "from halotools.empirical_models import SubhaloModelFactory\n",
    "\n",
    "#define stellar mass threshold for each mock\n",
    "def galaxy_selection_func(table):\n",
    "    mask = (table['stellar_mass'] >= 10**9.5)\n",
    "    return mask"
   ]
  },
  {
   "cell_type": "markdown",
   "metadata": {},
   "source": [
    "##Rank Order AM on Mpeak (model #1)"
   ]
  },
  {
   "cell_type": "code",
   "execution_count": 7,
   "metadata": {
    "collapsed": false
   },
   "outputs": [
    {
     "name": "stdout",
     "output_type": "stream",
     "text": [
      "('halo_upid', 'halo_hostid', 'halo_mpeak', 'halo_x', 'halo_y', 'halo_id', 'halo_z', 'halo_vx', 'halo_vy', 'halo_vz', 'halo_rvir', 'halo_mvir', 'halo_mvir_host_halo', 'x', 'y', 'z', 'vx', 'vy', 'vz', 'galid', 'stellar_mass')\n"
     ]
    }
   ],
   "source": [
    "from SHAM_model_components import RankSmHm\n",
    "\n",
    "#build model\n",
    "prim_haloprop_key = 'halo_mpeak'\n",
    "mstar_model = RankSmHm(prim_haloprop_key = prim_haloprop_key, Lbox=halocat.Lbox[0], redshift=0.0)\n",
    "composite_model_1 = SubhaloModelFactory(stellar_mass = mstar_model, \n",
    "                                        galaxy_selection_func = galaxy_selection_func)\n",
    "\n",
    "composite_model_1.param_dict['scatter'] = 0.0\n",
    "\n",
    "#populate simulation\n",
    "composite_model_1.populate_mock(halocat = halocat)\n",
    "mock_1 = composite_model_1.mock.galaxy_table\n",
    "print(mock_1.dtype.names)"
   ]
  },
  {
   "cell_type": "markdown",
   "metadata": {},
   "source": [
    "###Fit SMHM Relation"
   ]
  },
  {
   "cell_type": "code",
   "execution_count": 284,
   "metadata": {
    "collapsed": false
   },
   "outputs": [],
   "source": [
    "#define functional form of the SMHM relation\n",
    "\n",
    "def broken_powerlaw_model(logx, y0=10.35, x0=11.8, alpha=0.5, beta=0.65, s=1.0):\n",
    "    \"\"\"\n",
    "    smooth transitioning broken powerlaw model\n",
    "    \"\"\"\n",
    "    y0 = 10.0**y0\n",
    "    x0 = 10.0**x0\n",
    "    logx = np.atleast_1d(logx)\n",
    "    x = 10.0**logx\n",
    "    return np.log10((2.0*y0/x0)*x*((x/x0)**(-1.0*alpha) + s*(x/x0)**(beta))**(-1))"
   ]
  },
  {
   "cell_type": "code",
   "execution_count": 285,
   "metadata": {
    "collapsed": false
   },
   "outputs": [
    {
     "name": "stdout",
     "output_type": "stream",
     "text": [
      "y0 = 10.0027284526 +- 0.0102640633457\n",
      "x0 = 11.7214982219 +- 0.0107697971784\n",
      "alpha = 0.622507820777 +- 0.02969891947\n",
      "beta = 0.627854062885 +- 0.0035565384799\n",
      " \n"
     ]
    }
   ],
   "source": [
    "from scipy.stats import binned_statistic\n",
    "from scipy.optimize import curve_fit\n",
    "\n",
    "#fit relation with no scatter\n",
    "x = np.log10(np.array(mock_1['halo_mpeak']))\n",
    "y = np.log10(np.array(mock_1['stellar_mass']))\n",
    "\n",
    "min_m = 11.5\n",
    "bins = np.arange(min_m,14.5,0.1) #log bins\n",
    "bin_centers = (bins[:-1]+bins[1:])/2.0 #log bins\n",
    "\n",
    "Nboot=10\n",
    "mean_y = np.zeros((Nboot,len(bins)-1))\n",
    "median_x = np.zeros((Nboot,len(bins)-1))\n",
    "for i in range(0,Nboot):\n",
    "    inds = np.random.randint(0, len(x), len(x))\n",
    "    mean_y[i,:] = binned_statistic(x[inds], y[inds], bins=bins, statistic='mean')[0]\n",
    "    median_x[i,:] = binned_statistic(x[inds], x[inds], bins=bins, statistic='median')[0]\n",
    "err = np.sqrt(np.std(mean_y, axis=0))\n",
    "mean_y = np.mean(mean_y, axis=0)\n",
    "median_x = np.mean(median_x, axis=0)\n",
    "\n",
    "#get linear errors\n",
    "err_plus = 10**(mean_y + err)-10**(mean_y)\n",
    "err_minus = 10**(mean_y) - 10**(mean_y - err)\n",
    "lin_err = np.vstack((err_minus, err_plus))\n",
    "\n",
    "#fit model\n",
    "popt, cov = curve_fit(broken_powerlaw_model, median_x, mean_y, sigma=err,\n",
    "                      p0=[10.35, 11.8, 0.5, 0.65], bounds=([9.0, 10.0, 0.0, 0.0],[12.0, 13.0, 2.0, 2.0]))\n",
    "param_err = np.sqrt(cov.diagonal())\n",
    "print('y0 = {0} +- {1}'.format(popt[0],param_err[0]))\n",
    "print('x0 = {0} +- {1}'.format(popt[1],param_err[1]))\n",
    "print('alpha = {0} +- {1}'.format(popt[2],param_err[2]))\n",
    "print('beta = {0} +- {1}'.format(popt[3],param_err[3]))\n",
    "print(' ')\n",
    "\n",
    "#use parameters to set model\n",
    "smhm_model = lambda x: 10**broken_powerlaw_model(np.log10(x), *popt)"
   ]
  },
  {
   "cell_type": "code",
   "execution_count": 286,
   "metadata": {
    "collapsed": false
   },
   "outputs": [
    {
     "data": {
      "image/png": "[encoded data removed]",
      "text/plain": [
       "<matplotlib.figure.Figure at 0x1160ec450>"
      ]
     },
     "metadata": {},
     "output_type": "display_data"
    },
    {
     "data": {
      "image/png": "[encoded data removed]",
      "text/plain": [
       "<matplotlib.figure.Figure at 0x114a77650>"
      ]
     },
     "metadata": {},
     "output_type": "display_data"
    }
   ],
   "source": [
    "m_sample = np.logspace(9,16,1000)\n",
    "\n",
    "fig = plt.figure(figsize=(3.3,3.3))\n",
    "fig.subplots_adjust(left=0.2, right=0.9, bottom=0.2, top=0.9)\n",
    "plt.errorbar(10**median_x, 10**mean_y, yerr=lin_err, fmt='o', ms=2, color='black')\n",
    "plt.plot(m_sample, smhm_model(m_sample), '-', color='red')\n",
    "plt.ylim([10**9.0,10**12.0])\n",
    "plt.xlim([10**10,10**15])\n",
    "plt.xscale('log')\n",
    "plt.yscale('log')\n",
    "plt.xlabel(r'$M_{\\rm peak}~h^{-1}M_{\\odot}$')\n",
    "plt.ylabel(r'$\\langle M_{*}\\rangle~h^{-2}M_{\\odot}$')\n",
    "plt.show()\n",
    "\n",
    "fig = plt.figure(figsize=(6.6,3.3))\n",
    "fig.subplots_adjust(left=0.2, right=0.9, bottom=0.2, top=0.9)\n",
    "plt.errorbar(10**median_x, (10**mean_y-smhm_model(10**median_x))/smhm_model(10**median_x), yerr=lin_err/smhm_model(10**median_x), fmt='o', ms=2, color='black')\n",
    "plt.plot(m_sample, (smhm_model(m_sample)-smhm_model(m_sample))/smhm_model(m_sample), '-', color='red')\n",
    "plt.ylim([-0.1,0.1])\n",
    "plt.xlim([10**10,10**15])\n",
    "plt.xscale('log')\n",
    "plt.xlabel(r'$M_{\\rm peak}~h^{-1}M_{\\odot}$')\n",
    "plt.ylabel(r'$\\Delta\\langle M_{*}\\rangle$')\n",
    "plt.show()"
   ]
  },
  {
   "cell_type": "markdown",
   "metadata": {},
   "source": [
    "##Rank Order AM on Vpeak (model #2)"
   ]
  },
  {
   "cell_type": "code",
   "execution_count": 46,
   "metadata": {
    "collapsed": false
   },
   "outputs": [
    {
     "name": "stdout",
     "output_type": "stream",
     "text": [
      "('halo_upid', 'halo_hostid', 'halo_x', 'halo_y', 'halo_id', 'halo_z', 'halo_vx', 'halo_vy', 'halo_vz', 'halo_rvir', 'halo_vpeak', 'halo_mvir', 'halo_mvir_host_halo', 'x', 'y', 'z', 'vx', 'vy', 'vz', 'galid', 'stellar_mass')\n",
      "number of galaxies in mock:  291682\n",
      "satellite fraction:  0.271538867671\n"
     ]
    }
   ],
   "source": [
    "from SHAM_model_components import RankSmHm\n",
    "\n",
    "#build model\n",
    "prim_haloprop_key = 'halo_vpeak'\n",
    "mstar_model = RankSmHm(prim_haloprop_key = prim_haloprop_key, Lbox=halocat.Lbox[0], redshift=0.0)\n",
    "composite_model_2 = SubhaloModelFactory(stellar_mass = mstar_model,\n",
    "                                        galaxy_selection_func = galaxy_selection_func)\n",
    "\n",
    "composite_model_2.param_dict['scatter'] = 0.0\n",
    "\n",
    "#populate simulation\n",
    "composite_model_2.populate_mock(halocat = halocat)\n",
    "mock_2 = composite_model_2.mock.galaxy_table\n",
    "print(mock_2.dtype.names)\n",
    "\n",
    "print(\"number of galaxies in mock: \", len(mock_2))\n",
    "f_sat = float(np.sum(mock_2['halo_upid']!=-1))/len(mock_2)\n",
    "print(\"satellite fraction: \", f_sat)"
   ]
  },
  {
   "cell_type": "markdown",
   "metadata": {},
   "source": [
    "###Fit SMVP Relation"
   ]
  },
  {
   "cell_type": "code",
   "execution_count": 287,
   "metadata": {
    "collapsed": true
   },
   "outputs": [],
   "source": [
    "#define functional form of the SMHM relation\n",
    "\n",
    "def broken_powerlaw_model(logx, y0=10.0, x0=2.2, alpha=-4.5, beta=-0.2, s=1.0):\n",
    "    \"\"\"\n",
    "    smooth transitioning broken powerlaw model\n",
    "    \"\"\"\n",
    "    y0 = 10.0**y0\n",
    "    x0 = 10.0**x0\n",
    "    logx = np.atleast_1d(logx)\n",
    "    x = 10.0**logx\n",
    "    return np.log10((2.0*y0/x0)*x*((x/x0)**(alpha) + s*(x/x0)**(beta))**(-1))"
   ]
  },
  {
   "cell_type": "code",
   "execution_count": 288,
   "metadata": {
    "collapsed": false
   },
   "outputs": [
    {
     "name": "stdout",
     "output_type": "stream",
     "text": [
      "y0 = 10.0 +- 0.0118266515762\n",
      "x0 = 2.19715748541 +- 0.00379760755809\n",
      "alpha = -4.60434790261 +- 0.107568211764\n",
      "beta = -0.203974329122 +- 0.0139280432561\n",
      " \n"
     ]
    }
   ],
   "source": [
    "from scipy.stats import binned_statistic\n",
    "from scipy.optimize import curve_fit\n",
    "\n",
    "#fit relation with no scatter\n",
    "x = np.log10(np.array(mock_2['halo_vpeak']))\n",
    "y = np.log10(np.array(mock_2['stellar_mass']))\n",
    "\n",
    "min_v = 2.1\n",
    "bins = np.arange(min_v,3.1,0.025) #log bins\n",
    "bin_centers = (bins[:-1]+bins[1:])/2.0 #log bins\n",
    "\n",
    "Nboot=10\n",
    "mean_y = np.zeros((Nboot,len(bins)-1))\n",
    "median_x = np.zeros((Nboot,len(bins)-1))\n",
    "for i in range(0,Nboot):\n",
    "    inds = np.random.randint(0, len(x), len(x))\n",
    "    mean_y[i,:] = binned_statistic(x[inds], y[inds], bins=bins, statistic='mean')[0]\n",
    "    median_x[i,:] = binned_statistic(x[inds], x[inds], bins=bins, statistic='median')[0]\n",
    "err = np.sqrt(np.std(mean_y, axis=0))\n",
    "mean_y = np.mean(mean_y, axis=0)\n",
    "median_x = np.mean(median_x, axis=0)\n",
    "\n",
    "#get linear errors\n",
    "err_plus = 10**(mean_y + err)-10**(mean_y)\n",
    "err_minus = 10**(mean_y) - 10**(mean_y - err)\n",
    "lin_err = np.vstack((err_minus, err_plus))\n",
    "\n",
    "#fit model\n",
    "popt, cov = curve_fit(broken_powerlaw_model, median_x, mean_y, sigma=err,\n",
    "                      p0=[10.0, 2.2, -5, 0.2], bounds=([9.0,0.0,-10.0,-1.0],[10.0,3.0,0.0,2]))\n",
    "param_err = np.sqrt(cov.diagonal())\n",
    "print('y0 = {0} +- {1}'.format(popt[0],param_err[0]))\n",
    "print('x0 = {0} +- {1}'.format(popt[1],param_err[1]))\n",
    "print('alpha = {0} +- {1}'.format(popt[2],param_err[2]))\n",
    "print('beta = {0} +- {1}'.format(popt[3],param_err[3]))\n",
    "print(' ')\n",
    "\n",
    "#use parameters to set model\n",
    "smvp_model = lambda x: 10**broken_powerlaw_model(np.log10(x), *popt)"
   ]
  },
  {
   "cell_type": "code",
   "execution_count": 289,
   "metadata": {
    "collapsed": false
   },
   "outputs": [
    {
     "data": {
      "image/png": "[encoded data removed]",
      "text/plain": [
       "<matplotlib.figure.Figure at 0x1148da910>"
      ]
     },
     "metadata": {},
     "output_type": "display_data"
    },
    {
     "data": {
      "image/png": "[encoded data removed]",
      "text/plain": [
       "<matplotlib.figure.Figure at 0x1144f0150>"
      ]
     },
     "metadata": {},
     "output_type": "display_data"
    }
   ],
   "source": [
    "v_sample = np.logspace(1.0,3.5,1000)\n",
    "\n",
    "fig = plt.figure(figsize=(3.3,3.3))\n",
    "fig.subplots_adjust(left=0.2, right=0.9, bottom=0.2, top=0.9)\n",
    "plt.errorbar(10**median_x, 10**mean_y, yerr=lin_err, fmt='o', ms=2, color='black')\n",
    "plt.plot(v_sample, smvp_model(v_sample), '-', color='red')\n",
    "plt.plot(v_sample, 10**broken_powerlaw_model(np.log10(v_sample)), '--', color='red')\n",
    "plt.ylim([10**9.0,10**12.0])\n",
    "plt.xlim([10**1.5,10**3.5])\n",
    "plt.xscale('log')\n",
    "plt.yscale('log')\n",
    "plt.xlabel(r'$V_{\\rm peak}~{\\rm km/s}$')\n",
    "plt.ylabel(r'$\\langle M_{*}\\rangle~h^{-2}M_{\\odot}$')\n",
    "plt.show()\n",
    "\n",
    "fig = plt.figure(figsize=(6.6,3.3))\n",
    "fig.subplots_adjust(left=0.2, right=0.9, bottom=0.2, top=0.9)\n",
    "plt.errorbar(10**median_x, (10**mean_y-smvp_model(10**median_x))/smvp_model(10**median_x), yerr=lin_err/smvp_model(10**median_x), fmt='o', ms=2, color='black')\n",
    "plt.plot(v_sample, (smvp_model(v_sample)-smvp_model(v_sample))/smvp_model(v_sample), '-', color='red')\n",
    "plt.ylim([-0.1,0.1])\n",
    "plt.xlim([10**1.5,10**3.5])\n",
    "plt.xscale('log')\n",
    "plt.xlabel(r'$M_{\\rm peak}~h^{-1}M_{\\odot}$')\n",
    "plt.ylabel(r'$\\Delta \\langle M_{*}\\rangle$')\n",
    "plt.show()"
   ]
  },
  {
   "cell_type": "code",
   "execution_count": null,
   "metadata": {
    "collapsed": true
   },
   "outputs": [],
   "source": []
  }
 ],
 "metadata": {
  "kernelspec": {
   "display_name": "Python 2",
   "language": "python",
   "name": "python2"
  },
  "language_info": {
   "codemirror_mode": {
    "name": "ipython",
    "version": 2
   },
   "file_extension": ".py",
   "mimetype": "text/x-python",
   "name": "python",
   "nbconvert_exporter": "python",
   "pygments_lexer": "ipython2",
   "version": "2.7.13"
  }
 },
 "nbformat": 4,
 "nbformat_minor": 0
}
