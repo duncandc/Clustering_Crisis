{
 "cells": [
  {
   "cell_type": "code",
   "execution_count": null,
   "metadata": {
    "collapsed": true
   },
   "outputs": [],
   "source": [
    "import numpy as np\n",
    "import matplotlib.pyplot as plt\n",
    "from __future__ import print_function, division\n",
    "%matplotlib inline"
   ]
  },
  {
   "cell_type": "code",
   "execution_count": null,
   "metadata": {
    "collapsed": true
   },
   "outputs": [],
   "source": [
    "\"\"\"\n",
    "create a venn diagram of SHAM models\n",
    "\"\"\"\n",
    "\n",
    "#create some circles\n",
    "circle1 = plt.Circle((-.6,0.5), 1.1, color='red', alpha=.2)\n",
    "circle2 = plt.Circle(( .6,0.5), 1.1, color='blue', alpha=.2)\n",
    "circle3 = plt.Circle((0,-0.5), 1.1, color='green', alpha=.2)\n",
    "\n",
    "#create figure\n",
    "fig, ax = plt.subplots(nrows=1,ncols=1,figsize=(3.3,3.3))\n",
    "fig.subplots_adjust(left=0.0, right=1.0, bottom=0.0, top=1.0)\n",
    "ax.add_artist(circle1)\n",
    "ax.add_artist(circle2)\n",
    "ax.add_artist(circle3)\n",
    "\n",
    "#add labels for each circle\n",
    "ax.text(-1.1,1.7,r'fits $w_p(r_p)$', fontsize=12)\n",
    "ax.text(0.2,1.7,r'fits $\\phi(M_*,z)$', fontsize=12)\n",
    "ax.text(-0.65,-1.8,'utilize orphans', fontsize=12)\n",
    "\n",
    "#add points for various SHAM models\n",
    "\n",
    "#falls in region A+B+C\n",
    "plt.plot([0],[0.1],'o', color='black', ms=5)\n",
    "plt.text(-0.425, -0.1, 'Wang + 10')\n",
    "plt.plot([0.0],[0.5],'o', color='black', ms=5)\n",
    "plt.text(-0.4, 0.3, 'Yang + 12')\n",
    "\n",
    "#falls in region A+B\n",
    "plt.text(-0.05,1.0,'?', fontsize=16)\n",
    "\n",
    "#falls in region B+C\n",
    "plt.plot([0.6],[-0.3],'o', color='black', ms=5)\n",
    "plt.text(0.2, -0.5, 'Moster + 13')\n",
    "\n",
    "#falls in region A\n",
    "p1, = plt.plot([-1.2],[0.65],'*', color='black', ms=9)\n",
    "plt.plot([-1.2],[0.65],'o', color='black', ms=9, mfc='none')\n",
    "plt.text(-1.7, 0.45, 'Lehmann + 15')\n",
    "plt.plot([-1.0],[1.0],'*', color='black', ms=9)\n",
    "plt.text(-1.5, 0.75, 'Reddick + 13')\n",
    "plt.plot([-1.2],[0.35],'*', color='black', ms=9)\n",
    "plt.text(-1.7, 0.15, 'Hearin + 15')\n",
    "plt.plot([-0.8],[1.4],'*', color='black', ms=9)\n",
    "plt.text(-1.3, 1.2, 'Conroy + 06')\n",
    "\n",
    "#falls in region B\n",
    "p2, = plt.plot([1.0],[0.9],'o', color='black', ms=5)\n",
    "plt.text(0.5, 0.7, 'Behroozi + 13')\n",
    "\n",
    "#falls in region D\n",
    "#plt.plot([1.2],[-1.1],'o', color='black', ms=5)\n",
    "#plt.text(0.9, -1.3, 'Guo + 10')\n",
    "\n",
    "#create a legend\n",
    "plt.legend((p1,p2),(r'$V_{\\rm max}$',r'$M_{\\rm vir}$'), loc='lower left', \n",
    "           numpoints=1,frameon=False, handletextpad=0)\n",
    "\n",
    "#set extent of plot\n",
    "ax.set_xlim(-2, 2)\n",
    "ax.set_ylim(-2, 2)\n",
    "ax.set_aspect('equal')\n",
    "ax.axes.get_yaxis().set_visible(False)\n",
    "ax.axes.get_xaxis().set_visible(False)\n",
    "ax.set_frame_on(False)\n",
    "\n",
    "plt.show()\n",
    "\n",
    "filename = 'SHAM_models_venn_diagram.pdf'\n",
    "fig.savefig('./figures/'+filename, dpi=300)"
   ]
  }
 ],
 "metadata": {
  "kernelspec": {
   "display_name": "Python 2",
   "language": "python",
   "name": "python2"
  },
  "language_info": {
   "codemirror_mode": {
    "name": "ipython",
    "version": 2
   },
   "file_extension": ".py",
   "mimetype": "text/x-python",
   "name": "python",
   "nbconvert_exporter": "python",
   "pygments_lexer": "ipython2",
   "version": "2.7.13"
  }
 },
 "nbformat": 4,
 "nbformat_minor": 0
}
